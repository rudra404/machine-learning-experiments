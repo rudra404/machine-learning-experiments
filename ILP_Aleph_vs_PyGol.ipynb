{
 "cells": [
  {
   "cell_type": "markdown",
   "id": "57f56a35",
   "metadata": {},
   "source": [
    "# Inductive Logic Programming\n",
    "\n",
    "## Aleph\n",
    "\n",
    "### Step 1: Model Training"
   ]
  },
  {
   "cell_type": "code",
   "execution_count": 2,
   "id": "1c4b6f78",
   "metadata": {},
   "outputs": [
    {
     "name": "stdout",
     "output_type": "stream",
     "text": [
      "['advisedBy(person272,person7).advisedBy(person276,person407).advisedBy(person228,person342).advisedBy(person380,person79).advisedBy(person183,person5).advisedBy(person239,person171).advisedBy(person118,person5).advisedBy(A,B) :-   taughtBy(C,B,D), ta(C,A,E).advisedBy(person263,person5).advisedBy(person142,person342).advisedBy(person300,person342).advisedBy(A,B) :-   tempAdvisedBy(C,B), inPhase(A,D).advisedBy(person113,person342).advisedBy(person362,person5).advisedBy(person435,person279).']\n",
      "+----------+ Learning +----------+\n",
      "+---------------------+------------------+------------------+\n",
      "|       n = 50        | Positive(Actual) | Negative(Actual) |\n",
      "+=====================+==================+==================+\n",
      "| Positive(Predicted) | 25               | 0                |\n",
      "+---------------------+------------------+------------------+\n",
      "| Negative(Predicted) | 0                | 25               |\n",
      "+---------------------+------------------+------------------+\n",
      "+-------------+---+\n",
      "|   Metric    | # |\n",
      "+=============+===+\n",
      "| Accuracy    | 1 |\n",
      "+-------------+---+\n",
      "| Precision   | 1 |\n",
      "+-------------+---+\n",
      "| Sensitivity | 1 |\n",
      "+-------------+---+\n",
      "| Specificity | 1 |\n",
      "+-------------+---+\n",
      "| F1 Score    | 1 |\n",
      "+-------------+---+\n"
     ]
    },
    {
     "name": "stderr",
     "output_type": "stream",
     "text": [
      "Warning: /user/HS400/ps00711/Documents/MLDM/UW-CSE_Files/copy_bk.pl:298:\n",
      "Warning:    Redefined static procedure sameperson/2\n",
      "Warning:    Previously defined at /user/HS400/ps00711/Documents/MLDM/UW-CSE_Files/aleph_bk_1.pl:361\n",
      "Warning: /user/HS400/ps00711/Documents/MLDM/UW-CSE_Files/copy_bk.pl:366:\n",
      "Warning:    Redefined static procedure samecourse/2\n",
      "Warning:    Previously defined at /user/HS400/ps00711/Documents/MLDM/UW-CSE_Files/aleph_bk_1.pl:429\n",
      "Warning: /user/HS400/ps00711/Documents/MLDM/UW-CSE_Files/copy_bk.pl:396:\n",
      "Warning:    Redefined static procedure sameproject/2\n",
      "Warning:    Previously defined at /user/HS400/ps00711/Documents/MLDM/UW-CSE_Files/aleph_bk_1.pl:459\n",
      "Warning: /user/HS400/ps00711/Documents/MLDM/UW-CSE_Files/copy_bk.pl:974:\n",
      "Warning:    Clauses of sameperson/2 are not together in the source-file\n",
      "Warning:    Earlier definition at /user/HS400/ps00711/Documents/MLDM/UW-CSE_Files/aleph_bk_1.pl:361\n",
      "Warning:    Current predicate: student/1\n",
      "Warning:    Use :- discontiguous sameperson/2. to suppress this message\n",
      "Warning: /user/HS400/ps00711/Documents/MLDM/UW-CSE_Files/copy_bk.pl:1035:\n",
      "Warning:    Clauses of samecourse/2 are not together in the source-file\n",
      "Warning:    Earlier definition at /user/HS400/ps00711/Documents/MLDM/UW-CSE_Files/aleph_bk_1.pl:429\n",
      "Warning:    Current predicate: sameperson/2\n",
      "Warning:    Use :- discontiguous samecourse/2. to suppress this message\n",
      "Warning: /user/HS400/ps00711/Documents/MLDM/UW-CSE_Files/copy_bk.pl:1064:\n",
      "Warning:    Clauses of sameproject/2 are not together in the source-file\n",
      "Warning:    Earlier definition at /user/HS400/ps00711/Documents/MLDM/UW-CSE_Files/aleph_bk_1.pl:459\n",
      "Warning:    Current predicate: samecourse/2\n",
      "Warning:    Use :- discontiguous sameproject/2. to suppress this message\n",
      "Warning: /user/HS400/ps00711/Documents/MLDM/UW-CSE_Files/copy_bk.pl:1307:\n",
      "Warning:    Clauses of sameperson/2 are not together in the source-file\n",
      "Warning:    Earlier definition at /user/HS400/ps00711/Documents/MLDM/UW-CSE_Files/aleph_bk_1.pl:361\n",
      "Warning:    Current predicate: student/1\n",
      "Warning:    Use :- discontiguous sameperson/2. to suppress this message\n",
      "Warning: /user/HS400/ps00711/Documents/MLDM/UW-CSE_Files/copy_bk.pl:1335:\n",
      "Warning:    Clauses of samecourse/2 are not together in the source-file\n",
      "Warning:    Earlier definition at /user/HS400/ps00711/Documents/MLDM/UW-CSE_Files/aleph_bk_1.pl:429\n",
      "Warning:    Current predicate: sameperson/2\n",
      "Warning:    Use :- discontiguous samecourse/2. to suppress this message\n",
      "Warning: /user/HS400/ps00711/Documents/MLDM/UW-CSE_Files/copy_bk.pl:1349:\n",
      "Warning:    Clauses of sameproject/2 are not together in the source-file\n",
      "Warning:    Earlier definition at /user/HS400/ps00711/Documents/MLDM/UW-CSE_Files/aleph_bk_1.pl:459\n",
      "Warning:    Current predicate: samecourse/2\n",
      "Warning:    Use :- discontiguous sameproject/2. to suppress this message\n"
     ]
    }
   ],
   "source": [
    "from PyILP.PyILP import *\n",
    "model_1=aleph_learn(file=\"bk_train.pl\", positive_example=\"pos_example.f\", negative_example=\"neg_example.n\", test_size=0, settings='aleph-modes.pl')"
   ]
  },
  {
   "cell_type": "markdown",
   "id": "5e11b042",
   "metadata": {},
   "source": [
    "### Step 2: Measure learning time as number of training examples increases"
   ]
  },
  {
   "cell_type": "code",
   "execution_count": 13,
   "id": "7d8e93e5",
   "metadata": {},
   "outputs": [],
   "source": [
    "### Split training example files into smaller subsets ###\n",
    "\n",
    "def get_first_n_examples(filename, n):\n",
    "    with open(filename, 'r') as file:\n",
    "        lines = file.readlines()\n",
    "    \n",
    "    split_examples = lines[:n]\n",
    "    split_filename = f\"split_{n*2}_{filename}\"\n",
    "    \n",
    "    with open(split_filename, 'w') as file:\n",
    "        file.writelines(split_examples)\n",
    "    \n",
    "    return split_filename\n"
   ]
  },
  {
   "cell_type": "code",
   "execution_count": 36,
   "id": "c3f760ec",
   "metadata": {},
   "outputs": [
    {
     "name": "stdout",
     "output_type": "stream",
     "text": [
      "['advisedBy(person272,person7).advisedBy(person276,person407).advisedBy(person228,person342).advisedBy(person380,person79).advisedBy(person183,person5).']\n",
      "+----------+ Learning +----------+\n",
      "+---------------------+------------------+------------------+\n",
      "|       n = 10        | Positive(Actual) | Negative(Actual) |\n",
      "+=====================+==================+==================+\n",
      "| Positive(Predicted) | 5                | 0                |\n",
      "+---------------------+------------------+------------------+\n",
      "| Negative(Predicted) | 0                | 5                |\n",
      "+---------------------+------------------+------------------+\n",
      "+-------------+---+\n",
      "|   Metric    | # |\n",
      "+=============+===+\n",
      "| Accuracy    | 1 |\n",
      "+-------------+---+\n",
      "| Precision   | 1 |\n",
      "+-------------+---+\n",
      "| Sensitivity | 1 |\n",
      "+-------------+---+\n",
      "| Specificity | 1 |\n",
      "+-------------+---+\n",
      "| F1 Score    | 1 |\n",
      "+-------------+---+\n"
     ]
    },
    {
     "name": "stderr",
     "output_type": "stream",
     "text": [
      "Warning: /user/HS400/ps00711/Documents/MLDM/UW-CSE_Files/copy_bk.pl:974:\n",
      "Warning:    Clauses of sameperson/2 are not together in the source-file\n",
      "Warning:    Earlier definition at /user/HS400/ps00711/Documents/MLDM/UW-CSE_Files/copy_bk.pl:298\n",
      "Warning:    Current predicate: student/1\n",
      "Warning:    Use :- discontiguous sameperson/2. to suppress this message\n",
      "Warning: /user/HS400/ps00711/Documents/MLDM/UW-CSE_Files/copy_bk.pl:1035:\n",
      "Warning:    Clauses of samecourse/2 are not together in the source-file\n",
      "Warning:    Earlier definition at /user/HS400/ps00711/Documents/MLDM/UW-CSE_Files/copy_bk.pl:366\n",
      "Warning:    Current predicate: sameperson/2\n",
      "Warning:    Use :- discontiguous samecourse/2. to suppress this message\n",
      "Warning: /user/HS400/ps00711/Documents/MLDM/UW-CSE_Files/copy_bk.pl:1064:\n",
      "Warning:    Clauses of sameproject/2 are not together in the source-file\n",
      "Warning:    Earlier definition at /user/HS400/ps00711/Documents/MLDM/UW-CSE_Files/copy_bk.pl:396\n",
      "Warning:    Current predicate: samecourse/2\n",
      "Warning:    Use :- discontiguous sameproject/2. to suppress this message\n",
      "Warning: /user/HS400/ps00711/Documents/MLDM/UW-CSE_Files/copy_bk.pl:1307:\n",
      "Warning:    Clauses of sameperson/2 are not together in the source-file\n",
      "Warning:    Earlier definition at /user/HS400/ps00711/Documents/MLDM/UW-CSE_Files/copy_bk.pl:298\n",
      "Warning:    Current predicate: student/1\n",
      "Warning:    Use :- discontiguous sameperson/2. to suppress this message\n",
      "Warning: /user/HS400/ps00711/Documents/MLDM/UW-CSE_Files/copy_bk.pl:1335:\n",
      "Warning:    Clauses of samecourse/2 are not together in the source-file\n",
      "Warning:    Earlier definition at /user/HS400/ps00711/Documents/MLDM/UW-CSE_Files/copy_bk.pl:366\n",
      "Warning:    Current predicate: sameperson/2\n",
      "Warning:    Use :- discontiguous samecourse/2. to suppress this message\n",
      "Warning: /user/HS400/ps00711/Documents/MLDM/UW-CSE_Files/copy_bk.pl:1349:\n",
      "Warning:    Clauses of sameproject/2 are not together in the source-file\n",
      "Warning:    Earlier definition at /user/HS400/ps00711/Documents/MLDM/UW-CSE_Files/copy_bk.pl:396\n",
      "Warning:    Current predicate: samecourse/2\n",
      "Warning:    Use :- discontiguous sameproject/2. to suppress this message\n"
     ]
    },
    {
     "name": "stdout",
     "output_type": "stream",
     "text": [
      "['advisedBy(person272,person7).advisedBy(person276,person407).advisedBy(person228,person342).advisedBy(person380,person79).advisedBy(person183,person5).advisedBy(person239,person171).advisedBy(person118,person5).advisedBy(A,B) :-   taughtBy(C,B,D), ta(C,A,E).advisedBy(person263,person5).']\n",
      "+----------+ Learning +----------+\n",
      "+---------------------+------------------+------------------+\n",
      "|       n = 20        | Positive(Actual) | Negative(Actual) |\n",
      "+=====================+==================+==================+\n",
      "| Positive(Predicted) | 10               | 0                |\n",
      "+---------------------+------------------+------------------+\n",
      "| Negative(Predicted) | 0                | 10               |\n",
      "+---------------------+------------------+------------------+\n",
      "+-------------+---+\n",
      "|   Metric    | # |\n",
      "+=============+===+\n",
      "| Accuracy    | 1 |\n",
      "+-------------+---+\n",
      "| Precision   | 1 |\n",
      "+-------------+---+\n",
      "| Sensitivity | 1 |\n",
      "+-------------+---+\n",
      "| Specificity | 1 |\n",
      "+-------------+---+\n",
      "| F1 Score    | 1 |\n",
      "+-------------+---+\n"
     ]
    },
    {
     "name": "stderr",
     "output_type": "stream",
     "text": [
      "Warning: /user/HS400/ps00711/Documents/MLDM/UW-CSE_Files/copy_bk.pl:974:\n",
      "Warning:    Clauses of sameperson/2 are not together in the source-file\n",
      "Warning:    Earlier definition at /user/HS400/ps00711/Documents/MLDM/UW-CSE_Files/copy_bk.pl:298\n",
      "Warning:    Current predicate: student/1\n",
      "Warning:    Use :- discontiguous sameperson/2. to suppress this message\n",
      "Warning: /user/HS400/ps00711/Documents/MLDM/UW-CSE_Files/copy_bk.pl:1035:\n",
      "Warning:    Clauses of samecourse/2 are not together in the source-file\n",
      "Warning:    Earlier definition at /user/HS400/ps00711/Documents/MLDM/UW-CSE_Files/copy_bk.pl:366\n",
      "Warning:    Current predicate: sameperson/2\n",
      "Warning:    Use :- discontiguous samecourse/2. to suppress this message\n",
      "Warning: /user/HS400/ps00711/Documents/MLDM/UW-CSE_Files/copy_bk.pl:1064:\n",
      "Warning:    Clauses of sameproject/2 are not together in the source-file\n",
      "Warning:    Earlier definition at /user/HS400/ps00711/Documents/MLDM/UW-CSE_Files/copy_bk.pl:396\n",
      "Warning:    Current predicate: samecourse/2\n",
      "Warning:    Use :- discontiguous sameproject/2. to suppress this message\n",
      "Warning: /user/HS400/ps00711/Documents/MLDM/UW-CSE_Files/copy_bk.pl:1307:\n",
      "Warning:    Clauses of sameperson/2 are not together in the source-file\n",
      "Warning:    Earlier definition at /user/HS400/ps00711/Documents/MLDM/UW-CSE_Files/copy_bk.pl:298\n",
      "Warning:    Current predicate: student/1\n",
      "Warning:    Use :- discontiguous sameperson/2. to suppress this message\n",
      "Warning: /user/HS400/ps00711/Documents/MLDM/UW-CSE_Files/copy_bk.pl:1335:\n",
      "Warning:    Clauses of samecourse/2 are not together in the source-file\n",
      "Warning:    Earlier definition at /user/HS400/ps00711/Documents/MLDM/UW-CSE_Files/copy_bk.pl:366\n",
      "Warning:    Current predicate: sameperson/2\n",
      "Warning:    Use :- discontiguous samecourse/2. to suppress this message\n",
      "Warning: /user/HS400/ps00711/Documents/MLDM/UW-CSE_Files/copy_bk.pl:1349:\n",
      "Warning:    Clauses of sameproject/2 are not together in the source-file\n",
      "Warning:    Earlier definition at /user/HS400/ps00711/Documents/MLDM/UW-CSE_Files/copy_bk.pl:396\n",
      "Warning:    Current predicate: samecourse/2\n",
      "Warning:    Use :- discontiguous sameproject/2. to suppress this message\n"
     ]
    },
    {
     "name": "stdout",
     "output_type": "stream",
     "text": [
      "['advisedBy(person272,person7).advisedBy(person276,person407).advisedBy(person228,person342).advisedBy(person380,person79).advisedBy(person183,person5).advisedBy(person239,person171).advisedBy(person118,person5).advisedBy(A,B) :-   taughtBy(C,B,D), ta(C,A,E).advisedBy(person263,person5).advisedBy(person142,person342).advisedBy(person300,person342).advisedBy(person200,person72).']\n",
      "+----------+ Learning +----------+\n",
      "+---------------------+------------------+------------------+\n",
      "|       n = 30        | Positive(Actual) | Negative(Actual) |\n",
      "+=====================+==================+==================+\n",
      "| Positive(Predicted) | 15               | 0                |\n",
      "+---------------------+------------------+------------------+\n",
      "| Negative(Predicted) | 0                | 15               |\n",
      "+---------------------+------------------+------------------+\n",
      "+-------------+---+\n",
      "|   Metric    | # |\n",
      "+=============+===+\n",
      "| Accuracy    | 1 |\n",
      "+-------------+---+\n",
      "| Precision   | 1 |\n",
      "+-------------+---+\n",
      "| Sensitivity | 1 |\n",
      "+-------------+---+\n",
      "| Specificity | 1 |\n",
      "+-------------+---+\n",
      "| F1 Score    | 1 |\n",
      "+-------------+---+\n"
     ]
    },
    {
     "name": "stderr",
     "output_type": "stream",
     "text": [
      "Warning: /user/HS400/ps00711/Documents/MLDM/UW-CSE_Files/copy_bk.pl:974:\n",
      "Warning:    Clauses of sameperson/2 are not together in the source-file\n",
      "Warning:    Earlier definition at /user/HS400/ps00711/Documents/MLDM/UW-CSE_Files/copy_bk.pl:298\n",
      "Warning:    Current predicate: student/1\n",
      "Warning:    Use :- discontiguous sameperson/2. to suppress this message\n",
      "Warning: /user/HS400/ps00711/Documents/MLDM/UW-CSE_Files/copy_bk.pl:1035:\n",
      "Warning:    Clauses of samecourse/2 are not together in the source-file\n",
      "Warning:    Earlier definition at /user/HS400/ps00711/Documents/MLDM/UW-CSE_Files/copy_bk.pl:366\n",
      "Warning:    Current predicate: sameperson/2\n",
      "Warning:    Use :- discontiguous samecourse/2. to suppress this message\n",
      "Warning: /user/HS400/ps00711/Documents/MLDM/UW-CSE_Files/copy_bk.pl:1064:\n",
      "Warning:    Clauses of sameproject/2 are not together in the source-file\n",
      "Warning:    Earlier definition at /user/HS400/ps00711/Documents/MLDM/UW-CSE_Files/copy_bk.pl:396\n",
      "Warning:    Current predicate: samecourse/2\n",
      "Warning:    Use :- discontiguous sameproject/2. to suppress this message\n",
      "Warning: /user/HS400/ps00711/Documents/MLDM/UW-CSE_Files/copy_bk.pl:1307:\n",
      "Warning:    Clauses of sameperson/2 are not together in the source-file\n",
      "Warning:    Earlier definition at /user/HS400/ps00711/Documents/MLDM/UW-CSE_Files/copy_bk.pl:298\n",
      "Warning:    Current predicate: student/1\n",
      "Warning:    Use :- discontiguous sameperson/2. to suppress this message\n",
      "Warning: /user/HS400/ps00711/Documents/MLDM/UW-CSE_Files/copy_bk.pl:1335:\n",
      "Warning:    Clauses of samecourse/2 are not together in the source-file\n",
      "Warning:    Earlier definition at /user/HS400/ps00711/Documents/MLDM/UW-CSE_Files/copy_bk.pl:366\n",
      "Warning:    Current predicate: sameperson/2\n",
      "Warning:    Use :- discontiguous samecourse/2. to suppress this message\n",
      "Warning: /user/HS400/ps00711/Documents/MLDM/UW-CSE_Files/copy_bk.pl:1349:\n",
      "Warning:    Clauses of sameproject/2 are not together in the source-file\n",
      "Warning:    Earlier definition at /user/HS400/ps00711/Documents/MLDM/UW-CSE_Files/copy_bk.pl:396\n",
      "Warning:    Current predicate: samecourse/2\n",
      "Warning:    Use :- discontiguous sameproject/2. to suppress this message\n"
     ]
    },
    {
     "name": "stdout",
     "output_type": "stream",
     "text": [
      "['advisedBy(person272,person7).advisedBy(person276,person407).advisedBy(person228,person342).advisedBy(person380,person79).advisedBy(person183,person5).advisedBy(person239,person171).advisedBy(person118,person5).advisedBy(A,B) :-   taughtBy(C,B,D), ta(C,A,E).advisedBy(person263,person5).advisedBy(person142,person342).advisedBy(person300,person342).advisedBy(person200,person72).advisedBy(person113,person342).advisedBy(person362,person5).']\n",
      "+----------+ Learning +----------+\n",
      "+---------------------+------------------+------------------+\n",
      "|       n = 40        | Positive(Actual) | Negative(Actual) |\n",
      "+=====================+==================+==================+\n",
      "| Positive(Predicted) | 20               | 0                |\n",
      "+---------------------+------------------+------------------+\n",
      "| Negative(Predicted) | 0                | 20               |\n",
      "+---------------------+------------------+------------------+\n",
      "+-------------+---+\n",
      "|   Metric    | # |\n",
      "+=============+===+\n",
      "| Accuracy    | 1 |\n",
      "+-------------+---+\n",
      "| Precision   | 1 |\n",
      "+-------------+---+\n",
      "| Sensitivity | 1 |\n",
      "+-------------+---+\n",
      "| Specificity | 1 |\n",
      "+-------------+---+\n",
      "| F1 Score    | 1 |\n",
      "+-------------+---+\n"
     ]
    },
    {
     "name": "stderr",
     "output_type": "stream",
     "text": [
      "Warning: /user/HS400/ps00711/Documents/MLDM/UW-CSE_Files/copy_bk.pl:974:\n",
      "Warning:    Clauses of sameperson/2 are not together in the source-file\n",
      "Warning:    Earlier definition at /user/HS400/ps00711/Documents/MLDM/UW-CSE_Files/copy_bk.pl:298\n",
      "Warning:    Current predicate: student/1\n",
      "Warning:    Use :- discontiguous sameperson/2. to suppress this message\n",
      "Warning: /user/HS400/ps00711/Documents/MLDM/UW-CSE_Files/copy_bk.pl:1035:\n",
      "Warning:    Clauses of samecourse/2 are not together in the source-file\n",
      "Warning:    Earlier definition at /user/HS400/ps00711/Documents/MLDM/UW-CSE_Files/copy_bk.pl:366\n",
      "Warning:    Current predicate: sameperson/2\n",
      "Warning:    Use :- discontiguous samecourse/2. to suppress this message\n",
      "Warning: /user/HS400/ps00711/Documents/MLDM/UW-CSE_Files/copy_bk.pl:1064:\n",
      "Warning:    Clauses of sameproject/2 are not together in the source-file\n",
      "Warning:    Earlier definition at /user/HS400/ps00711/Documents/MLDM/UW-CSE_Files/copy_bk.pl:396\n",
      "Warning:    Current predicate: samecourse/2\n",
      "Warning:    Use :- discontiguous sameproject/2. to suppress this message\n",
      "Warning: /user/HS400/ps00711/Documents/MLDM/UW-CSE_Files/copy_bk.pl:1307:\n",
      "Warning:    Clauses of sameperson/2 are not together in the source-file\n",
      "Warning:    Earlier definition at /user/HS400/ps00711/Documents/MLDM/UW-CSE_Files/copy_bk.pl:298\n",
      "Warning:    Current predicate: student/1\n",
      "Warning:    Use :- discontiguous sameperson/2. to suppress this message\n",
      "Warning: /user/HS400/ps00711/Documents/MLDM/UW-CSE_Files/copy_bk.pl:1335:\n",
      "Warning:    Clauses of samecourse/2 are not together in the source-file\n",
      "Warning:    Earlier definition at /user/HS400/ps00711/Documents/MLDM/UW-CSE_Files/copy_bk.pl:366\n",
      "Warning:    Current predicate: sameperson/2\n",
      "Warning:    Use :- discontiguous samecourse/2. to suppress this message\n",
      "Warning: /user/HS400/ps00711/Documents/MLDM/UW-CSE_Files/copy_bk.pl:1349:\n",
      "Warning:    Clauses of sameproject/2 are not together in the source-file\n",
      "Warning:    Earlier definition at /user/HS400/ps00711/Documents/MLDM/UW-CSE_Files/copy_bk.pl:396\n",
      "Warning:    Current predicate: samecourse/2\n",
      "Warning:    Use :- discontiguous sameproject/2. to suppress this message\n"
     ]
    },
    {
     "name": "stdout",
     "output_type": "stream",
     "text": [
      "['advisedBy(person272,person7).advisedBy(person276,person407).advisedBy(person228,person342).advisedBy(person380,person79).advisedBy(person183,person5).advisedBy(person239,person171).advisedBy(person118,person5).advisedBy(A,B) :-   taughtBy(C,B,D), ta(C,A,E).advisedBy(person263,person5).advisedBy(person142,person342).advisedBy(person300,person342).advisedBy(A,B) :-   tempAdvisedBy(C,B), inPhase(A,D).advisedBy(person113,person342).advisedBy(person362,person5).advisedBy(person435,person279).']\n",
      "+----------+ Learning +----------+\n",
      "+---------------------+------------------+------------------+\n",
      "|       n = 50        | Positive(Actual) | Negative(Actual) |\n",
      "+=====================+==================+==================+\n",
      "| Positive(Predicted) | 25               | 0                |\n",
      "+---------------------+------------------+------------------+\n",
      "| Negative(Predicted) | 0                | 25               |\n",
      "+---------------------+------------------+------------------+\n",
      "+-------------+---+\n",
      "|   Metric    | # |\n",
      "+=============+===+\n",
      "| Accuracy    | 1 |\n",
      "+-------------+---+\n",
      "| Precision   | 1 |\n",
      "+-------------+---+\n",
      "| Sensitivity | 1 |\n",
      "+-------------+---+\n",
      "| Specificity | 1 |\n",
      "+-------------+---+\n",
      "| F1 Score    | 1 |\n",
      "+-------------+---+\n"
     ]
    },
    {
     "name": "stderr",
     "output_type": "stream",
     "text": [
      "Warning: /user/HS400/ps00711/Documents/MLDM/UW-CSE_Files/copy_bk.pl:974:\n",
      "Warning:    Clauses of sameperson/2 are not together in the source-file\n",
      "Warning:    Earlier definition at /user/HS400/ps00711/Documents/MLDM/UW-CSE_Files/copy_bk.pl:298\n",
      "Warning:    Current predicate: student/1\n",
      "Warning:    Use :- discontiguous sameperson/2. to suppress this message\n",
      "Warning: /user/HS400/ps00711/Documents/MLDM/UW-CSE_Files/copy_bk.pl:1035:\n",
      "Warning:    Clauses of samecourse/2 are not together in the source-file\n",
      "Warning:    Earlier definition at /user/HS400/ps00711/Documents/MLDM/UW-CSE_Files/copy_bk.pl:366\n",
      "Warning:    Current predicate: sameperson/2\n",
      "Warning:    Use :- discontiguous samecourse/2. to suppress this message\n",
      "Warning: /user/HS400/ps00711/Documents/MLDM/UW-CSE_Files/copy_bk.pl:1064:\n",
      "Warning:    Clauses of sameproject/2 are not together in the source-file\n",
      "Warning:    Earlier definition at /user/HS400/ps00711/Documents/MLDM/UW-CSE_Files/copy_bk.pl:396\n",
      "Warning:    Current predicate: samecourse/2\n",
      "Warning:    Use :- discontiguous sameproject/2. to suppress this message\n",
      "Warning: /user/HS400/ps00711/Documents/MLDM/UW-CSE_Files/copy_bk.pl:1307:\n",
      "Warning:    Clauses of sameperson/2 are not together in the source-file\n",
      "Warning:    Earlier definition at /user/HS400/ps00711/Documents/MLDM/UW-CSE_Files/copy_bk.pl:298\n",
      "Warning:    Current predicate: student/1\n",
      "Warning:    Use :- discontiguous sameperson/2. to suppress this message\n",
      "Warning: /user/HS400/ps00711/Documents/MLDM/UW-CSE_Files/copy_bk.pl:1335:\n",
      "Warning:    Clauses of samecourse/2 are not together in the source-file\n",
      "Warning:    Earlier definition at /user/HS400/ps00711/Documents/MLDM/UW-CSE_Files/copy_bk.pl:366\n",
      "Warning:    Current predicate: sameperson/2\n",
      "Warning:    Use :- discontiguous samecourse/2. to suppress this message\n",
      "Warning: /user/HS400/ps00711/Documents/MLDM/UW-CSE_Files/copy_bk.pl:1349:\n",
      "Warning:    Clauses of sameproject/2 are not together in the source-file\n",
      "Warning:    Earlier definition at /user/HS400/ps00711/Documents/MLDM/UW-CSE_Files/copy_bk.pl:396\n",
      "Warning:    Current predicate: samecourse/2\n",
      "Warning:    Use :- discontiguous sameproject/2. to suppress this message\n"
     ]
    },
    {
     "data": {
      "image/png": "[encoded data removed]",
      "text/plain": [
       "<Figure size 432x288 with 1 Axes>"
      ]
     },
     "metadata": {
      "needs_background": "light"
     },
     "output_type": "display_data"
    }
   ],
   "source": [
    "### Measure learning time vs nb of training examples ###\n",
    "\n",
    "from PyILP.PyILP import *\n",
    "import time\n",
    "\n",
    "num_examples = [0, 10, 20, 30, 40, 50]\n",
    "times = [0]  # List to store the time taken for learning\n",
    "\n",
    "for num in num_examples[1:]:\n",
    "    # Split the files to the desired number of examples\n",
    "    split_pos_file = \"split_{}_pos_example.f\".format(num)\n",
    "    split_neg_file = \"split_{}_neg_example.n\".format(num)\n",
    "\n",
    "    # Learning phase\n",
    "    start_time = time.time()\n",
    "    model = aleph_learn(file=\"bk_train.pl\", positive_example=split_pos_file, negative_example=split_neg_file, test_size=0, settings='aleph-modes.pl')\n",
    "    end_time = time.time()\n",
    "    \n",
    "    # Store the time taken\n",
    "    times.append(end_time - start_time)\n",
    "\n",
    "# Plotting the graph\n",
    "import matplotlib.pyplot as plt\n",
    "\n",
    "plt.plot(num_examples, times, marker='o')\n",
    "plt.xlabel('Number of Training Examples')\n",
    "plt.ylabel('Time taken for Learning (seconds)')\n",
    "plt.title('Learning Time vs. Number of Training Examples')\n",
    "plt.grid(True)\n",
    "plt.show()\n"
   ]
  },
  {
   "cell_type": "markdown",
   "id": "e2d854e6",
   "metadata": {},
   "source": [
    "## PyGol"
   ]
  },
  {
   "cell_type": "code",
   "execution_count": 2,
   "id": "616f2444",
   "metadata": {},
   "outputs": [
    {
     "name": "stderr",
     "output_type": "stream",
     "text": [
      "<frozen importlib._bootstrap>:228: RuntimeWarning: compiletime version 3.8 of module 'pygol' does not match runtime version 3.9\n"
     ]
    }
   ],
   "source": [
    "from pygol import *"
   ]
  },
  {
   "cell_type": "markdown",
   "id": "78105a59",
   "metadata": {},
   "source": [
    "### Step 1: Convert background knowledge and pos/neg examples into bottom clauses ready for the model\n",
    "\n",
    "One bottom clause for the postive example (P) and one for the negative example (N)"
   ]
  },
  {
   "cell_type": "code",
   "execution_count": 3,
   "id": "84b3fdaa",
   "metadata": {},
   "outputs": [
    {
     "name": "stderr",
     "output_type": "stream",
     "text": [
      "100%|██████████████████████████████████████████| 25/25 [00:00<00:00, 395.43it/s]\n",
      "100%|██████████████████████████████████████████| 25/25 [00:00<00:00, 482.97it/s]\n"
     ]
    }
   ],
   "source": [
    "P,N = bottom_clause_generation(file=\"bk_train.pl\", container=\"memory\", \n",
    "            positive_example=\"pos_example.f\", negative_example=\"neg_example.n\")"
   ]
  },
  {
   "cell_type": "markdown",
   "id": "8a2ec8cf",
   "metadata": {},
   "source": [
    "### Step 2: Train the model"
   ]
  },
  {
   "cell_type": "code",
   "execution_count": 27,
   "id": "0c41db29",
   "metadata": {
    "scrolled": false
   },
   "outputs": [
    {
     "name": "stderr",
     "output_type": "stream",
     "text": [
      "/tmp/ipykernel_519660/4145539594.py:29: DeprecationWarning: Sampling from a set deprecated\n",
      "since Python 3.9 and will be removed in a subsequent version.\n",
      "  model = pygol_learn(train_P, train_N, max_literals=30)\n",
      "100%|█████████████████████████████████████████████| 5/5 [00:00<00:00, 25.90it/s]\n",
      "100%|█████████████████████████████████████████████| 5/5 [00:00<00:00, 30.50it/s]\n"
     ]
    },
    {
     "name": "stdout",
     "output_type": "stream",
     "text": [
      "+----------+ Training +----------+\n",
      "['advisedBy(A,B):-inPhase(A,C),sameperson(B,B),yearsInProgram(A,D),student(A),sameperson(A,A)']\n",
      "+---------------------+------------------+------------------+\n",
      "|       n = 10        | Positive(Actual) | Negative(Actual) |\n",
      "+=====================+==================+==================+\n",
      "| Positive(Predicted) | 5                | 0                |\n",
      "+---------------------+------------------+------------------+\n",
      "| Negative(Predicted) | 0                | 5                |\n",
      "+---------------------+------------------+------------------+\n",
      "+-------------+---+\n",
      "|   Metric    | # |\n",
      "+=============+===+\n",
      "| Accuracy    | 1 |\n",
      "+-------------+---+\n",
      "| Precision   | 1 |\n",
      "+-------------+---+\n",
      "| Sensitivity | 1 |\n",
      "+-------------+---+\n",
      "| Specificity | 1 |\n",
      "+-------------+---+\n",
      "| F1 Score    | 1 |\n",
      "+-------------+---+\n"
     ]
    },
    {
     "name": "stderr",
     "output_type": "stream",
     "text": [
      "100%|███████████████████████████████████████████| 10/10 [00:00<00:00, 25.99it/s]\n",
      "100%|███████████████████████████████████████████| 10/10 [00:00<00:00, 28.66it/s]\n"
     ]
    },
    {
     "name": "stdout",
     "output_type": "stream",
     "text": [
      "+----------+ Training +----------+\n",
      "['advisedBy(A,B):-inPhase(A,C),yearsInProgram(A,D),sameperson(B,B),professor(B),sameperson(A,A)']\n",
      "+---------------------+------------------+------------------+\n",
      "|       n = 20        | Positive(Actual) | Negative(Actual) |\n",
      "+=====================+==================+==================+\n",
      "| Positive(Predicted) | 10               | 0                |\n",
      "+---------------------+------------------+------------------+\n",
      "| Negative(Predicted) | 0                | 10               |\n",
      "+---------------------+------------------+------------------+\n",
      "+-------------+---+\n",
      "|   Metric    | # |\n",
      "+=============+===+\n",
      "| Accuracy    | 1 |\n",
      "+-------------+---+\n",
      "| Precision   | 1 |\n",
      "+-------------+---+\n",
      "| Sensitivity | 1 |\n",
      "+-------------+---+\n",
      "| Specificity | 1 |\n",
      "+-------------+---+\n",
      "| F1 Score    | 1 |\n",
      "+-------------+---+\n"
     ]
    },
    {
     "name": "stderr",
     "output_type": "stream",
     "text": [
      "100%|███████████████████████████████████████████| 15/15 [00:00<00:00, 26.90it/s]\n",
      "100%|███████████████████████████████████████████| 15/15 [00:00<00:00, 26.47it/s]\n"
     ]
    },
    {
     "name": "stdout",
     "output_type": "stream",
     "text": [
      "+----------+ Training +----------+\n",
      "['advisedBy(A,B):-inPhase(A,C),yearsInProgram(A,D),sameperson(B,B),professor(B),sameperson(A,A)']\n",
      "+---------------------+------------------+------------------+\n",
      "|       n = 30        | Positive(Actual) | Negative(Actual) |\n",
      "+=====================+==================+==================+\n",
      "| Positive(Predicted) | 15               | 0                |\n",
      "+---------------------+------------------+------------------+\n",
      "| Negative(Predicted) | 0                | 15               |\n",
      "+---------------------+------------------+------------------+\n",
      "+-------------+---+\n",
      "|   Metric    | # |\n",
      "+=============+===+\n",
      "| Accuracy    | 1 |\n",
      "+-------------+---+\n",
      "| Precision   | 1 |\n",
      "+-------------+---+\n",
      "| Sensitivity | 1 |\n",
      "+-------------+---+\n",
      "| Specificity | 1 |\n",
      "+-------------+---+\n",
      "| F1 Score    | 1 |\n",
      "+-------------+---+\n"
     ]
    },
    {
     "name": "stderr",
     "output_type": "stream",
     "text": [
      "100%|███████████████████████████████████████████| 20/20 [00:00<00:00, 26.37it/s]\n",
      "100%|███████████████████████████████████████████| 20/20 [00:00<00:00, 30.46it/s]\n"
     ]
    },
    {
     "name": "stdout",
     "output_type": "stream",
     "text": [
      "+----------+ Training +----------+\n",
      "['advisedBy(A,B):-inPhase(A,C),yearsInProgram(A,D),sameperson(B,B),professor(B),sameperson(A,A)']\n",
      "+---------------------+------------------+------------------+\n",
      "|       n = 40        | Positive(Actual) | Negative(Actual) |\n",
      "+=====================+==================+==================+\n",
      "| Positive(Predicted) | 20               | 0                |\n",
      "+---------------------+------------------+------------------+\n",
      "| Negative(Predicted) | 0                | 20               |\n",
      "+---------------------+------------------+------------------+\n",
      "+-------------+---+\n",
      "|   Metric    | # |\n",
      "+=============+===+\n",
      "| Accuracy    | 1 |\n",
      "+-------------+---+\n",
      "| Precision   | 1 |\n",
      "+-------------+---+\n",
      "| Sensitivity | 1 |\n",
      "+-------------+---+\n",
      "| Specificity | 1 |\n",
      "+-------------+---+\n",
      "| F1 Score    | 1 |\n",
      "+-------------+---+\n"
     ]
    },
    {
     "name": "stderr",
     "output_type": "stream",
     "text": [
      "100%|███████████████████████████████████████████| 25/25 [00:00<00:00, 25.98it/s]\n",
      "100%|███████████████████████████████████████████| 25/25 [00:00<00:00, 32.91it/s]\n"
     ]
    },
    {
     "name": "stdout",
     "output_type": "stream",
     "text": [
      "+----------+ Training +----------+\n",
      "['advisedBy(A,B):-inPhase(A,C),yearsInProgram(A,D),sameperson(B,B),professor(B),sameperson(A,A)']\n",
      "+---------------------+------------------+------------------+\n",
      "|       n = 50        | Positive(Actual) | Negative(Actual) |\n",
      "+=====================+==================+==================+\n",
      "| Positive(Predicted) | 25               | 0                |\n",
      "+---------------------+------------------+------------------+\n",
      "| Negative(Predicted) | 0                | 25               |\n",
      "+---------------------+------------------+------------------+\n",
      "+-------------+---+\n",
      "|   Metric    | # |\n",
      "+=============+===+\n",
      "| Accuracy    | 1 |\n",
      "+-------------+---+\n",
      "| Precision   | 1 |\n",
      "+-------------+---+\n",
      "| Sensitivity | 1 |\n",
      "+-------------+---+\n",
      "| Specificity | 1 |\n",
      "+-------------+---+\n",
      "| F1 Score    | 1 |\n",
      "+-------------+---+\n"
     ]
    },
    {
     "data": {
      "image/png": "[encoded data removed]",
      "text/plain": [
       "<Figure size 432x288 with 1 Axes>"
      ]
     },
     "metadata": {
      "needs_background": "light"
     },
     "output_type": "display_data"
    }
   ],
   "source": [
    "### Measure learning time vs nb of training examples ###\n",
    "\n",
    "import matplotlib.pyplot as plt\n",
    "import time\n",
    "\n",
    "# Initialize lists to store the number of training examples and the corresponding learning times\n",
    "num_examples = [0]\n",
    "learning_times = [0]\n",
    "\n",
    "# Define the range of training examples to evaluate\n",
    "max_num_examples = 50\n",
    "step_size = 10\n",
    "\n",
    "for num_train_examples in range(step_size, max_num_examples + 2, step_size):\n",
    "    #print(num_train_examples)\n",
    "    # Create new dictionaries to store the split examples\n",
    "    train_P = {}\n",
    "    train_N = {}\n",
    "\n",
    "    # Split examples for each file in the dictionaries P and N\n",
    "    # Keep only the first 5 keys and values from the P dictionary\n",
    "    train_P = {key: P[key] for key in list(P.keys())[:int(num_train_examples/2)]}\n",
    "\n",
    "    # Keep only the first 5 keys and values from the P dictionary\n",
    "    train_N = {key: N[key] for key in list(N.keys())[:int(num_train_examples/2)]}\n",
    "\n",
    "    # Start the timer\n",
    "    start_time = time.time()\n",
    "\n",
    "    # Learning Phase/Training Phase using Python\n",
    "    model = pygol_learn(train_P, train_N, max_literals=30)\n",
    "\n",
    "    # Calculate the learning time\n",
    "    elapsed_time = time.time() - start_time\n",
    "\n",
    "    # Store the number of training examples and the corresponding learning time\n",
    "    num_examples.append(num_train_examples)\n",
    "    learning_times.append(elapsed_time)\n",
    "\n",
    "# Plot the graph\n",
    "plt.plot(num_examples, learning_times, '--x', markersize=8, color='red')\n",
    "plt.xlabel('Number of Training Examples')\n",
    "plt.ylabel('Learning Time (seconds)')\n",
    "plt.title('Learning Time vs Number of Training Examples')\n",
    "plt.show()\n"
   ]
  },
  {
   "cell_type": "markdown",
   "id": "e3a1bb62",
   "metadata": {},
   "source": [
    "## Compare learning time of both models"
   ]
  },
  {
   "cell_type": "code",
   "execution_count": 39,
   "id": "18636761",
   "metadata": {},
   "outputs": [
    {
     "data": {
      "image/png": "[encoded data removed]",
      "text/plain": [
       "<Figure size 432x288 with 1 Axes>"
      ]
     },
     "metadata": {
      "needs_background": "light"
     },
     "output_type": "display_data"
    }
   ],
   "source": [
    "# Plot the graph\n",
    "plt.plot(num_examples, learning_times, '--x', markersize=8, color='red', label=\"PyGol\")\n",
    "plt.plot(num_examples, times, marker='o', label=\"Aleph\")\n",
    "plt.xlabel('Number of Training Examples')\n",
    "plt.ylabel('Learning Time (seconds)')\n",
    "plt.title('Learning Time vs Number of Training Examples')\n",
    "plt.grid(True)\n",
    "plt.legend()\n",
    "plt.show()"
   ]
  },
  {
   "cell_type": "markdown",
   "id": "eb37274f",
   "metadata": {},
   "source": [
    "## Evaluation of both models on test set\n",
    "\n",
    "Now using test size of 0.25\n",
    "\n",
    "### Aleph"
   ]
  },
  {
   "cell_type": "code",
   "execution_count": 1,
   "id": "38e5aaa7",
   "metadata": {},
   "outputs": [
    {
     "name": "stdout",
     "output_type": "stream",
     "text": [
      "['advisedBy(person272,person7).advisedBy(person276,person407).advisedBy(person228,person342).advisedBy(person380,person79).advisedBy(person183,person5).advisedBy(person239,person171).advisedBy(person118,person5).advisedBy(A,B) :-   taughtBy(C,B,D), ta(C,A,E).advisedBy(person263,person5).advisedBy(person142,person342).advisedBy(person300,person342).advisedBy(person200,person72).advisedBy(person113,person342).']\n",
      "+----------+ Testing +----------+\n",
      "+---------------------+------------------+------------------+\n",
      "|       n = 14        | Positive(Actual) | Negative(Actual) |\n",
      "+=====================+==================+==================+\n",
      "| Positive(Predicted) | 2                | 0                |\n",
      "+---------------------+------------------+------------------+\n",
      "| Negative(Predicted) | 5                | 7                |\n",
      "+---------------------+------------------+------------------+\n",
      "+-------------+-------+\n",
      "|   Metric    |   #   |\n",
      "+=============+=======+\n",
      "| Accuracy    | 0.643 |\n",
      "+-------------+-------+\n",
      "| Precision   | 1     |\n",
      "+-------------+-------+\n",
      "| Sensitivity | 0.286 |\n",
      "+-------------+-------+\n",
      "| Specificity | 1     |\n",
      "+-------------+-------+\n",
      "| F1 Score    | 0.444 |\n",
      "+-------------+-------+\n"
     ]
    },
    {
     "name": "stderr",
     "output_type": "stream",
     "text": [
      "Warning: /user/HS400/ps00711/Documents/MLDM/UW-CSE_Files/copy_bk.pl:298:\n",
      "Warning:    Redefined static procedure sameperson/2\n",
      "Warning:    Previously defined at /user/HS400/ps00711/Documents/MLDM/UW-CSE_Files/aleph_bk_1.pl:361\n",
      "Warning: /user/HS400/ps00711/Documents/MLDM/UW-CSE_Files/copy_bk.pl:366:\n",
      "Warning:    Redefined static procedure samecourse/2\n",
      "Warning:    Previously defined at /user/HS400/ps00711/Documents/MLDM/UW-CSE_Files/aleph_bk_1.pl:429\n",
      "Warning: /user/HS400/ps00711/Documents/MLDM/UW-CSE_Files/copy_bk.pl:396:\n",
      "Warning:    Redefined static procedure sameproject/2\n",
      "Warning:    Previously defined at /user/HS400/ps00711/Documents/MLDM/UW-CSE_Files/aleph_bk_1.pl:459\n",
      "Warning: /user/HS400/ps00711/Documents/MLDM/UW-CSE_Files/copy_bk.pl:974:\n",
      "Warning:    Clauses of sameperson/2 are not together in the source-file\n",
      "Warning:    Earlier definition at /user/HS400/ps00711/Documents/MLDM/UW-CSE_Files/aleph_bk_1.pl:361\n",
      "Warning:    Current predicate: student/1\n",
      "Warning:    Use :- discontiguous sameperson/2. to suppress this message\n",
      "Warning: /user/HS400/ps00711/Documents/MLDM/UW-CSE_Files/copy_bk.pl:1035:\n",
      "Warning:    Clauses of samecourse/2 are not together in the source-file\n",
      "Warning:    Earlier definition at /user/HS400/ps00711/Documents/MLDM/UW-CSE_Files/aleph_bk_1.pl:429\n",
      "Warning:    Current predicate: sameperson/2\n",
      "Warning:    Use :- discontiguous samecourse/2. to suppress this message\n",
      "Warning: /user/HS400/ps00711/Documents/MLDM/UW-CSE_Files/copy_bk.pl:1064:\n",
      "Warning:    Clauses of sameproject/2 are not together in the source-file\n",
      "Warning:    Earlier definition at /user/HS400/ps00711/Documents/MLDM/UW-CSE_Files/aleph_bk_1.pl:459\n",
      "Warning:    Current predicate: samecourse/2\n",
      "Warning:    Use :- discontiguous sameproject/2. to suppress this message\n",
      "Warning: /user/HS400/ps00711/Documents/MLDM/UW-CSE_Files/copy_bk.pl:1307:\n",
      "Warning:    Clauses of sameperson/2 are not together in the source-file\n",
      "Warning:    Earlier definition at /user/HS400/ps00711/Documents/MLDM/UW-CSE_Files/aleph_bk_1.pl:361\n",
      "Warning:    Current predicate: student/1\n",
      "Warning:    Use :- discontiguous sameperson/2. to suppress this message\n",
      "Warning: /user/HS400/ps00711/Documents/MLDM/UW-CSE_Files/copy_bk.pl:1335:\n",
      "Warning:    Clauses of samecourse/2 are not together in the source-file\n",
      "Warning:    Earlier definition at /user/HS400/ps00711/Documents/MLDM/UW-CSE_Files/aleph_bk_1.pl:429\n",
      "Warning:    Current predicate: sameperson/2\n",
      "Warning:    Use :- discontiguous samecourse/2. to suppress this message\n",
      "Warning: /user/HS400/ps00711/Documents/MLDM/UW-CSE_Files/copy_bk.pl:1349:\n",
      "Warning:    Clauses of sameproject/2 are not together in the source-file\n",
      "Warning:    Earlier definition at /user/HS400/ps00711/Documents/MLDM/UW-CSE_Files/aleph_bk_1.pl:459\n",
      "Warning:    Current predicate: samecourse/2\n",
      "Warning:    Use :- discontiguous sameproject/2. to suppress this message\n"
     ]
    }
   ],
   "source": [
    "from PyILP.PyILP import *\n",
    "model_1=aleph_learn(file=\"bk_train.pl\", positive_example=\"pos_example.f\", \n",
    "                    negative_example=\"neg_example.n\", test_size=0.25, settings='aleph-modes.pl')"
   ]
  },
  {
   "cell_type": "markdown",
   "id": "fae354d2",
   "metadata": {},
   "source": [
    "### PyGol"
   ]
  },
  {
   "cell_type": "code",
   "execution_count": 4,
   "id": "067d58cc",
   "metadata": {},
   "outputs": [
    {
     "name": "stderr",
     "output_type": "stream",
     "text": [
      "/tmp/ipykernel_5384/1709911074.py:6: DeprecationWarning: Sampling from a set deprecated\n",
      "since Python 3.9 and will be removed in a subsequent version.\n",
      "  model= pygol_learn(Train_P, Train_N, max_literals=30)\n",
      "100%|███████████████████████████████████████████| 18/18 [00:00<00:00, 26.49it/s]\n",
      "100%|███████████████████████████████████████████| 18/18 [00:00<00:00, 28.25it/s]"
     ]
    },
    {
     "name": "stdout",
     "output_type": "stream",
     "text": [
      "+----------+ Training +----------+\n",
      "['advisedBy(A,B):-inPhase(A,C),yearsInProgram(A,D),sameperson(B,B),professor(B),sameperson(A,A)']\n",
      "+---------------------+------------------+------------------+\n",
      "|       n = 36        | Positive(Actual) | Negative(Actual) |\n",
      "+=====================+==================+==================+\n",
      "| Positive(Predicted) | 18               | 0                |\n",
      "+---------------------+------------------+------------------+\n",
      "| Negative(Predicted) | 0                | 18               |\n",
      "+---------------------+------------------+------------------+\n",
      "+-------------+---+\n",
      "|   Metric    | # |\n",
      "+=============+===+\n",
      "| Accuracy    | 1 |\n",
      "+-------------+---+\n",
      "| Precision   | 1 |\n",
      "+-------------+---+\n",
      "| Sensitivity | 1 |\n",
      "+-------------+---+\n",
      "| Specificity | 1 |\n",
      "+-------------+---+\n",
      "| F1 Score    | 1 |\n",
      "+-------------+---+\n"
     ]
    },
    {
     "name": "stderr",
     "output_type": "stream",
     "text": [
      "\n"
     ]
    }
   ],
   "source": [
    "# Split examples into train and test subsets\n",
    "Train_P, Test_P, Train_N, Test_N=pygol_train_test_split(test_size=0.25, positive_file_dictionary=P, \n",
    "                                                                 negative_file_dictionary=N)\n",
    "\n",
    "#Learning Phase/Training Phase using Python\n",
    "model= pygol_learn(Train_P, Train_N, max_literals=30)"
   ]
  },
  {
   "cell_type": "code",
   "execution_count": 5,
   "id": "9030c83d",
   "metadata": {},
   "outputs": [
    {
     "name": "stdout",
     "output_type": "stream",
     "text": [
      "+----------+ Testing +----------+\n",
      "+---------------------+------------------+------------------+\n",
      "|       n = 14        | Positive(Actual) | Negative(Actual) |\n",
      "+=====================+==================+==================+\n",
      "| Positive(Predicted) | 7                | 0                |\n",
      "+---------------------+------------------+------------------+\n",
      "| Negative(Predicted) | 0                | 7                |\n",
      "+---------------------+------------------+------------------+\n",
      "+-------------+---+\n",
      "|   Metric    | # |\n",
      "+=============+===+\n",
      "| Accuracy    | 1 |\n",
      "+-------------+---+\n",
      "| Precision   | 1 |\n",
      "+-------------+---+\n",
      "| Sensitivity | 1 |\n",
      "+-------------+---+\n",
      "| Specificity | 1 |\n",
      "+-------------+---+\n",
      "| F1 Score    | 1 |\n",
      "+-------------+---+\n"
     ]
    },
    {
     "name": "stderr",
     "output_type": "stream",
     "text": [
      "Warning: /user/HS400/ps00711/Documents/MLDM/UW-CSE_Files/copy_bk.pl:226:\n",
      "Warning:    Clauses of taughtBy/3 are not together in the source-file\n",
      "Warning:    Earlier definition at /user/HS400/ps00711/Documents/MLDM/UW-CSE_Files/copy_bk.pl:2\n",
      "Warning:    Current predicate: ta/3\n",
      "Warning:    Use :- discontiguous taughtBy/3. to suppress this message\n",
      "Warning: /user/HS400/ps00711/Documents/MLDM/UW-CSE_Files/copy_bk.pl:242:\n",
      "Warning:    Clauses of professor/1 are not together in the source-file\n",
      "Warning:    Earlier definition at /user/HS400/ps00711/Documents/MLDM/UW-CSE_Files/copy_bk.pl:230\n",
      "Warning:    Current predicate: student/1\n",
      "Warning:    Use :- discontiguous professor/1. to suppress this message\n",
      "Warning: /user/HS400/ps00711/Documents/MLDM/UW-CSE_Files/copy_bk.pl:255:\n",
      "Warning:    Clauses of student/1 are not together in the source-file\n",
      "Warning:    Earlier definition at /user/HS400/ps00711/Documents/MLDM/UW-CSE_Files/copy_bk.pl:231\n",
      "Warning:    Current predicate: professor/1\n",
      "Warning:    Use :- discontiguous student/1. to suppress this message\n",
      "Warning: /user/HS400/ps00711/Documents/MLDM/UW-CSE_Files/copy_bk.pl:734:\n",
      "Warning:    Clauses of taughtBy/3 are not together in the source-file\n",
      "Warning:    Earlier definition at /user/HS400/ps00711/Documents/MLDM/UW-CSE_Files/copy_bk.pl:2\n",
      "Warning:    Current predicate: publication/2\n",
      "Warning:    Use :- discontiguous taughtBy/3. to suppress this message\n",
      "Warning: /user/HS400/ps00711/Documents/MLDM/UW-CSE_Files/copy_bk.pl:773:\n",
      "Warning:    Clauses of courselevel/2 are not together in the source-file\n",
      "Warning:    Earlier definition at /user/HS400/ps00711/Documents/MLDM/UW-CSE_Files/copy_bk.pl:56\n",
      "Warning:    Current predicate: taughtBy/3\n",
      "Warning:    Use :- discontiguous courselevel/2. to suppress this message\n",
      "Warning: /user/HS400/ps00711/Documents/MLDM/UW-CSE_Files/copy_bk.pl:802:\n",
      "Warning:    Clauses of hasPosition/2 are not together in the source-file\n",
      "Warning:    Earlier definition at /user/HS400/ps00711/Documents/MLDM/UW-CSE_Files/copy_bk.pl:86\n",
      "Warning:    Current predicate: courselevel/2\n",
      "Warning:    Use :- discontiguous hasPosition/2. to suppress this message\n",
      "Warning: /user/HS400/ps00711/Documents/MLDM/UW-CSE_Files/copy_bk.pl:811:\n",
      "Warning:    Clauses of inPhase/2 are not together in the source-file\n",
      "Warning:    Earlier definition at /user/HS400/ps00711/Documents/MLDM/UW-CSE_Files/copy_bk.pl:101\n",
      "Warning:    Current predicate: hasPosition/2\n",
      "Warning:    Use :- discontiguous inPhase/2. to suppress this message\n",
      "Warning: /user/HS400/ps00711/Documents/MLDM/UW-CSE_Files/copy_bk.pl:833:\n",
      "Warning:    Clauses of tempAdvisedBy/2 are not together in the source-file\n",
      "Warning:    Earlier definition at /user/HS400/ps00711/Documents/MLDM/UW-CSE_Files/copy_bk.pl:148\n",
      "Warning:    Current predicate: inPhase/2\n",
      "Warning:    Use :- discontiguous tempAdvisedBy/2. to suppress this message\n",
      "Warning: /user/HS400/ps00711/Documents/MLDM/UW-CSE_Files/copy_bk.pl:840:\n",
      "Warning:    Clauses of yearsInProgram/2 are not together in the source-file\n",
      "Warning:    Earlier definition at /user/HS400/ps00711/Documents/MLDM/UW-CSE_Files/copy_bk.pl:159\n",
      "Warning:    Current predicate: tempAdvisedBy/2\n",
      "Warning:    Use :- discontiguous yearsInProgram/2. to suppress this message\n",
      "Warning: /user/HS400/ps00711/Documents/MLDM/UW-CSE_Files/copy_bk.pl:862:\n",
      "Warning:    Clauses of ta/3 are not together in the source-file\n",
      "Warning:    Earlier definition at /user/HS400/ps00711/Documents/MLDM/UW-CSE_Files/copy_bk.pl:206\n",
      "Warning:    Current predicate: yearsInProgram/2\n",
      "Warning:    Use :- discontiguous ta/3. to suppress this message\n",
      "Warning: /user/HS400/ps00711/Documents/MLDM/UW-CSE_Files/copy_bk.pl:905:\n",
      "Warning:    Clauses of taughtBy/3 are not together in the source-file\n",
      "Warning:    Earlier definition at /user/HS400/ps00711/Documents/MLDM/UW-CSE_Files/copy_bk.pl:2\n",
      "Warning:    Current predicate: ta/3\n",
      "Warning:    Use :- discontiguous taughtBy/3. to suppress this message\n",
      "Warning: /user/HS400/ps00711/Documents/MLDM/UW-CSE_Files/copy_bk.pl:913:\n",
      "Warning:    Clauses of professor/1 are not together in the source-file\n",
      "Warning:    Earlier definition at /user/HS400/ps00711/Documents/MLDM/UW-CSE_Files/copy_bk.pl:230\n",
      "Warning:    Current predicate: taughtBy/3\n",
      "Warning:    Use :- discontiguous professor/1. to suppress this message\n",
      "Warning: /user/HS400/ps00711/Documents/MLDM/UW-CSE_Files/copy_bk.pl:916:\n",
      "Warning:    Clauses of student/1 are not together in the source-file\n",
      "Warning:    Earlier definition at /user/HS400/ps00711/Documents/MLDM/UW-CSE_Files/copy_bk.pl:231\n",
      "Warning:    Current predicate: professor/1\n",
      "Warning:    Use :- discontiguous student/1. to suppress this message\n",
      "Warning: /user/HS400/ps00711/Documents/MLDM/UW-CSE_Files/copy_bk.pl:928:\n",
      "Warning:    Clauses of professor/1 are not together in the source-file\n",
      "Warning:    Earlier definition at /user/HS400/ps00711/Documents/MLDM/UW-CSE_Files/copy_bk.pl:230\n",
      "Warning:    Current predicate: student/1\n",
      "Warning:    Use :- discontiguous professor/1. to suppress this message\n",
      "Warning: /user/HS400/ps00711/Documents/MLDM/UW-CSE_Files/copy_bk.pl:934:\n",
      "Warning:    Clauses of student/1 are not together in the source-file\n",
      "Warning:    Earlier definition at /user/HS400/ps00711/Documents/MLDM/UW-CSE_Files/copy_bk.pl:231\n",
      "Warning:    Current predicate: professor/1\n",
      "Warning:    Use :- discontiguous student/1. to suppress this message\n",
      "Warning: /user/HS400/ps00711/Documents/MLDM/UW-CSE_Files/copy_bk.pl:974:\n",
      "Warning:    Clauses of sameperson/2 are not together in the source-file\n",
      "Warning:    Earlier definition at /user/HS400/ps00711/Documents/MLDM/UW-CSE_Files/copy_bk.pl:298\n",
      "Warning:    Current predicate: student/1\n",
      "Warning:    Use :- discontiguous sameperson/2. to suppress this message\n",
      "Warning: /user/HS400/ps00711/Documents/MLDM/UW-CSE_Files/copy_bk.pl:1035:\n",
      "Warning:    Clauses of samecourse/2 are not together in the source-file\n",
      "Warning:    Earlier definition at /user/HS400/ps00711/Documents/MLDM/UW-CSE_Files/copy_bk.pl:366\n",
      "Warning:    Current predicate: sameperson/2\n",
      "Warning:    Use :- discontiguous samecourse/2. to suppress this message\n",
      "Warning: /user/HS400/ps00711/Documents/MLDM/UW-CSE_Files/copy_bk.pl:1064:\n",
      "Warning:    Clauses of sameproject/2 are not together in the source-file\n",
      "Warning:    Earlier definition at /user/HS400/ps00711/Documents/MLDM/UW-CSE_Files/copy_bk.pl:396\n",
      "Warning:    Current predicate: samecourse/2\n",
      "Warning:    Use :- discontiguous sameproject/2. to suppress this message\n",
      "Warning: /user/HS400/ps00711/Documents/MLDM/UW-CSE_Files/copy_bk.pl:1110:\n",
      "Warning:    Clauses of publication/2 are not together in the source-file\n",
      "Warning:    Earlier definition at /user/HS400/ps00711/Documents/MLDM/UW-CSE_Files/copy_bk.pl:441\n",
      "Warning:    Current predicate: sameproject/2\n",
      "Warning:    Use :- discontiguous publication/2. to suppress this message\n",
      "Warning: /user/HS400/ps00711/Documents/MLDM/UW-CSE_Files/copy_bk.pl:1185:\n",
      "Warning:    Clauses of taughtBy/3 are not together in the source-file\n",
      "Warning:    Earlier definition at /user/HS400/ps00711/Documents/MLDM/UW-CSE_Files/copy_bk.pl:2\n",
      "Warning:    Current predicate: publication/2\n",
      "Warning:    Use :- discontiguous taughtBy/3. to suppress this message\n",
      "Warning: /user/HS400/ps00711/Documents/MLDM/UW-CSE_Files/copy_bk.pl:1211:\n",
      "Warning:    Clauses of courselevel/2 are not together in the source-file\n",
      "Warning:    Earlier definition at /user/HS400/ps00711/Documents/MLDM/UW-CSE_Files/copy_bk.pl:56\n",
      "Warning:    Current predicate: taughtBy/3\n",
      "Warning:    Use :- discontiguous courselevel/2. to suppress this message\n",
      "Warning: /user/HS400/ps00711/Documents/MLDM/UW-CSE_Files/copy_bk.pl:1225:\n",
      "Warning:    Clauses of hasPosition/2 are not together in the source-file\n",
      "Warning:    Earlier definition at /user/HS400/ps00711/Documents/MLDM/UW-CSE_Files/copy_bk.pl:86\n",
      "Warning:    Current predicate: courselevel/2\n",
      "Warning:    Use :- discontiguous hasPosition/2. to suppress this message\n",
      "Warning: /user/HS400/ps00711/Documents/MLDM/UW-CSE_Files/copy_bk.pl:1229:\n",
      "Warning:    Clauses of inPhase/2 are not together in the source-file\n",
      "Warning:    Earlier definition at /user/HS400/ps00711/Documents/MLDM/UW-CSE_Files/copy_bk.pl:101\n",
      "Warning:    Current predicate: hasPosition/2\n",
      "Warning:    Use :- discontiguous inPhase/2. to suppress this message\n",
      "Warning: /user/HS400/ps00711/Documents/MLDM/UW-CSE_Files/copy_bk.pl:1239:\n",
      "Warning:    Clauses of tempAdvisedBy/2 are not together in the source-file\n",
      "Warning:    Earlier definition at /user/HS400/ps00711/Documents/MLDM/UW-CSE_Files/copy_bk.pl:148\n",
      "Warning:    Current predicate: inPhase/2\n",
      "Warning:    Use :- discontiguous tempAdvisedBy/2. to suppress this message\n",
      "Warning: /user/HS400/ps00711/Documents/MLDM/UW-CSE_Files/copy_bk.pl:1240:\n",
      "Warning:    Clauses of yearsInProgram/2 are not together in the source-file\n",
      "Warning:    Earlier definition at /user/HS400/ps00711/Documents/MLDM/UW-CSE_Files/copy_bk.pl:159\n",
      "Warning:    Current predicate: tempAdvisedBy/2\n",
      "Warning:    Use :- discontiguous yearsInProgram/2. to suppress this message\n",
      "Warning: /user/HS400/ps00711/Documents/MLDM/UW-CSE_Files/copy_bk.pl:1250:\n",
      "Warning:    Clauses of ta/3 are not together in the source-file\n",
      "Warning:    Earlier definition at /user/HS400/ps00711/Documents/MLDM/UW-CSE_Files/copy_bk.pl:206\n",
      "Warning:    Current predicate: yearsInProgram/2\n",
      "Warning:    Use :- discontiguous ta/3. to suppress this message\n",
      "Warning: /user/HS400/ps00711/Documents/MLDM/UW-CSE_Files/copy_bk.pl:1276:\n",
      "Warning:    Clauses of taughtBy/3 are not together in the source-file\n",
      "Warning:    Earlier definition at /user/HS400/ps00711/Documents/MLDM/UW-CSE_Files/copy_bk.pl:2\n",
      "Warning:    Current predicate: ta/3\n",
      "Warning:    Use :- discontiguous taughtBy/3. to suppress this message\n",
      "Warning: /user/HS400/ps00711/Documents/MLDM/UW-CSE_Files/copy_bk.pl:1279:\n",
      "Warning:    Clauses of professor/1 are not together in the source-file\n",
      "Warning:    Earlier definition at /user/HS400/ps00711/Documents/MLDM/UW-CSE_Files/copy_bk.pl:230\n",
      "Warning:    Current predicate: taughtBy/3\n",
      "Warning:    Use :- discontiguous professor/1. to suppress this message\n",
      "Warning: /user/HS400/ps00711/Documents/MLDM/UW-CSE_Files/copy_bk.pl:1287:\n",
      "Warning:    Clauses of student/1 are not together in the source-file\n",
      "Warning:    Earlier definition at /user/HS400/ps00711/Documents/MLDM/UW-CSE_Files/copy_bk.pl:231\n",
      "Warning:    Current predicate: professor/1\n",
      "Warning:    Use :- discontiguous student/1. to suppress this message\n",
      "Warning: /user/HS400/ps00711/Documents/MLDM/UW-CSE_Files/copy_bk.pl:1307:\n",
      "Warning:    Clauses of sameperson/2 are not together in the source-file\n",
      "Warning:    Earlier definition at /user/HS400/ps00711/Documents/MLDM/UW-CSE_Files/copy_bk.pl:298\n",
      "Warning:    Current predicate: student/1\n",
      "Warning:    Use :- discontiguous sameperson/2. to suppress this message\n",
      "Warning: /user/HS400/ps00711/Documents/MLDM/UW-CSE_Files/copy_bk.pl:1335:\n",
      "Warning:    Clauses of samecourse/2 are not together in the source-file\n",
      "Warning:    Earlier definition at /user/HS400/ps00711/Documents/MLDM/UW-CSE_Files/copy_bk.pl:366\n",
      "Warning:    Current predicate: sameperson/2\n",
      "Warning:    Use :- discontiguous samecourse/2. to suppress this message\n",
      "Warning: /user/HS400/ps00711/Documents/MLDM/UW-CSE_Files/copy_bk.pl:1349:\n",
      "Warning:    Clauses of sameproject/2 are not together in the source-file\n",
      "Warning:    Earlier definition at /user/HS400/ps00711/Documents/MLDM/UW-CSE_Files/copy_bk.pl:396\n",
      "Warning:    Current predicate: samecourse/2\n",
      "Warning:    Use :- discontiguous sameproject/2. to suppress this message\n",
      "Warning: /user/HS400/ps00711/Documents/MLDM/UW-CSE_Files/copy_bk.pl:1357:\n",
      "Warning:    Clauses of publication/2 are not together in the source-file\n",
      "Warning:    Earlier definition at /user/HS400/ps00711/Documents/MLDM/UW-CSE_Files/copy_bk.pl:441\n",
      "Warning:    Current predicate: sameproject/2\n",
      "Warning:    Use :- discontiguous publication/2. to suppress this message\n"
     ]
    }
   ],
   "source": [
    "metrics=evaluate_theory_prolog(model.hypothesis,\"bk_train.pl\",Test_P, Test_N)"
   ]
  },
  {
   "cell_type": "code",
   "execution_count": null,
   "id": "48db64dd",
   "metadata": {},
   "outputs": [],
   "source": []
  }
 ],
 "metadata": {
  "kernelspec": {
   "display_name": "Python 3 (ipykernel)",
   "language": "python",
   "name": "python3"
  },
  "language_info": {
   "codemirror_mode": {
    "name": "ipython",
    "version": 3
   },
   "file_extension": ".py",
   "mimetype": "text/x-python",
   "name": "python",
   "nbconvert_exporter": "python",
   "pygments_lexer": "ipython3",
   "version": "3.9.12"
  }
 },
 "nbformat": 4,
 "nbformat_minor": 5
}
