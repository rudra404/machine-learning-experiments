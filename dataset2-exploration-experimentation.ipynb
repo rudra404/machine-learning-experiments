{
  "cells": [
    {
      "cell_type": "code",
      "execution_count": null,
      "metadata": {
        "id": "Fdj33E60JN6g"
      },
      "outputs": [],
      "source": [
        "import pandas as pd\n",
        "import seaborn as sns\n",
        "import matplotlib.pyplot as plt\n",
        "import numpy as np\n",
        "from sklearn.model_selection import train_test_split, StratifiedKFold\n",
        "from imblearn.over_sampling import RandomOverSampler, SMOTE\n",
        "from imblearn.under_sampling import RandomUnderSampler, NearMiss\n",
        "from sklearn.ensemble import RandomForestClassifier\n",
        "from sklearn.metrics import accuracy_score, confusion_matrix, precision_score, recall_score, ConfusionMatrixDisplay, classification_report, f1_score\n",
        "from sklearn.model_selection import GridSearchCV, cross_val_score\n",
        "from sklearn.neural_network import MLPClassifier\n",
        "from sklearn import svm"
      ]
    },
    {
      "cell_type": "code",
      "execution_count": null,
      "metadata": {
        "colab": {
          "base_uri": "https://localhost:8080/",
          "height": 73
        },
        "id": "ymSdagpz15N7",
        "outputId": "7fa3e688-b761-42b8-f405-c3938d335392"
      },
      "outputs": [
        {
          "output_type": "display_data",
          "data": {
            "text/plain": [
              "<IPython.core.display.HTML object>"
            ],
            "text/html": [
              "\n",
              "     <input type=\"file\" id=\"files-9d8a7da0-b54b-4550-8c8b-e6c7dc8360d7\" name=\"files[]\" multiple disabled\n",
              "        style=\"border:none\" />\n",
              "     <output id=\"result-9d8a7da0-b54b-4550-8c8b-e6c7dc8360d7\">\n",
              "      Upload widget is only available when the cell has been executed in the\n",
              "      current browser session. Please rerun this cell to enable.\n",
              "      </output>\n",
              "      <script>// Copyright 2017 Google LLC\n",
              "//\n",
              "// Licensed under the Apache License, Version 2.0 (the \"License\");\n",
              "// you may not use this file except in compliance with the License.\n",
              "// You may obtain a copy of the License at\n",
              "//\n",
              "//      http://www.apache.org/licenses/LICENSE-2.0\n",
              "//\n",
              "// Unless required by applicable law or agreed to in writing, software\n",
              "// distributed under the License is distributed on an \"AS IS\" BASIS,\n",
              "// WITHOUT WARRANTIES OR CONDITIONS OF ANY KIND, either express or implied.\n",
              "// See the License for the specific language governing permissions and\n",
              "// limitations under the License.\n",
              "\n",
              "/**\n",
              " * @fileoverview Helpers for google.colab Python module.\n",
              " */\n",
              "(function(scope) {\n",
              "function span(text, styleAttributes = {}) {\n",
              "  const element = document.createElement('span');\n",
              "  element.textContent = text;\n",
              "  for (const key of Object.keys(styleAttributes)) {\n",
              "    element.style[key] = styleAttributes[key];\n",
              "  }\n",
              "  return element;\n",
              "}\n",
              "\n",
              "// Max number of bytes which will be uploaded at a time.\n",
              "const MAX_PAYLOAD_SIZE = 100 * 1024;\n",
              "\n",
              "function _uploadFiles(inputId, outputId) {\n",
              "  const steps = uploadFilesStep(inputId, outputId);\n",
              "  const outputElement = document.getElementById(outputId);\n",
              "  // Cache steps on the outputElement to make it available for the next call\n",
              "  // to uploadFilesContinue from Python.\n",
              "  outputElement.steps = steps;\n",
              "\n",
              "  return _uploadFilesContinue(outputId);\n",
              "}\n",
              "\n",
              "// This is roughly an async generator (not supported in the browser yet),\n",
              "// where there are multiple asynchronous steps and the Python side is going\n",
              "// to poll for completion of each step.\n",
              "// This uses a Promise to block the python side on completion of each step,\n",
              "// then passes the result of the previous step as the input to the next step.\n",
              "function _uploadFilesContinue(outputId) {\n",
              "  const outputElement = document.getElementById(outputId);\n",
              "  const steps = outputElement.steps;\n",
              "\n",
              "  const next = steps.next(outputElement.lastPromiseValue);\n",
              "  return Promise.resolve(next.value.promise).then((value) => {\n",
              "    // Cache the last promise value to make it available to the next\n",
              "    // step of the generator.\n",
              "    outputElement.lastPromiseValue = value;\n",
              "    return next.value.response;\n",
              "  });\n",
              "}\n",
              "\n",
              "/**\n",
              " * Generator function which is called between each async step of the upload\n",
              " * process.\n",
              " * @param {string} inputId Element ID of the input file picker element.\n",
              " * @param {string} outputId Element ID of the output display.\n",
              " * @return {!Iterable<!Object>} Iterable of next steps.\n",
              " */\n",
              "function* uploadFilesStep(inputId, outputId) {\n",
              "  const inputElement = document.getElementById(inputId);\n",
              "  inputElement.disabled = false;\n",
              "\n",
              "  const outputElement = document.getElementById(outputId);\n",
              "  outputElement.innerHTML = '';\n",
              "\n",
              "  const pickedPromise = new Promise((resolve) => {\n",
              "    inputElement.addEventListener('change', (e) => {\n",
              "      resolve(e.target.files);\n",
              "    });\n",
              "  });\n",
              "\n",
              "  const cancel = document.createElement('button');\n",
              "  inputElement.parentElement.appendChild(cancel);\n",
              "  cancel.textContent = 'Cancel upload';\n",
              "  const cancelPromise = new Promise((resolve) => {\n",
              "    cancel.onclick = () => {\n",
              "      resolve(null);\n",
              "    };\n",
              "  });\n",
              "\n",
              "  // Wait for the user to pick the files.\n",
              "  const files = yield {\n",
              "    promise: Promise.race([pickedPromise, cancelPromise]),\n",
              "    response: {\n",
              "      action: 'starting',\n",
              "    }\n",
              "  };\n",
              "\n",
              "  cancel.remove();\n",
              "\n",
              "  // Disable the input element since further picks are not allowed.\n",
              "  inputElement.disabled = true;\n",
              "\n",
              "  if (!files) {\n",
              "    return {\n",
              "      response: {\n",
              "        action: 'complete',\n",
              "      }\n",
              "    };\n",
              "  }\n",
              "\n",
              "  for (const file of files) {\n",
              "    const li = document.createElement('li');\n",
              "    li.append(span(file.name, {fontWeight: 'bold'}));\n",
              "    li.append(span(\n",
              "        `(${file.type || 'n/a'}) - ${file.size} bytes, ` +\n",
              "        `last modified: ${\n",
              "            file.lastModifiedDate ? file.lastModifiedDate.toLocaleDateString() :\n",
              "                                    'n/a'} - `));\n",
              "    const percent = span('0% done');\n",
              "    li.appendChild(percent);\n",
              "\n",
              "    outputElement.appendChild(li);\n",
              "\n",
              "    const fileDataPromise = new Promise((resolve) => {\n",
              "      const reader = new FileReader();\n",
              "      reader.onload = (e) => {\n",
              "        resolve(e.target.result);\n",
              "      };\n",
              "      reader.readAsArrayBuffer(file);\n",
              "    });\n",
              "    // Wait for the data to be ready.\n",
              "    let fileData = yield {\n",
              "      promise: fileDataPromise,\n",
              "      response: {\n",
              "        action: 'continue',\n",
              "      }\n",
              "    };\n",
              "\n",
              "    // Use a chunked sending to avoid message size limits. See b/62115660.\n",
              "    let position = 0;\n",
              "    do {\n",
              "      const length = Math.min(fileData.byteLength - position, MAX_PAYLOAD_SIZE);\n",
              "      const chunk = new Uint8Array(fileData, position, length);\n",
              "      position += length;\n",
              "\n",
              "      const base64 = btoa(String.fromCharCode.apply(null, chunk));\n",
              "      yield {\n",
              "        response: {\n",
              "          action: 'append',\n",
              "          file: file.name,\n",
              "          data: base64,\n",
              "        },\n",
              "      };\n",
              "\n",
              "      let percentDone = fileData.byteLength === 0 ?\n",
              "          100 :\n",
              "          Math.round((position / fileData.byteLength) * 100);\n",
              "      percent.textContent = `${percentDone}% done`;\n",
              "\n",
              "    } while (position < fileData.byteLength);\n",
              "  }\n",
              "\n",
              "  // All done.\n",
              "  yield {\n",
              "    response: {\n",
              "      action: 'complete',\n",
              "    }\n",
              "  };\n",
              "}\n",
              "\n",
              "scope.google = scope.google || {};\n",
              "scope.google.colab = scope.google.colab || {};\n",
              "scope.google.colab._files = {\n",
              "  _uploadFiles,\n",
              "  _uploadFilesContinue,\n",
              "};\n",
              "})(self);\n",
              "</script> "
            ]
          },
          "metadata": {}
        },
        {
          "output_type": "stream",
          "name": "stdout",
          "text": [
            "Saving Occupancy_Estimation.csv to Occupancy_Estimation.csv\n"
          ]
        }
      ],
      "source": [
        "from google.colab import files\n",
        "uploaded = files.upload()"
      ]
    },
    {
      "cell_type": "code",
      "execution_count": null,
      "metadata": {
        "id": "sYLuFTVn2Pt-"
      },
      "outputs": [],
      "source": [
        "import io\n",
        "df = pd.read_csv(io.BytesIO(uploaded['Occupancy_Estimation.csv']))\n",
        "#df = pd.read_csv('Occupancy_Estimation.csv')"
      ]
    },
    {
      "cell_type": "code",
      "execution_count": null,
      "metadata": {
        "colab": {
          "base_uri": "https://localhost:8080/",
          "height": 424
        },
        "id": "4bbi3eY-2XGp",
        "outputId": "54b0473a-b691-4cf2-c65e-0f8745d69487"
      },
      "outputs": [
        {
          "output_type": "execute_result",
          "data": {
            "text/plain": [
              "             Date      Time  S1_Temp  S2_Temp  S3_Temp  S4_Temp  S1_Light  \\\n",
              "0      2017/12/22  10:49:41    24.94    24.75    24.56    25.38       121   \n",
              "1      2017/12/22  10:50:12    24.94    24.75    24.56    25.44       121   \n",
              "2      2017/12/22  10:50:42    25.00    24.75    24.50    25.44       121   \n",
              "3      2017/12/22  10:51:13    25.00    24.75    24.56    25.44       121   \n",
              "4      2017/12/22  10:51:44    25.00    24.75    24.56    25.44       121   \n",
              "...           ...       ...      ...      ...      ...      ...       ...   \n",
              "10124  2018/01/11  08:58:07    25.06    25.13    24.69    25.31         6   \n",
              "10125  2018/01/11  08:58:37    25.06    25.06    24.69    25.25         6   \n",
              "10126  2018/01/11  08:59:08    25.13    25.06    24.69    25.25         6   \n",
              "10127  2018/01/11  08:59:39    25.13    25.06    24.69    25.25         6   \n",
              "10128  2018/01/11  09:00:09    25.13    25.06    24.69    25.25         6   \n",
              "\n",
              "       S2_Light  S3_Light  S4_Light  S1_Sound  S2_Sound  S3_Sound  S4_Sound  \\\n",
              "0            34        53        40      0.08      0.19      0.06      0.06   \n",
              "1            33        53        40      0.93      0.05      0.06      0.06   \n",
              "2            34        53        40      0.43      0.11      0.08      0.06   \n",
              "3            34        53        40      0.41      0.10      0.10      0.09   \n",
              "4            34        54        40      0.18      0.06      0.06      0.06   \n",
              "...         ...       ...       ...       ...       ...       ...       ...   \n",
              "10124         7        33        22      0.09      0.04      0.06      0.08   \n",
              "10125         7        34        22      0.07      0.05      0.05      0.08   \n",
              "10126         7        34        22      0.11      0.05      0.06      0.08   \n",
              "10127         7        34        22      0.08      0.08      0.10      0.08   \n",
              "10128         7        34        22      0.08      0.05      0.06      0.08   \n",
              "\n",
              "       S5_CO2  S5_CO2_Slope  S6_PIR  S7_PIR  Room_Occupancy_Count  \n",
              "0         390      0.769231       0       0                     1  \n",
              "1         390      0.646154       0       0                     1  \n",
              "2         390      0.519231       0       0                     1  \n",
              "3         390      0.388462       0       0                     1  \n",
              "4         390      0.253846       0       0                     1  \n",
              "...       ...           ...     ...     ...                   ...  \n",
              "10124     345      0.000000       0       0                     0  \n",
              "10125     345      0.000000       0       0                     0  \n",
              "10126     345      0.000000       0       0                     0  \n",
              "10127     345      0.000000       0       0                     0  \n",
              "10128     345      0.000000       0       0                     0  \n",
              "\n",
              "[10129 rows x 19 columns]"
            ],
            "text/html": [
              "\n",
              "  <div id=\"df-6a8e428f-5d7b-45b9-9547-70966857afa9\">\n",
              "    <div class=\"colab-df-container\">\n",
              "      <div>\n",
              "<style scoped>\n",
              "    .dataframe tbody tr th:only-of-type {\n",
              "        vertical-align: middle;\n",
              "    }\n",
              "\n",
              "    .dataframe tbody tr th {\n",
              "        vertical-align: top;\n",
              "    }\n",
              "\n",
              "    .dataframe thead th {\n",
              "        text-align: right;\n",
              "    }\n",
              "</style>\n",
              "<table border=\"1\" class=\"dataframe\">\n",
              "  <thead>\n",
              "    <tr style=\"text-align: right;\">\n",
              "      <th></th>\n",
              "      <th>Date</th>\n",
              "      <th>Time</th>\n",
              "      <th>S1_Temp</th>\n",
              "      <th>S2_Temp</th>\n",
              "      <th>S3_Temp</th>\n",
              "      <th>S4_Temp</th>\n",
              "      <th>S1_Light</th>\n",
              "      <th>S2_Light</th>\n",
              "      <th>S3_Light</th>\n",
              "      <th>S4_Light</th>\n",
              "      <th>S1_Sound</th>\n",
              "      <th>S2_Sound</th>\n",
              "      <th>S3_Sound</th>\n",
              "      <th>S4_Sound</th>\n",
              "      <th>S5_CO2</th>\n",
              "      <th>S5_CO2_Slope</th>\n",
              "      <th>S6_PIR</th>\n",
              "      <th>S7_PIR</th>\n",
              "      <th>Room_Occupancy_Count</th>\n",
              "    </tr>\n",
              "  </thead>\n",
              "  <tbody>\n",
              "    <tr>\n",
              "      <th>0</th>\n",
              "      <td>2017/12/22</td>\n",
              "      <td>10:49:41</td>\n",
              "      <td>24.94</td>\n",
              "      <td>24.75</td>\n",
              "      <td>24.56</td>\n",
              "      <td>25.38</td>\n",
              "      <td>121</td>\n",
              "      <td>34</td>\n",
              "      <td>53</td>\n",
              "      <td>40</td>\n",
              "      <td>0.08</td>\n",
              "      <td>0.19</td>\n",
              "      <td>0.06</td>\n",
              "      <td>0.06</td>\n",
              "      <td>390</td>\n",
              "      <td>0.769231</td>\n",
              "      <td>0</td>\n",
              "      <td>0</td>\n",
              "      <td>1</td>\n",
              "    </tr>\n",
              "    <tr>\n",
              "      <th>1</th>\n",
              "      <td>2017/12/22</td>\n",
              "      <td>10:50:12</td>\n",
              "      <td>24.94</td>\n",
              "      <td>24.75</td>\n",
              "      <td>24.56</td>\n",
              "      <td>25.44</td>\n",
              "      <td>121</td>\n",
              "      <td>33</td>\n",
              "      <td>53</td>\n",
              "      <td>40</td>\n",
              "      <td>0.93</td>\n",
              "      <td>0.05</td>\n",
              "      <td>0.06</td>\n",
              "      <td>0.06</td>\n",
              "      <td>390</td>\n",
              "      <td>0.646154</td>\n",
              "      <td>0</td>\n",
              "      <td>0</td>\n",
              "      <td>1</td>\n",
              "    </tr>\n",
              "    <tr>\n",
              "      <th>2</th>\n",
              "      <td>2017/12/22</td>\n",
              "      <td>10:50:42</td>\n",
              "      <td>25.00</td>\n",
              "      <td>24.75</td>\n",
              "      <td>24.50</td>\n",
              "      <td>25.44</td>\n",
              "      <td>121</td>\n",
              "      <td>34</td>\n",
              "      <td>53</td>\n",
              "      <td>40</td>\n",
              "      <td>0.43</td>\n",
              "      <td>0.11</td>\n",
              "      <td>0.08</td>\n",
              "      <td>0.06</td>\n",
              "      <td>390</td>\n",
              "      <td>0.519231</td>\n",
              "      <td>0</td>\n",
              "      <td>0</td>\n",
              "      <td>1</td>\n",
              "    </tr>\n",
              "    <tr>\n",
              "      <th>3</th>\n",
              "      <td>2017/12/22</td>\n",
              "      <td>10:51:13</td>\n",
              "      <td>25.00</td>\n",
              "      <td>24.75</td>\n",
              "      <td>24.56</td>\n",
              "      <td>25.44</td>\n",
              "      <td>121</td>\n",
              "      <td>34</td>\n",
              "      <td>53</td>\n",
              "      <td>40</td>\n",
              "      <td>0.41</td>\n",
              "      <td>0.10</td>\n",
              "      <td>0.10</td>\n",
              "      <td>0.09</td>\n",
              "      <td>390</td>\n",
              "      <td>0.388462</td>\n",
              "      <td>0</td>\n",
              "      <td>0</td>\n",
              "      <td>1</td>\n",
              "    </tr>\n",
              "    <tr>\n",
              "      <th>4</th>\n",
              "      <td>2017/12/22</td>\n",
              "      <td>10:51:44</td>\n",
              "      <td>25.00</td>\n",
              "      <td>24.75</td>\n",
              "      <td>24.56</td>\n",
              "      <td>25.44</td>\n",
              "      <td>121</td>\n",
              "      <td>34</td>\n",
              "      <td>54</td>\n",
              "      <td>40</td>\n",
              "      <td>0.18</td>\n",
              "      <td>0.06</td>\n",
              "      <td>0.06</td>\n",
              "      <td>0.06</td>\n",
              "      <td>390</td>\n",
              "      <td>0.253846</td>\n",
              "      <td>0</td>\n",
              "      <td>0</td>\n",
              "      <td>1</td>\n",
              "    </tr>\n",
              "    <tr>\n",
              "      <th>...</th>\n",
              "      <td>...</td>\n",
              "      <td>...</td>\n",
              "      <td>...</td>\n",
              "      <td>...</td>\n",
              "      <td>...</td>\n",
              "      <td>...</td>\n",
              "      <td>...</td>\n",
              "      <td>...</td>\n",
              "      <td>...</td>\n",
              "      <td>...</td>\n",
              "      <td>...</td>\n",
              "      <td>...</td>\n",
              "      <td>...</td>\n",
              "      <td>...</td>\n",
              "      <td>...</td>\n",
              "      <td>...</td>\n",
              "      <td>...</td>\n",
              "      <td>...</td>\n",
              "      <td>...</td>\n",
              "    </tr>\n",
              "    <tr>\n",
              "      <th>10124</th>\n",
              "      <td>2018/01/11</td>\n",
              "      <td>08:58:07</td>\n",
              "      <td>25.06</td>\n",
              "      <td>25.13</td>\n",
              "      <td>24.69</td>\n",
              "      <td>25.31</td>\n",
              "      <td>6</td>\n",
              "      <td>7</td>\n",
              "      <td>33</td>\n",
              "      <td>22</td>\n",
              "      <td>0.09</td>\n",
              "      <td>0.04</td>\n",
              "      <td>0.06</td>\n",
              "      <td>0.08</td>\n",
              "      <td>345</td>\n",
              "      <td>0.000000</td>\n",
              "      <td>0</td>\n",
              "      <td>0</td>\n",
              "      <td>0</td>\n",
              "    </tr>\n",
              "    <tr>\n",
              "      <th>10125</th>\n",
              "      <td>2018/01/11</td>\n",
              "      <td>08:58:37</td>\n",
              "      <td>25.06</td>\n",
              "      <td>25.06</td>\n",
              "      <td>24.69</td>\n",
              "      <td>25.25</td>\n",
              "      <td>6</td>\n",
              "      <td>7</td>\n",
              "      <td>34</td>\n",
              "      <td>22</td>\n",
              "      <td>0.07</td>\n",
              "      <td>0.05</td>\n",
              "      <td>0.05</td>\n",
              "      <td>0.08</td>\n",
              "      <td>345</td>\n",
              "      <td>0.000000</td>\n",
              "      <td>0</td>\n",
              "      <td>0</td>\n",
              "      <td>0</td>\n",
              "    </tr>\n",
              "    <tr>\n",
              "      <th>10126</th>\n",
              "      <td>2018/01/11</td>\n",
              "      <td>08:59:08</td>\n",
              "      <td>25.13</td>\n",
              "      <td>25.06</td>\n",
              "      <td>24.69</td>\n",
              "      <td>25.25</td>\n",
              "      <td>6</td>\n",
              "      <td>7</td>\n",
              "      <td>34</td>\n",
              "      <td>22</td>\n",
              "      <td>0.11</td>\n",
              "      <td>0.05</td>\n",
              "      <td>0.06</td>\n",
              "      <td>0.08</td>\n",
              "      <td>345</td>\n",
              "      <td>0.000000</td>\n",
              "      <td>0</td>\n",
              "      <td>0</td>\n",
              "      <td>0</td>\n",
              "    </tr>\n",
              "    <tr>\n",
              "      <th>10127</th>\n",
              "      <td>2018/01/11</td>\n",
              "      <td>08:59:39</td>\n",
              "      <td>25.13</td>\n",
              "      <td>25.06</td>\n",
              "      <td>24.69</td>\n",
              "      <td>25.25</td>\n",
              "      <td>6</td>\n",
              "      <td>7</td>\n",
              "      <td>34</td>\n",
              "      <td>22</td>\n",
              "      <td>0.08</td>\n",
              "      <td>0.08</td>\n",
              "      <td>0.10</td>\n",
              "      <td>0.08</td>\n",
              "      <td>345</td>\n",
              "      <td>0.000000</td>\n",
              "      <td>0</td>\n",
              "      <td>0</td>\n",
              "      <td>0</td>\n",
              "    </tr>\n",
              "    <tr>\n",
              "      <th>10128</th>\n",
              "      <td>2018/01/11</td>\n",
              "      <td>09:00:09</td>\n",
              "      <td>25.13</td>\n",
              "      <td>25.06</td>\n",
              "      <td>24.69</td>\n",
              "      <td>25.25</td>\n",
              "      <td>6</td>\n",
              "      <td>7</td>\n",
              "      <td>34</td>\n",
              "      <td>22</td>\n",
              "      <td>0.08</td>\n",
              "      <td>0.05</td>\n",
              "      <td>0.06</td>\n",
              "      <td>0.08</td>\n",
              "      <td>345</td>\n",
              "      <td>0.000000</td>\n",
              "      <td>0</td>\n",
              "      <td>0</td>\n",
              "      <td>0</td>\n",
              "    </tr>\n",
              "  </tbody>\n",
              "</table>\n",
              "<p>10129 rows × 19 columns</p>\n",
              "</div>\n",
              "      <button class=\"colab-df-convert\" onclick=\"convertToInteractive('df-6a8e428f-5d7b-45b9-9547-70966857afa9')\"\n",
              "              title=\"Convert this dataframe to an interactive table.\"\n",
              "              style=\"display:none;\">\n",
              "        \n",
              "  <svg xmlns=\"http://www.w3.org/2000/svg\" height=\"24px\"viewBox=\"0 0 24 24\"\n",
              "       width=\"24px\">\n",
              "    <path d=\"M0 0h24v24H0V0z\" fill=\"none\"/>\n",
              "    <path d=\"M18.56 5.44l.94 2.06.94-2.06 2.06-.94-2.06-.94-.94-2.06-.94 2.06-2.06.94zm-11 1L8.5 8.5l.94-2.06 2.06-.94-2.06-.94L8.5 2.5l-.94 2.06-2.06.94zm10 10l.94 2.06.94-2.06 2.06-.94-2.06-.94-.94-2.06-.94 2.06-2.06.94z\"/><path d=\"M17.41 7.96l-1.37-1.37c-.4-.4-.92-.59-1.43-.59-.52 0-1.04.2-1.43.59L10.3 9.45l-7.72 7.72c-.78.78-.78 2.05 0 2.83L4 21.41c.39.39.9.59 1.41.59.51 0 1.02-.2 1.41-.59l7.78-7.78 2.81-2.81c.8-.78.8-2.07 0-2.86zM5.41 20L4 18.59l7.72-7.72 1.47 1.35L5.41 20z\"/>\n",
              "  </svg>\n",
              "      </button>\n",
              "      \n",
              "  <style>\n",
              "    .colab-df-container {\n",
              "      display:flex;\n",
              "      flex-wrap:wrap;\n",
              "      gap: 12px;\n",
              "    }\n",
              "\n",
              "    .colab-df-convert {\n",
              "      background-color: #E8F0FE;\n",
              "      border: none;\n",
              "      border-radius: 50%;\n",
              "      cursor: pointer;\n",
              "      display: none;\n",
              "      fill: #1967D2;\n",
              "      height: 32px;\n",
              "      padding: 0 0 0 0;\n",
              "      width: 32px;\n",
              "    }\n",
              "\n",
              "    .colab-df-convert:hover {\n",
              "      background-color: #E2EBFA;\n",
              "      box-shadow: 0px 1px 2px rgba(60, 64, 67, 0.3), 0px 1px 3px 1px rgba(60, 64, 67, 0.15);\n",
              "      fill: #174EA6;\n",
              "    }\n",
              "\n",
              "    [theme=dark] .colab-df-convert {\n",
              "      background-color: #3B4455;\n",
              "      fill: #D2E3FC;\n",
              "    }\n",
              "\n",
              "    [theme=dark] .colab-df-convert:hover {\n",
              "      background-color: #434B5C;\n",
              "      box-shadow: 0px 1px 3px 1px rgba(0, 0, 0, 0.15);\n",
              "      filter: drop-shadow(0px 1px 2px rgba(0, 0, 0, 0.3));\n",
              "      fill: #FFFFFF;\n",
              "    }\n",
              "  </style>\n",
              "\n",
              "      <script>\n",
              "        const buttonEl =\n",
              "          document.querySelector('#df-6a8e428f-5d7b-45b9-9547-70966857afa9 button.colab-df-convert');\n",
              "        buttonEl.style.display =\n",
              "          google.colab.kernel.accessAllowed ? 'block' : 'none';\n",
              "\n",
              "        async function convertToInteractive(key) {\n",
              "          const element = document.querySelector('#df-6a8e428f-5d7b-45b9-9547-70966857afa9');\n",
              "          const dataTable =\n",
              "            await google.colab.kernel.invokeFunction('convertToInteractive',\n",
              "                                                     [key], {});\n",
              "          if (!dataTable) return;\n",
              "\n",
              "          const docLinkHtml = 'Like what you see? Visit the ' +\n",
              "            '<a target=\"_blank\" href=https://colab.research.google.com/notebooks/data_table.ipynb>data table notebook</a>'\n",
              "            + ' to learn more about interactive tables.';\n",
              "          element.innerHTML = '';\n",
              "          dataTable['output_type'] = 'display_data';\n",
              "          await google.colab.output.renderOutput(dataTable, element);\n",
              "          const docLink = document.createElement('div');\n",
              "          docLink.innerHTML = docLinkHtml;\n",
              "          element.appendChild(docLink);\n",
              "        }\n",
              "      </script>\n",
              "    </div>\n",
              "  </div>\n",
              "  "
            ]
          },
          "metadata": {},
          "execution_count": 5
        }
      ],
      "source": [
        "df"
      ]
    },
    {
      "cell_type": "markdown",
      "metadata": {
        "id": "kQfeklcO4K4p"
      },
      "source": [
        "Date: YYYY/MM/DD\n",
        "\n",
        "Time: HH:MM:SS\n",
        "\n",
        "Temperature: In degree Celsius\n",
        "\n",
        "Light: In Lux\n",
        "\n",
        "Sound: In Volts (amplifier output read by ADC)\n",
        "\n",
        "CO2: In PPM\n",
        "\n",
        "CO2 Slope: Slope of CO2 values taken in a sliding window\n",
        "\n",
        "PIR: Binary value conveying motion detection\n",
        "\n",
        "Room_Occupancy_Count: Ground Truth"
      ]
    },
    {
      "cell_type": "markdown",
      "metadata": {
        "id": "ifCj4n8NJ23n"
      },
      "source": [
        "## Data Exploration and Visualisation"
      ]
    },
    {
      "cell_type": "code",
      "execution_count": null,
      "metadata": {
        "colab": {
          "base_uri": "https://localhost:8080/"
        },
        "id": "KGe6ANLKAZhi",
        "outputId": "84527ff2-00d3-4d8b-ccec-3f547180d202"
      },
      "outputs": [
        {
          "name": "stdout",
          "output_type": "stream",
          "text": [
            "<class 'pandas.core.frame.DataFrame'>\n",
            "RangeIndex: 10129 entries, 0 to 10128\n",
            "Data columns (total 19 columns):\n",
            " #   Column                Non-Null Count  Dtype  \n",
            "---  ------                --------------  -----  \n",
            " 0   Date                  10129 non-null  object \n",
            " 1   Time                  10129 non-null  object \n",
            " 2   S1_Temp               10129 non-null  float64\n",
            " 3   S2_Temp               10129 non-null  float64\n",
            " 4   S3_Temp               10129 non-null  float64\n",
            " 5   S4_Temp               10129 non-null  float64\n",
            " 6   S1_Light              10129 non-null  int64  \n",
            " 7   S2_Light              10129 non-null  int64  \n",
            " 8   S3_Light              10129 non-null  int64  \n",
            " 9   S4_Light              10129 non-null  int64  \n",
            " 10  S1_Sound              10129 non-null  float64\n",
            " 11  S2_Sound              10129 non-null  float64\n",
            " 12  S3_Sound              10129 non-null  float64\n",
            " 13  S4_Sound              10129 non-null  float64\n",
            " 14  S5_CO2                10129 non-null  int64  \n",
            " 15  S5_CO2_Slope          10129 non-null  float64\n",
            " 16  S6_PIR                10129 non-null  int64  \n",
            " 17  S7_PIR                10129 non-null  int64  \n",
            " 18  Room_Occupancy_Count  10129 non-null  int64  \n",
            "dtypes: float64(9), int64(8), object(2)\n",
            "memory usage: 1.5+ MB\n"
          ]
        }
      ],
      "source": [
        "df.info()"
      ]
    },
    {
      "cell_type": "code",
      "execution_count": null,
      "metadata": {
        "colab": {
          "base_uri": "https://localhost:8080/",
          "height": 364
        },
        "id": "I2eHUZGhAgYk",
        "outputId": "f1438946-0962-4b3a-c2c8-473f98fe05a9"
      },
      "outputs": [
        {
          "data": {
            "text/html": [
              "\n",
              "  <div id=\"df-33016d31-9221-4ad9-8e9a-d15e67dd56e3\">\n",
              "    <div class=\"colab-df-container\">\n",
              "      <div>\n",
              "<style scoped>\n",
              "    .dataframe tbody tr th:only-of-type {\n",
              "        vertical-align: middle;\n",
              "    }\n",
              "\n",
              "    .dataframe tbody tr th {\n",
              "        vertical-align: top;\n",
              "    }\n",
              "\n",
              "    .dataframe thead th {\n",
              "        text-align: right;\n",
              "    }\n",
              "</style>\n",
              "<table border=\"1\" class=\"dataframe\">\n",
              "  <thead>\n",
              "    <tr style=\"text-align: right;\">\n",
              "      <th></th>\n",
              "      <th>S1_Temp</th>\n",
              "      <th>S2_Temp</th>\n",
              "      <th>S3_Temp</th>\n",
              "      <th>S4_Temp</th>\n",
              "      <th>S1_Light</th>\n",
              "      <th>S2_Light</th>\n",
              "      <th>S3_Light</th>\n",
              "      <th>S4_Light</th>\n",
              "      <th>S1_Sound</th>\n",
              "      <th>S2_Sound</th>\n",
              "      <th>S3_Sound</th>\n",
              "      <th>S4_Sound</th>\n",
              "      <th>S5_CO2</th>\n",
              "      <th>S5_CO2_Slope</th>\n",
              "      <th>S6_PIR</th>\n",
              "      <th>S7_PIR</th>\n",
              "      <th>Room_Occupancy_Count</th>\n",
              "    </tr>\n",
              "  </thead>\n",
              "  <tbody>\n",
              "    <tr>\n",
              "      <th>count</th>\n",
              "      <td>10129.000000</td>\n",
              "      <td>10129.000000</td>\n",
              "      <td>10129.000000</td>\n",
              "      <td>10129.000000</td>\n",
              "      <td>10129.000000</td>\n",
              "      <td>10129.00000</td>\n",
              "      <td>10129.000000</td>\n",
              "      <td>10129.000000</td>\n",
              "      <td>10129.000000</td>\n",
              "      <td>10129.000000</td>\n",
              "      <td>10129.000000</td>\n",
              "      <td>10129.000000</td>\n",
              "      <td>10129.000000</td>\n",
              "      <td>10129.000000</td>\n",
              "      <td>10129.000000</td>\n",
              "      <td>10129.000000</td>\n",
              "      <td>10129.000000</td>\n",
              "    </tr>\n",
              "    <tr>\n",
              "      <th>mean</th>\n",
              "      <td>25.454012</td>\n",
              "      <td>25.546059</td>\n",
              "      <td>25.056621</td>\n",
              "      <td>25.754125</td>\n",
              "      <td>25.445059</td>\n",
              "      <td>26.01629</td>\n",
              "      <td>34.248494</td>\n",
              "      <td>13.220259</td>\n",
              "      <td>0.168178</td>\n",
              "      <td>0.120066</td>\n",
              "      <td>0.158119</td>\n",
              "      <td>0.103840</td>\n",
              "      <td>460.860401</td>\n",
              "      <td>-0.004830</td>\n",
              "      <td>0.090137</td>\n",
              "      <td>0.079574</td>\n",
              "      <td>0.398559</td>\n",
              "    </tr>\n",
              "    <tr>\n",
              "      <th>std</th>\n",
              "      <td>0.351351</td>\n",
              "      <td>0.586325</td>\n",
              "      <td>0.427283</td>\n",
              "      <td>0.356434</td>\n",
              "      <td>51.011264</td>\n",
              "      <td>67.30417</td>\n",
              "      <td>58.400744</td>\n",
              "      <td>19.602219</td>\n",
              "      <td>0.316709</td>\n",
              "      <td>0.266503</td>\n",
              "      <td>0.413637</td>\n",
              "      <td>0.120683</td>\n",
              "      <td>199.964940</td>\n",
              "      <td>1.164990</td>\n",
              "      <td>0.286392</td>\n",
              "      <td>0.270645</td>\n",
              "      <td>0.893633</td>\n",
              "    </tr>\n",
              "    <tr>\n",
              "      <th>min</th>\n",
              "      <td>24.940000</td>\n",
              "      <td>24.750000</td>\n",
              "      <td>24.440000</td>\n",
              "      <td>24.940000</td>\n",
              "      <td>0.000000</td>\n",
              "      <td>0.00000</td>\n",
              "      <td>0.000000</td>\n",
              "      <td>0.000000</td>\n",
              "      <td>0.060000</td>\n",
              "      <td>0.040000</td>\n",
              "      <td>0.040000</td>\n",
              "      <td>0.050000</td>\n",
              "      <td>345.000000</td>\n",
              "      <td>-6.296154</td>\n",
              "      <td>0.000000</td>\n",
              "      <td>0.000000</td>\n",
              "      <td>0.000000</td>\n",
              "    </tr>\n",
              "    <tr>\n",
              "      <th>25%</th>\n",
              "      <td>25.190000</td>\n",
              "      <td>25.190000</td>\n",
              "      <td>24.690000</td>\n",
              "      <td>25.440000</td>\n",
              "      <td>0.000000</td>\n",
              "      <td>0.00000</td>\n",
              "      <td>0.000000</td>\n",
              "      <td>0.000000</td>\n",
              "      <td>0.070000</td>\n",
              "      <td>0.050000</td>\n",
              "      <td>0.060000</td>\n",
              "      <td>0.060000</td>\n",
              "      <td>355.000000</td>\n",
              "      <td>-0.046154</td>\n",
              "      <td>0.000000</td>\n",
              "      <td>0.000000</td>\n",
              "      <td>0.000000</td>\n",
              "    </tr>\n",
              "    <tr>\n",
              "      <th>50%</th>\n",
              "      <td>25.380000</td>\n",
              "      <td>25.380000</td>\n",
              "      <td>24.940000</td>\n",
              "      <td>25.750000</td>\n",
              "      <td>0.000000</td>\n",
              "      <td>0.00000</td>\n",
              "      <td>0.000000</td>\n",
              "      <td>0.000000</td>\n",
              "      <td>0.080000</td>\n",
              "      <td>0.050000</td>\n",
              "      <td>0.060000</td>\n",
              "      <td>0.080000</td>\n",
              "      <td>360.000000</td>\n",
              "      <td>0.000000</td>\n",
              "      <td>0.000000</td>\n",
              "      <td>0.000000</td>\n",
              "      <td>0.000000</td>\n",
              "    </tr>\n",
              "    <tr>\n",
              "      <th>75%</th>\n",
              "      <td>25.630000</td>\n",
              "      <td>25.630000</td>\n",
              "      <td>25.380000</td>\n",
              "      <td>26.000000</td>\n",
              "      <td>12.000000</td>\n",
              "      <td>14.00000</td>\n",
              "      <td>50.000000</td>\n",
              "      <td>22.000000</td>\n",
              "      <td>0.080000</td>\n",
              "      <td>0.060000</td>\n",
              "      <td>0.070000</td>\n",
              "      <td>0.100000</td>\n",
              "      <td>465.000000</td>\n",
              "      <td>0.000000</td>\n",
              "      <td>0.000000</td>\n",
              "      <td>0.000000</td>\n",
              "      <td>0.000000</td>\n",
              "    </tr>\n",
              "    <tr>\n",
              "      <th>max</th>\n",
              "      <td>26.380000</td>\n",
              "      <td>29.000000</td>\n",
              "      <td>26.190000</td>\n",
              "      <td>26.560000</td>\n",
              "      <td>165.000000</td>\n",
              "      <td>258.00000</td>\n",
              "      <td>280.000000</td>\n",
              "      <td>74.000000</td>\n",
              "      <td>3.880000</td>\n",
              "      <td>3.440000</td>\n",
              "      <td>3.670000</td>\n",
              "      <td>3.400000</td>\n",
              "      <td>1270.000000</td>\n",
              "      <td>8.980769</td>\n",
              "      <td>1.000000</td>\n",
              "      <td>1.000000</td>\n",
              "      <td>3.000000</td>\n",
              "    </tr>\n",
              "  </tbody>\n",
              "</table>\n",
              "</div>\n",
              "      <button class=\"colab-df-convert\" onclick=\"convertToInteractive('df-33016d31-9221-4ad9-8e9a-d15e67dd56e3')\"\n",
              "              title=\"Convert this dataframe to an interactive table.\"\n",
              "              style=\"display:none;\">\n",
              "        \n",
              "  <svg xmlns=\"http://www.w3.org/2000/svg\" height=\"24px\"viewBox=\"0 0 24 24\"\n",
              "       width=\"24px\">\n",
              "    <path d=\"M0 0h24v24H0V0z\" fill=\"none\"/>\n",
              "    <path d=\"M18.56 5.44l.94 2.06.94-2.06 2.06-.94-2.06-.94-.94-2.06-.94 2.06-2.06.94zm-11 1L8.5 8.5l.94-2.06 2.06-.94-2.06-.94L8.5 2.5l-.94 2.06-2.06.94zm10 10l.94 2.06.94-2.06 2.06-.94-2.06-.94-.94-2.06-.94 2.06-2.06.94z\"/><path d=\"M17.41 7.96l-1.37-1.37c-.4-.4-.92-.59-1.43-.59-.52 0-1.04.2-1.43.59L10.3 9.45l-7.72 7.72c-.78.78-.78 2.05 0 2.83L4 21.41c.39.39.9.59 1.41.59.51 0 1.02-.2 1.41-.59l7.78-7.78 2.81-2.81c.8-.78.8-2.07 0-2.86zM5.41 20L4 18.59l7.72-7.72 1.47 1.35L5.41 20z\"/>\n",
              "  </svg>\n",
              "      </button>\n",
              "      \n",
              "  <style>\n",
              "    .colab-df-container {\n",
              "      display:flex;\n",
              "      flex-wrap:wrap;\n",
              "      gap: 12px;\n",
              "    }\n",
              "\n",
              "    .colab-df-convert {\n",
              "      background-color: #E8F0FE;\n",
              "      border: none;\n",
              "      border-radius: 50%;\n",
              "      cursor: pointer;\n",
              "      display: none;\n",
              "      fill: #1967D2;\n",
              "      height: 32px;\n",
              "      padding: 0 0 0 0;\n",
              "      width: 32px;\n",
              "    }\n",
              "\n",
              "    .colab-df-convert:hover {\n",
              "      background-color: #E2EBFA;\n",
              "      box-shadow: 0px 1px 2px rgba(60, 64, 67, 0.3), 0px 1px 3px 1px rgba(60, 64, 67, 0.15);\n",
              "      fill: #174EA6;\n",
              "    }\n",
              "\n",
              "    [theme=dark] .colab-df-convert {\n",
              "      background-color: #3B4455;\n",
              "      fill: #D2E3FC;\n",
              "    }\n",
              "\n",
              "    [theme=dark] .colab-df-convert:hover {\n",
              "      background-color: #434B5C;\n",
              "      box-shadow: 0px 1px 3px 1px rgba(0, 0, 0, 0.15);\n",
              "      filter: drop-shadow(0px 1px 2px rgba(0, 0, 0, 0.3));\n",
              "      fill: #FFFFFF;\n",
              "    }\n",
              "  </style>\n",
              "\n",
              "      <script>\n",
              "        const buttonEl =\n",
              "          document.querySelector('#df-33016d31-9221-4ad9-8e9a-d15e67dd56e3 button.colab-df-convert');\n",
              "        buttonEl.style.display =\n",
              "          google.colab.kernel.accessAllowed ? 'block' : 'none';\n",
              "\n",
              "        async function convertToInteractive(key) {\n",
              "          const element = document.querySelector('#df-33016d31-9221-4ad9-8e9a-d15e67dd56e3');\n",
              "          const dataTable =\n",
              "            await google.colab.kernel.invokeFunction('convertToInteractive',\n",
              "                                                     [key], {});\n",
              "          if (!dataTable) return;\n",
              "\n",
              "          const docLinkHtml = 'Like what you see? Visit the ' +\n",
              "            '<a target=\"_blank\" href=https://colab.research.google.com/notebooks/data_table.ipynb>data table notebook</a>'\n",
              "            + ' to learn more about interactive tables.';\n",
              "          element.innerHTML = '';\n",
              "          dataTable['output_type'] = 'display_data';\n",
              "          await google.colab.output.renderOutput(dataTable, element);\n",
              "          const docLink = document.createElement('div');\n",
              "          docLink.innerHTML = docLinkHtml;\n",
              "          element.appendChild(docLink);\n",
              "        }\n",
              "      </script>\n",
              "    </div>\n",
              "  </div>\n",
              "  "
            ],
            "text/plain": [
              "            S1_Temp       S2_Temp       S3_Temp       S4_Temp      S1_Light  \\\n",
              "count  10129.000000  10129.000000  10129.000000  10129.000000  10129.000000   \n",
              "mean      25.454012     25.546059     25.056621     25.754125     25.445059   \n",
              "std        0.351351      0.586325      0.427283      0.356434     51.011264   \n",
              "min       24.940000     24.750000     24.440000     24.940000      0.000000   \n",
              "25%       25.190000     25.190000     24.690000     25.440000      0.000000   \n",
              "50%       25.380000     25.380000     24.940000     25.750000      0.000000   \n",
              "75%       25.630000     25.630000     25.380000     26.000000     12.000000   \n",
              "max       26.380000     29.000000     26.190000     26.560000    165.000000   \n",
              "\n",
              "          S2_Light      S3_Light      S4_Light      S1_Sound      S2_Sound  \\\n",
              "count  10129.00000  10129.000000  10129.000000  10129.000000  10129.000000   \n",
              "mean      26.01629     34.248494     13.220259      0.168178      0.120066   \n",
              "std       67.30417     58.400744     19.602219      0.316709      0.266503   \n",
              "min        0.00000      0.000000      0.000000      0.060000      0.040000   \n",
              "25%        0.00000      0.000000      0.000000      0.070000      0.050000   \n",
              "50%        0.00000      0.000000      0.000000      0.080000      0.050000   \n",
              "75%       14.00000     50.000000     22.000000      0.080000      0.060000   \n",
              "max      258.00000    280.000000     74.000000      3.880000      3.440000   \n",
              "\n",
              "           S3_Sound      S4_Sound        S5_CO2  S5_CO2_Slope        S6_PIR  \\\n",
              "count  10129.000000  10129.000000  10129.000000  10129.000000  10129.000000   \n",
              "mean       0.158119      0.103840    460.860401     -0.004830      0.090137   \n",
              "std        0.413637      0.120683    199.964940      1.164990      0.286392   \n",
              "min        0.040000      0.050000    345.000000     -6.296154      0.000000   \n",
              "25%        0.060000      0.060000    355.000000     -0.046154      0.000000   \n",
              "50%        0.060000      0.080000    360.000000      0.000000      0.000000   \n",
              "75%        0.070000      0.100000    465.000000      0.000000      0.000000   \n",
              "max        3.670000      3.400000   1270.000000      8.980769      1.000000   \n",
              "\n",
              "             S7_PIR  Room_Occupancy_Count  \n",
              "count  10129.000000          10129.000000  \n",
              "mean       0.079574              0.398559  \n",
              "std        0.270645              0.893633  \n",
              "min        0.000000              0.000000  \n",
              "25%        0.000000              0.000000  \n",
              "50%        0.000000              0.000000  \n",
              "75%        0.000000              0.000000  \n",
              "max        1.000000              3.000000  "
            ]
          },
          "execution_count": 14,
          "metadata": {},
          "output_type": "execute_result"
        }
      ],
      "source": [
        "df.describe()"
      ]
    },
    {
      "cell_type": "code",
      "execution_count": null,
      "metadata": {
        "colab": {
          "base_uri": "https://localhost:8080/"
        },
        "id": "KGicIEKaItmr",
        "outputId": "6da187be-156a-4bf4-a47e-fe48eca8ae56"
      },
      "outputs": [
        {
          "data": {
            "text/plain": [
              "0    8228\n",
              "2     748\n",
              "3     694\n",
              "1     459\n",
              "Name: Room_Occupancy_Count, dtype: int64"
            ]
          },
          "execution_count": 16,
          "metadata": {},
          "output_type": "execute_result"
        }
      ],
      "source": [
        "df['Room_Occupancy_Count'].value_counts()"
      ]
    },
    {
      "cell_type": "code",
      "execution_count": null,
      "metadata": {
        "colab": {
          "base_uri": "https://localhost:8080/",
          "height": 472
        },
        "id": "WZt3hyNBJG1d",
        "outputId": "6ff37979-e923-477b-b41a-4c3b944c73e5"
      },
      "outputs": [
        {
          "data": {
            "image/png": "[encoded data removed]",
            "text/plain": [
              "<Figure size 640x480 with 1 Axes>"
            ]
          },
          "metadata": {},
          "output_type": "display_data"
        }
      ],
      "source": [
        "# Plotting distribution of target classes\n",
        "\n",
        "counts = df['Room_Occupancy_Count'].value_counts()\n",
        "\n",
        "counts.plot.bar()\n",
        "plt.xlabel('Room Occupancy')\n",
        "plt.ylabel('Value Count')\n",
        "plt.title('Distribution of Target Classes')\n",
        "plt.xticks(rotation=0)\n",
        "plt.show()"
      ]
    },
    {
      "cell_type": "code",
      "execution_count": null,
      "metadata": {
        "colab": {
          "base_uri": "https://localhost:8080/",
          "height": 1000
        },
        "id": "3J4iII6Q9twv",
        "outputId": "1b9a20de-86e9-4cd0-e0e2-608b5b021fad"
      },
      "outputs": [
        {
          "data": {
            "text/plain": [
              "array([[<Axes: title={'center': 'S1_Temp'}>,\n",
              "        <Axes: title={'center': 'S2_Temp'}>,\n",
              "        <Axes: title={'center': 'S3_Temp'}>,\n",
              "        <Axes: title={'center': 'S4_Temp'}>],\n",
              "       [<Axes: title={'center': 'S1_Light'}>,\n",
              "        <Axes: title={'center': 'S2_Light'}>,\n",
              "        <Axes: title={'center': 'S3_Light'}>,\n",
              "        <Axes: title={'center': 'S4_Light'}>],\n",
              "       [<Axes: title={'center': 'S1_Sound'}>,\n",
              "        <Axes: title={'center': 'S2_Sound'}>,\n",
              "        <Axes: title={'center': 'S3_Sound'}>,\n",
              "        <Axes: title={'center': 'S4_Sound'}>],\n",
              "       [<Axes: title={'center': 'S5_CO2'}>,\n",
              "        <Axes: title={'center': 'S5_CO2_Slope'}>,\n",
              "        <Axes: title={'center': 'S6_PIR'}>,\n",
              "        <Axes: title={'center': 'S7_PIR'}>],\n",
              "       [<Axes: title={'center': 'Room_Occupancy_Count'}>,\n",
              "        <Axes: title={'center': 'average_temp'}>,\n",
              "        <Axes: title={'center': 'average_light'}>,\n",
              "        <Axes: title={'center': 'average_light2'}>]], dtype=object)"
            ]
          },
          "execution_count": 69,
          "metadata": {},
          "output_type": "execute_result"
        },
        {
          "data": {
            "image/png": "[encoded data removed]",
            "text/plain": [
              "<Figure size 1500x1500 with 20 Axes>"
            ]
          },
          "metadata": {},
          "output_type": "display_data"
        }
      ],
      "source": [
        "#Distributions of all features\n",
        "df.hist(figsize=(15,15))"
      ]
    },
    {
      "cell_type": "code",
      "execution_count": null,
      "metadata": {
        "colab": {
          "base_uri": "https://localhost:8080/",
          "height": 447
        },
        "id": "TaDbInIpOeBB",
        "outputId": "fb891e08-bc5e-4c42-d9fd-ba4492f8ba10"
      },
      "outputs": [
        {
          "data": {
            "text/plain": [
              "<Axes: ylabel='Temperature (Celsius)'>"
            ]
          },
          "execution_count": 28,
          "metadata": {},
          "output_type": "execute_result"
        },
        {
          "data": {
            "image/png": "[encoded data removed]",
            "text/plain": [
              "<Figure size 640x480 with 1 Axes>"
            ]
          },
          "metadata": {},
          "output_type": "display_data"
        }
      ],
      "source": [
        "# Boxplots of temeperature sensors\n",
        "df.boxplot(column=['S1_Temp', 'S2_Temp','S3_Temp', 'S4_Temp'], ylabel='Temperature (Celsius)')"
      ]
    },
    {
      "cell_type": "code",
      "execution_count": null,
      "metadata": {
        "colab": {
          "base_uri": "https://localhost:8080/",
          "height": 447
        },
        "id": "A2JgYcbePE1C",
        "outputId": "950509d2-9b76-4d18-cbab-98d76b1c4aa4"
      },
      "outputs": [
        {
          "data": {
            "text/plain": [
              "<Axes: ylabel='Sound (Volts)'>"
            ]
          },
          "execution_count": 30,
          "metadata": {},
          "output_type": "execute_result"
        },
        {
          "data": {
            "image/png": "[encoded data removed]",
            "text/plain": [
              "<Figure size 640x480 with 1 Axes>"
            ]
          },
          "metadata": {},
          "output_type": "display_data"
        }
      ],
      "source": [
        "# Boxplots of sound sensors\n",
        "df.boxplot(column=['S1_Sound', 'S2_Sound','S3_Sound', 'S4_Sound'], ylabel='Sound (Volts)')"
      ]
    },
    {
      "cell_type": "code",
      "execution_count": null,
      "metadata": {
        "colab": {
          "base_uri": "https://localhost:8080/",
          "height": 447
        },
        "id": "12fr1ExuPUjx",
        "outputId": "8310d873-1b4e-4735-886f-2c224199cc07"
      },
      "outputs": [
        {
          "data": {
            "text/plain": [
              "<Axes: ylabel='Light (Lux)'>"
            ]
          },
          "execution_count": 33,
          "metadata": {},
          "output_type": "execute_result"
        },
        {
          "data": {
            "image/png": "[encoded data removed]",
            "text/plain": [
              "<Figure size 640x480 with 1 Axes>"
            ]
          },
          "metadata": {},
          "output_type": "display_data"
        }
      ],
      "source": [
        "# Boxplots of light sensors\n",
        "df.boxplot(column=['S1_Light', 'S2_Light','S3_Light', 'S4_Light'], ylabel='Light (Lux)')"
      ]
    },
    {
      "cell_type": "code",
      "execution_count": null,
      "metadata": {
        "colab": {
          "base_uri": "https://localhost:8080/",
          "height": 447
        },
        "id": "koVyjpRKI5k_",
        "outputId": "da5c7e7b-cad7-48e0-f25c-69e6d7c3bbb5"
      },
      "outputs": [
        {
          "data": {
            "text/plain": [
              "<Axes: ylabel='CO2 level (PPM)'>"
            ]
          },
          "execution_count": 31,
          "metadata": {},
          "output_type": "execute_result"
        },
        {
          "data": {
            "image/png": "[encoded data removed]",
            "text/plain": [
              "<Figure size 640x480 with 1 Axes>"
            ]
          },
          "metadata": {},
          "output_type": "display_data"
        }
      ],
      "source": [
        "# Boxplots of CO2 sensor\n",
        "df.boxplot(column='S5_CO2', ylabel='CO2 level (PPM)')"
      ]
    },
    {
      "cell_type": "code",
      "execution_count": null,
      "metadata": {
        "colab": {
          "base_uri": "https://localhost:8080/",
          "height": 447
        },
        "id": "sm4b7XyVPgom",
        "outputId": "e562ebd6-5249-463b-bd98-ce8060e1ac81"
      },
      "outputs": [
        {
          "data": {
            "text/plain": [
              "<Axes: ylabel='CO2 Slope'>"
            ]
          },
          "execution_count": 34,
          "metadata": {},
          "output_type": "execute_result"
        },
        {
          "data": {
            "image/png": "[encoded data removed]",
            "text/plain": [
              "<Figure size 640x480 with 1 Axes>"
            ]
          },
          "metadata": {},
          "output_type": "display_data"
        }
      ],
      "source": [
        "# Boxplots of CO2 slope\n",
        "df.boxplot(column='S5_CO2_Slope', ylabel='CO2 Slope')"
      ]
    },
    {
      "cell_type": "code",
      "execution_count": null,
      "metadata": {
        "colab": {
          "base_uri": "https://localhost:8080/",
          "height": 424
        },
        "id": "AHfoKwKf7AW3",
        "outputId": "68372eab-d4ca-4458-ed11-f58a228417be"
      },
      "outputs": [
        {
          "data": {
            "text/html": [
              "\n",
              "  <div id=\"df-e73774b4-378a-4ef6-b208-ad1cdf1ee6a3\">\n",
              "    <div class=\"colab-df-container\">\n",
              "      <div>\n",
              "<style scoped>\n",
              "    .dataframe tbody tr th:only-of-type {\n",
              "        vertical-align: middle;\n",
              "    }\n",
              "\n",
              "    .dataframe tbody tr th {\n",
              "        vertical-align: top;\n",
              "    }\n",
              "\n",
              "    .dataframe thead th {\n",
              "        text-align: right;\n",
              "    }\n",
              "</style>\n",
              "<table border=\"1\" class=\"dataframe\">\n",
              "  <thead>\n",
              "    <tr style=\"text-align: right;\">\n",
              "      <th></th>\n",
              "      <th>S1_Temp</th>\n",
              "      <th>S2_Temp</th>\n",
              "      <th>S3_Temp</th>\n",
              "      <th>S4_Temp</th>\n",
              "      <th>S1_Light</th>\n",
              "      <th>S2_Light</th>\n",
              "      <th>S3_Light</th>\n",
              "      <th>S4_Light</th>\n",
              "      <th>S1_Sound</th>\n",
              "      <th>S2_Sound</th>\n",
              "      <th>S3_Sound</th>\n",
              "      <th>S4_Sound</th>\n",
              "      <th>S5_CO2</th>\n",
              "      <th>S5_CO2_Slope</th>\n",
              "      <th>S6_PIR</th>\n",
              "      <th>S7_PIR</th>\n",
              "      <th>Room_Occupancy_Count</th>\n",
              "    </tr>\n",
              "  </thead>\n",
              "  <tbody>\n",
              "    <tr>\n",
              "      <th>0</th>\n",
              "      <td>24.94</td>\n",
              "      <td>24.75</td>\n",
              "      <td>24.56</td>\n",
              "      <td>25.38</td>\n",
              "      <td>121</td>\n",
              "      <td>34</td>\n",
              "      <td>53</td>\n",
              "      <td>40</td>\n",
              "      <td>0.08</td>\n",
              "      <td>0.19</td>\n",
              "      <td>0.06</td>\n",
              "      <td>0.06</td>\n",
              "      <td>390</td>\n",
              "      <td>0.769231</td>\n",
              "      <td>0</td>\n",
              "      <td>0</td>\n",
              "      <td>1</td>\n",
              "    </tr>\n",
              "    <tr>\n",
              "      <th>1</th>\n",
              "      <td>24.94</td>\n",
              "      <td>24.75</td>\n",
              "      <td>24.56</td>\n",
              "      <td>25.44</td>\n",
              "      <td>121</td>\n",
              "      <td>33</td>\n",
              "      <td>53</td>\n",
              "      <td>40</td>\n",
              "      <td>0.93</td>\n",
              "      <td>0.05</td>\n",
              "      <td>0.06</td>\n",
              "      <td>0.06</td>\n",
              "      <td>390</td>\n",
              "      <td>0.646154</td>\n",
              "      <td>0</td>\n",
              "      <td>0</td>\n",
              "      <td>1</td>\n",
              "    </tr>\n",
              "    <tr>\n",
              "      <th>2</th>\n",
              "      <td>25.00</td>\n",
              "      <td>24.75</td>\n",
              "      <td>24.50</td>\n",
              "      <td>25.44</td>\n",
              "      <td>121</td>\n",
              "      <td>34</td>\n",
              "      <td>53</td>\n",
              "      <td>40</td>\n",
              "      <td>0.43</td>\n",
              "      <td>0.11</td>\n",
              "      <td>0.08</td>\n",
              "      <td>0.06</td>\n",
              "      <td>390</td>\n",
              "      <td>0.519231</td>\n",
              "      <td>0</td>\n",
              "      <td>0</td>\n",
              "      <td>1</td>\n",
              "    </tr>\n",
              "    <tr>\n",
              "      <th>3</th>\n",
              "      <td>25.00</td>\n",
              "      <td>24.75</td>\n",
              "      <td>24.56</td>\n",
              "      <td>25.44</td>\n",
              "      <td>121</td>\n",
              "      <td>34</td>\n",
              "      <td>53</td>\n",
              "      <td>40</td>\n",
              "      <td>0.41</td>\n",
              "      <td>0.10</td>\n",
              "      <td>0.10</td>\n",
              "      <td>0.09</td>\n",
              "      <td>390</td>\n",
              "      <td>0.388462</td>\n",
              "      <td>0</td>\n",
              "      <td>0</td>\n",
              "      <td>1</td>\n",
              "    </tr>\n",
              "    <tr>\n",
              "      <th>4</th>\n",
              "      <td>25.00</td>\n",
              "      <td>24.75</td>\n",
              "      <td>24.56</td>\n",
              "      <td>25.44</td>\n",
              "      <td>121</td>\n",
              "      <td>34</td>\n",
              "      <td>54</td>\n",
              "      <td>40</td>\n",
              "      <td>0.18</td>\n",
              "      <td>0.06</td>\n",
              "      <td>0.06</td>\n",
              "      <td>0.06</td>\n",
              "      <td>390</td>\n",
              "      <td>0.253846</td>\n",
              "      <td>0</td>\n",
              "      <td>0</td>\n",
              "      <td>1</td>\n",
              "    </tr>\n",
              "    <tr>\n",
              "      <th>...</th>\n",
              "      <td>...</td>\n",
              "      <td>...</td>\n",
              "      <td>...</td>\n",
              "      <td>...</td>\n",
              "      <td>...</td>\n",
              "      <td>...</td>\n",
              "      <td>...</td>\n",
              "      <td>...</td>\n",
              "      <td>...</td>\n",
              "      <td>...</td>\n",
              "      <td>...</td>\n",
              "      <td>...</td>\n",
              "      <td>...</td>\n",
              "      <td>...</td>\n",
              "      <td>...</td>\n",
              "      <td>...</td>\n",
              "      <td>...</td>\n",
              "    </tr>\n",
              "    <tr>\n",
              "      <th>10124</th>\n",
              "      <td>25.06</td>\n",
              "      <td>25.13</td>\n",
              "      <td>24.69</td>\n",
              "      <td>25.31</td>\n",
              "      <td>6</td>\n",
              "      <td>7</td>\n",
              "      <td>33</td>\n",
              "      <td>22</td>\n",
              "      <td>0.09</td>\n",
              "      <td>0.04</td>\n",
              "      <td>0.06</td>\n",
              "      <td>0.08</td>\n",
              "      <td>345</td>\n",
              "      <td>0.000000</td>\n",
              "      <td>0</td>\n",
              "      <td>0</td>\n",
              "      <td>0</td>\n",
              "    </tr>\n",
              "    <tr>\n",
              "      <th>10125</th>\n",
              "      <td>25.06</td>\n",
              "      <td>25.06</td>\n",
              "      <td>24.69</td>\n",
              "      <td>25.25</td>\n",
              "      <td>6</td>\n",
              "      <td>7</td>\n",
              "      <td>34</td>\n",
              "      <td>22</td>\n",
              "      <td>0.07</td>\n",
              "      <td>0.05</td>\n",
              "      <td>0.05</td>\n",
              "      <td>0.08</td>\n",
              "      <td>345</td>\n",
              "      <td>0.000000</td>\n",
              "      <td>0</td>\n",
              "      <td>0</td>\n",
              "      <td>0</td>\n",
              "    </tr>\n",
              "    <tr>\n",
              "      <th>10126</th>\n",
              "      <td>25.13</td>\n",
              "      <td>25.06</td>\n",
              "      <td>24.69</td>\n",
              "      <td>25.25</td>\n",
              "      <td>6</td>\n",
              "      <td>7</td>\n",
              "      <td>34</td>\n",
              "      <td>22</td>\n",
              "      <td>0.11</td>\n",
              "      <td>0.05</td>\n",
              "      <td>0.06</td>\n",
              "      <td>0.08</td>\n",
              "      <td>345</td>\n",
              "      <td>0.000000</td>\n",
              "      <td>0</td>\n",
              "      <td>0</td>\n",
              "      <td>0</td>\n",
              "    </tr>\n",
              "    <tr>\n",
              "      <th>10127</th>\n",
              "      <td>25.13</td>\n",
              "      <td>25.06</td>\n",
              "      <td>24.69</td>\n",
              "      <td>25.25</td>\n",
              "      <td>6</td>\n",
              "      <td>7</td>\n",
              "      <td>34</td>\n",
              "      <td>22</td>\n",
              "      <td>0.08</td>\n",
              "      <td>0.08</td>\n",
              "      <td>0.10</td>\n",
              "      <td>0.08</td>\n",
              "      <td>345</td>\n",
              "      <td>0.000000</td>\n",
              "      <td>0</td>\n",
              "      <td>0</td>\n",
              "      <td>0</td>\n",
              "    </tr>\n",
              "    <tr>\n",
              "      <th>10128</th>\n",
              "      <td>25.13</td>\n",
              "      <td>25.06</td>\n",
              "      <td>24.69</td>\n",
              "      <td>25.25</td>\n",
              "      <td>6</td>\n",
              "      <td>7</td>\n",
              "      <td>34</td>\n",
              "      <td>22</td>\n",
              "      <td>0.08</td>\n",
              "      <td>0.05</td>\n",
              "      <td>0.06</td>\n",
              "      <td>0.08</td>\n",
              "      <td>345</td>\n",
              "      <td>0.000000</td>\n",
              "      <td>0</td>\n",
              "      <td>0</td>\n",
              "      <td>0</td>\n",
              "    </tr>\n",
              "  </tbody>\n",
              "</table>\n",
              "<p>10129 rows × 17 columns</p>\n",
              "</div>\n",
              "      <button class=\"colab-df-convert\" onclick=\"convertToInteractive('df-e73774b4-378a-4ef6-b208-ad1cdf1ee6a3')\"\n",
              "              title=\"Convert this dataframe to an interactive table.\"\n",
              "              style=\"display:none;\">\n",
              "        \n",
              "  <svg xmlns=\"http://www.w3.org/2000/svg\" height=\"24px\"viewBox=\"0 0 24 24\"\n",
              "       width=\"24px\">\n",
              "    <path d=\"M0 0h24v24H0V0z\" fill=\"none\"/>\n",
              "    <path d=\"M18.56 5.44l.94 2.06.94-2.06 2.06-.94-2.06-.94-.94-2.06-.94 2.06-2.06.94zm-11 1L8.5 8.5l.94-2.06 2.06-.94-2.06-.94L8.5 2.5l-.94 2.06-2.06.94zm10 10l.94 2.06.94-2.06 2.06-.94-2.06-.94-.94-2.06-.94 2.06-2.06.94z\"/><path d=\"M17.41 7.96l-1.37-1.37c-.4-.4-.92-.59-1.43-.59-.52 0-1.04.2-1.43.59L10.3 9.45l-7.72 7.72c-.78.78-.78 2.05 0 2.83L4 21.41c.39.39.9.59 1.41.59.51 0 1.02-.2 1.41-.59l7.78-7.78 2.81-2.81c.8-.78.8-2.07 0-2.86zM5.41 20L4 18.59l7.72-7.72 1.47 1.35L5.41 20z\"/>\n",
              "  </svg>\n",
              "      </button>\n",
              "      \n",
              "  <style>\n",
              "    .colab-df-container {\n",
              "      display:flex;\n",
              "      flex-wrap:wrap;\n",
              "      gap: 12px;\n",
              "    }\n",
              "\n",
              "    .colab-df-convert {\n",
              "      background-color: #E8F0FE;\n",
              "      border: none;\n",
              "      border-radius: 50%;\n",
              "      cursor: pointer;\n",
              "      display: none;\n",
              "      fill: #1967D2;\n",
              "      height: 32px;\n",
              "      padding: 0 0 0 0;\n",
              "      width: 32px;\n",
              "    }\n",
              "\n",
              "    .colab-df-convert:hover {\n",
              "      background-color: #E2EBFA;\n",
              "      box-shadow: 0px 1px 2px rgba(60, 64, 67, 0.3), 0px 1px 3px 1px rgba(60, 64, 67, 0.15);\n",
              "      fill: #174EA6;\n",
              "    }\n",
              "\n",
              "    [theme=dark] .colab-df-convert {\n",
              "      background-color: #3B4455;\n",
              "      fill: #D2E3FC;\n",
              "    }\n",
              "\n",
              "    [theme=dark] .colab-df-convert:hover {\n",
              "      background-color: #434B5C;\n",
              "      box-shadow: 0px 1px 3px 1px rgba(0, 0, 0, 0.15);\n",
              "      filter: drop-shadow(0px 1px 2px rgba(0, 0, 0, 0.3));\n",
              "      fill: #FFFFFF;\n",
              "    }\n",
              "  </style>\n",
              "\n",
              "      <script>\n",
              "        const buttonEl =\n",
              "          document.querySelector('#df-e73774b4-378a-4ef6-b208-ad1cdf1ee6a3 button.colab-df-convert');\n",
              "        buttonEl.style.display =\n",
              "          google.colab.kernel.accessAllowed ? 'block' : 'none';\n",
              "\n",
              "        async function convertToInteractive(key) {\n",
              "          const element = document.querySelector('#df-e73774b4-378a-4ef6-b208-ad1cdf1ee6a3');\n",
              "          const dataTable =\n",
              "            await google.colab.kernel.invokeFunction('convertToInteractive',\n",
              "                                                     [key], {});\n",
              "          if (!dataTable) return;\n",
              "\n",
              "          const docLinkHtml = 'Like what you see? Visit the ' +\n",
              "            '<a target=\"_blank\" href=https://colab.research.google.com/notebooks/data_table.ipynb>data table notebook</a>'\n",
              "            + ' to learn more about interactive tables.';\n",
              "          element.innerHTML = '';\n",
              "          dataTable['output_type'] = 'display_data';\n",
              "          await google.colab.output.renderOutput(dataTable, element);\n",
              "          const docLink = document.createElement('div');\n",
              "          docLink.innerHTML = docLinkHtml;\n",
              "          element.appendChild(docLink);\n",
              "        }\n",
              "      </script>\n",
              "    </div>\n",
              "  </div>\n",
              "  "
            ],
            "text/plain": [
              "       S1_Temp  S2_Temp  S3_Temp  S4_Temp  S1_Light  S2_Light  S3_Light  \\\n",
              "0        24.94    24.75    24.56    25.38       121        34        53   \n",
              "1        24.94    24.75    24.56    25.44       121        33        53   \n",
              "2        25.00    24.75    24.50    25.44       121        34        53   \n",
              "3        25.00    24.75    24.56    25.44       121        34        53   \n",
              "4        25.00    24.75    24.56    25.44       121        34        54   \n",
              "...        ...      ...      ...      ...       ...       ...       ...   \n",
              "10124    25.06    25.13    24.69    25.31         6         7        33   \n",
              "10125    25.06    25.06    24.69    25.25         6         7        34   \n",
              "10126    25.13    25.06    24.69    25.25         6         7        34   \n",
              "10127    25.13    25.06    24.69    25.25         6         7        34   \n",
              "10128    25.13    25.06    24.69    25.25         6         7        34   \n",
              "\n",
              "       S4_Light  S1_Sound  S2_Sound  S3_Sound  S4_Sound  S5_CO2  S5_CO2_Slope  \\\n",
              "0            40      0.08      0.19      0.06      0.06     390      0.769231   \n",
              "1            40      0.93      0.05      0.06      0.06     390      0.646154   \n",
              "2            40      0.43      0.11      0.08      0.06     390      0.519231   \n",
              "3            40      0.41      0.10      0.10      0.09     390      0.388462   \n",
              "4            40      0.18      0.06      0.06      0.06     390      0.253846   \n",
              "...         ...       ...       ...       ...       ...     ...           ...   \n",
              "10124        22      0.09      0.04      0.06      0.08     345      0.000000   \n",
              "10125        22      0.07      0.05      0.05      0.08     345      0.000000   \n",
              "10126        22      0.11      0.05      0.06      0.08     345      0.000000   \n",
              "10127        22      0.08      0.08      0.10      0.08     345      0.000000   \n",
              "10128        22      0.08      0.05      0.06      0.08     345      0.000000   \n",
              "\n",
              "       S6_PIR  S7_PIR  Room_Occupancy_Count  \n",
              "0           0       0                     1  \n",
              "1           0       0                     1  \n",
              "2           0       0                     1  \n",
              "3           0       0                     1  \n",
              "4           0       0                     1  \n",
              "...       ...     ...                   ...  \n",
              "10124       0       0                     0  \n",
              "10125       0       0                     0  \n",
              "10126       0       0                     0  \n",
              "10127       0       0                     0  \n",
              "10128       0       0                     0  \n",
              "\n",
              "[10129 rows x 17 columns]"
            ]
          },
          "execution_count": 6,
          "metadata": {},
          "output_type": "execute_result"
        }
      ],
      "source": [
        "df2 = df.drop(['Date', 'Time'],axis=1)\n",
        "df2"
      ]
    },
    {
      "cell_type": "code",
      "execution_count": null,
      "metadata": {
        "colab": {
          "base_uri": "https://localhost:8080/",
          "height": 1000
        },
        "id": "ro6x7Wa1S-j8",
        "outputId": "ed7abe6c-a2c7-49dd-b2a2-ca9238e40be5"
      },
      "outputs": [
        {
          "data": {
            "text/plain": [
              "<Axes: >"
            ]
          },
          "execution_count": 46,
          "metadata": {},
          "output_type": "execute_result"
        },
        {
          "data": {
            "image/png": "[encoded data removed]",
            "text/plain": [
              "<Figure size 1200x1000 with 2 Axes>"
            ]
          },
          "metadata": {},
          "output_type": "display_data"
        }
      ],
      "source": [
        "correlations = df.corr()\n",
        "#heatmap of correlations between figures\n",
        "plt.figure(figsize = (12,10))\n",
        "sns.heatmap(correlations, cmap= 'coolwarm', annot = True)"
      ]
    },
    {
      "cell_type": "markdown",
      "metadata": {
        "id": "RrRZw_9KapeW"
      },
      "source": [
        "## Scaling"
      ]
    },
    {
      "cell_type": "code",
      "execution_count": null,
      "metadata": {
        "colab": {
          "base_uri": "https://localhost:8080/",
          "height": 424
        },
        "id": "gjFFL7lc0dMU",
        "outputId": "86c68d56-ddd7-476c-843a-012239dfae5b"
      },
      "outputs": [
        {
          "output_type": "execute_result",
          "data": {
            "text/plain": [
              "        S1_Temp   S2_Temp   S3_Temp   S4_Temp  S1_Light  S2_Light  S3_Light  \\\n",
              "0      0.000000  0.000000  0.068571  0.271605  0.733333  0.131783  0.189286   \n",
              "1      0.000000  0.000000  0.068571  0.308642  0.733333  0.127907  0.189286   \n",
              "2      0.041667  0.000000  0.034286  0.308642  0.733333  0.131783  0.189286   \n",
              "3      0.041667  0.000000  0.068571  0.308642  0.733333  0.131783  0.189286   \n",
              "4      0.041667  0.000000  0.068571  0.308642  0.733333  0.131783  0.192857   \n",
              "...         ...       ...       ...       ...       ...       ...       ...   \n",
              "10124  0.083333  0.089412  0.142857  0.228395  0.036364  0.027132  0.117857   \n",
              "10125  0.083333  0.072941  0.142857  0.191358  0.036364  0.027132  0.121429   \n",
              "10126  0.131944  0.072941  0.142857  0.191358  0.036364  0.027132  0.121429   \n",
              "10127  0.131944  0.072941  0.142857  0.191358  0.036364  0.027132  0.121429   \n",
              "10128  0.131944  0.072941  0.142857  0.191358  0.036364  0.027132  0.121429   \n",
              "\n",
              "       S4_Light  S1_Sound  S2_Sound  S3_Sound  S4_Sound    S5_CO2  \\\n",
              "0      0.540541  0.005236  0.044118  0.005510  0.002985  0.048649   \n",
              "1      0.540541  0.227749  0.002941  0.005510  0.002985  0.048649   \n",
              "2      0.540541  0.096859  0.020588  0.011019  0.002985  0.048649   \n",
              "3      0.540541  0.091623  0.017647  0.016529  0.011940  0.048649   \n",
              "4      0.540541  0.031414  0.005882  0.005510  0.002985  0.048649   \n",
              "...         ...       ...       ...       ...       ...       ...   \n",
              "10124  0.297297  0.007853  0.000000  0.005510  0.008955  0.000000   \n",
              "10125  0.297297  0.002618  0.002941  0.002755  0.008955  0.000000   \n",
              "10126  0.297297  0.013089  0.002941  0.005510  0.008955  0.000000   \n",
              "10127  0.297297  0.005236  0.011765  0.016529  0.008955  0.000000   \n",
              "10128  0.297297  0.005236  0.002941  0.005510  0.008955  0.000000   \n",
              "\n",
              "       S5_CO2_Slope  S6_PIR  S7_PIR  \n",
              "0          0.462487     0.0     0.0  \n",
              "1          0.454431     0.0     0.0  \n",
              "2          0.446123     0.0     0.0  \n",
              "3          0.437563     0.0     0.0  \n",
              "4          0.428751     0.0     0.0  \n",
              "...             ...     ...     ...  \n",
              "10124      0.412135     0.0     0.0  \n",
              "10125      0.412135     0.0     0.0  \n",
              "10126      0.412135     0.0     0.0  \n",
              "10127      0.412135     0.0     0.0  \n",
              "10128      0.412135     0.0     0.0  \n",
              "\n",
              "[10129 rows x 16 columns]"
            ],
            "text/html": [
              "\n",
              "  <div id=\"df-56b49387-6bd0-4c28-92de-836ccc02ac7e\">\n",
              "    <div class=\"colab-df-container\">\n",
              "      <div>\n",
              "<style scoped>\n",
              "    .dataframe tbody tr th:only-of-type {\n",
              "        vertical-align: middle;\n",
              "    }\n",
              "\n",
              "    .dataframe tbody tr th {\n",
              "        vertical-align: top;\n",
              "    }\n",
              "\n",
              "    .dataframe thead th {\n",
              "        text-align: right;\n",
              "    }\n",
              "</style>\n",
              "<table border=\"1\" class=\"dataframe\">\n",
              "  <thead>\n",
              "    <tr style=\"text-align: right;\">\n",
              "      <th></th>\n",
              "      <th>S1_Temp</th>\n",
              "      <th>S2_Temp</th>\n",
              "      <th>S3_Temp</th>\n",
              "      <th>S4_Temp</th>\n",
              "      <th>S1_Light</th>\n",
              "      <th>S2_Light</th>\n",
              "      <th>S3_Light</th>\n",
              "      <th>S4_Light</th>\n",
              "      <th>S1_Sound</th>\n",
              "      <th>S2_Sound</th>\n",
              "      <th>S3_Sound</th>\n",
              "      <th>S4_Sound</th>\n",
              "      <th>S5_CO2</th>\n",
              "      <th>S5_CO2_Slope</th>\n",
              "      <th>S6_PIR</th>\n",
              "      <th>S7_PIR</th>\n",
              "    </tr>\n",
              "  </thead>\n",
              "  <tbody>\n",
              "    <tr>\n",
              "      <th>0</th>\n",
              "      <td>0.000000</td>\n",
              "      <td>0.000000</td>\n",
              "      <td>0.068571</td>\n",
              "      <td>0.271605</td>\n",
              "      <td>0.733333</td>\n",
              "      <td>0.131783</td>\n",
              "      <td>0.189286</td>\n",
              "      <td>0.540541</td>\n",
              "      <td>0.005236</td>\n",
              "      <td>0.044118</td>\n",
              "      <td>0.005510</td>\n",
              "      <td>0.002985</td>\n",
              "      <td>0.048649</td>\n",
              "      <td>0.462487</td>\n",
              "      <td>0.0</td>\n",
              "      <td>0.0</td>\n",
              "    </tr>\n",
              "    <tr>\n",
              "      <th>1</th>\n",
              "      <td>0.000000</td>\n",
              "      <td>0.000000</td>\n",
              "      <td>0.068571</td>\n",
              "      <td>0.308642</td>\n",
              "      <td>0.733333</td>\n",
              "      <td>0.127907</td>\n",
              "      <td>0.189286</td>\n",
              "      <td>0.540541</td>\n",
              "      <td>0.227749</td>\n",
              "      <td>0.002941</td>\n",
              "      <td>0.005510</td>\n",
              "      <td>0.002985</td>\n",
              "      <td>0.048649</td>\n",
              "      <td>0.454431</td>\n",
              "      <td>0.0</td>\n",
              "      <td>0.0</td>\n",
              "    </tr>\n",
              "    <tr>\n",
              "      <th>2</th>\n",
              "      <td>0.041667</td>\n",
              "      <td>0.000000</td>\n",
              "      <td>0.034286</td>\n",
              "      <td>0.308642</td>\n",
              "      <td>0.733333</td>\n",
              "      <td>0.131783</td>\n",
              "      <td>0.189286</td>\n",
              "      <td>0.540541</td>\n",
              "      <td>0.096859</td>\n",
              "      <td>0.020588</td>\n",
              "      <td>0.011019</td>\n",
              "      <td>0.002985</td>\n",
              "      <td>0.048649</td>\n",
              "      <td>0.446123</td>\n",
              "      <td>0.0</td>\n",
              "      <td>0.0</td>\n",
              "    </tr>\n",
              "    <tr>\n",
              "      <th>3</th>\n",
              "      <td>0.041667</td>\n",
              "      <td>0.000000</td>\n",
              "      <td>0.068571</td>\n",
              "      <td>0.308642</td>\n",
              "      <td>0.733333</td>\n",
              "      <td>0.131783</td>\n",
              "      <td>0.189286</td>\n",
              "      <td>0.540541</td>\n",
              "      <td>0.091623</td>\n",
              "      <td>0.017647</td>\n",
              "      <td>0.016529</td>\n",
              "      <td>0.011940</td>\n",
              "      <td>0.048649</td>\n",
              "      <td>0.437563</td>\n",
              "      <td>0.0</td>\n",
              "      <td>0.0</td>\n",
              "    </tr>\n",
              "    <tr>\n",
              "      <th>4</th>\n",
              "      <td>0.041667</td>\n",
              "      <td>0.000000</td>\n",
              "      <td>0.068571</td>\n",
              "      <td>0.308642</td>\n",
              "      <td>0.733333</td>\n",
              "      <td>0.131783</td>\n",
              "      <td>0.192857</td>\n",
              "      <td>0.540541</td>\n",
              "      <td>0.031414</td>\n",
              "      <td>0.005882</td>\n",
              "      <td>0.005510</td>\n",
              "      <td>0.002985</td>\n",
              "      <td>0.048649</td>\n",
              "      <td>0.428751</td>\n",
              "      <td>0.0</td>\n",
              "      <td>0.0</td>\n",
              "    </tr>\n",
              "    <tr>\n",
              "      <th>...</th>\n",
              "      <td>...</td>\n",
              "      <td>...</td>\n",
              "      <td>...</td>\n",
              "      <td>...</td>\n",
              "      <td>...</td>\n",
              "      <td>...</td>\n",
              "      <td>...</td>\n",
              "      <td>...</td>\n",
              "      <td>...</td>\n",
              "      <td>...</td>\n",
              "      <td>...</td>\n",
              "      <td>...</td>\n",
              "      <td>...</td>\n",
              "      <td>...</td>\n",
              "      <td>...</td>\n",
              "      <td>...</td>\n",
              "    </tr>\n",
              "    <tr>\n",
              "      <th>10124</th>\n",
              "      <td>0.083333</td>\n",
              "      <td>0.089412</td>\n",
              "      <td>0.142857</td>\n",
              "      <td>0.228395</td>\n",
              "      <td>0.036364</td>\n",
              "      <td>0.027132</td>\n",
              "      <td>0.117857</td>\n",
              "      <td>0.297297</td>\n",
              "      <td>0.007853</td>\n",
              "      <td>0.000000</td>\n",
              "      <td>0.005510</td>\n",
              "      <td>0.008955</td>\n",
              "      <td>0.000000</td>\n",
              "      <td>0.412135</td>\n",
              "      <td>0.0</td>\n",
              "      <td>0.0</td>\n",
              "    </tr>\n",
              "    <tr>\n",
              "      <th>10125</th>\n",
              "      <td>0.083333</td>\n",
              "      <td>0.072941</td>\n",
              "      <td>0.142857</td>\n",
              "      <td>0.191358</td>\n",
              "      <td>0.036364</td>\n",
              "      <td>0.027132</td>\n",
              "      <td>0.121429</td>\n",
              "      <td>0.297297</td>\n",
              "      <td>0.002618</td>\n",
              "      <td>0.002941</td>\n",
              "      <td>0.002755</td>\n",
              "      <td>0.008955</td>\n",
              "      <td>0.000000</td>\n",
              "      <td>0.412135</td>\n",
              "      <td>0.0</td>\n",
              "      <td>0.0</td>\n",
              "    </tr>\n",
              "    <tr>\n",
              "      <th>10126</th>\n",
              "      <td>0.131944</td>\n",
              "      <td>0.072941</td>\n",
              "      <td>0.142857</td>\n",
              "      <td>0.191358</td>\n",
              "      <td>0.036364</td>\n",
              "      <td>0.027132</td>\n",
              "      <td>0.121429</td>\n",
              "      <td>0.297297</td>\n",
              "      <td>0.013089</td>\n",
              "      <td>0.002941</td>\n",
              "      <td>0.005510</td>\n",
              "      <td>0.008955</td>\n",
              "      <td>0.000000</td>\n",
              "      <td>0.412135</td>\n",
              "      <td>0.0</td>\n",
              "      <td>0.0</td>\n",
              "    </tr>\n",
              "    <tr>\n",
              "      <th>10127</th>\n",
              "      <td>0.131944</td>\n",
              "      <td>0.072941</td>\n",
              "      <td>0.142857</td>\n",
              "      <td>0.191358</td>\n",
              "      <td>0.036364</td>\n",
              "      <td>0.027132</td>\n",
              "      <td>0.121429</td>\n",
              "      <td>0.297297</td>\n",
              "      <td>0.005236</td>\n",
              "      <td>0.011765</td>\n",
              "      <td>0.016529</td>\n",
              "      <td>0.008955</td>\n",
              "      <td>0.000000</td>\n",
              "      <td>0.412135</td>\n",
              "      <td>0.0</td>\n",
              "      <td>0.0</td>\n",
              "    </tr>\n",
              "    <tr>\n",
              "      <th>10128</th>\n",
              "      <td>0.131944</td>\n",
              "      <td>0.072941</td>\n",
              "      <td>0.142857</td>\n",
              "      <td>0.191358</td>\n",
              "      <td>0.036364</td>\n",
              "      <td>0.027132</td>\n",
              "      <td>0.121429</td>\n",
              "      <td>0.297297</td>\n",
              "      <td>0.005236</td>\n",
              "      <td>0.002941</td>\n",
              "      <td>0.005510</td>\n",
              "      <td>0.008955</td>\n",
              "      <td>0.000000</td>\n",
              "      <td>0.412135</td>\n",
              "      <td>0.0</td>\n",
              "      <td>0.0</td>\n",
              "    </tr>\n",
              "  </tbody>\n",
              "</table>\n",
              "<p>10129 rows × 16 columns</p>\n",
              "</div>\n",
              "      <button class=\"colab-df-convert\" onclick=\"convertToInteractive('df-56b49387-6bd0-4c28-92de-836ccc02ac7e')\"\n",
              "              title=\"Convert this dataframe to an interactive table.\"\n",
              "              style=\"display:none;\">\n",
              "        \n",
              "  <svg xmlns=\"http://www.w3.org/2000/svg\" height=\"24px\"viewBox=\"0 0 24 24\"\n",
              "       width=\"24px\">\n",
              "    <path d=\"M0 0h24v24H0V0z\" fill=\"none\"/>\n",
              "    <path d=\"M18.56 5.44l.94 2.06.94-2.06 2.06-.94-2.06-.94-.94-2.06-.94 2.06-2.06.94zm-11 1L8.5 8.5l.94-2.06 2.06-.94-2.06-.94L8.5 2.5l-.94 2.06-2.06.94zm10 10l.94 2.06.94-2.06 2.06-.94-2.06-.94-.94-2.06-.94 2.06-2.06.94z\"/><path d=\"M17.41 7.96l-1.37-1.37c-.4-.4-.92-.59-1.43-.59-.52 0-1.04.2-1.43.59L10.3 9.45l-7.72 7.72c-.78.78-.78 2.05 0 2.83L4 21.41c.39.39.9.59 1.41.59.51 0 1.02-.2 1.41-.59l7.78-7.78 2.81-2.81c.8-.78.8-2.07 0-2.86zM5.41 20L4 18.59l7.72-7.72 1.47 1.35L5.41 20z\"/>\n",
              "  </svg>\n",
              "      </button>\n",
              "      \n",
              "  <style>\n",
              "    .colab-df-container {\n",
              "      display:flex;\n",
              "      flex-wrap:wrap;\n",
              "      gap: 12px;\n",
              "    }\n",
              "\n",
              "    .colab-df-convert {\n",
              "      background-color: #E8F0FE;\n",
              "      border: none;\n",
              "      border-radius: 50%;\n",
              "      cursor: pointer;\n",
              "      display: none;\n",
              "      fill: #1967D2;\n",
              "      height: 32px;\n",
              "      padding: 0 0 0 0;\n",
              "      width: 32px;\n",
              "    }\n",
              "\n",
              "    .colab-df-convert:hover {\n",
              "      background-color: #E2EBFA;\n",
              "      box-shadow: 0px 1px 2px rgba(60, 64, 67, 0.3), 0px 1px 3px 1px rgba(60, 64, 67, 0.15);\n",
              "      fill: #174EA6;\n",
              "    }\n",
              "\n",
              "    [theme=dark] .colab-df-convert {\n",
              "      background-color: #3B4455;\n",
              "      fill: #D2E3FC;\n",
              "    }\n",
              "\n",
              "    [theme=dark] .colab-df-convert:hover {\n",
              "      background-color: #434B5C;\n",
              "      box-shadow: 0px 1px 3px 1px rgba(0, 0, 0, 0.15);\n",
              "      filter: drop-shadow(0px 1px 2px rgba(0, 0, 0, 0.3));\n",
              "      fill: #FFFFFF;\n",
              "    }\n",
              "  </style>\n",
              "\n",
              "      <script>\n",
              "        const buttonEl =\n",
              "          document.querySelector('#df-56b49387-6bd0-4c28-92de-836ccc02ac7e button.colab-df-convert');\n",
              "        buttonEl.style.display =\n",
              "          google.colab.kernel.accessAllowed ? 'block' : 'none';\n",
              "\n",
              "        async function convertToInteractive(key) {\n",
              "          const element = document.querySelector('#df-56b49387-6bd0-4c28-92de-836ccc02ac7e');\n",
              "          const dataTable =\n",
              "            await google.colab.kernel.invokeFunction('convertToInteractive',\n",
              "                                                     [key], {});\n",
              "          if (!dataTable) return;\n",
              "\n",
              "          const docLinkHtml = 'Like what you see? Visit the ' +\n",
              "            '<a target=\"_blank\" href=https://colab.research.google.com/notebooks/data_table.ipynb>data table notebook</a>'\n",
              "            + ' to learn more about interactive tables.';\n",
              "          element.innerHTML = '';\n",
              "          dataTable['output_type'] = 'display_data';\n",
              "          await google.colab.output.renderOutput(dataTable, element);\n",
              "          const docLink = document.createElement('div');\n",
              "          docLink.innerHTML = docLinkHtml;\n",
              "          element.appendChild(docLink);\n",
              "        }\n",
              "      </script>\n",
              "    </div>\n",
              "  </div>\n",
              "  "
            ]
          },
          "metadata": {},
          "execution_count": 6
        }
      ],
      "source": [
        "df2 = df.drop(['Date', 'Time'],axis=1)\n",
        "#seperate labels\n",
        "labels = df2['Room_Occupancy_Count']\n",
        "# copy the data\n",
        "df_min_max_scaled = df2.copy()\n",
        "  \n",
        "# apply normalization techniques\n",
        "for column in df_min_max_scaled.columns:\n",
        "    df_min_max_scaled[column] = (df_min_max_scaled[column] - df_min_max_scaled[column].min()) / (df_min_max_scaled[column].max() - df_min_max_scaled[column].min())    \n",
        "  \n",
        "\n",
        "#drop labels\n",
        "df_min_max_scaled = df_min_max_scaled.drop(['Room_Occupancy_Count'],axis=1)\n",
        "# view normalized data\n",
        "df_min_max_scaled"
      ]
    },
    {
      "cell_type": "markdown",
      "metadata": {
        "id": "h3zXma5ZTail"
      },
      "source": [
        "## Train/Test Split"
      ]
    },
    {
      "cell_type": "code",
      "execution_count": null,
      "metadata": {
        "id": "qoqBCWGcTc9f"
      },
      "outputs": [],
      "source": [
        "\n",
        "train_features, test_features, train_labels, test_labels = train_test_split(df_min_max_scaled, labels, test_size = 0.25, random_state = 42)"
      ]
    },
    {
      "cell_type": "markdown",
      "metadata": {
        "id": "-05PXg6STMy6"
      },
      "source": [
        "## Testing Merging"
      ]
    },
    {
      "cell_type": "code",
      "execution_count": null,
      "metadata": {
        "colab": {
          "base_uri": "https://localhost:8080/",
          "height": 424
        },
        "id": "PXpnD3y62q5p",
        "outputId": "8a167e3f-1183-4aaa-b473-58f7ef28c4cf"
      },
      "outputs": [
        {
          "data": {
            "text/html": [
              "\n",
              "  <div id=\"df-c0085af4-c733-4b57-be88-aaf6fe8ce3a3\">\n",
              "    <div class=\"colab-df-container\">\n",
              "      <div>\n",
              "<style scoped>\n",
              "    .dataframe tbody tr th:only-of-type {\n",
              "        vertical-align: middle;\n",
              "    }\n",
              "\n",
              "    .dataframe tbody tr th {\n",
              "        vertical-align: top;\n",
              "    }\n",
              "\n",
              "    .dataframe thead th {\n",
              "        text-align: right;\n",
              "    }\n",
              "</style>\n",
              "<table border=\"1\" class=\"dataframe\">\n",
              "  <thead>\n",
              "    <tr style=\"text-align: right;\">\n",
              "      <th></th>\n",
              "      <th>Date</th>\n",
              "      <th>Time</th>\n",
              "      <th>S1_Temp</th>\n",
              "      <th>S2_Temp</th>\n",
              "      <th>S3_Temp</th>\n",
              "      <th>S4_Temp</th>\n",
              "      <th>S1_Light</th>\n",
              "      <th>S2_Light</th>\n",
              "      <th>S3_Light</th>\n",
              "      <th>S4_Light</th>\n",
              "      <th>...</th>\n",
              "      <th>S2_Sound</th>\n",
              "      <th>S3_Sound</th>\n",
              "      <th>S4_Sound</th>\n",
              "      <th>S5_CO2</th>\n",
              "      <th>S5_CO2_Slope</th>\n",
              "      <th>S6_PIR</th>\n",
              "      <th>S7_PIR</th>\n",
              "      <th>Room_Occupancy_Count</th>\n",
              "      <th>average_temp</th>\n",
              "      <th>average_light</th>\n",
              "    </tr>\n",
              "  </thead>\n",
              "  <tbody>\n",
              "    <tr>\n",
              "      <th>0</th>\n",
              "      <td>2017/12/22</td>\n",
              "      <td>10:49:41</td>\n",
              "      <td>24.94</td>\n",
              "      <td>24.75</td>\n",
              "      <td>24.56</td>\n",
              "      <td>25.38</td>\n",
              "      <td>121</td>\n",
              "      <td>34</td>\n",
              "      <td>53</td>\n",
              "      <td>40</td>\n",
              "      <td>...</td>\n",
              "      <td>0.19</td>\n",
              "      <td>0.06</td>\n",
              "      <td>0.06</td>\n",
              "      <td>390</td>\n",
              "      <td>0.769231</td>\n",
              "      <td>0</td>\n",
              "      <td>0</td>\n",
              "      <td>1</td>\n",
              "      <td>24.9075</td>\n",
              "      <td>62.00</td>\n",
              "    </tr>\n",
              "    <tr>\n",
              "      <th>1</th>\n",
              "      <td>2017/12/22</td>\n",
              "      <td>10:50:12</td>\n",
              "      <td>24.94</td>\n",
              "      <td>24.75</td>\n",
              "      <td>24.56</td>\n",
              "      <td>25.44</td>\n",
              "      <td>121</td>\n",
              "      <td>33</td>\n",
              "      <td>53</td>\n",
              "      <td>40</td>\n",
              "      <td>...</td>\n",
              "      <td>0.05</td>\n",
              "      <td>0.06</td>\n",
              "      <td>0.06</td>\n",
              "      <td>390</td>\n",
              "      <td>0.646154</td>\n",
              "      <td>0</td>\n",
              "      <td>0</td>\n",
              "      <td>1</td>\n",
              "      <td>24.9225</td>\n",
              "      <td>61.75</td>\n",
              "    </tr>\n",
              "    <tr>\n",
              "      <th>2</th>\n",
              "      <td>2017/12/22</td>\n",
              "      <td>10:50:42</td>\n",
              "      <td>25.00</td>\n",
              "      <td>24.75</td>\n",
              "      <td>24.50</td>\n",
              "      <td>25.44</td>\n",
              "      <td>121</td>\n",
              "      <td>34</td>\n",
              "      <td>53</td>\n",
              "      <td>40</td>\n",
              "      <td>...</td>\n",
              "      <td>0.11</td>\n",
              "      <td>0.08</td>\n",
              "      <td>0.06</td>\n",
              "      <td>390</td>\n",
              "      <td>0.519231</td>\n",
              "      <td>0</td>\n",
              "      <td>0</td>\n",
              "      <td>1</td>\n",
              "      <td>24.9225</td>\n",
              "      <td>62.00</td>\n",
              "    </tr>\n",
              "    <tr>\n",
              "      <th>3</th>\n",
              "      <td>2017/12/22</td>\n",
              "      <td>10:51:13</td>\n",
              "      <td>25.00</td>\n",
              "      <td>24.75</td>\n",
              "      <td>24.56</td>\n",
              "      <td>25.44</td>\n",
              "      <td>121</td>\n",
              "      <td>34</td>\n",
              "      <td>53</td>\n",
              "      <td>40</td>\n",
              "      <td>...</td>\n",
              "      <td>0.10</td>\n",
              "      <td>0.10</td>\n",
              "      <td>0.09</td>\n",
              "      <td>390</td>\n",
              "      <td>0.388462</td>\n",
              "      <td>0</td>\n",
              "      <td>0</td>\n",
              "      <td>1</td>\n",
              "      <td>24.9375</td>\n",
              "      <td>62.00</td>\n",
              "    </tr>\n",
              "    <tr>\n",
              "      <th>4</th>\n",
              "      <td>2017/12/22</td>\n",
              "      <td>10:51:44</td>\n",
              "      <td>25.00</td>\n",
              "      <td>24.75</td>\n",
              "      <td>24.56</td>\n",
              "      <td>25.44</td>\n",
              "      <td>121</td>\n",
              "      <td>34</td>\n",
              "      <td>54</td>\n",
              "      <td>40</td>\n",
              "      <td>...</td>\n",
              "      <td>0.06</td>\n",
              "      <td>0.06</td>\n",
              "      <td>0.06</td>\n",
              "      <td>390</td>\n",
              "      <td>0.253846</td>\n",
              "      <td>0</td>\n",
              "      <td>0</td>\n",
              "      <td>1</td>\n",
              "      <td>24.9375</td>\n",
              "      <td>62.25</td>\n",
              "    </tr>\n",
              "    <tr>\n",
              "      <th>...</th>\n",
              "      <td>...</td>\n",
              "      <td>...</td>\n",
              "      <td>...</td>\n",
              "      <td>...</td>\n",
              "      <td>...</td>\n",
              "      <td>...</td>\n",
              "      <td>...</td>\n",
              "      <td>...</td>\n",
              "      <td>...</td>\n",
              "      <td>...</td>\n",
              "      <td>...</td>\n",
              "      <td>...</td>\n",
              "      <td>...</td>\n",
              "      <td>...</td>\n",
              "      <td>...</td>\n",
              "      <td>...</td>\n",
              "      <td>...</td>\n",
              "      <td>...</td>\n",
              "      <td>...</td>\n",
              "      <td>...</td>\n",
              "      <td>...</td>\n",
              "    </tr>\n",
              "    <tr>\n",
              "      <th>10124</th>\n",
              "      <td>2018/01/11</td>\n",
              "      <td>08:58:07</td>\n",
              "      <td>25.06</td>\n",
              "      <td>25.13</td>\n",
              "      <td>24.69</td>\n",
              "      <td>25.31</td>\n",
              "      <td>6</td>\n",
              "      <td>7</td>\n",
              "      <td>33</td>\n",
              "      <td>22</td>\n",
              "      <td>...</td>\n",
              "      <td>0.04</td>\n",
              "      <td>0.06</td>\n",
              "      <td>0.08</td>\n",
              "      <td>345</td>\n",
              "      <td>0.000000</td>\n",
              "      <td>0</td>\n",
              "      <td>0</td>\n",
              "      <td>0</td>\n",
              "      <td>25.0475</td>\n",
              "      <td>17.00</td>\n",
              "    </tr>\n",
              "    <tr>\n",
              "      <th>10125</th>\n",
              "      <td>2018/01/11</td>\n",
              "      <td>08:58:37</td>\n",
              "      <td>25.06</td>\n",
              "      <td>25.06</td>\n",
              "      <td>24.69</td>\n",
              "      <td>25.25</td>\n",
              "      <td>6</td>\n",
              "      <td>7</td>\n",
              "      <td>34</td>\n",
              "      <td>22</td>\n",
              "      <td>...</td>\n",
              "      <td>0.05</td>\n",
              "      <td>0.05</td>\n",
              "      <td>0.08</td>\n",
              "      <td>345</td>\n",
              "      <td>0.000000</td>\n",
              "      <td>0</td>\n",
              "      <td>0</td>\n",
              "      <td>0</td>\n",
              "      <td>25.0150</td>\n",
              "      <td>17.25</td>\n",
              "    </tr>\n",
              "    <tr>\n",
              "      <th>10126</th>\n",
              "      <td>2018/01/11</td>\n",
              "      <td>08:59:08</td>\n",
              "      <td>25.13</td>\n",
              "      <td>25.06</td>\n",
              "      <td>24.69</td>\n",
              "      <td>25.25</td>\n",
              "      <td>6</td>\n",
              "      <td>7</td>\n",
              "      <td>34</td>\n",
              "      <td>22</td>\n",
              "      <td>...</td>\n",
              "      <td>0.05</td>\n",
              "      <td>0.06</td>\n",
              "      <td>0.08</td>\n",
              "      <td>345</td>\n",
              "      <td>0.000000</td>\n",
              "      <td>0</td>\n",
              "      <td>0</td>\n",
              "      <td>0</td>\n",
              "      <td>25.0325</td>\n",
              "      <td>17.25</td>\n",
              "    </tr>\n",
              "    <tr>\n",
              "      <th>10127</th>\n",
              "      <td>2018/01/11</td>\n",
              "      <td>08:59:39</td>\n",
              "      <td>25.13</td>\n",
              "      <td>25.06</td>\n",
              "      <td>24.69</td>\n",
              "      <td>25.25</td>\n",
              "      <td>6</td>\n",
              "      <td>7</td>\n",
              "      <td>34</td>\n",
              "      <td>22</td>\n",
              "      <td>...</td>\n",
              "      <td>0.08</td>\n",
              "      <td>0.10</td>\n",
              "      <td>0.08</td>\n",
              "      <td>345</td>\n",
              "      <td>0.000000</td>\n",
              "      <td>0</td>\n",
              "      <td>0</td>\n",
              "      <td>0</td>\n",
              "      <td>25.0325</td>\n",
              "      <td>17.25</td>\n",
              "    </tr>\n",
              "    <tr>\n",
              "      <th>10128</th>\n",
              "      <td>2018/01/11</td>\n",
              "      <td>09:00:09</td>\n",
              "      <td>25.13</td>\n",
              "      <td>25.06</td>\n",
              "      <td>24.69</td>\n",
              "      <td>25.25</td>\n",
              "      <td>6</td>\n",
              "      <td>7</td>\n",
              "      <td>34</td>\n",
              "      <td>22</td>\n",
              "      <td>...</td>\n",
              "      <td>0.05</td>\n",
              "      <td>0.06</td>\n",
              "      <td>0.08</td>\n",
              "      <td>345</td>\n",
              "      <td>0.000000</td>\n",
              "      <td>0</td>\n",
              "      <td>0</td>\n",
              "      <td>0</td>\n",
              "      <td>25.0325</td>\n",
              "      <td>17.25</td>\n",
              "    </tr>\n",
              "  </tbody>\n",
              "</table>\n",
              "<p>10129 rows × 21 columns</p>\n",
              "</div>\n",
              "      <button class=\"colab-df-convert\" onclick=\"convertToInteractive('df-c0085af4-c733-4b57-be88-aaf6fe8ce3a3')\"\n",
              "              title=\"Convert this dataframe to an interactive table.\"\n",
              "              style=\"display:none;\">\n",
              "        \n",
              "  <svg xmlns=\"http://www.w3.org/2000/svg\" height=\"24px\"viewBox=\"0 0 24 24\"\n",
              "       width=\"24px\">\n",
              "    <path d=\"M0 0h24v24H0V0z\" fill=\"none\"/>\n",
              "    <path d=\"M18.56 5.44l.94 2.06.94-2.06 2.06-.94-2.06-.94-.94-2.06-.94 2.06-2.06.94zm-11 1L8.5 8.5l.94-2.06 2.06-.94-2.06-.94L8.5 2.5l-.94 2.06-2.06.94zm10 10l.94 2.06.94-2.06 2.06-.94-2.06-.94-.94-2.06-.94 2.06-2.06.94z\"/><path d=\"M17.41 7.96l-1.37-1.37c-.4-.4-.92-.59-1.43-.59-.52 0-1.04.2-1.43.59L10.3 9.45l-7.72 7.72c-.78.78-.78 2.05 0 2.83L4 21.41c.39.39.9.59 1.41.59.51 0 1.02-.2 1.41-.59l7.78-7.78 2.81-2.81c.8-.78.8-2.07 0-2.86zM5.41 20L4 18.59l7.72-7.72 1.47 1.35L5.41 20z\"/>\n",
              "  </svg>\n",
              "      </button>\n",
              "      \n",
              "  <style>\n",
              "    .colab-df-container {\n",
              "      display:flex;\n",
              "      flex-wrap:wrap;\n",
              "      gap: 12px;\n",
              "    }\n",
              "\n",
              "    .colab-df-convert {\n",
              "      background-color: #E8F0FE;\n",
              "      border: none;\n",
              "      border-radius: 50%;\n",
              "      cursor: pointer;\n",
              "      display: none;\n",
              "      fill: #1967D2;\n",
              "      height: 32px;\n",
              "      padding: 0 0 0 0;\n",
              "      width: 32px;\n",
              "    }\n",
              "\n",
              "    .colab-df-convert:hover {\n",
              "      background-color: #E2EBFA;\n",
              "      box-shadow: 0px 1px 2px rgba(60, 64, 67, 0.3), 0px 1px 3px 1px rgba(60, 64, 67, 0.15);\n",
              "      fill: #174EA6;\n",
              "    }\n",
              "\n",
              "    [theme=dark] .colab-df-convert {\n",
              "      background-color: #3B4455;\n",
              "      fill: #D2E3FC;\n",
              "    }\n",
              "\n",
              "    [theme=dark] .colab-df-convert:hover {\n",
              "      background-color: #434B5C;\n",
              "      box-shadow: 0px 1px 3px 1px rgba(0, 0, 0, 0.15);\n",
              "      filter: drop-shadow(0px 1px 2px rgba(0, 0, 0, 0.3));\n",
              "      fill: #FFFFFF;\n",
              "    }\n",
              "  </style>\n",
              "\n",
              "      <script>\n",
              "        const buttonEl =\n",
              "          document.querySelector('#df-c0085af4-c733-4b57-be88-aaf6fe8ce3a3 button.colab-df-convert');\n",
              "        buttonEl.style.display =\n",
              "          google.colab.kernel.accessAllowed ? 'block' : 'none';\n",
              "\n",
              "        async function convertToInteractive(key) {\n",
              "          const element = document.querySelector('#df-c0085af4-c733-4b57-be88-aaf6fe8ce3a3');\n",
              "          const dataTable =\n",
              "            await google.colab.kernel.invokeFunction('convertToInteractive',\n",
              "                                                     [key], {});\n",
              "          if (!dataTable) return;\n",
              "\n",
              "          const docLinkHtml = 'Like what you see? Visit the ' +\n",
              "            '<a target=\"_blank\" href=https://colab.research.google.com/notebooks/data_table.ipynb>data table notebook</a>'\n",
              "            + ' to learn more about interactive tables.';\n",
              "          element.innerHTML = '';\n",
              "          dataTable['output_type'] = 'display_data';\n",
              "          await google.colab.output.renderOutput(dataTable, element);\n",
              "          const docLink = document.createElement('div');\n",
              "          docLink.innerHTML = docLinkHtml;\n",
              "          element.appendChild(docLink);\n",
              "        }\n",
              "      </script>\n",
              "    </div>\n",
              "  </div>\n",
              "  "
            ],
            "text/plain": [
              "             Date      Time  S1_Temp  S2_Temp  S3_Temp  S4_Temp  S1_Light  \\\n",
              "0      2017/12/22  10:49:41    24.94    24.75    24.56    25.38       121   \n",
              "1      2017/12/22  10:50:12    24.94    24.75    24.56    25.44       121   \n",
              "2      2017/12/22  10:50:42    25.00    24.75    24.50    25.44       121   \n",
              "3      2017/12/22  10:51:13    25.00    24.75    24.56    25.44       121   \n",
              "4      2017/12/22  10:51:44    25.00    24.75    24.56    25.44       121   \n",
              "...           ...       ...      ...      ...      ...      ...       ...   \n",
              "10124  2018/01/11  08:58:07    25.06    25.13    24.69    25.31         6   \n",
              "10125  2018/01/11  08:58:37    25.06    25.06    24.69    25.25         6   \n",
              "10126  2018/01/11  08:59:08    25.13    25.06    24.69    25.25         6   \n",
              "10127  2018/01/11  08:59:39    25.13    25.06    24.69    25.25         6   \n",
              "10128  2018/01/11  09:00:09    25.13    25.06    24.69    25.25         6   \n",
              "\n",
              "       S2_Light  S3_Light  S4_Light  ...  S2_Sound  S3_Sound  S4_Sound  \\\n",
              "0            34        53        40  ...      0.19      0.06      0.06   \n",
              "1            33        53        40  ...      0.05      0.06      0.06   \n",
              "2            34        53        40  ...      0.11      0.08      0.06   \n",
              "3            34        53        40  ...      0.10      0.10      0.09   \n",
              "4            34        54        40  ...      0.06      0.06      0.06   \n",
              "...         ...       ...       ...  ...       ...       ...       ...   \n",
              "10124         7        33        22  ...      0.04      0.06      0.08   \n",
              "10125         7        34        22  ...      0.05      0.05      0.08   \n",
              "10126         7        34        22  ...      0.05      0.06      0.08   \n",
              "10127         7        34        22  ...      0.08      0.10      0.08   \n",
              "10128         7        34        22  ...      0.05      0.06      0.08   \n",
              "\n",
              "       S5_CO2  S5_CO2_Slope  S6_PIR  S7_PIR  Room_Occupancy_Count  \\\n",
              "0         390      0.769231       0       0                     1   \n",
              "1         390      0.646154       0       0                     1   \n",
              "2         390      0.519231       0       0                     1   \n",
              "3         390      0.388462       0       0                     1   \n",
              "4         390      0.253846       0       0                     1   \n",
              "...       ...           ...     ...     ...                   ...   \n",
              "10124     345      0.000000       0       0                     0   \n",
              "10125     345      0.000000       0       0                     0   \n",
              "10126     345      0.000000       0       0                     0   \n",
              "10127     345      0.000000       0       0                     0   \n",
              "10128     345      0.000000       0       0                     0   \n",
              "\n",
              "       average_temp  average_light  \n",
              "0           24.9075          62.00  \n",
              "1           24.9225          61.75  \n",
              "2           24.9225          62.00  \n",
              "3           24.9375          62.00  \n",
              "4           24.9375          62.25  \n",
              "...             ...            ...  \n",
              "10124       25.0475          17.00  \n",
              "10125       25.0150          17.25  \n",
              "10126       25.0325          17.25  \n",
              "10127       25.0325          17.25  \n",
              "10128       25.0325          17.25  \n",
              "\n",
              "[10129 rows x 21 columns]"
            ]
          },
          "execution_count": 119,
          "metadata": {},
          "output_type": "execute_result"
        }
      ],
      "source": [
        "#Testing correlation of average temp and light columns\n",
        "df_merged = df\n",
        "average_temp = df_merged[['S1_Temp', 'S2_Temp','S3_Temp', 'S4_Temp']].mean(axis=1)\n",
        "df_merged['average_temp'] = average_temp\n",
        "average_light = df_merged[['S1_Light', 'S2_Light','S3_Light', 'S4_Light']].mean(axis=1)\n",
        "df_merged['average_light'] = average_light\n",
        "\n",
        "df_merged"
      ]
    },
    {
      "cell_type": "code",
      "execution_count": null,
      "metadata": {
        "colab": {
          "base_uri": "https://localhost:8080/",
          "height": 424
        },
        "id": "BGCQhOCeRYt9",
        "outputId": "36084f04-77a3-4434-f33f-047fcaaa85a8"
      },
      "outputs": [
        {
          "data": {
            "text/html": [
              "\n",
              "  <div id=\"df-9556a90a-285c-4736-8d8b-f2173a9d1811\">\n",
              "    <div class=\"colab-df-container\">\n",
              "      <div>\n",
              "<style scoped>\n",
              "    .dataframe tbody tr th:only-of-type {\n",
              "        vertical-align: middle;\n",
              "    }\n",
              "\n",
              "    .dataframe tbody tr th {\n",
              "        vertical-align: top;\n",
              "    }\n",
              "\n",
              "    .dataframe thead th {\n",
              "        text-align: right;\n",
              "    }\n",
              "</style>\n",
              "<table border=\"1\" class=\"dataframe\">\n",
              "  <thead>\n",
              "    <tr style=\"text-align: right;\">\n",
              "      <th></th>\n",
              "      <th>S1_Sound</th>\n",
              "      <th>S2_Sound</th>\n",
              "      <th>S3_Sound</th>\n",
              "      <th>S4_Sound</th>\n",
              "      <th>S5_CO2</th>\n",
              "      <th>S5_CO2_Slope</th>\n",
              "      <th>S6_PIR</th>\n",
              "      <th>S7_PIR</th>\n",
              "      <th>Room_Occupancy_Count</th>\n",
              "      <th>average_temp</th>\n",
              "      <th>average_light</th>\n",
              "    </tr>\n",
              "  </thead>\n",
              "  <tbody>\n",
              "    <tr>\n",
              "      <th>0</th>\n",
              "      <td>0.08</td>\n",
              "      <td>0.19</td>\n",
              "      <td>0.06</td>\n",
              "      <td>0.06</td>\n",
              "      <td>390</td>\n",
              "      <td>0.769231</td>\n",
              "      <td>0</td>\n",
              "      <td>0</td>\n",
              "      <td>1</td>\n",
              "      <td>24.9075</td>\n",
              "      <td>62.00</td>\n",
              "    </tr>\n",
              "    <tr>\n",
              "      <th>1</th>\n",
              "      <td>0.93</td>\n",
              "      <td>0.05</td>\n",
              "      <td>0.06</td>\n",
              "      <td>0.06</td>\n",
              "      <td>390</td>\n",
              "      <td>0.646154</td>\n",
              "      <td>0</td>\n",
              "      <td>0</td>\n",
              "      <td>1</td>\n",
              "      <td>24.9225</td>\n",
              "      <td>61.75</td>\n",
              "    </tr>\n",
              "    <tr>\n",
              "      <th>2</th>\n",
              "      <td>0.43</td>\n",
              "      <td>0.11</td>\n",
              "      <td>0.08</td>\n",
              "      <td>0.06</td>\n",
              "      <td>390</td>\n",
              "      <td>0.519231</td>\n",
              "      <td>0</td>\n",
              "      <td>0</td>\n",
              "      <td>1</td>\n",
              "      <td>24.9225</td>\n",
              "      <td>62.00</td>\n",
              "    </tr>\n",
              "    <tr>\n",
              "      <th>3</th>\n",
              "      <td>0.41</td>\n",
              "      <td>0.10</td>\n",
              "      <td>0.10</td>\n",
              "      <td>0.09</td>\n",
              "      <td>390</td>\n",
              "      <td>0.388462</td>\n",
              "      <td>0</td>\n",
              "      <td>0</td>\n",
              "      <td>1</td>\n",
              "      <td>24.9375</td>\n",
              "      <td>62.00</td>\n",
              "    </tr>\n",
              "    <tr>\n",
              "      <th>4</th>\n",
              "      <td>0.18</td>\n",
              "      <td>0.06</td>\n",
              "      <td>0.06</td>\n",
              "      <td>0.06</td>\n",
              "      <td>390</td>\n",
              "      <td>0.253846</td>\n",
              "      <td>0</td>\n",
              "      <td>0</td>\n",
              "      <td>1</td>\n",
              "      <td>24.9375</td>\n",
              "      <td>62.25</td>\n",
              "    </tr>\n",
              "    <tr>\n",
              "      <th>...</th>\n",
              "      <td>...</td>\n",
              "      <td>...</td>\n",
              "      <td>...</td>\n",
              "      <td>...</td>\n",
              "      <td>...</td>\n",
              "      <td>...</td>\n",
              "      <td>...</td>\n",
              "      <td>...</td>\n",
              "      <td>...</td>\n",
              "      <td>...</td>\n",
              "      <td>...</td>\n",
              "    </tr>\n",
              "    <tr>\n",
              "      <th>10124</th>\n",
              "      <td>0.09</td>\n",
              "      <td>0.04</td>\n",
              "      <td>0.06</td>\n",
              "      <td>0.08</td>\n",
              "      <td>345</td>\n",
              "      <td>0.000000</td>\n",
              "      <td>0</td>\n",
              "      <td>0</td>\n",
              "      <td>0</td>\n",
              "      <td>25.0475</td>\n",
              "      <td>17.00</td>\n",
              "    </tr>\n",
              "    <tr>\n",
              "      <th>10125</th>\n",
              "      <td>0.07</td>\n",
              "      <td>0.05</td>\n",
              "      <td>0.05</td>\n",
              "      <td>0.08</td>\n",
              "      <td>345</td>\n",
              "      <td>0.000000</td>\n",
              "      <td>0</td>\n",
              "      <td>0</td>\n",
              "      <td>0</td>\n",
              "      <td>25.0150</td>\n",
              "      <td>17.25</td>\n",
              "    </tr>\n",
              "    <tr>\n",
              "      <th>10126</th>\n",
              "      <td>0.11</td>\n",
              "      <td>0.05</td>\n",
              "      <td>0.06</td>\n",
              "      <td>0.08</td>\n",
              "      <td>345</td>\n",
              "      <td>0.000000</td>\n",
              "      <td>0</td>\n",
              "      <td>0</td>\n",
              "      <td>0</td>\n",
              "      <td>25.0325</td>\n",
              "      <td>17.25</td>\n",
              "    </tr>\n",
              "    <tr>\n",
              "      <th>10127</th>\n",
              "      <td>0.08</td>\n",
              "      <td>0.08</td>\n",
              "      <td>0.10</td>\n",
              "      <td>0.08</td>\n",
              "      <td>345</td>\n",
              "      <td>0.000000</td>\n",
              "      <td>0</td>\n",
              "      <td>0</td>\n",
              "      <td>0</td>\n",
              "      <td>25.0325</td>\n",
              "      <td>17.25</td>\n",
              "    </tr>\n",
              "    <tr>\n",
              "      <th>10128</th>\n",
              "      <td>0.08</td>\n",
              "      <td>0.05</td>\n",
              "      <td>0.06</td>\n",
              "      <td>0.08</td>\n",
              "      <td>345</td>\n",
              "      <td>0.000000</td>\n",
              "      <td>0</td>\n",
              "      <td>0</td>\n",
              "      <td>0</td>\n",
              "      <td>25.0325</td>\n",
              "      <td>17.25</td>\n",
              "    </tr>\n",
              "  </tbody>\n",
              "</table>\n",
              "<p>10129 rows × 11 columns</p>\n",
              "</div>\n",
              "      <button class=\"colab-df-convert\" onclick=\"convertToInteractive('df-9556a90a-285c-4736-8d8b-f2173a9d1811')\"\n",
              "              title=\"Convert this dataframe to an interactive table.\"\n",
              "              style=\"display:none;\">\n",
              "        \n",
              "  <svg xmlns=\"http://www.w3.org/2000/svg\" height=\"24px\"viewBox=\"0 0 24 24\"\n",
              "       width=\"24px\">\n",
              "    <path d=\"M0 0h24v24H0V0z\" fill=\"none\"/>\n",
              "    <path d=\"M18.56 5.44l.94 2.06.94-2.06 2.06-.94-2.06-.94-.94-2.06-.94 2.06-2.06.94zm-11 1L8.5 8.5l.94-2.06 2.06-.94-2.06-.94L8.5 2.5l-.94 2.06-2.06.94zm10 10l.94 2.06.94-2.06 2.06-.94-2.06-.94-.94-2.06-.94 2.06-2.06.94z\"/><path d=\"M17.41 7.96l-1.37-1.37c-.4-.4-.92-.59-1.43-.59-.52 0-1.04.2-1.43.59L10.3 9.45l-7.72 7.72c-.78.78-.78 2.05 0 2.83L4 21.41c.39.39.9.59 1.41.59.51 0 1.02-.2 1.41-.59l7.78-7.78 2.81-2.81c.8-.78.8-2.07 0-2.86zM5.41 20L4 18.59l7.72-7.72 1.47 1.35L5.41 20z\"/>\n",
              "  </svg>\n",
              "      </button>\n",
              "      \n",
              "  <style>\n",
              "    .colab-df-container {\n",
              "      display:flex;\n",
              "      flex-wrap:wrap;\n",
              "      gap: 12px;\n",
              "    }\n",
              "\n",
              "    .colab-df-convert {\n",
              "      background-color: #E8F0FE;\n",
              "      border: none;\n",
              "      border-radius: 50%;\n",
              "      cursor: pointer;\n",
              "      display: none;\n",
              "      fill: #1967D2;\n",
              "      height: 32px;\n",
              "      padding: 0 0 0 0;\n",
              "      width: 32px;\n",
              "    }\n",
              "\n",
              "    .colab-df-convert:hover {\n",
              "      background-color: #E2EBFA;\n",
              "      box-shadow: 0px 1px 2px rgba(60, 64, 67, 0.3), 0px 1px 3px 1px rgba(60, 64, 67, 0.15);\n",
              "      fill: #174EA6;\n",
              "    }\n",
              "\n",
              "    [theme=dark] .colab-df-convert {\n",
              "      background-color: #3B4455;\n",
              "      fill: #D2E3FC;\n",
              "    }\n",
              "\n",
              "    [theme=dark] .colab-df-convert:hover {\n",
              "      background-color: #434B5C;\n",
              "      box-shadow: 0px 1px 3px 1px rgba(0, 0, 0, 0.15);\n",
              "      filter: drop-shadow(0px 1px 2px rgba(0, 0, 0, 0.3));\n",
              "      fill: #FFFFFF;\n",
              "    }\n",
              "  </style>\n",
              "\n",
              "      <script>\n",
              "        const buttonEl =\n",
              "          document.querySelector('#df-9556a90a-285c-4736-8d8b-f2173a9d1811 button.colab-df-convert');\n",
              "        buttonEl.style.display =\n",
              "          google.colab.kernel.accessAllowed ? 'block' : 'none';\n",
              "\n",
              "        async function convertToInteractive(key) {\n",
              "          const element = document.querySelector('#df-9556a90a-285c-4736-8d8b-f2173a9d1811');\n",
              "          const dataTable =\n",
              "            await google.colab.kernel.invokeFunction('convertToInteractive',\n",
              "                                                     [key], {});\n",
              "          if (!dataTable) return;\n",
              "\n",
              "          const docLinkHtml = 'Like what you see? Visit the ' +\n",
              "            '<a target=\"_blank\" href=https://colab.research.google.com/notebooks/data_table.ipynb>data table notebook</a>'\n",
              "            + ' to learn more about interactive tables.';\n",
              "          element.innerHTML = '';\n",
              "          dataTable['output_type'] = 'display_data';\n",
              "          await google.colab.output.renderOutput(dataTable, element);\n",
              "          const docLink = document.createElement('div');\n",
              "          docLink.innerHTML = docLinkHtml;\n",
              "          element.appendChild(docLink);\n",
              "        }\n",
              "      </script>\n",
              "    </div>\n",
              "  </div>\n",
              "  "
            ],
            "text/plain": [
              "       S1_Sound  S2_Sound  S3_Sound  S4_Sound  S5_CO2  S5_CO2_Slope  S6_PIR  \\\n",
              "0          0.08      0.19      0.06      0.06     390      0.769231       0   \n",
              "1          0.93      0.05      0.06      0.06     390      0.646154       0   \n",
              "2          0.43      0.11      0.08      0.06     390      0.519231       0   \n",
              "3          0.41      0.10      0.10      0.09     390      0.388462       0   \n",
              "4          0.18      0.06      0.06      0.06     390      0.253846       0   \n",
              "...         ...       ...       ...       ...     ...           ...     ...   \n",
              "10124      0.09      0.04      0.06      0.08     345      0.000000       0   \n",
              "10125      0.07      0.05      0.05      0.08     345      0.000000       0   \n",
              "10126      0.11      0.05      0.06      0.08     345      0.000000       0   \n",
              "10127      0.08      0.08      0.10      0.08     345      0.000000       0   \n",
              "10128      0.08      0.05      0.06      0.08     345      0.000000       0   \n",
              "\n",
              "       S7_PIR  Room_Occupancy_Count  average_temp  average_light  \n",
              "0           0                     1       24.9075          62.00  \n",
              "1           0                     1       24.9225          61.75  \n",
              "2           0                     1       24.9225          62.00  \n",
              "3           0                     1       24.9375          62.00  \n",
              "4           0                     1       24.9375          62.25  \n",
              "...       ...                   ...           ...            ...  \n",
              "10124       0                     0       25.0475          17.00  \n",
              "10125       0                     0       25.0150          17.25  \n",
              "10126       0                     0       25.0325          17.25  \n",
              "10127       0                     0       25.0325          17.25  \n",
              "10128       0                     0       25.0325          17.25  \n",
              "\n",
              "[10129 rows x 11 columns]"
            ]
          },
          "execution_count": 9,
          "metadata": {},
          "output_type": "execute_result"
        }
      ],
      "source": [
        "df_merged = df_merged.drop(columns=df_merged.columns[:10],axis=1)"
      ]
    },
    {
      "cell_type": "code",
      "execution_count": null,
      "metadata": {
        "id": "JHfmH-nNao1n"
      },
      "outputs": [],
      "source": [
        "labels = df_merged['Room_Occupancy_Count']\n",
        "df_merged = df_merged.drop(['Room_Occupancy_Count'],axis=1)\n",
        "df_merged_scaled = df_merged.copy()\n",
        "  \n",
        "# apply normalization techniques\n",
        "for column in df_merged_scaled.columns:\n",
        "    df_merged_scaled[column] = (df_merged_scaled[column] - df_merged_scaled[column].min()) / (df_merged_scaled[column].max() - df_merged_scaled[column].min())"
      ]
    },
    {
      "cell_type": "code",
      "execution_count": null,
      "metadata": {
        "colab": {
          "base_uri": "https://localhost:8080/",
          "height": 424
        },
        "id": "u2HZ7xGaSvIk",
        "outputId": "93056bab-a919-4fa9-8f9e-a4f681275bc7"
      },
      "outputs": [
        {
          "data": {
            "text/html": [
              "\n",
              "  <div id=\"df-ae07e24a-d82f-4c11-992a-13bde9a0a9c4\">\n",
              "    <div class=\"colab-df-container\">\n",
              "      <div>\n",
              "<style scoped>\n",
              "    .dataframe tbody tr th:only-of-type {\n",
              "        vertical-align: middle;\n",
              "    }\n",
              "\n",
              "    .dataframe tbody tr th {\n",
              "        vertical-align: top;\n",
              "    }\n",
              "\n",
              "    .dataframe thead th {\n",
              "        text-align: right;\n",
              "    }\n",
              "</style>\n",
              "<table border=\"1\" class=\"dataframe\">\n",
              "  <thead>\n",
              "    <tr style=\"text-align: right;\">\n",
              "      <th></th>\n",
              "      <th>S1_Sound</th>\n",
              "      <th>S2_Sound</th>\n",
              "      <th>S3_Sound</th>\n",
              "      <th>S4_Sound</th>\n",
              "      <th>S5_CO2</th>\n",
              "      <th>S5_CO2_Slope</th>\n",
              "      <th>S6_PIR</th>\n",
              "      <th>S7_PIR</th>\n",
              "      <th>average_temp</th>\n",
              "      <th>average_light</th>\n",
              "    </tr>\n",
              "  </thead>\n",
              "  <tbody>\n",
              "    <tr>\n",
              "      <th>0</th>\n",
              "      <td>0.005236</td>\n",
              "      <td>0.044118</td>\n",
              "      <td>0.005510</td>\n",
              "      <td>0.002985</td>\n",
              "      <td>0.048649</td>\n",
              "      <td>0.462487</td>\n",
              "      <td>0.0</td>\n",
              "      <td>0.0</td>\n",
              "      <td>0.009162</td>\n",
              "      <td>0.320000</td>\n",
              "    </tr>\n",
              "    <tr>\n",
              "      <th>1</th>\n",
              "      <td>0.227749</td>\n",
              "      <td>0.002941</td>\n",
              "      <td>0.005510</td>\n",
              "      <td>0.002985</td>\n",
              "      <td>0.048649</td>\n",
              "      <td>0.454431</td>\n",
              "      <td>0.0</td>\n",
              "      <td>0.0</td>\n",
              "      <td>0.017016</td>\n",
              "      <td>0.318710</td>\n",
              "    </tr>\n",
              "    <tr>\n",
              "      <th>2</th>\n",
              "      <td>0.096859</td>\n",
              "      <td>0.020588</td>\n",
              "      <td>0.011019</td>\n",
              "      <td>0.002985</td>\n",
              "      <td>0.048649</td>\n",
              "      <td>0.446123</td>\n",
              "      <td>0.0</td>\n",
              "      <td>0.0</td>\n",
              "      <td>0.017016</td>\n",
              "      <td>0.320000</td>\n",
              "    </tr>\n",
              "    <tr>\n",
              "      <th>3</th>\n",
              "      <td>0.091623</td>\n",
              "      <td>0.017647</td>\n",
              "      <td>0.016529</td>\n",
              "      <td>0.011940</td>\n",
              "      <td>0.048649</td>\n",
              "      <td>0.437563</td>\n",
              "      <td>0.0</td>\n",
              "      <td>0.0</td>\n",
              "      <td>0.024869</td>\n",
              "      <td>0.320000</td>\n",
              "    </tr>\n",
              "    <tr>\n",
              "      <th>4</th>\n",
              "      <td>0.031414</td>\n",
              "      <td>0.005882</td>\n",
              "      <td>0.005510</td>\n",
              "      <td>0.002985</td>\n",
              "      <td>0.048649</td>\n",
              "      <td>0.428751</td>\n",
              "      <td>0.0</td>\n",
              "      <td>0.0</td>\n",
              "      <td>0.024869</td>\n",
              "      <td>0.321290</td>\n",
              "    </tr>\n",
              "    <tr>\n",
              "      <th>...</th>\n",
              "      <td>...</td>\n",
              "      <td>...</td>\n",
              "      <td>...</td>\n",
              "      <td>...</td>\n",
              "      <td>...</td>\n",
              "      <td>...</td>\n",
              "      <td>...</td>\n",
              "      <td>...</td>\n",
              "      <td>...</td>\n",
              "      <td>...</td>\n",
              "    </tr>\n",
              "    <tr>\n",
              "      <th>10124</th>\n",
              "      <td>0.007853</td>\n",
              "      <td>0.000000</td>\n",
              "      <td>0.005510</td>\n",
              "      <td>0.008955</td>\n",
              "      <td>0.000000</td>\n",
              "      <td>0.412135</td>\n",
              "      <td>0.0</td>\n",
              "      <td>0.0</td>\n",
              "      <td>0.082461</td>\n",
              "      <td>0.087742</td>\n",
              "    </tr>\n",
              "    <tr>\n",
              "      <th>10125</th>\n",
              "      <td>0.002618</td>\n",
              "      <td>0.002941</td>\n",
              "      <td>0.002755</td>\n",
              "      <td>0.008955</td>\n",
              "      <td>0.000000</td>\n",
              "      <td>0.412135</td>\n",
              "      <td>0.0</td>\n",
              "      <td>0.0</td>\n",
              "      <td>0.065445</td>\n",
              "      <td>0.089032</td>\n",
              "    </tr>\n",
              "    <tr>\n",
              "      <th>10126</th>\n",
              "      <td>0.013089</td>\n",
              "      <td>0.002941</td>\n",
              "      <td>0.005510</td>\n",
              "      <td>0.008955</td>\n",
              "      <td>0.000000</td>\n",
              "      <td>0.412135</td>\n",
              "      <td>0.0</td>\n",
              "      <td>0.0</td>\n",
              "      <td>0.074607</td>\n",
              "      <td>0.089032</td>\n",
              "    </tr>\n",
              "    <tr>\n",
              "      <th>10127</th>\n",
              "      <td>0.005236</td>\n",
              "      <td>0.011765</td>\n",
              "      <td>0.016529</td>\n",
              "      <td>0.008955</td>\n",
              "      <td>0.000000</td>\n",
              "      <td>0.412135</td>\n",
              "      <td>0.0</td>\n",
              "      <td>0.0</td>\n",
              "      <td>0.074607</td>\n",
              "      <td>0.089032</td>\n",
              "    </tr>\n",
              "    <tr>\n",
              "      <th>10128</th>\n",
              "      <td>0.005236</td>\n",
              "      <td>0.002941</td>\n",
              "      <td>0.005510</td>\n",
              "      <td>0.008955</td>\n",
              "      <td>0.000000</td>\n",
              "      <td>0.412135</td>\n",
              "      <td>0.0</td>\n",
              "      <td>0.0</td>\n",
              "      <td>0.074607</td>\n",
              "      <td>0.089032</td>\n",
              "    </tr>\n",
              "  </tbody>\n",
              "</table>\n",
              "<p>10129 rows × 10 columns</p>\n",
              "</div>\n",
              "      <button class=\"colab-df-convert\" onclick=\"convertToInteractive('df-ae07e24a-d82f-4c11-992a-13bde9a0a9c4')\"\n",
              "              title=\"Convert this dataframe to an interactive table.\"\n",
              "              style=\"display:none;\">\n",
              "        \n",
              "  <svg xmlns=\"http://www.w3.org/2000/svg\" height=\"24px\"viewBox=\"0 0 24 24\"\n",
              "       width=\"24px\">\n",
              "    <path d=\"M0 0h24v24H0V0z\" fill=\"none\"/>\n",
              "    <path d=\"M18.56 5.44l.94 2.06.94-2.06 2.06-.94-2.06-.94-.94-2.06-.94 2.06-2.06.94zm-11 1L8.5 8.5l.94-2.06 2.06-.94-2.06-.94L8.5 2.5l-.94 2.06-2.06.94zm10 10l.94 2.06.94-2.06 2.06-.94-2.06-.94-.94-2.06-.94 2.06-2.06.94z\"/><path d=\"M17.41 7.96l-1.37-1.37c-.4-.4-.92-.59-1.43-.59-.52 0-1.04.2-1.43.59L10.3 9.45l-7.72 7.72c-.78.78-.78 2.05 0 2.83L4 21.41c.39.39.9.59 1.41.59.51 0 1.02-.2 1.41-.59l7.78-7.78 2.81-2.81c.8-.78.8-2.07 0-2.86zM5.41 20L4 18.59l7.72-7.72 1.47 1.35L5.41 20z\"/>\n",
              "  </svg>\n",
              "      </button>\n",
              "      \n",
              "  <style>\n",
              "    .colab-df-container {\n",
              "      display:flex;\n",
              "      flex-wrap:wrap;\n",
              "      gap: 12px;\n",
              "    }\n",
              "\n",
              "    .colab-df-convert {\n",
              "      background-color: #E8F0FE;\n",
              "      border: none;\n",
              "      border-radius: 50%;\n",
              "      cursor: pointer;\n",
              "      display: none;\n",
              "      fill: #1967D2;\n",
              "      height: 32px;\n",
              "      padding: 0 0 0 0;\n",
              "      width: 32px;\n",
              "    }\n",
              "\n",
              "    .colab-df-convert:hover {\n",
              "      background-color: #E2EBFA;\n",
              "      box-shadow: 0px 1px 2px rgba(60, 64, 67, 0.3), 0px 1px 3px 1px rgba(60, 64, 67, 0.15);\n",
              "      fill: #174EA6;\n",
              "    }\n",
              "\n",
              "    [theme=dark] .colab-df-convert {\n",
              "      background-color: #3B4455;\n",
              "      fill: #D2E3FC;\n",
              "    }\n",
              "\n",
              "    [theme=dark] .colab-df-convert:hover {\n",
              "      background-color: #434B5C;\n",
              "      box-shadow: 0px 1px 3px 1px rgba(0, 0, 0, 0.15);\n",
              "      filter: drop-shadow(0px 1px 2px rgba(0, 0, 0, 0.3));\n",
              "      fill: #FFFFFF;\n",
              "    }\n",
              "  </style>\n",
              "\n",
              "      <script>\n",
              "        const buttonEl =\n",
              "          document.querySelector('#df-ae07e24a-d82f-4c11-992a-13bde9a0a9c4 button.colab-df-convert');\n",
              "        buttonEl.style.display =\n",
              "          google.colab.kernel.accessAllowed ? 'block' : 'none';\n",
              "\n",
              "        async function convertToInteractive(key) {\n",
              "          const element = document.querySelector('#df-ae07e24a-d82f-4c11-992a-13bde9a0a9c4');\n",
              "          const dataTable =\n",
              "            await google.colab.kernel.invokeFunction('convertToInteractive',\n",
              "                                                     [key], {});\n",
              "          if (!dataTable) return;\n",
              "\n",
              "          const docLinkHtml = 'Like what you see? Visit the ' +\n",
              "            '<a target=\"_blank\" href=https://colab.research.google.com/notebooks/data_table.ipynb>data table notebook</a>'\n",
              "            + ' to learn more about interactive tables.';\n",
              "          element.innerHTML = '';\n",
              "          dataTable['output_type'] = 'display_data';\n",
              "          await google.colab.output.renderOutput(dataTable, element);\n",
              "          const docLink = document.createElement('div');\n",
              "          docLink.innerHTML = docLinkHtml;\n",
              "          element.appendChild(docLink);\n",
              "        }\n",
              "      </script>\n",
              "    </div>\n",
              "  </div>\n",
              "  "
            ],
            "text/plain": [
              "       S1_Sound  S2_Sound  S3_Sound  S4_Sound    S5_CO2  S5_CO2_Slope  S6_PIR  \\\n",
              "0      0.005236  0.044118  0.005510  0.002985  0.048649      0.462487     0.0   \n",
              "1      0.227749  0.002941  0.005510  0.002985  0.048649      0.454431     0.0   \n",
              "2      0.096859  0.020588  0.011019  0.002985  0.048649      0.446123     0.0   \n",
              "3      0.091623  0.017647  0.016529  0.011940  0.048649      0.437563     0.0   \n",
              "4      0.031414  0.005882  0.005510  0.002985  0.048649      0.428751     0.0   \n",
              "...         ...       ...       ...       ...       ...           ...     ...   \n",
              "10124  0.007853  0.000000  0.005510  0.008955  0.000000      0.412135     0.0   \n",
              "10125  0.002618  0.002941  0.002755  0.008955  0.000000      0.412135     0.0   \n",
              "10126  0.013089  0.002941  0.005510  0.008955  0.000000      0.412135     0.0   \n",
              "10127  0.005236  0.011765  0.016529  0.008955  0.000000      0.412135     0.0   \n",
              "10128  0.005236  0.002941  0.005510  0.008955  0.000000      0.412135     0.0   \n",
              "\n",
              "       S7_PIR  average_temp  average_light  \n",
              "0         0.0      0.009162       0.320000  \n",
              "1         0.0      0.017016       0.318710  \n",
              "2         0.0      0.017016       0.320000  \n",
              "3         0.0      0.024869       0.320000  \n",
              "4         0.0      0.024869       0.321290  \n",
              "...       ...           ...            ...  \n",
              "10124     0.0      0.082461       0.087742  \n",
              "10125     0.0      0.065445       0.089032  \n",
              "10126     0.0      0.074607       0.089032  \n",
              "10127     0.0      0.074607       0.089032  \n",
              "10128     0.0      0.074607       0.089032  \n",
              "\n",
              "[10129 rows x 10 columns]"
            ]
          },
          "execution_count": 14,
          "metadata": {},
          "output_type": "execute_result"
        }
      ],
      "source": [
        "df_merged_scaled"
      ]
    },
    {
      "cell_type": "code",
      "execution_count": null,
      "metadata": {
        "id": "GjOyJG3BTR3L"
      },
      "outputs": [],
      "source": [
        "\n",
        "merged_train_features, merged_test_features, merged_train_labels, merged_test_labels = train_test_split(df_merged_scaled, labels, test_size = 0.25, random_state = 42)"
      ]
    },
    {
      "cell_type": "code",
      "execution_count": null,
      "metadata": {
        "id": "LeXq24V7YpEB"
      },
      "outputs": [],
      "source": [
        "rf = RandomForestClassifier()\n",
        "SVM = svm.SVC(gamma=0.001)\n",
        "MLP = MLPClassifier(activation='logistic', hidden_layer_sizes=(10,), max_iter=1000)"
      ]
    },
    {
      "cell_type": "code",
      "source": [
        "#RF"
      ],
      "metadata": {
        "id": "Uhu2YDKE2rfQ"
      },
      "execution_count": null,
      "outputs": []
    },
    {
      "cell_type": "code",
      "execution_count": null,
      "metadata": {
        "colab": {
          "base_uri": "https://localhost:8080/"
        },
        "id": "LSZ6uLVPX_p-",
        "outputId": "367a4225-dc0e-4a93-bf0f-fe9a276e914d"
      },
      "outputs": [
        {
          "name": "stdout",
          "output_type": "stream",
          "text": [
            "0.996 accuracy with a standard deviation of 0.001\n",
            "0.988 F1 with a standard deviation of 0.002\n"
          ]
        }
      ],
      "source": [
        "#unmerged\n",
        "accuracies = cross_val_score(rf, train_features, train_labels, cv=5)\n",
        "print(\"%0.3f accuracy with a standard deviation of %0.3f\" % (accuracies.mean(), accuracies.std()))\n",
        "f1_scores = cross_val_score(rf, train_features, train_labels, cv=5, scoring='f1_macro')\n",
        "print(\"%0.3f F1 with a standard deviation of %0.3f\" % (f1_scores.mean(), f1_scores.std()))"
      ]
    },
    {
      "cell_type": "code",
      "execution_count": null,
      "metadata": {
        "colab": {
          "base_uri": "https://localhost:8080/"
        },
        "id": "tZUFzpRfTh1D",
        "outputId": "f41b04a6-d98d-4711-ae35-bdf60062e3b4"
      },
      "outputs": [
        {
          "name": "stdout",
          "output_type": "stream",
          "text": [
            "0.996 accuracy with a standard deviation of 0.001\n",
            "0.987 F1 with a standard deviation of 0.003\n"
          ]
        }
      ],
      "source": [
        "#merged\n",
        "accuracies = cross_val_score(rf, merged_train_features, merged_train_labels, cv=5)\n",
        "print(\"%0.3f accuracy with a standard deviation of %0.3f\" % (accuracies.mean(), accuracies.std()))\n",
        "f1_scores = cross_val_score(rf, merged_train_features, merged_train_labels, cv=5, scoring='f1_macro')\n",
        "print(\"%0.3f F1 with a standard deviation of %0.3f\" % (f1_scores.mean(), f1_scores.std()))"
      ]
    },
    {
      "cell_type": "code",
      "source": [
        "#MLP"
      ],
      "metadata": {
        "id": "pnQUb7po2qqf"
      },
      "execution_count": null,
      "outputs": []
    },
    {
      "cell_type": "code",
      "execution_count": null,
      "metadata": {
        "colab": {
          "base_uri": "https://localhost:8080/"
        },
        "id": "1GyNTAgEUCpE",
        "outputId": "ded43620-a920-4c7d-ade7-679e54d4b487"
      },
      "outputs": [
        {
          "name": "stdout",
          "output_type": "stream",
          "text": [
            "0.991 accuracy with a standard deviation of 0.001\n",
            "0.969 F1 with a standard deviation of 0.005\n"
          ]
        }
      ],
      "source": [
        "#unmerged\n",
        "accuracies = cross_val_score(MLP, train_features, train_labels, cv=5)\n",
        "print(\"%0.3f accuracy with a standard deviation of %0.3f\" % (accuracies.mean(), accuracies.std()))\n",
        "f1_scores = cross_val_score(MLP, train_features, train_labels, cv=5, scoring='f1_macro')\n",
        "print(\"%0.3f F1 with a standard deviation of %0.3f\" % (f1_scores.mean(), f1_scores.std()))"
      ]
    },
    {
      "cell_type": "code",
      "execution_count": null,
      "metadata": {
        "colab": {
          "base_uri": "https://localhost:8080/"
        },
        "id": "zLMn8yqHY_z7",
        "outputId": "aec00b09-e602-44db-d730-a8380bf34c2b"
      },
      "outputs": [
        {
          "name": "stdout",
          "output_type": "stream",
          "text": [
            "0.987 accuracy with a standard deviation of 0.001\n",
            "0.952 F1 with a standard deviation of 0.005\n"
          ]
        }
      ],
      "source": [
        "#merged\n",
        "accuracies = cross_val_score(MLP, merged_train_features, merged_train_labels, cv=5)\n",
        "print(\"%0.3f accuracy with a standard deviation of %0.3f\" % (accuracies.mean(), accuracies.std()))\n",
        "f1_scores = cross_val_score(MLP, merged_train_features, merged_train_labels, cv=5, scoring='f1_macro')\n",
        "print(\"%0.3f F1 with a standard deviation of %0.3f\" % (f1_scores.mean(), f1_scores.std()))"
      ]
    },
    {
      "cell_type": "code",
      "source": [
        "#SVM"
      ],
      "metadata": {
        "id": "-KU0whGT2pSm"
      },
      "execution_count": null,
      "outputs": []
    },
    {
      "cell_type": "code",
      "execution_count": null,
      "metadata": {
        "colab": {
          "base_uri": "https://localhost:8080/"
        },
        "id": "3Mbi-592ZOVR",
        "outputId": "35f47477-5c28-4a10-e83e-a609dcb7404c"
      },
      "outputs": [
        {
          "name": "stdout",
          "output_type": "stream",
          "text": [
            "0.871 accuracy with a standard deviation of 0.003\n",
            "0.394 F1 with a standard deviation of 0.005\n"
          ]
        }
      ],
      "source": [
        "#unmerged\n",
        "accuracies = cross_val_score(SVM, train_features, train_labels, cv=5)\n",
        "print(\"%0.3f accuracy with a standard deviation of %0.3f\" % (accuracies.mean(), accuracies.std()))\n",
        "f1_scores = cross_val_score(SVM, train_features, train_labels, cv=5, scoring='f1_macro')\n",
        "print(\"%0.3f F1 with a standard deviation of %0.3f\" % (f1_scores.mean(), f1_scores.std()))"
      ]
    },
    {
      "cell_type": "code",
      "execution_count": null,
      "metadata": {
        "colab": {
          "base_uri": "https://localhost:8080/"
        },
        "id": "SuhebH-aZFnF",
        "outputId": "7040c9b0-56a3-47d5-8f61-4455ff912621"
      },
      "outputs": [
        {
          "name": "stdout",
          "output_type": "stream",
          "text": [
            "0.826 accuracy with a standard deviation of 0.002\n",
            "0.284 F1 with a standard deviation of 0.008\n"
          ]
        }
      ],
      "source": [
        "#merged\n",
        "accuracies = cross_val_score(SVM, merged_train_features, merged_train_labels, cv=5)\n",
        "print(\"%0.3f accuracy with a standard deviation of %0.3f\" % (accuracies.mean(), accuracies.std()))\n",
        "f1_scores = cross_val_score(SVM, merged_train_features, merged_train_labels, cv=5, scoring='f1_macro')\n",
        "print(\"%0.3f F1 with a standard deviation of %0.3f\" % (f1_scores.mean(), f1_scores.std()))"
      ]
    },
    {
      "cell_type": "markdown",
      "metadata": {
        "id": "qopBr2uPSwYe"
      },
      "source": [
        "## Undersampling/Oversampling"
      ]
    },
    {
      "cell_type": "code",
      "execution_count": null,
      "metadata": {
        "id": "T_O79iaxS0Ox"
      },
      "outputs": [],
      "source": [
        "# Oversampling and under sampling"
      ]
    },
    {
      "cell_type": "code",
      "execution_count": null,
      "metadata": {
        "id": "_evwSHwITFiX"
      },
      "outputs": [],
      "source": [
        "# Randomly over sample the minority class\n",
        "ros = RandomOverSampler(random_state=42)\n",
        "X_train_ros, y_train_ros= ros.fit_resample(train_features, train_labels)"
      ]
    },
    {
      "cell_type": "code",
      "execution_count": null,
      "metadata": {
        "id": "cXEnK7rAT0MM"
      },
      "outputs": [],
      "source": [
        "# Randomly over sample the minority class\n",
        "smote = SMOTE(random_state=42)\n",
        "X_train_smote, y_train_smote= smote.fit_resample(train_features, train_labels)"
      ]
    },
    {
      "cell_type": "code",
      "execution_count": null,
      "metadata": {
        "id": "0Xqssv7lcOEl"
      },
      "outputs": [],
      "source": [
        "# Randomly under sample the majority class\n",
        "rus = RandomUnderSampler(random_state=42)\n",
        "X_train_rus, y_train_rus= rus.fit_resample(train_features, train_labels)"
      ]
    },
    {
      "cell_type": "code",
      "execution_count": null,
      "metadata": {
        "colab": {
          "base_uri": "https://localhost:8080/"
        },
        "id": "nx3rCLzyaNWK",
        "outputId": "d5eb1778-aaae-498b-a3a1-bbd4267c372b"
      },
      "outputs": [
        {
          "output_type": "stream",
          "name": "stderr",
          "text": [
            "/usr/local/lib/python3.10/dist-packages/imblearn/under_sampling/_prototype_selection/_nearmiss.py:203: UserWarning: The number of the samples to be selected is larger than the number of samples available. The balancing ratio cannot be ensure and all samples will be returned.\n",
            "  warnings.warn(\n",
            "/usr/local/lib/python3.10/dist-packages/imblearn/under_sampling/_prototype_selection/_nearmiss.py:203: UserWarning: The number of the samples to be selected is larger than the number of samples available. The balancing ratio cannot be ensure and all samples will be returned.\n",
            "  warnings.warn(\n",
            "/usr/local/lib/python3.10/dist-packages/imblearn/under_sampling/_prototype_selection/_nearmiss.py:203: UserWarning: The number of the samples to be selected is larger than the number of samples available. The balancing ratio cannot be ensure and all samples will be returned.\n",
            "  warnings.warn(\n"
          ]
        }
      ],
      "source": [
        "nearmiss = NearMiss(version=3)\n",
        "X_train_nearmiss, y_train_nearmiss= nearmiss.fit_resample(train_features, train_labels)"
      ]
    },
    {
      "cell_type": "code",
      "execution_count": null,
      "metadata": {
        "id": "bGOueeGGdQCv"
      },
      "outputs": [],
      "source": [
        "# Defining default algorithms\n",
        "\n",
        "rf = RandomForestClassifier()\n",
        "SVM = svm.SVC(gamma=0.001)\n",
        "MLP = MLPClassifier(activation='logistic', hidden_layer_sizes=(10,), max_iter=1000)"
      ]
    },
    {
      "cell_type": "code",
      "execution_count": null,
      "metadata": {
        "id": "Aj9Ak0ixd8Sp"
      },
      "outputs": [],
      "source": [
        "#RF"
      ]
    },
    {
      "cell_type": "code",
      "execution_count": null,
      "metadata": {
        "colab": {
          "base_uri": "https://localhost:8080/"
        },
        "id": "D-MpU563dQCv",
        "outputId": "e22229f9-748b-472b-8998-542468413650"
      },
      "outputs": [
        {
          "name": "stdout",
          "output_type": "stream",
          "text": [
            "1.000 accuracy with a standard deviation of 0.000\n",
            "1.000 F1 with a standard deviation of 0.000\n"
          ]
        }
      ],
      "source": [
        "#random oversampler\n",
        "accuracies = cross_val_score(rf, X_train_ros, y_train_ros, cv=5)\n",
        "print(\"%0.3f accuracy with a standard deviation of %0.3f\" % (accuracies.mean(), accuracies.std()))\n",
        "f1_scores = cross_val_score(rf, X_train_ros, y_train_ros, cv=5, scoring='f1_macro')\n",
        "print(\"%0.3f F1 with a standard deviation of %0.3f\" % (f1_scores.mean(), f1_scores.std()))"
      ]
    },
    {
      "cell_type": "code",
      "execution_count": null,
      "metadata": {
        "colab": {
          "base_uri": "https://localhost:8080/"
        },
        "id": "p6O37wasdb-i",
        "outputId": "4d57d522-e2a1-4e29-b61b-deb3d19e871e"
      },
      "outputs": [
        {
          "name": "stdout",
          "output_type": "stream",
          "text": [
            "0.999 accuracy with a standard deviation of 0.001\n",
            "0.999 F1 with a standard deviation of 0.001\n"
          ]
        }
      ],
      "source": [
        "#SMOTE\n",
        "accuracies = cross_val_score(rf, X_train_smote, y_train_smote, cv=5)\n",
        "print(\"%0.3f accuracy with a standard deviation of %0.3f\" % (accuracies.mean(), accuracies.std()))\n",
        "f1_scores = cross_val_score(rf, X_train_smote, y_train_smote, cv=5, scoring='f1_macro')\n",
        "print(\"%0.3f F1 with a standard deviation of %0.3f\" % (f1_scores.mean(), f1_scores.std()))"
      ]
    },
    {
      "cell_type": "code",
      "execution_count": null,
      "metadata": {
        "colab": {
          "base_uri": "https://localhost:8080/"
        },
        "id": "v16w2GykdQCv",
        "outputId": "8b555b46-80a7-4453-c528-60cd97eaa6da"
      },
      "outputs": [
        {
          "name": "stdout",
          "output_type": "stream",
          "text": [
            "0.990 accuracy with a standard deviation of 0.006\n",
            "0.990 F1 with a standard deviation of 0.006\n"
          ]
        }
      ],
      "source": [
        "#random undersampler\n",
        "accuracies = cross_val_score(rf, X_train_rus, y_train_rus, cv=5)\n",
        "print(\"%0.3f accuracy with a standard deviation of %0.3f\" % (accuracies.mean(), accuracies.std()))\n",
        "f1_scores = cross_val_score(rf, X_train_rus, y_train_rus, cv=5, scoring='f1_macro')\n",
        "print(\"%0.3f F1 with a standard deviation of %0.3f\" % (f1_scores.mean(), f1_scores.std()))"
      ]
    },
    {
      "cell_type": "code",
      "execution_count": null,
      "metadata": {
        "colab": {
          "base_uri": "https://localhost:8080/"
        },
        "id": "3L4UHfOOdbRC",
        "outputId": "028782eb-00dc-42f8-831f-db9148e990c4"
      },
      "outputs": [
        {
          "name": "stdout",
          "output_type": "stream",
          "text": [
            "0.963 accuracy with a standard deviation of 0.055\n",
            "0.937 F1 with a standard deviation of 0.105\n"
          ]
        }
      ],
      "source": [
        "#nearmiss\n",
        "accuracies = cross_val_score(rf, X_train_nearmiss, y_train_nearmiss, cv=5)\n",
        "print(\"%0.3f accuracy with a standard deviation of %0.3f\" % (accuracies.mean(), accuracies.std()))\n",
        "f1_scores = cross_val_score(rf, X_train_nearmiss, y_train_nearmiss, cv=5, scoring='f1_macro')\n",
        "print(\"%0.3f F1 with a standard deviation of %0.3f\" % (f1_scores.mean(), f1_scores.std()))"
      ]
    },
    {
      "cell_type": "code",
      "execution_count": null,
      "metadata": {
        "id": "Av2l72sVd67x"
      },
      "outputs": [],
      "source": [
        "#MLP"
      ]
    },
    {
      "cell_type": "code",
      "execution_count": null,
      "metadata": {
        "colab": {
          "base_uri": "https://localhost:8080/"
        },
        "id": "n7D-7Fizd7sc",
        "outputId": "08594300-4ac9-49bc-ebda-54d7a5b4e07c"
      },
      "outputs": [
        {
          "name": "stdout",
          "output_type": "stream",
          "text": [
            "0.988 accuracy with a standard deviation of 0.001\n",
            "0.987 F1 with a standard deviation of 0.002\n"
          ]
        }
      ],
      "source": [
        "#random oversampler\n",
        "accuracies = cross_val_score(MLP, X_train_ros, y_train_ros, cv=5)\n",
        "print(\"%0.3f accuracy with a standard deviation of %0.3f\" % (accuracies.mean(), accuracies.std()))\n",
        "f1_scores = cross_val_score(MLP, X_train_ros, y_train_ros, cv=5, scoring='f1_macro')\n",
        "print(\"%0.3f F1 with a standard deviation of %0.3f\" % (f1_scores.mean(), f1_scores.std()))"
      ]
    },
    {
      "cell_type": "code",
      "execution_count": null,
      "metadata": {
        "colab": {
          "base_uri": "https://localhost:8080/"
        },
        "id": "2_zJDyXcd7sc",
        "outputId": "4a9cf2ab-fc87-4a5a-b0f7-184a36042341"
      },
      "outputs": [
        {
          "name": "stdout",
          "output_type": "stream",
          "text": [
            "0.989 accuracy with a standard deviation of 0.002\n",
            "0.990 F1 with a standard deviation of 0.002\n"
          ]
        }
      ],
      "source": [
        "#SMOTE\n",
        "accuracies = cross_val_score(MLP, X_train_smote, y_train_smote, cv=5)\n",
        "print(\"%0.3f accuracy with a standard deviation of %0.3f\" % (accuracies.mean(), accuracies.std()))\n",
        "f1_scores = cross_val_score(MLP, X_train_smote, y_train_smote, cv=5, scoring='f1_macro')\n",
        "print(\"%0.3f F1 with a standard deviation of %0.3f\" % (f1_scores.mean(), f1_scores.std()))"
      ]
    },
    {
      "cell_type": "code",
      "execution_count": null,
      "metadata": {
        "colab": {
          "base_uri": "https://localhost:8080/"
        },
        "id": "vkYtbnxrd7sd",
        "outputId": "82ab5c22-3884-4e7e-d9f1-669d27677266"
      },
      "outputs": [
        {
          "name": "stderr",
          "output_type": "stream",
          "text": [
            "/usr/local/lib/python3.10/dist-packages/sklearn/neural_network/_multilayer_perceptron.py:686: ConvergenceWarning: Stochastic Optimizer: Maximum iterations (1000) reached and the optimization hasn't converged yet.\n",
            "  warnings.warn(\n",
            "/usr/local/lib/python3.10/dist-packages/sklearn/neural_network/_multilayer_perceptron.py:686: ConvergenceWarning: Stochastic Optimizer: Maximum iterations (1000) reached and the optimization hasn't converged yet.\n",
            "  warnings.warn(\n",
            "/usr/local/lib/python3.10/dist-packages/sklearn/neural_network/_multilayer_perceptron.py:686: ConvergenceWarning: Stochastic Optimizer: Maximum iterations (1000) reached and the optimization hasn't converged yet.\n",
            "  warnings.warn(\n"
          ]
        },
        {
          "name": "stdout",
          "output_type": "stream",
          "text": [
            "0.972 accuracy with a standard deviation of 0.013\n"
          ]
        },
        {
          "name": "stderr",
          "output_type": "stream",
          "text": [
            "/usr/local/lib/python3.10/dist-packages/sklearn/neural_network/_multilayer_perceptron.py:686: ConvergenceWarning: Stochastic Optimizer: Maximum iterations (1000) reached and the optimization hasn't converged yet.\n",
            "  warnings.warn(\n",
            "/usr/local/lib/python3.10/dist-packages/sklearn/neural_network/_multilayer_perceptron.py:686: ConvergenceWarning: Stochastic Optimizer: Maximum iterations (1000) reached and the optimization hasn't converged yet.\n",
            "  warnings.warn(\n"
          ]
        },
        {
          "name": "stdout",
          "output_type": "stream",
          "text": [
            "0.973 F1 with a standard deviation of 0.012\n"
          ]
        },
        {
          "name": "stderr",
          "output_type": "stream",
          "text": [
            "/usr/local/lib/python3.10/dist-packages/sklearn/neural_network/_multilayer_perceptron.py:686: ConvergenceWarning: Stochastic Optimizer: Maximum iterations (1000) reached and the optimization hasn't converged yet.\n",
            "  warnings.warn(\n"
          ]
        }
      ],
      "source": [
        "#random undersampler\n",
        "accuracies = cross_val_score(MLP, X_train_rus, y_train_rus, cv=5)\n",
        "print(\"%0.3f accuracy with a standard deviation of %0.3f\" % (accuracies.mean(), accuracies.std()))\n",
        "f1_scores = cross_val_score(MLP, X_train_rus, y_train_rus, cv=5, scoring='f1_macro')\n",
        "print(\"%0.3f F1 with a standard deviation of %0.3f\" % (f1_scores.mean(), f1_scores.std()))"
      ]
    },
    {
      "cell_type": "code",
      "execution_count": null,
      "metadata": {
        "colab": {
          "base_uri": "https://localhost:8080/"
        },
        "id": "3e-m4aUCd7sd",
        "outputId": "48d729a7-9243-4a5f-89df-e82751c1d0f9"
      },
      "outputs": [
        {
          "name": "stderr",
          "output_type": "stream",
          "text": [
            "/usr/local/lib/python3.10/dist-packages/sklearn/neural_network/_multilayer_perceptron.py:686: ConvergenceWarning: Stochastic Optimizer: Maximum iterations (1000) reached and the optimization hasn't converged yet.\n",
            "  warnings.warn(\n",
            "/usr/local/lib/python3.10/dist-packages/sklearn/neural_network/_multilayer_perceptron.py:686: ConvergenceWarning: Stochastic Optimizer: Maximum iterations (1000) reached and the optimization hasn't converged yet.\n",
            "  warnings.warn(\n",
            "/usr/local/lib/python3.10/dist-packages/sklearn/neural_network/_multilayer_perceptron.py:686: ConvergenceWarning: Stochastic Optimizer: Maximum iterations (1000) reached and the optimization hasn't converged yet.\n",
            "  warnings.warn(\n",
            "/usr/local/lib/python3.10/dist-packages/sklearn/neural_network/_multilayer_perceptron.py:686: ConvergenceWarning: Stochastic Optimizer: Maximum iterations (1000) reached and the optimization hasn't converged yet.\n",
            "  warnings.warn(\n",
            "/usr/local/lib/python3.10/dist-packages/sklearn/neural_network/_multilayer_perceptron.py:686: ConvergenceWarning: Stochastic Optimizer: Maximum iterations (1000) reached and the optimization hasn't converged yet.\n",
            "  warnings.warn(\n"
          ]
        },
        {
          "name": "stdout",
          "output_type": "stream",
          "text": [
            "0.949 accuracy with a standard deviation of 0.049\n"
          ]
        },
        {
          "name": "stderr",
          "output_type": "stream",
          "text": [
            "/usr/local/lib/python3.10/dist-packages/sklearn/neural_network/_multilayer_perceptron.py:686: ConvergenceWarning: Stochastic Optimizer: Maximum iterations (1000) reached and the optimization hasn't converged yet.\n",
            "  warnings.warn(\n",
            "/usr/local/lib/python3.10/dist-packages/sklearn/neural_network/_multilayer_perceptron.py:686: ConvergenceWarning: Stochastic Optimizer: Maximum iterations (1000) reached and the optimization hasn't converged yet.\n",
            "  warnings.warn(\n",
            "/usr/local/lib/python3.10/dist-packages/sklearn/neural_network/_multilayer_perceptron.py:686: ConvergenceWarning: Stochastic Optimizer: Maximum iterations (1000) reached and the optimization hasn't converged yet.\n",
            "  warnings.warn(\n",
            "/usr/local/lib/python3.10/dist-packages/sklearn/neural_network/_multilayer_perceptron.py:686: ConvergenceWarning: Stochastic Optimizer: Maximum iterations (1000) reached and the optimization hasn't converged yet.\n",
            "  warnings.warn(\n"
          ]
        },
        {
          "name": "stdout",
          "output_type": "stream",
          "text": [
            "0.883 F1 with a standard deviation of 0.113\n"
          ]
        },
        {
          "name": "stderr",
          "output_type": "stream",
          "text": [
            "/usr/local/lib/python3.10/dist-packages/sklearn/neural_network/_multilayer_perceptron.py:686: ConvergenceWarning: Stochastic Optimizer: Maximum iterations (1000) reached and the optimization hasn't converged yet.\n",
            "  warnings.warn(\n"
          ]
        }
      ],
      "source": [
        "#nearmiss\n",
        "accuracies = cross_val_score(MLP, X_train_nearmiss, y_train_nearmiss, cv=5)\n",
        "print(\"%0.3f accuracy with a standard deviation of %0.3f\" % (accuracies.mean(), accuracies.std()))\n",
        "f1_scores = cross_val_score(MLP, X_train_nearmiss, y_train_nearmiss, cv=5, scoring='f1_macro')\n",
        "print(\"%0.3f F1 with a standard deviation of %0.3f\" % (f1_scores.mean(), f1_scores.std()))"
      ]
    },
    {
      "cell_type": "code",
      "execution_count": null,
      "metadata": {
        "id": "yfuRTSsZeC3M"
      },
      "outputs": [],
      "source": [
        "#SVM"
      ]
    },
    {
      "cell_type": "code",
      "execution_count": null,
      "metadata": {
        "colab": {
          "base_uri": "https://localhost:8080/"
        },
        "id": "wc9u5_V6eGRX",
        "outputId": "5091ee85-075a-498c-c837-f31520850f94"
      },
      "outputs": [
        {
          "name": "stdout",
          "output_type": "stream",
          "text": [
            "0.906 accuracy with a standard deviation of 0.008\n",
            "0.905 F1 with a standard deviation of 0.008\n"
          ]
        }
      ],
      "source": [
        "#random oversampler\n",
        "accuracies = cross_val_score(SVM, X_train_ros, y_train_ros, cv=5)\n",
        "print(\"%0.3f accuracy with a standard deviation of %0.3f\" % (accuracies.mean(), accuracies.std()))\n",
        "f1_scores = cross_val_score(SVM, X_train_ros, y_train_ros, cv=5, scoring='f1_macro')\n",
        "print(\"%0.3f F1 with a standard deviation of %0.3f\" % (f1_scores.mean(), f1_scores.std()))"
      ]
    },
    {
      "cell_type": "code",
      "execution_count": null,
      "metadata": {
        "colab": {
          "base_uri": "https://localhost:8080/"
        },
        "id": "4RjJVRRyeGRe",
        "outputId": "d4fcb45f-ee90-4def-9ba9-9fa5688939f3"
      },
      "outputs": [
        {
          "name": "stdout",
          "output_type": "stream",
          "text": [
            "0.905 accuracy with a standard deviation of 0.008\n",
            "0.904 F1 with a standard deviation of 0.008\n"
          ]
        }
      ],
      "source": [
        "#SMOTE\n",
        "accuracies = cross_val_score(SVM, X_train_smote, y_train_smote, cv=5)\n",
        "print(\"%0.3f accuracy with a standard deviation of %0.3f\" % (accuracies.mean(), accuracies.std()))\n",
        "f1_scores = cross_val_score(SVM, X_train_smote, y_train_smote, cv=5, scoring='f1_macro')\n",
        "print(\"%0.3f F1 with a standard deviation of %0.3f\" % (f1_scores.mean(), f1_scores.std()))"
      ]
    },
    {
      "cell_type": "code",
      "execution_count": null,
      "metadata": {
        "colab": {
          "base_uri": "https://localhost:8080/"
        },
        "id": "TVlEwDnVeGRe",
        "outputId": "b38912df-83ee-4058-f0a9-2b2f1ad696dd"
      },
      "outputs": [
        {
          "name": "stdout",
          "output_type": "stream",
          "text": [
            "0.558 accuracy with a standard deviation of 0.098\n",
            "0.483 F1 with a standard deviation of 0.114\n"
          ]
        }
      ],
      "source": [
        "#random undersampler\n",
        "accuracies = cross_val_score(SVM, X_train_rus, y_train_rus, cv=5)\n",
        "print(\"%0.3f accuracy with a standard deviation of %0.3f\" % (accuracies.mean(), accuracies.std()))\n",
        "f1_scores = cross_val_score(SVM, X_train_rus, y_train_rus, cv=5, scoring='f1_macro')\n",
        "print(\"%0.3f F1 with a standard deviation of %0.3f\" % (f1_scores.mean(), f1_scores.std()))"
      ]
    },
    {
      "cell_type": "code",
      "execution_count": null,
      "metadata": {
        "colab": {
          "base_uri": "https://localhost:8080/"
        },
        "id": "LBnqrnKeeGRe",
        "outputId": "9fd24d30-6c5e-4b15-e1c5-13f390d17b26"
      },
      "outputs": [
        {
          "name": "stdout",
          "output_type": "stream",
          "text": [
            "0.613 accuracy with a standard deviation of 0.004\n",
            "0.190 F1 with a standard deviation of 0.001\n"
          ]
        }
      ],
      "source": [
        "#nearmiss\n",
        "accuracies = cross_val_score(SVM, X_train_nearmiss, y_train_nearmiss, cv=5)\n",
        "print(\"%0.3f accuracy with a standard deviation of %0.3f\" % (accuracies.mean(), accuracies.std()))\n",
        "f1_scores = cross_val_score(SVM, X_train_nearmiss, y_train_nearmiss, cv=5, scoring='f1_macro')\n",
        "print(\"%0.3f F1 with a standard deviation of %0.3f\" % (f1_scores.mean(), f1_scores.std()))"
      ]
    },
    {
      "cell_type": "markdown",
      "metadata": {
        "id": "inI5U3JPJ-Pt"
      },
      "source": [
        "## Training Random Forest"
      ]
    },
    {
      "cell_type": "code",
      "execution_count": null,
      "metadata": {
        "colab": {
          "base_uri": "https://localhost:8080/"
        },
        "id": "bhd5_vVEzKx2",
        "outputId": "82ee30fb-08fe-4708-8541-8d38ed8041fc"
      },
      "outputs": [
        {
          "name": "stdout",
          "output_type": "stream",
          "text": [
            "Fitting 5 folds for each of 108 candidates, totalling 540 fits\n"
          ]
        }
      ],
      "source": [
        "#Grid searching best hyperparameters\n",
        "rf_test = RandomForestClassifier()\n",
        "\n",
        "param_grid = { \n",
        "    'n_estimators': [100, 200, 300],\n",
        "    'max_features': [None, 'sqrt'],\n",
        "    'min_samples_leaf': [1, 3, 5],\n",
        "    'min_samples_split': [2, 4, 8],\n",
        "    'max_depth' : [10, None]\n",
        "}\n",
        "\n",
        "clf = GridSearchCV(rf_test, param_grid, n_jobs=-1, cv=5, scoring='f1_macro', verbose=2)\n",
        "clf.fit(X_train_smote, y_train_smote)"
      ]
    },
    {
      "cell_type": "code",
      "execution_count": null,
      "metadata": {
        "colab": {
          "background_save": true
        },
        "id": "AELabwkcmmi-",
        "outputId": "8899e35b-367f-4098-944c-8bdd5c2eed5d"
      },
      "outputs": [
        {
          "name": "stdout",
          "output_type": "stream",
          "text": [
            "Best parameters found:\n",
            " {'max_depth': None, 'max_features': 'sqrt', 'min_samples_leaf': 1, 'min_samples_split': 2, 'n_estimators': 200}\n"
          ]
        }
      ],
      "source": [
        "print('Best parameters found:\\n', clf.best_params_)"
      ]
    },
    {
      "cell_type": "code",
      "execution_count": null,
      "metadata": {
        "id": "UK7bwxOHmmi-"
      },
      "outputs": [],
      "source": [
        "means = clf.cv_results_['mean_test_score']\n",
        "stds = clf.cv_results_['std_test_score']\n",
        "for mean, std, params in zip(means, stds, clf.cv_results_['params']):\n",
        "    print(\"%0.3f (+/-%0.03f) for %r\" % (mean, std * 2, params))"
      ]
    },
    {
      "cell_type": "code",
      "execution_count": null,
      "metadata": {
        "colab": {
          "base_uri": "https://localhost:8080/"
        },
        "id": "fEsHfCEPmdy4",
        "outputId": "c170f87d-fdb0-4e7c-9bea-92f6b75e2e74"
      },
      "outputs": [
        {
          "output_type": "stream",
          "name": "stdout",
          "text": [
            "0.9990306605832521\n",
            "Training Accuracy: 1.0\n",
            "Test Accuracy: 0.9980260560600079\n",
            "Test F1: 0.9928967895725164\n"
          ]
        }
      ],
      "source": [
        "#Using best hyperparameters\n",
        "rf = RandomForestClassifier(max_depth= None, max_features= 'sqrt' ,min_samples_leaf= 1, min_samples_split= 2, n_estimators=200)\n",
        "f1_scores = cross_val_score(rf, X_train_smote, y_train_smote, cv=5, scoring='f1_macro')\n",
        "print(np.mean(f1_scores))\n",
        "rf.fit(X_train_smote, y_train_smote)\n",
        "train_preds = rf.predict(X_train_smote)\n",
        "train_accuracy = accuracy_score(y_train_smote, train_preds)\n",
        "print(\"Training Accuracy:\", train_accuracy)\n",
        "predictions = rf.predict(test_features)\n",
        "accuracy = accuracy_score(test_labels, predictions)\n",
        "f1 = f1_score(test_labels, predictions, average='macro')\n",
        "print(\"Test Accuracy:\", accuracy)\n",
        "print(\"Test F1:\", f1)"
      ]
    },
    {
      "cell_type": "code",
      "execution_count": null,
      "metadata": {
        "colab": {
          "base_uri": "https://localhost:8080/"
        },
        "id": "k-N2tFGFLx80",
        "outputId": "707f03aa-5915-42e6-995d-fc481e72dd09"
      },
      "outputs": [
        {
          "name": "stdout",
          "output_type": "stream",
          "text": [
            "Test Accuracy: 0.9980260560600079\n",
            "Test F1: 0.9928967895725164\n"
          ]
        }
      ],
      "source": [
        "predictions = rf.predict(test_features)\n",
        "accuracy = accuracy_score(test_labels, predictions)\n",
        "f1 = f1_score(test_labels, predictions, average='macro')\n",
        "print(\"Test Accuracy:\", accuracy)\n",
        "print(\"Test F1:\", f1)\n"
      ]
    },
    {
      "cell_type": "code",
      "execution_count": null,
      "metadata": {
        "colab": {
          "base_uri": "https://localhost:8080/",
          "height": 466
        },
        "id": "4dDVpBSZMB_E",
        "outputId": "ecb94c8e-b983-48be-e290-b7f69fe0b8bc"
      },
      "outputs": [
        {
          "output_type": "execute_result",
          "data": {
            "text/plain": [
              "<sklearn.metrics._plot.confusion_matrix.ConfusionMatrixDisplay at 0x7f687629f6d0>"
            ]
          },
          "metadata": {},
          "execution_count": 11
        },
        {
          "output_type": "display_data",
          "data": {
            "text/plain": [
              "<Figure size 640x480 with 2 Axes>"
            ],
            "image/png": "[encoded data removed]"
          },
          "metadata": {}
        }
      ],
      "source": [
        "cm = confusion_matrix(test_labels, predictions)\n",
        "ConfusionMatrixDisplay(confusion_matrix=cm).plot()"
      ]
    },
    {
      "cell_type": "code",
      "execution_count": null,
      "metadata": {
        "colab": {
          "base_uri": "https://localhost:8080/"
        },
        "id": "puk8CtHjhjHo",
        "outputId": "307a92d9-f646-4111-8d4f-bbcc3bbf36b6"
      },
      "outputs": [
        {
          "output_type": "stream",
          "name": "stdout",
          "text": [
            "              precision    recall  f1-score   support\n",
            "\n",
            "           0       1.00      1.00      1.00      2040\n",
            "           1       0.99      1.00      1.00       125\n",
            "           2       0.99      0.98      0.99       200\n",
            "           3       0.98      0.99      0.99       168\n",
            "\n",
            "    accuracy                           1.00      2533\n",
            "   macro avg       0.99      0.99      0.99      2533\n",
            "weighted avg       1.00      1.00      1.00      2533\n",
            "\n"
          ]
        }
      ],
      "source": [
        "print(classification_report(test_labels, predictions))"
      ]
    },
    {
      "cell_type": "code",
      "source": [
        "importances = rf.feature_importances_\n",
        "importances"
      ],
      "metadata": {
        "colab": {
          "base_uri": "https://localhost:8080/"
        },
        "id": "IVNK7hXUmRwV",
        "outputId": "608dbc39-dd76-4993-cb62-2c52d18933fb"
      },
      "execution_count": null,
      "outputs": [
        {
          "output_type": "execute_result",
          "data": {
            "text/plain": [
              "array([0.05384587, 0.04670374, 0.05439373, 0.0221144 , 0.17446932,\n",
              "       0.16100782, 0.11629243, 0.08185726, 0.07392548, 0.04187328,\n",
              "       0.02410892, 0.00638361, 0.09278188, 0.03993208, 0.00233996,\n",
              "       0.00797023])"
            ]
          },
          "metadata": {},
          "execution_count": 14
        }
      ]
    },
    {
      "cell_type": "code",
      "execution_count": null,
      "metadata": {
        "colab": {
          "base_uri": "https://localhost:8080/",
          "height": 487
        },
        "id": "MLFEPEJuJ65p",
        "outputId": "6a5979eb-a05a-45a5-a822-3d897b3862cd"
      },
      "outputs": [
        {
          "output_type": "display_data",
          "data": {
            "text/plain": [
              "<Figure size 640x480 with 1 Axes>"
            ],
            "image/png": "[encoded data removed]"
          },
          "metadata": {}
        }
      ],
      "source": [
        "importances = rf.feature_importances_\n",
        "importances = pd.Series(importances, index=df_min_max_scaled.columns.to_list())\n",
        "\n",
        "fig, ax = plt.subplots()\n",
        "importances.plot.bar( ax=ax)\n",
        "ax.set_title(\"Feature importances\")\n",
        "ax.set_ylabel(\"Mean decrease in impurity\")\n",
        "fig.tight_layout()"
      ]
    },
    {
      "cell_type": "markdown",
      "metadata": {
        "id": "IKOCdeTzNXaN"
      },
      "source": [
        "## Training MLP"
      ]
    },
    {
      "cell_type": "code",
      "execution_count": null,
      "metadata": {
        "colab": {
          "base_uri": "https://localhost:8080/",
          "height": 135
        },
        "id": "zM-w1sj9Gcng",
        "outputId": "2bb2ea01-bef8-4588-90e4-aec46106018c"
      },
      "outputs": [
        {
          "output_type": "stream",
          "name": "stdout",
          "text": [
            "Fitting 5 folds for each of 72 candidates, totalling 360 fits\n"
          ]
        },
        {
          "output_type": "execute_result",
          "data": {
            "text/plain": [
              "GridSearchCV(cv=5, estimator=MLPClassifier(max_iter=500), n_jobs=-1,\n",
              "             param_grid={'activation': ['tanh', 'relu'],\n",
              "                         'alpha': [0.0001, 0.001, 0.01],\n",
              "                         'hidden_layer_sizes': [(10,), (20,), (10, 10)],\n",
              "                         'learning_rate': ['constant', 'adaptive'],\n",
              "                         'solver': ['sgd', 'adam']},\n",
              "             scoring='f1_macro', verbose=2)"
            ],
            "text/html": [
              "<style>#sk-container-id-1 {color: black;background-color: white;}#sk-container-id-1 pre{padding: 0;}#sk-container-id-1 div.sk-toggleable {background-color: white;}#sk-container-id-1 label.sk-toggleable__label {cursor: pointer;display: block;width: 100%;margin-bottom: 0;padding: 0.3em;box-sizing: border-box;text-align: center;}#sk-container-id-1 label.sk-toggleable__label-arrow:before {content: \"▸\";float: left;margin-right: 0.25em;color: #696969;}#sk-container-id-1 label.sk-toggleable__label-arrow:hover:before {color: black;}#sk-container-id-1 div.sk-estimator:hover label.sk-toggleable__label-arrow:before {color: black;}#sk-container-id-1 div.sk-toggleable__content {max-height: 0;max-width: 0;overflow: hidden;text-align: left;background-color: #f0f8ff;}#sk-container-id-1 div.sk-toggleable__content pre {margin: 0.2em;color: black;border-radius: 0.25em;background-color: #f0f8ff;}#sk-container-id-1 input.sk-toggleable__control:checked~div.sk-toggleable__content {max-height: 200px;max-width: 100%;overflow: auto;}#sk-container-id-1 input.sk-toggleable__control:checked~label.sk-toggleable__label-arrow:before {content: \"▾\";}#sk-container-id-1 div.sk-estimator input.sk-toggleable__control:checked~label.sk-toggleable__label {background-color: #d4ebff;}#sk-container-id-1 div.sk-label input.sk-toggleable__control:checked~label.sk-toggleable__label {background-color: #d4ebff;}#sk-container-id-1 input.sk-hidden--visually {border: 0;clip: rect(1px 1px 1px 1px);clip: rect(1px, 1px, 1px, 1px);height: 1px;margin: -1px;overflow: hidden;padding: 0;position: absolute;width: 1px;}#sk-container-id-1 div.sk-estimator {font-family: monospace;background-color: #f0f8ff;border: 1px dotted black;border-radius: 0.25em;box-sizing: border-box;margin-bottom: 0.5em;}#sk-container-id-1 div.sk-estimator:hover {background-color: #d4ebff;}#sk-container-id-1 div.sk-parallel-item::after {content: \"\";width: 100%;border-bottom: 1px solid gray;flex-grow: 1;}#sk-container-id-1 div.sk-label:hover label.sk-toggleable__label {background-color: #d4ebff;}#sk-container-id-1 div.sk-serial::before {content: \"\";position: absolute;border-left: 1px solid gray;box-sizing: border-box;top: 0;bottom: 0;left: 50%;z-index: 0;}#sk-container-id-1 div.sk-serial {display: flex;flex-direction: column;align-items: center;background-color: white;padding-right: 0.2em;padding-left: 0.2em;position: relative;}#sk-container-id-1 div.sk-item {position: relative;z-index: 1;}#sk-container-id-1 div.sk-parallel {display: flex;align-items: stretch;justify-content: center;background-color: white;position: relative;}#sk-container-id-1 div.sk-item::before, #sk-container-id-1 div.sk-parallel-item::before {content: \"\";position: absolute;border-left: 1px solid gray;box-sizing: border-box;top: 0;bottom: 0;left: 50%;z-index: -1;}#sk-container-id-1 div.sk-parallel-item {display: flex;flex-direction: column;z-index: 1;position: relative;background-color: white;}#sk-container-id-1 div.sk-parallel-item:first-child::after {align-self: flex-end;width: 50%;}#sk-container-id-1 div.sk-parallel-item:last-child::after {align-self: flex-start;width: 50%;}#sk-container-id-1 div.sk-parallel-item:only-child::after {width: 0;}#sk-container-id-1 div.sk-dashed-wrapped {border: 1px dashed gray;margin: 0 0.4em 0.5em 0.4em;box-sizing: border-box;padding-bottom: 0.4em;background-color: white;}#sk-container-id-1 div.sk-label label {font-family: monospace;font-weight: bold;display: inline-block;line-height: 1.2em;}#sk-container-id-1 div.sk-label-container {text-align: center;}#sk-container-id-1 div.sk-container {/* jupyter's `normalize.less` sets `[hidden] { display: none; }` but bootstrap.min.css set `[hidden] { display: none !important; }` so we also need the `!important` here to be able to override the default hidden behavior on the sphinx rendered scikit-learn.org. See: https://github.com/scikit-learn/scikit-learn/issues/21755 */display: inline-block !important;position: relative;}#sk-container-id-1 div.sk-text-repr-fallback {display: none;}</style><div id=\"sk-container-id-1\" class=\"sk-top-container\"><div class=\"sk-text-repr-fallback\"><pre>GridSearchCV(cv=5, estimator=MLPClassifier(max_iter=500), n_jobs=-1,\n",
              "             param_grid={&#x27;activation&#x27;: [&#x27;tanh&#x27;, &#x27;relu&#x27;],\n",
              "                         &#x27;alpha&#x27;: [0.0001, 0.001, 0.01],\n",
              "                         &#x27;hidden_layer_sizes&#x27;: [(10,), (20,), (10, 10)],\n",
              "                         &#x27;learning_rate&#x27;: [&#x27;constant&#x27;, &#x27;adaptive&#x27;],\n",
              "                         &#x27;solver&#x27;: [&#x27;sgd&#x27;, &#x27;adam&#x27;]},\n",
              "             scoring=&#x27;f1_macro&#x27;, verbose=2)</pre><b>In a Jupyter environment, please rerun this cell to show the HTML representation or trust the notebook. <br />On GitHub, the HTML representation is unable to render, please try loading this page with nbviewer.org.</b></div><div class=\"sk-container\" hidden><div class=\"sk-item sk-dashed-wrapped\"><div class=\"sk-label-container\"><div class=\"sk-label sk-toggleable\"><input class=\"sk-toggleable__control sk-hidden--visually\" id=\"sk-estimator-id-1\" type=\"checkbox\" ><label for=\"sk-estimator-id-1\" class=\"sk-toggleable__label sk-toggleable__label-arrow\">GridSearchCV</label><div class=\"sk-toggleable__content\"><pre>GridSearchCV(cv=5, estimator=MLPClassifier(max_iter=500), n_jobs=-1,\n",
              "             param_grid={&#x27;activation&#x27;: [&#x27;tanh&#x27;, &#x27;relu&#x27;],\n",
              "                         &#x27;alpha&#x27;: [0.0001, 0.001, 0.01],\n",
              "                         &#x27;hidden_layer_sizes&#x27;: [(10,), (20,), (10, 10)],\n",
              "                         &#x27;learning_rate&#x27;: [&#x27;constant&#x27;, &#x27;adaptive&#x27;],\n",
              "                         &#x27;solver&#x27;: [&#x27;sgd&#x27;, &#x27;adam&#x27;]},\n",
              "             scoring=&#x27;f1_macro&#x27;, verbose=2)</pre></div></div></div><div class=\"sk-parallel\"><div class=\"sk-parallel-item\"><div class=\"sk-item\"><div class=\"sk-label-container\"><div class=\"sk-label sk-toggleable\"><input class=\"sk-toggleable__control sk-hidden--visually\" id=\"sk-estimator-id-2\" type=\"checkbox\" ><label for=\"sk-estimator-id-2\" class=\"sk-toggleable__label sk-toggleable__label-arrow\">estimator: MLPClassifier</label><div class=\"sk-toggleable__content\"><pre>MLPClassifier(max_iter=500)</pre></div></div></div><div class=\"sk-serial\"><div class=\"sk-item\"><div class=\"sk-estimator sk-toggleable\"><input class=\"sk-toggleable__control sk-hidden--visually\" id=\"sk-estimator-id-3\" type=\"checkbox\" ><label for=\"sk-estimator-id-3\" class=\"sk-toggleable__label sk-toggleable__label-arrow\">MLPClassifier</label><div class=\"sk-toggleable__content\"><pre>MLPClassifier(max_iter=500)</pre></div></div></div></div></div></div></div></div></div></div>"
            ]
          },
          "metadata": {},
          "execution_count": 19
        }
      ],
      "source": [
        "#Grid search of best hyperparameters\n",
        "MLP_test = MLPClassifier(max_iter=500)\n",
        "parameter_grid = {\n",
        "    'hidden_layer_sizes': [(10,),(20,),(10,10)],\n",
        "    'activation': ['tanh', 'relu'],\n",
        "    'solver': ['sgd', 'adam'],\n",
        "    'alpha': [0.0001, 0.001, 0.01],\n",
        "    'learning_rate': ['constant','adaptive'],\n",
        "}\n",
        "clf = GridSearchCV(MLP_test, parameter_grid, n_jobs=-1, cv=5, scoring='f1_macro', verbose=2)\n",
        "clf.fit(X_train_smote, y_train_smote)"
      ]
    },
    {
      "cell_type": "code",
      "execution_count": null,
      "metadata": {
        "colab": {
          "base_uri": "https://localhost:8080/"
        },
        "id": "R_Fd_j5hHiqg",
        "outputId": "2f24f8c8-276f-42f5-bea5-b468783785c5"
      },
      "outputs": [
        {
          "output_type": "stream",
          "name": "stdout",
          "text": [
            "Best parameters found:\n",
            " {'activation': 'tanh', 'alpha': 0.001, 'hidden_layer_sizes': (10, 10), 'learning_rate': 'adaptive', 'solver': 'adam'}\n"
          ]
        }
      ],
      "source": [
        "print('Best parameters found:\\n', clf.best_params_)"
      ]
    },
    {
      "cell_type": "code",
      "execution_count": null,
      "metadata": {
        "colab": {
          "base_uri": "https://localhost:8080/"
        },
        "id": "WX4nvDNuHpwa",
        "outputId": "1cb65dd9-4711-4aec-f0c2-9582ec9b2d5c"
      },
      "outputs": [
        {
          "output_type": "stream",
          "name": "stdout",
          "text": [
            "0.987 (+/-0.004) for {'activation': 'tanh', 'alpha': 0.0001, 'hidden_layer_sizes': (10,), 'learning_rate': 'constant', 'solver': 'sgd'}\n",
            "0.993 (+/-0.003) for {'activation': 'tanh', 'alpha': 0.0001, 'hidden_layer_sizes': (10,), 'learning_rate': 'constant', 'solver': 'adam'}\n",
            "0.988 (+/-0.004) for {'activation': 'tanh', 'alpha': 0.0001, 'hidden_layer_sizes': (10,), 'learning_rate': 'adaptive', 'solver': 'sgd'}\n",
            "0.993 (+/-0.005) for {'activation': 'tanh', 'alpha': 0.0001, 'hidden_layer_sizes': (10,), 'learning_rate': 'adaptive', 'solver': 'adam'}\n",
            "0.988 (+/-0.004) for {'activation': 'tanh', 'alpha': 0.0001, 'hidden_layer_sizes': (20,), 'learning_rate': 'constant', 'solver': 'sgd'}\n",
            "0.994 (+/-0.004) for {'activation': 'tanh', 'alpha': 0.0001, 'hidden_layer_sizes': (20,), 'learning_rate': 'constant', 'solver': 'adam'}\n",
            "0.987 (+/-0.005) for {'activation': 'tanh', 'alpha': 0.0001, 'hidden_layer_sizes': (20,), 'learning_rate': 'adaptive', 'solver': 'sgd'}\n",
            "0.994 (+/-0.003) for {'activation': 'tanh', 'alpha': 0.0001, 'hidden_layer_sizes': (20,), 'learning_rate': 'adaptive', 'solver': 'adam'}\n",
            "0.990 (+/-0.003) for {'activation': 'tanh', 'alpha': 0.0001, 'hidden_layer_sizes': (10, 10), 'learning_rate': 'constant', 'solver': 'sgd'}\n",
            "0.994 (+/-0.006) for {'activation': 'tanh', 'alpha': 0.0001, 'hidden_layer_sizes': (10, 10), 'learning_rate': 'constant', 'solver': 'adam'}\n",
            "0.990 (+/-0.003) for {'activation': 'tanh', 'alpha': 0.0001, 'hidden_layer_sizes': (10, 10), 'learning_rate': 'adaptive', 'solver': 'sgd'}\n",
            "0.993 (+/-0.004) for {'activation': 'tanh', 'alpha': 0.0001, 'hidden_layer_sizes': (10, 10), 'learning_rate': 'adaptive', 'solver': 'adam'}\n",
            "0.987 (+/-0.005) for {'activation': 'tanh', 'alpha': 0.001, 'hidden_layer_sizes': (10,), 'learning_rate': 'constant', 'solver': 'sgd'}\n",
            "0.992 (+/-0.004) for {'activation': 'tanh', 'alpha': 0.001, 'hidden_layer_sizes': (10,), 'learning_rate': 'constant', 'solver': 'adam'}\n",
            "0.988 (+/-0.004) for {'activation': 'tanh', 'alpha': 0.001, 'hidden_layer_sizes': (10,), 'learning_rate': 'adaptive', 'solver': 'sgd'}\n",
            "0.992 (+/-0.004) for {'activation': 'tanh', 'alpha': 0.001, 'hidden_layer_sizes': (10,), 'learning_rate': 'adaptive', 'solver': 'adam'}\n",
            "0.987 (+/-0.004) for {'activation': 'tanh', 'alpha': 0.001, 'hidden_layer_sizes': (20,), 'learning_rate': 'constant', 'solver': 'sgd'}\n",
            "0.994 (+/-0.002) for {'activation': 'tanh', 'alpha': 0.001, 'hidden_layer_sizes': (20,), 'learning_rate': 'constant', 'solver': 'adam'}\n",
            "0.987 (+/-0.003) for {'activation': 'tanh', 'alpha': 0.001, 'hidden_layer_sizes': (20,), 'learning_rate': 'adaptive', 'solver': 'sgd'}\n",
            "0.993 (+/-0.005) for {'activation': 'tanh', 'alpha': 0.001, 'hidden_layer_sizes': (20,), 'learning_rate': 'adaptive', 'solver': 'adam'}\n",
            "0.990 (+/-0.004) for {'activation': 'tanh', 'alpha': 0.001, 'hidden_layer_sizes': (10, 10), 'learning_rate': 'constant', 'solver': 'sgd'}\n",
            "0.994 (+/-0.003) for {'activation': 'tanh', 'alpha': 0.001, 'hidden_layer_sizes': (10, 10), 'learning_rate': 'constant', 'solver': 'adam'}\n",
            "0.990 (+/-0.003) for {'activation': 'tanh', 'alpha': 0.001, 'hidden_layer_sizes': (10, 10), 'learning_rate': 'adaptive', 'solver': 'sgd'}\n",
            "0.995 (+/-0.005) for {'activation': 'tanh', 'alpha': 0.001, 'hidden_layer_sizes': (10, 10), 'learning_rate': 'adaptive', 'solver': 'adam'}\n",
            "0.987 (+/-0.002) for {'activation': 'tanh', 'alpha': 0.01, 'hidden_layer_sizes': (10,), 'learning_rate': 'constant', 'solver': 'sgd'}\n",
            "0.991 (+/-0.004) for {'activation': 'tanh', 'alpha': 0.01, 'hidden_layer_sizes': (10,), 'learning_rate': 'constant', 'solver': 'adam'}\n",
            "0.987 (+/-0.005) for {'activation': 'tanh', 'alpha': 0.01, 'hidden_layer_sizes': (10,), 'learning_rate': 'adaptive', 'solver': 'sgd'}\n",
            "0.991 (+/-0.003) for {'activation': 'tanh', 'alpha': 0.01, 'hidden_layer_sizes': (10,), 'learning_rate': 'adaptive', 'solver': 'adam'}\n",
            "0.987 (+/-0.004) for {'activation': 'tanh', 'alpha': 0.01, 'hidden_layer_sizes': (20,), 'learning_rate': 'constant', 'solver': 'sgd'}\n",
            "0.991 (+/-0.004) for {'activation': 'tanh', 'alpha': 0.01, 'hidden_layer_sizes': (20,), 'learning_rate': 'constant', 'solver': 'adam'}\n",
            "0.987 (+/-0.003) for {'activation': 'tanh', 'alpha': 0.01, 'hidden_layer_sizes': (20,), 'learning_rate': 'adaptive', 'solver': 'sgd'}\n",
            "0.991 (+/-0.004) for {'activation': 'tanh', 'alpha': 0.01, 'hidden_layer_sizes': (20,), 'learning_rate': 'adaptive', 'solver': 'adam'}\n",
            "0.989 (+/-0.004) for {'activation': 'tanh', 'alpha': 0.01, 'hidden_layer_sizes': (10, 10), 'learning_rate': 'constant', 'solver': 'sgd'}\n",
            "0.993 (+/-0.004) for {'activation': 'tanh', 'alpha': 0.01, 'hidden_layer_sizes': (10, 10), 'learning_rate': 'constant', 'solver': 'adam'}\n",
            "0.990 (+/-0.004) for {'activation': 'tanh', 'alpha': 0.01, 'hidden_layer_sizes': (10, 10), 'learning_rate': 'adaptive', 'solver': 'sgd'}\n",
            "0.992 (+/-0.004) for {'activation': 'tanh', 'alpha': 0.01, 'hidden_layer_sizes': (10, 10), 'learning_rate': 'adaptive', 'solver': 'adam'}\n",
            "0.988 (+/-0.003) for {'activation': 'relu', 'alpha': 0.0001, 'hidden_layer_sizes': (10,), 'learning_rate': 'constant', 'solver': 'sgd'}\n",
            "0.992 (+/-0.004) for {'activation': 'relu', 'alpha': 0.0001, 'hidden_layer_sizes': (10,), 'learning_rate': 'constant', 'solver': 'adam'}\n",
            "0.988 (+/-0.004) for {'activation': 'relu', 'alpha': 0.0001, 'hidden_layer_sizes': (10,), 'learning_rate': 'adaptive', 'solver': 'sgd'}\n",
            "0.991 (+/-0.005) for {'activation': 'relu', 'alpha': 0.0001, 'hidden_layer_sizes': (10,), 'learning_rate': 'adaptive', 'solver': 'adam'}\n",
            "0.987 (+/-0.005) for {'activation': 'relu', 'alpha': 0.0001, 'hidden_layer_sizes': (20,), 'learning_rate': 'constant', 'solver': 'sgd'}\n",
            "0.993 (+/-0.006) for {'activation': 'relu', 'alpha': 0.0001, 'hidden_layer_sizes': (20,), 'learning_rate': 'constant', 'solver': 'adam'}\n",
            "0.987 (+/-0.005) for {'activation': 'relu', 'alpha': 0.0001, 'hidden_layer_sizes': (20,), 'learning_rate': 'adaptive', 'solver': 'sgd'}\n",
            "0.992 (+/-0.005) for {'activation': 'relu', 'alpha': 0.0001, 'hidden_layer_sizes': (20,), 'learning_rate': 'adaptive', 'solver': 'adam'}\n",
            "0.988 (+/-0.004) for {'activation': 'relu', 'alpha': 0.0001, 'hidden_layer_sizes': (10, 10), 'learning_rate': 'constant', 'solver': 'sgd'}\n",
            "0.993 (+/-0.005) for {'activation': 'relu', 'alpha': 0.0001, 'hidden_layer_sizes': (10, 10), 'learning_rate': 'constant', 'solver': 'adam'}\n",
            "0.990 (+/-0.005) for {'activation': 'relu', 'alpha': 0.0001, 'hidden_layer_sizes': (10, 10), 'learning_rate': 'adaptive', 'solver': 'sgd'}\n",
            "0.993 (+/-0.005) for {'activation': 'relu', 'alpha': 0.0001, 'hidden_layer_sizes': (10, 10), 'learning_rate': 'adaptive', 'solver': 'adam'}\n",
            "0.986 (+/-0.003) for {'activation': 'relu', 'alpha': 0.001, 'hidden_layer_sizes': (10,), 'learning_rate': 'constant', 'solver': 'sgd'}\n",
            "0.991 (+/-0.005) for {'activation': 'relu', 'alpha': 0.001, 'hidden_layer_sizes': (10,), 'learning_rate': 'constant', 'solver': 'adam'}\n",
            "0.987 (+/-0.003) for {'activation': 'relu', 'alpha': 0.001, 'hidden_layer_sizes': (10,), 'learning_rate': 'adaptive', 'solver': 'sgd'}\n",
            "0.991 (+/-0.004) for {'activation': 'relu', 'alpha': 0.001, 'hidden_layer_sizes': (10,), 'learning_rate': 'adaptive', 'solver': 'adam'}\n",
            "0.988 (+/-0.003) for {'activation': 'relu', 'alpha': 0.001, 'hidden_layer_sizes': (20,), 'learning_rate': 'constant', 'solver': 'sgd'}\n",
            "0.993 (+/-0.005) for {'activation': 'relu', 'alpha': 0.001, 'hidden_layer_sizes': (20,), 'learning_rate': 'constant', 'solver': 'adam'}\n",
            "0.988 (+/-0.006) for {'activation': 'relu', 'alpha': 0.001, 'hidden_layer_sizes': (20,), 'learning_rate': 'adaptive', 'solver': 'sgd'}\n",
            "0.992 (+/-0.008) for {'activation': 'relu', 'alpha': 0.001, 'hidden_layer_sizes': (20,), 'learning_rate': 'adaptive', 'solver': 'adam'}\n",
            "0.989 (+/-0.003) for {'activation': 'relu', 'alpha': 0.001, 'hidden_layer_sizes': (10, 10), 'learning_rate': 'constant', 'solver': 'sgd'}\n",
            "0.992 (+/-0.004) for {'activation': 'relu', 'alpha': 0.001, 'hidden_layer_sizes': (10, 10), 'learning_rate': 'constant', 'solver': 'adam'}\n",
            "0.989 (+/-0.004) for {'activation': 'relu', 'alpha': 0.001, 'hidden_layer_sizes': (10, 10), 'learning_rate': 'adaptive', 'solver': 'sgd'}\n",
            "0.992 (+/-0.001) for {'activation': 'relu', 'alpha': 0.001, 'hidden_layer_sizes': (10, 10), 'learning_rate': 'adaptive', 'solver': 'adam'}\n",
            "0.987 (+/-0.007) for {'activation': 'relu', 'alpha': 0.01, 'hidden_layer_sizes': (10,), 'learning_rate': 'constant', 'solver': 'sgd'}\n",
            "0.990 (+/-0.004) for {'activation': 'relu', 'alpha': 0.01, 'hidden_layer_sizes': (10,), 'learning_rate': 'constant', 'solver': 'adam'}\n",
            "0.987 (+/-0.003) for {'activation': 'relu', 'alpha': 0.01, 'hidden_layer_sizes': (10,), 'learning_rate': 'adaptive', 'solver': 'sgd'}\n",
            "0.991 (+/-0.003) for {'activation': 'relu', 'alpha': 0.01, 'hidden_layer_sizes': (10,), 'learning_rate': 'adaptive', 'solver': 'adam'}\n",
            "0.986 (+/-0.004) for {'activation': 'relu', 'alpha': 0.01, 'hidden_layer_sizes': (20,), 'learning_rate': 'constant', 'solver': 'sgd'}\n",
            "0.991 (+/-0.003) for {'activation': 'relu', 'alpha': 0.01, 'hidden_layer_sizes': (20,), 'learning_rate': 'constant', 'solver': 'adam'}\n",
            "0.988 (+/-0.004) for {'activation': 'relu', 'alpha': 0.01, 'hidden_layer_sizes': (20,), 'learning_rate': 'adaptive', 'solver': 'sgd'}\n",
            "0.990 (+/-0.003) for {'activation': 'relu', 'alpha': 0.01, 'hidden_layer_sizes': (20,), 'learning_rate': 'adaptive', 'solver': 'adam'}\n",
            "0.989 (+/-0.004) for {'activation': 'relu', 'alpha': 0.01, 'hidden_layer_sizes': (10, 10), 'learning_rate': 'constant', 'solver': 'sgd'}\n",
            "0.991 (+/-0.006) for {'activation': 'relu', 'alpha': 0.01, 'hidden_layer_sizes': (10, 10), 'learning_rate': 'constant', 'solver': 'adam'}\n",
            "0.960 (+/-0.110) for {'activation': 'relu', 'alpha': 0.01, 'hidden_layer_sizes': (10, 10), 'learning_rate': 'adaptive', 'solver': 'sgd'}\n",
            "0.991 (+/-0.006) for {'activation': 'relu', 'alpha': 0.01, 'hidden_layer_sizes': (10, 10), 'learning_rate': 'adaptive', 'solver': 'adam'}\n"
          ]
        }
      ],
      "source": [
        "means = clf.cv_results_['mean_test_score']\n",
        "stds = clf.cv_results_['std_test_score']\n",
        "for mean, std, params in zip(means, stds, clf.cv_results_['params']):\n",
        "    print(\"%0.3f (+/-%0.03f) for %r\" % (mean, std * 2, params))"
      ]
    },
    {
      "cell_type": "code",
      "source": [
        "#Using best hyperparameters\n",
        "MLP = MLPClassifier(max_iter=500, activation= 'tanh', alpha= 0.001, hidden_layer_sizes= (10, 10), learning_rate= 'adaptive', solver= 'adam')\n",
        "f1_scores = cross_val_score(MLP, X_train_smote, y_train_smote, cv=5, scoring='f1_macro')\n",
        "print(np.mean(f1_scores))\n",
        "MLP.fit(X_train_smote, y_train_smote)\n",
        "train_preds = MLP.predict(X_train_smote)\n",
        "train_accuracy = accuracy_score(y_train_smote, train_preds)\n",
        "print(\"Training Accuracy:\", train_accuracy)\n",
        "predictions = MLP.predict(test_features)\n",
        "accuracy = accuracy_score(test_labels, predictions)\n",
        "f1 = f1_score(test_labels, predictions, average='macro')\n",
        "print(\"Test Accuracy:\", accuracy)\n",
        "print(\"Test F1:\", f1)"
      ],
      "metadata": {
        "colab": {
          "base_uri": "https://localhost:8080/"
        },
        "id": "kSiV3EdimxWt",
        "outputId": "f0666e1e-4953-4e3f-cb14-1b507aec2ea4"
      },
      "execution_count": null,
      "outputs": [
        {
          "output_type": "stream",
          "name": "stdout",
          "text": [
            "0.9938211387562829\n",
            "Training Accuracy: 0.9966871363930188\n",
            "Test Accuracy: 0.9936833793920252\n",
            "Test F1: 0.980299642894333\n"
          ]
        }
      ]
    },
    {
      "cell_type": "code",
      "execution_count": null,
      "metadata": {
        "colab": {
          "base_uri": "https://localhost:8080/",
          "height": 466
        },
        "id": "skhO2K9KQ9ST",
        "outputId": "43ad013f-1fb2-4544-ae78-cc600a291804"
      },
      "outputs": [
        {
          "output_type": "execute_result",
          "data": {
            "text/plain": [
              "<sklearn.metrics._plot.confusion_matrix.ConfusionMatrixDisplay at 0x7f6876266e30>"
            ]
          },
          "metadata": {},
          "execution_count": 17
        },
        {
          "output_type": "display_data",
          "data": {
            "text/plain": [
              "<Figure size 640x480 with 2 Axes>"
            ],
            "image/png": "[encoded data removed]"
          },
          "metadata": {}
        }
      ],
      "source": [
        "cm = confusion_matrix(test_labels, predictions)\n",
        "ConfusionMatrixDisplay(confusion_matrix=cm).plot()"
      ]
    },
    {
      "cell_type": "code",
      "source": [
        "print(classification_report(test_labels, predictions))"
      ],
      "metadata": {
        "colab": {
          "base_uri": "https://localhost:8080/"
        },
        "id": "HllElJTZnQ2C",
        "outputId": "421e6501-6c25-402e-8aa3-a3f50edb8363"
      },
      "execution_count": null,
      "outputs": [
        {
          "output_type": "stream",
          "name": "stdout",
          "text": [
            "              precision    recall  f1-score   support\n",
            "\n",
            "           0       1.00      1.00      1.00      2040\n",
            "           1       0.99      1.00      1.00       125\n",
            "           2       0.98      0.94      0.96       200\n",
            "           3       0.95      0.98      0.96       168\n",
            "\n",
            "    accuracy                           0.99      2533\n",
            "   macro avg       0.98      0.98      0.98      2533\n",
            "weighted avg       0.99      0.99      0.99      2533\n",
            "\n"
          ]
        }
      ]
    },
    {
      "cell_type": "markdown",
      "metadata": {
        "id": "xVcvQTCsRvse"
      },
      "source": [
        "## Training SVM"
      ]
    },
    {
      "cell_type": "code",
      "execution_count": null,
      "metadata": {
        "colab": {
          "base_uri": "https://localhost:8080/",
          "height": 118
        },
        "id": "WN1ZPqU3o4Oy",
        "outputId": "21eef9c0-f1b1-4ac3-a711-8e43e5dc97f2"
      },
      "outputs": [
        {
          "data": {
            "text/html": [
              "<style>#sk-container-id-3 {color: black;background-color: white;}#sk-container-id-3 pre{padding: 0;}#sk-container-id-3 div.sk-toggleable {background-color: white;}#sk-container-id-3 label.sk-toggleable__label {cursor: pointer;display: block;width: 100%;margin-bottom: 0;padding: 0.3em;box-sizing: border-box;text-align: center;}#sk-container-id-3 label.sk-toggleable__label-arrow:before {content: \"▸\";float: left;margin-right: 0.25em;color: #696969;}#sk-container-id-3 label.sk-toggleable__label-arrow:hover:before {color: black;}#sk-container-id-3 div.sk-estimator:hover label.sk-toggleable__label-arrow:before {color: black;}#sk-container-id-3 div.sk-toggleable__content {max-height: 0;max-width: 0;overflow: hidden;text-align: left;background-color: #f0f8ff;}#sk-container-id-3 div.sk-toggleable__content pre {margin: 0.2em;color: black;border-radius: 0.25em;background-color: #f0f8ff;}#sk-container-id-3 input.sk-toggleable__control:checked~div.sk-toggleable__content {max-height: 200px;max-width: 100%;overflow: auto;}#sk-container-id-3 input.sk-toggleable__control:checked~label.sk-toggleable__label-arrow:before {content: \"▾\";}#sk-container-id-3 div.sk-estimator input.sk-toggleable__control:checked~label.sk-toggleable__label {background-color: #d4ebff;}#sk-container-id-3 div.sk-label input.sk-toggleable__control:checked~label.sk-toggleable__label {background-color: #d4ebff;}#sk-container-id-3 input.sk-hidden--visually {border: 0;clip: rect(1px 1px 1px 1px);clip: rect(1px, 1px, 1px, 1px);height: 1px;margin: -1px;overflow: hidden;padding: 0;position: absolute;width: 1px;}#sk-container-id-3 div.sk-estimator {font-family: monospace;background-color: #f0f8ff;border: 1px dotted black;border-radius: 0.25em;box-sizing: border-box;margin-bottom: 0.5em;}#sk-container-id-3 div.sk-estimator:hover {background-color: #d4ebff;}#sk-container-id-3 div.sk-parallel-item::after {content: \"\";width: 100%;border-bottom: 1px solid gray;flex-grow: 1;}#sk-container-id-3 div.sk-label:hover label.sk-toggleable__label {background-color: #d4ebff;}#sk-container-id-3 div.sk-serial::before {content: \"\";position: absolute;border-left: 1px solid gray;box-sizing: border-box;top: 0;bottom: 0;left: 50%;z-index: 0;}#sk-container-id-3 div.sk-serial {display: flex;flex-direction: column;align-items: center;background-color: white;padding-right: 0.2em;padding-left: 0.2em;position: relative;}#sk-container-id-3 div.sk-item {position: relative;z-index: 1;}#sk-container-id-3 div.sk-parallel {display: flex;align-items: stretch;justify-content: center;background-color: white;position: relative;}#sk-container-id-3 div.sk-item::before, #sk-container-id-3 div.sk-parallel-item::before {content: \"\";position: absolute;border-left: 1px solid gray;box-sizing: border-box;top: 0;bottom: 0;left: 50%;z-index: -1;}#sk-container-id-3 div.sk-parallel-item {display: flex;flex-direction: column;z-index: 1;position: relative;background-color: white;}#sk-container-id-3 div.sk-parallel-item:first-child::after {align-self: flex-end;width: 50%;}#sk-container-id-3 div.sk-parallel-item:last-child::after {align-self: flex-start;width: 50%;}#sk-container-id-3 div.sk-parallel-item:only-child::after {width: 0;}#sk-container-id-3 div.sk-dashed-wrapped {border: 1px dashed gray;margin: 0 0.4em 0.5em 0.4em;box-sizing: border-box;padding-bottom: 0.4em;background-color: white;}#sk-container-id-3 div.sk-label label {font-family: monospace;font-weight: bold;display: inline-block;line-height: 1.2em;}#sk-container-id-3 div.sk-label-container {text-align: center;}#sk-container-id-3 div.sk-container {/* jupyter's `normalize.less` sets `[hidden] { display: none; }` but bootstrap.min.css set `[hidden] { display: none !important; }` so we also need the `!important` here to be able to override the default hidden behavior on the sphinx rendered scikit-learn.org. See: https://github.com/scikit-learn/scikit-learn/issues/21755 */display: inline-block !important;position: relative;}#sk-container-id-3 div.sk-text-repr-fallback {display: none;}</style><div id=\"sk-container-id-3\" class=\"sk-top-container\"><div class=\"sk-text-repr-fallback\"><pre>GridSearchCV(cv=5, estimator=SVC(), n_jobs=-1,\n",
              "             param_grid={&#x27;C&#x27;: [0.1, 1, 10, 100, 1000],\n",
              "                         &#x27;gamma&#x27;: [1, 0.1, 0.01, 0.001, 0.0001],\n",
              "                         &#x27;kernel&#x27;: [&#x27;rbf&#x27;, &#x27;poly&#x27;, &#x27;sigmoid&#x27;]})</pre><b>In a Jupyter environment, please rerun this cell to show the HTML representation or trust the notebook. <br />On GitHub, the HTML representation is unable to render, please try loading this page with nbviewer.org.</b></div><div class=\"sk-container\" hidden><div class=\"sk-item sk-dashed-wrapped\"><div class=\"sk-label-container\"><div class=\"sk-label sk-toggleable\"><input class=\"sk-toggleable__control sk-hidden--visually\" id=\"sk-estimator-id-7\" type=\"checkbox\" ><label for=\"sk-estimator-id-7\" class=\"sk-toggleable__label sk-toggleable__label-arrow\">GridSearchCV</label><div class=\"sk-toggleable__content\"><pre>GridSearchCV(cv=5, estimator=SVC(), n_jobs=-1,\n",
              "             param_grid={&#x27;C&#x27;: [0.1, 1, 10, 100, 1000],\n",
              "                         &#x27;gamma&#x27;: [1, 0.1, 0.01, 0.001, 0.0001],\n",
              "                         &#x27;kernel&#x27;: [&#x27;rbf&#x27;, &#x27;poly&#x27;, &#x27;sigmoid&#x27;]})</pre></div></div></div><div class=\"sk-parallel\"><div class=\"sk-parallel-item\"><div class=\"sk-item\"><div class=\"sk-label-container\"><div class=\"sk-label sk-toggleable\"><input class=\"sk-toggleable__control sk-hidden--visually\" id=\"sk-estimator-id-8\" type=\"checkbox\" ><label for=\"sk-estimator-id-8\" class=\"sk-toggleable__label sk-toggleable__label-arrow\">estimator: SVC</label><div class=\"sk-toggleable__content\"><pre>SVC()</pre></div></div></div><div class=\"sk-serial\"><div class=\"sk-item\"><div class=\"sk-estimator sk-toggleable\"><input class=\"sk-toggleable__control sk-hidden--visually\" id=\"sk-estimator-id-9\" type=\"checkbox\" ><label for=\"sk-estimator-id-9\" class=\"sk-toggleable__label sk-toggleable__label-arrow\">SVC</label><div class=\"sk-toggleable__content\"><pre>SVC()</pre></div></div></div></div></div></div></div></div></div></div>"
            ],
            "text/plain": [
              "GridSearchCV(cv=5, estimator=SVC(), n_jobs=-1,\n",
              "             param_grid={'C': [0.1, 1, 10, 100, 1000],\n",
              "                         'gamma': [1, 0.1, 0.01, 0.001, 0.0001],\n",
              "                         'kernel': ['rbf', 'poly', 'sigmoid']})"
            ]
          },
          "execution_count": 28,
          "metadata": {},
          "output_type": "execute_result"
        }
      ],
      "source": [
        "#Grid search SVM parameters\n",
        "SVM_test = svm.SVC()\n",
        "parameter_grid = {'C': [0.1, 1, 10, 100, 1000], \n",
        "              'gamma': [1, 0.1, 0.01, 0.001, 0.0001],\n",
        "              'kernel': ['rbf', 'poly', 'sigmoid'],} \n",
        "\n",
        "clf = GridSearchCV(SVM_test, parameter_grid, n_jobs=-1, cv=5, scoring='f1_macro', verbose=2)\n",
        "clf.fit(X_train_smote, y_train_smote)"
      ]
    },
    {
      "cell_type": "code",
      "execution_count": null,
      "metadata": {
        "colab": {
          "base_uri": "https://localhost:8080/"
        },
        "id": "4njO4c9EpA1m",
        "outputId": "5ae16c1e-ef98-4e64-f532-9e2656f41467"
      },
      "outputs": [
        {
          "name": "stdout",
          "output_type": "stream",
          "text": [
            "Best parameters found:\n",
            " {'C': 1000, 'gamma': 1, 'kernel': 'poly'}\n"
          ]
        }
      ],
      "source": [
        "print('Best parameters found:\\n', clf.best_params_)"
      ]
    },
    {
      "cell_type": "code",
      "execution_count": null,
      "metadata": {
        "colab": {
          "base_uri": "https://localhost:8080/"
        },
        "id": "AE8A9OJnpMVT",
        "outputId": "fb2c7bd7-f3cc-4137-878f-29ec30317c55"
      },
      "outputs": [
        {
          "name": "stdout",
          "output_type": "stream",
          "text": [
            "0.987 (+/-0.004) for {'C': 0.1, 'gamma': 1, 'kernel': 'rbf'}\n",
            "0.994 (+/-0.002) for {'C': 0.1, 'gamma': 1, 'kernel': 'poly'}\n",
            "0.081 (+/-0.032) for {'C': 0.1, 'gamma': 1, 'kernel': 'sigmoid'}\n",
            "0.959 (+/-0.004) for {'C': 0.1, 'gamma': 0.1, 'kernel': 'rbf'}\n",
            "0.919 (+/-0.005) for {'C': 0.1, 'gamma': 0.1, 'kernel': 'poly'}\n",
            "0.935 (+/-0.006) for {'C': 0.1, 'gamma': 0.1, 'kernel': 'sigmoid'}\n",
            "0.886 (+/-0.017) for {'C': 0.1, 'gamma': 0.01, 'kernel': 'rbf'}\n",
            "0.291 (+/-0.090) for {'C': 0.1, 'gamma': 0.01, 'kernel': 'poly'}\n",
            "0.839 (+/-0.018) for {'C': 0.1, 'gamma': 0.01, 'kernel': 'sigmoid'}\n",
            "0.669 (+/-0.062) for {'C': 0.1, 'gamma': 0.001, 'kernel': 'rbf'}\n",
            "0.291 (+/-0.090) for {'C': 0.1, 'gamma': 0.001, 'kernel': 'poly'}\n",
            "0.455 (+/-0.125) for {'C': 0.1, 'gamma': 0.001, 'kernel': 'sigmoid'}\n",
            "0.343 (+/-0.172) for {'C': 0.1, 'gamma': 0.0001, 'kernel': 'rbf'}\n",
            "0.291 (+/-0.090) for {'C': 0.1, 'gamma': 0.0001, 'kernel': 'poly'}\n",
            "0.343 (+/-0.172) for {'C': 0.1, 'gamma': 0.0001, 'kernel': 'sigmoid'}\n",
            "0.990 (+/-0.003) for {'C': 1, 'gamma': 1, 'kernel': 'rbf'}\n",
            "0.998 (+/-0.002) for {'C': 1, 'gamma': 1, 'kernel': 'poly'}\n",
            "0.085 (+/-0.016) for {'C': 1, 'gamma': 1, 'kernel': 'sigmoid'}\n",
            "0.987 (+/-0.003) for {'C': 1, 'gamma': 0.1, 'kernel': 'rbf'}\n",
            "0.965 (+/-0.008) for {'C': 1, 'gamma': 0.1, 'kernel': 'poly'}\n",
            "0.874 (+/-0.010) for {'C': 1, 'gamma': 0.1, 'kernel': 'sigmoid'}\n",
            "0.959 (+/-0.004) for {'C': 1, 'gamma': 0.01, 'kernel': 'rbf'}\n",
            "0.372 (+/-0.228) for {'C': 1, 'gamma': 0.01, 'kernel': 'poly'}\n",
            "0.958 (+/-0.004) for {'C': 1, 'gamma': 0.01, 'kernel': 'sigmoid'}\n",
            "0.879 (+/-0.018) for {'C': 1, 'gamma': 0.001, 'kernel': 'rbf'}\n",
            "0.291 (+/-0.090) for {'C': 1, 'gamma': 0.001, 'kernel': 'poly'}\n",
            "0.840 (+/-0.017) for {'C': 1, 'gamma': 0.001, 'kernel': 'sigmoid'}\n",
            "0.668 (+/-0.063) for {'C': 1, 'gamma': 0.0001, 'kernel': 'rbf'}\n",
            "0.291 (+/-0.090) for {'C': 1, 'gamma': 0.0001, 'kernel': 'poly'}\n",
            "0.455 (+/-0.125) for {'C': 1, 'gamma': 0.0001, 'kernel': 'sigmoid'}\n",
            "0.998 (+/-0.001) for {'C': 10, 'gamma': 1, 'kernel': 'rbf'}\n",
            "0.999 (+/-0.001) for {'C': 10, 'gamma': 1, 'kernel': 'poly'}\n",
            "0.084 (+/-0.016) for {'C': 10, 'gamma': 1, 'kernel': 'sigmoid'}\n",
            "0.989 (+/-0.004) for {'C': 10, 'gamma': 0.1, 'kernel': 'rbf'}\n",
            "0.988 (+/-0.003) for {'C': 10, 'gamma': 0.1, 'kernel': 'poly'}\n",
            "0.844 (+/-0.007) for {'C': 10, 'gamma': 0.1, 'kernel': 'sigmoid'}\n",
            "0.987 (+/-0.003) for {'C': 10, 'gamma': 0.01, 'kernel': 'rbf'}\n",
            "0.680 (+/-0.149) for {'C': 10, 'gamma': 0.01, 'kernel': 'poly'}\n",
            "0.972 (+/-0.005) for {'C': 10, 'gamma': 0.01, 'kernel': 'sigmoid'}\n",
            "0.959 (+/-0.004) for {'C': 10, 'gamma': 0.001, 'kernel': 'rbf'}\n",
            "0.291 (+/-0.090) for {'C': 10, 'gamma': 0.001, 'kernel': 'poly'}\n",
            "0.958 (+/-0.004) for {'C': 10, 'gamma': 0.001, 'kernel': 'sigmoid'}\n",
            "0.878 (+/-0.018) for {'C': 10, 'gamma': 0.0001, 'kernel': 'rbf'}\n",
            "0.291 (+/-0.090) for {'C': 10, 'gamma': 0.0001, 'kernel': 'poly'}\n",
            "0.840 (+/-0.017) for {'C': 10, 'gamma': 0.0001, 'kernel': 'sigmoid'}\n",
            "0.999 (+/-0.001) for {'C': 100, 'gamma': 1, 'kernel': 'rbf'}\n",
            "1.000 (+/-0.001) for {'C': 100, 'gamma': 1, 'kernel': 'poly'}\n",
            "0.084 (+/-0.015) for {'C': 100, 'gamma': 1, 'kernel': 'sigmoid'}\n",
            "0.995 (+/-0.002) for {'C': 100, 'gamma': 0.1, 'kernel': 'rbf'}\n",
            "0.994 (+/-0.002) for {'C': 100, 'gamma': 0.1, 'kernel': 'poly'}\n",
            "0.845 (+/-0.010) for {'C': 100, 'gamma': 0.1, 'kernel': 'sigmoid'}\n",
            "0.987 (+/-0.003) for {'C': 100, 'gamma': 0.01, 'kernel': 'rbf'}\n",
            "0.919 (+/-0.005) for {'C': 100, 'gamma': 0.01, 'kernel': 'poly'}\n",
            "0.987 (+/-0.003) for {'C': 100, 'gamma': 0.01, 'kernel': 'sigmoid'}\n",
            "0.989 (+/-0.003) for {'C': 100, 'gamma': 0.001, 'kernel': 'rbf'}\n",
            "0.291 (+/-0.090) for {'C': 100, 'gamma': 0.001, 'kernel': 'poly'}\n",
            "0.972 (+/-0.005) for {'C': 100, 'gamma': 0.001, 'kernel': 'sigmoid'}\n",
            "0.959 (+/-0.004) for {'C': 100, 'gamma': 0.0001, 'kernel': 'rbf'}\n",
            "0.291 (+/-0.090) for {'C': 100, 'gamma': 0.0001, 'kernel': 'poly'}\n",
            "0.958 (+/-0.004) for {'C': 100, 'gamma': 0.0001, 'kernel': 'sigmoid'}\n",
            "1.000 (+/-0.001) for {'C': 1000, 'gamma': 1, 'kernel': 'rbf'}\n",
            "1.000 (+/-0.001) for {'C': 1000, 'gamma': 1, 'kernel': 'poly'}\n",
            "0.084 (+/-0.015) for {'C': 1000, 'gamma': 1, 'kernel': 'sigmoid'}\n",
            "0.999 (+/-0.002) for {'C': 1000, 'gamma': 0.1, 'kernel': 'rbf'}\n",
            "0.998 (+/-0.002) for {'C': 1000, 'gamma': 0.1, 'kernel': 'poly'}\n",
            "0.841 (+/-0.007) for {'C': 1000, 'gamma': 0.1, 'kernel': 'sigmoid'}\n",
            "0.992 (+/-0.003) for {'C': 1000, 'gamma': 0.01, 'kernel': 'rbf'}\n",
            "0.965 (+/-0.008) for {'C': 1000, 'gamma': 0.01, 'kernel': 'poly'}\n",
            "0.990 (+/-0.004) for {'C': 1000, 'gamma': 0.01, 'kernel': 'sigmoid'}\n",
            "0.987 (+/-0.003) for {'C': 1000, 'gamma': 0.001, 'kernel': 'rbf'}\n",
            "0.372 (+/-0.228) for {'C': 1000, 'gamma': 0.001, 'kernel': 'poly'}\n",
            "0.987 (+/-0.003) for {'C': 1000, 'gamma': 0.001, 'kernel': 'sigmoid'}\n",
            "0.989 (+/-0.003) for {'C': 1000, 'gamma': 0.0001, 'kernel': 'rbf'}\n",
            "0.291 (+/-0.090) for {'C': 1000, 'gamma': 0.0001, 'kernel': 'poly'}\n",
            "0.972 (+/-0.005) for {'C': 1000, 'gamma': 0.0001, 'kernel': 'sigmoid'}\n"
          ]
        }
      ],
      "source": [
        "means = clf.cv_results_['mean_test_score']\n",
        "stds = clf.cv_results_['std_test_score']\n",
        "for mean, std, params in zip(means, stds, clf.cv_results_['params']):\n",
        "    print(\"%0.3f (+/-%0.03f) for %r\" % (mean, std * 2, params))"
      ]
    },
    {
      "cell_type": "code",
      "source": [
        "#Using best hyperparameters\n",
        "SVM = svm.SVC(C= 1000, gamma= 1, kernel= 'poly')\n",
        "f1_scores = cross_val_score(SVM, X_train_smote, y_train_smote, cv=5, scoring='f1_macro')\n",
        "print(np.mean(f1_scores))\n",
        "SVM.fit(X_train_smote, y_train_smote)\n",
        "train_preds = SVM.predict(X_train_smote)\n",
        "train_accuracy = accuracy_score(y_train_smote, train_preds)\n",
        "print(\"Training Accuracy:\", train_accuracy)\n",
        "predictions = SVM.predict(test_features)\n",
        "accuracy = accuracy_score(test_labels, predictions)\n",
        "f1 = f1_score(test_labels, predictions, average='macro')\n",
        "print(\"Test Accuracy:\", accuracy)\n",
        "print(\"Test F1:\", f1)"
      ],
      "metadata": {
        "colab": {
          "base_uri": "https://localhost:8080/"
        },
        "id": "_nnlCdpUnvEJ",
        "outputId": "df4ffb9d-1b31-4e7b-a61f-9f2df9676412"
      },
      "execution_count": null,
      "outputs": [
        {
          "output_type": "stream",
          "name": "stdout",
          "text": [
            "0.9997171877782106\n",
            "Training Accuracy: 1.0\n",
            "Test Accuracy: 0.9944729569680221\n",
            "Test F1: 0.9823182529949721\n"
          ]
        }
      ]
    },
    {
      "cell_type": "code",
      "source": [
        "cm = confusion_matrix(test_labels, predictions)\n",
        "ConfusionMatrixDisplay(confusion_matrix=cm).plot()"
      ],
      "metadata": {
        "id": "RTPe9oDdn9WH",
        "outputId": "a4800f31-6215-453b-fd84-81a85913f9b9",
        "colab": {
          "base_uri": "https://localhost:8080/",
          "height": 466
        }
      },
      "execution_count": null,
      "outputs": [
        {
          "output_type": "execute_result",
          "data": {
            "text/plain": [
              "<sklearn.metrics._plot.confusion_matrix.ConfusionMatrixDisplay at 0x7f6835cc4d30>"
            ]
          },
          "metadata": {},
          "execution_count": 20
        },
        {
          "output_type": "display_data",
          "data": {
            "text/plain": [
              "<Figure size 640x480 with 2 Axes>"
            ],
            "image/png": "[encoded data removed]"
          },
          "metadata": {}
        }
      ]
    },
    {
      "cell_type": "code",
      "source": [
        "print(classification_report(test_labels, predictions))"
      ],
      "metadata": {
        "id": "HRS_b1BCn_Zf",
        "outputId": "adffae86-6507-4785-c206-0d33a4696b0c",
        "colab": {
          "base_uri": "https://localhost:8080/"
        }
      },
      "execution_count": null,
      "outputs": [
        {
          "output_type": "stream",
          "name": "stdout",
          "text": [
            "              precision    recall  f1-score   support\n",
            "\n",
            "           0       1.00      1.00      1.00      2040\n",
            "           1       0.99      1.00      1.00       125\n",
            "           2       0.97      0.97      0.97       200\n",
            "           3       0.96      0.96      0.96       168\n",
            "\n",
            "    accuracy                           0.99      2533\n",
            "   macro avg       0.98      0.98      0.98      2533\n",
            "weighted avg       0.99      0.99      0.99      2533\n",
            "\n"
          ]
        }
      ]
    }
  ],
  "metadata": {
    "colab": {
      "provenance": []
    },
    "kernelspec": {
      "display_name": "Python 3",
      "name": "python3"
    },
    "language_info": {
      "name": "python"
    }
  },
  "nbformat": 4,
  "nbformat_minor": 0
}