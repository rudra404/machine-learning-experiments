{
 "cells": [
  {
   "cell_type": "code",
   "execution_count": null,
   "metadata": {
    "colab": {
     "base_uri": "https://localhost:8080/"
    },
    "executionInfo": {
     "elapsed": 6462,
     "status": "ok",
     "timestamp": 1685302858196,
     "user": {
      "displayName": "Steryios Nicolaides",
      "userId": "00105694009240801422"
     },
     "user_tz": -60
    },
    "id": "IIgkS2O_6NDr",
    "outputId": "0f00ea34-bac3-4dff-a155-c4fe37f42cd1"
   },
   "outputs": [
    {
     "name": "stdout",
     "output_type": "stream",
     "text": [
      "Looking in indexes: https://pypi.org/simple, https://us-python.pkg.dev/colab-wheels/public/simple/\n",
      "Requirement already satisfied: gymnasium in /usr/local/lib/python3.10/dist-packages (0.28.1)\n",
      "Requirement already satisfied: numpy>=1.21.0 in /usr/local/lib/python3.10/dist-packages (from gymnasium) (1.22.4)\n",
      "Requirement already satisfied: jax-jumpy>=1.0.0 in /usr/local/lib/python3.10/dist-packages (from gymnasium) (1.0.0)\n",
      "Requirement already satisfied: cloudpickle>=1.2.0 in /usr/local/lib/python3.10/dist-packages (from gymnasium) (2.2.1)\n",
      "Requirement already satisfied: typing-extensions>=4.3.0 in /usr/local/lib/python3.10/dist-packages (from gymnasium) (4.5.0)\n",
      "Requirement already satisfied: farama-notifications>=0.0.1 in /usr/local/lib/python3.10/dist-packages (from gymnasium) (0.0.4)\n"
     ]
    }
   ],
   "source": [
    "!pip install gymnasium"
   ]
  },
  {
   "cell_type": "code",
   "execution_count": null,
   "metadata": {
    "id": "AigcmWFE6Rtt"
   },
   "outputs": [],
   "source": [
    "import numpy as np\n",
    "import time, pickle, os\n",
    "import gymnasium as gym"
   ]
  },
  {
   "cell_type": "code",
   "execution_count": null,
   "metadata": {
    "id": "KhSLN9B37NXh"
   },
   "outputs": [],
   "source": [
    "def test_policy(env: gym.Env, policy: np.ndarray) -> None:\n",
    "    \"\"\"Tests a tabular policy on a given toy text environment.\n",
    "\n",
    "    Args:\n",
    "        env (gym.Env): the Gymnasium environment\n",
    "        policy (np.ndarray): the tabular policy as a numPy array.\n",
    "    \"\"\"\n",
    "    num_states = env.observation_space.n\n",
    "    num_actions = env.action_space.n\n",
    "    stochastic_policy = policy.shape == (num_states, num_actions)\n",
    "\n",
    "    steps = 0\n",
    "    done = False\n",
    "    state, _ = env.reset()\n",
    "    total_reward = 0\n",
    "\n",
    "    while not done:\n",
    "        #env.render()\n",
    "        if stochastic_policy:\n",
    "            action = np.random.choice(int(num_actions), p=policy[state])\n",
    "            print(f\"Selecting action: {action} with probability: {policy[state][action]}\")\n",
    "        else:\n",
    "            action = policy[state]\n",
    "\n",
    "        next_state, reward, done, truncated, _ = env.step(int(action))\n",
    "        state = next_state\n",
    "        steps += 1\n",
    "        total_reward += reward\n",
    "        if done or truncated:\n",
    "          break\n",
    "\n",
    "    #print(f\"{'Success' if reward == 20 else 'Failed'} in {steps} steps\")\n",
    "    return total_reward"
   ]
  },
  {
   "cell_type": "markdown",
   "metadata": {
    "id": "Hq7ee8Xri2Va"
   },
   "source": [
    "## GridSearchCV:\n",
    "\n",
    "```python\n",
    "from sklearn.model_selection import ParameterGrid\n",
    "\n",
    "def grid_search(env, param_grid, episodes=3000, n_runs=2000):\n",
    "    best_reward = float(\"-inf\")\n",
    "    best_params = {}\n",
    "\n",
    "    for params in ParameterGrid(param_grid):\n",
    "        step_size = params['step_size']\n",
    "        gamma = params['gamma']\n",
    "        decay_rate = params['decay_rate']\n",
    "        Q = Q_learning(env, step_size, episodes, gamma, decay_rate)\n",
    "        opt_p = determine_policy_from_Q(Q)\n",
    "\n",
    "        total_runs_reward = 0\n",
    "        for _ in range(n_runs):\n",
    "          total_runs_reward += test_policy(env, opt_p)\n",
    "\n",
    "        avg_reward = total_runs_reward / n_runs\n",
    "        print(\"Average reward:\",avg_reward)\n",
    "        print(\"Parameters:\",params)\n",
    "        if avg_reward > best_reward:\n",
    "            best_reward = avg_reward\n",
    "            best_params = params\n",
    "\n",
    "    return best_params, best_reward\n",
    "\n",
    "# Define the parameter grid\n",
    "param_grid = {\n",
    "    'step_size': [0.1, 0.5, 0.9],\n",
    "    'gamma': [0.9, 0.95, 0.99],\n",
    "    'decay_rate': [0.001, 0.01, 0.1]\n",
    "}\n",
    "\n",
    "# Select environment\n",
    "env = gym.make(\"CliffWalking-v0\")\n",
    "\n",
    "# Perform grid search\n",
    "best_params, best_reward = grid_search(env, param_grid)\n",
    "\n",
    "print(\"Best parameters:\", best_params)\n",
    "print(\"Best average reward:\", best_reward)\n",
    "```\n",
    "\n",
    "```\n",
    "Out[]:\n",
    "Cliff falls per episode: 14.073\n",
    "Average reward: -13.0\n",
    "Parameters: {'decay_rate': 0.001, 'gamma': 0.9, 'step_size': 0.1}\n",
    "Cliff falls per episode: 13.744666666666667\n",
    "Average reward: -13.0\n",
    "Parameters: {'decay_rate': 0.001, 'gamma': 0.9, 'step_size': 0.5}\n",
    "Cliff falls per episode: 9.926333333333334\n",
    "Average reward: -13.0\n",
    "Parameters: {'decay_rate': 0.001, 'gamma': 0.9, 'step_size': 0.9}\n",
    "Cliff falls per episode: 16.065333333333335\n",
    "Average reward: -13.0\n",
    "Parameters: {'decay_rate': 0.001, 'gamma': 0.95, 'step_size': 0.1}\n",
    "Cliff falls per episode: 10.494333333333334\n",
    "Average reward: -13.0\n",
    "Parameters: {'decay_rate': 0.001, 'gamma': 0.95, 'step_size': 0.5}\n",
    "Cliff falls per episode: 10.810666666666666\n",
    "Average reward: -13.0\n",
    "Parameters: {'decay_rate': 0.001, 'gamma': 0.95, 'step_size': 0.9}\n",
    "Cliff falls per episode: 13.818333333333333\n",
    "Average reward: -13.0\n",
    "Parameters: {'decay_rate': 0.001, 'gamma': 0.99, 'step_size': 0.1}\n",
    "Cliff falls per episode: 10.980333333333334\n",
    "Average reward: -13.0\n",
    "Parameters: {'decay_rate': 0.001, 'gamma': 0.99, 'step_size': 0.5}\n",
    "Cliff falls per episode: 12.309333333333333\n",
    "Average reward: -13.0\n",
    "Parameters: {'decay_rate': 0.001, 'gamma': 0.99, 'step_size': 0.9}\n",
    "Cliff falls per episode: 12.666\n",
    "Average reward: -13.0\n",
    "Parameters: {'decay_rate': 0.01, 'gamma': 0.9, 'step_size': 0.1}\n",
    "Cliff falls per episode: 11.02\n",
    "Average reward: -13.0\n",
    "Parameters: {'decay_rate': 0.01, 'gamma': 0.9, 'step_size': 0.5}\n",
    "Cliff falls per episode: 12.512333333333334\n",
    "Average reward: -13.0\n",
    "Parameters: {'decay_rate': 0.01, 'gamma': 0.9, 'step_size': 0.9}\n",
    "Cliff falls per episode: 12.646333333333333\n",
    "Average reward: -13.0\n",
    "Parameters: {'decay_rate': 0.01, 'gamma': 0.95, 'step_size': 0.1}\n",
    "Cliff falls per episode: 11.769666666666666\n",
    "Average reward: -13.0\n",
    "Parameters: {'decay_rate': 0.01, 'gamma': 0.95, 'step_size': 0.5}\n",
    "Cliff falls per episode: 10.941\n",
    "Average reward: -13.0\n",
    "Parameters: {'decay_rate': 0.01, 'gamma': 0.95, 'step_size': 0.9}\n",
    "Cliff falls per episode: 14.963333333333333\n",
    "Average reward: -13.0\n",
    "Parameters: {'decay_rate': 0.01, 'gamma': 0.99, 'step_size': 0.1}\n",
    "Cliff falls per episode: 11.227\n",
    "Average reward: -13.0\n",
    "Parameters: {'decay_rate': 0.01, 'gamma': 0.99, 'step_size': 0.5}\n",
    "Cliff falls per episode: 12.352666666666666\n",
    "Average reward: -13.0\n",
    "Parameters: {'decay_rate': 0.01, 'gamma': 0.99, 'step_size': 0.9}\n",
    "Cliff falls per episode: 14.506333333333334\n",
    "Average reward: -13.0\n",
    "Parameters: {'decay_rate': 0.1, 'gamma': 0.9, 'step_size': 0.1}\n",
    "Cliff falls per episode: 10.380333333333333\n",
    "Average reward: -13.0\n",
    "Parameters: {'decay_rate': 0.1, 'gamma': 0.9, 'step_size': 0.5}\n",
    "Cliff falls per episode: 10.639\n",
    "Average reward: -13.0\n",
    "Parameters: {'decay_rate': 0.1, 'gamma': 0.9, 'step_size': 0.9}\n",
    "Cliff falls per episode: 12.995666666666667\n",
    "Average reward: -13.0\n",
    "Parameters: {'decay_rate': 0.1, 'gamma': 0.95, 'step_size': 0.1}\n",
    "Cliff falls per episode: 11.691\n",
    "Average reward: -13.0\n",
    "Parameters: {'decay_rate': 0.1, 'gamma': 0.95, 'step_size': 0.5}\n",
    "Cliff falls per episode: 11.036333333333333\n",
    "Average reward: -13.0\n",
    "Parameters: {'decay_rate': 0.1, 'gamma': 0.95, 'step_size': 0.9}\n",
    "Cliff falls per episode: 12.593\n",
    "Average reward: -13.0\n",
    "Parameters: {'decay_rate': 0.1, 'gamma': 0.99, 'step_size': 0.1}\n",
    "Cliff falls per episode: 13.241666666666667\n",
    "Average reward: -13.0\n",
    "Parameters: {'decay_rate': 0.1, 'gamma': 0.99, 'step_size': 0.5}\n",
    "Cliff falls per episode: 10.410666666666666\n",
    "Average reward: -13.0\n",
    "Parameters: {'decay_rate': 0.1, 'gamma': 0.99, 'step_size': 0.9}\n",
    "Best parameters: {'decay_rate': 0.001, 'gamma': 0.9, 'step_size': 0.1}\n",
    "Best average reward: -13.0\n",
    "```"
   ]
  },
  {
   "cell_type": "markdown",
   "metadata": {
    "id": "tW658ZErcSq7"
   },
   "source": [
    "```\n",
    "Cliff falls per episode: 14.561666666666667\n",
    "Cliff falls per episode: 13.064\n",
    "Cliff falls per episode: 11.76\n",
    "Cliff falls per episode: 15.946333333333333\n",
    "Cliff falls per episode: 11.140333333333333\n",
    "Cliff falls per episode: 10.73\n",
    "Cliff falls per episode: 12.997333333333334\n",
    "Cliff falls per episode: 10.467333333333332\n",
    "Cliff falls per episode: 10.065333333333333\n",
    "Cliff falls per episode: 13.942333333333334\n",
    "Cliff falls per episode: 11.464333333333334\n",
    "Cliff falls per episode: 11.668333333333333\n",
    "Cliff falls per episode: 13.966333333333333\n",
    "Cliff falls per episode: 10.712\n",
    "Cliff falls per episode: 10.894\n",
    "Cliff falls per episode: 13.773333333333333\n",
    "Cliff falls per episode: 11.877333333333333\n",
    "Cliff falls per episode: 10.706333333333333\n",
    "Cliff falls per episode: 12.874666666666666\n",
    "Cliff falls per episode: 11.861\n",
    "Cliff falls per episode: 11.338333333333333\n",
    "Cliff falls per episode: 14.984333333333334\n",
    "Cliff falls per episode: 11.906\n",
    "Cliff falls per episode: 10.884333333333334\n",
    "Cliff falls per episode: 13.635\n",
    "Cliff falls per episode: 11.802666666666667\n",
    "Cliff falls per episode: 10.021\n",
    "Best parameters: {'decay_rate': 0.001, 'gamma': 0.9, 'step_size': 0.1}\n",
    "Best average reward: -13.0\n",
    "```"
   ]
  },
  {
   "cell_type": "markdown",
   "metadata": {
    "id": "r2MeSVXFi_od"
   },
   "source": [
    "## Average Reward:\n",
    "\n",
    "**Code for Q-learning and SARSA is adapted from Lab10**"
   ]
  },
  {
   "cell_type": "markdown",
   "metadata": {
    "id": "5_QUsQAIxOXn"
   },
   "source": [
    "### $\\color{blue}{\\text{Q learning:}}$"
   ]
  },
  {
   "cell_type": "markdown",
   "metadata": {
    "id": "N20I2Qr4usKR"
   },
   "source": [
    "<h3>Change:</h3>\n",
    "\n",
    "*  step-size\n",
    "*  epsilon\n",
    "*  gamma\n",
    "\n",
    "<h3>Keep constant:</h3>\n",
    "\n",
    "*  episodes"
   ]
  },
  {
   "cell_type": "code",
   "execution_count": null,
   "metadata": {
    "id": "AwXWPBOVWe_1"
   },
   "outputs": [],
   "source": [
    "def Q_learning(env: gym.Env, step_size: float = 0.9, episodes: int = 5000, gamma: float = 0.95, decayRate: float = 0.001) -> np.ndarray:\n",
    "    Q = np.zeros([env.observation_space.n, env.action_space.n])\n",
    "    epsilon = 1.0  # Initial epsilon value\n",
    "    success_episodes = 0\n",
    "    Reward_tracker = 0\n",
    "    cliff_fall_tracker = 0\n",
    "    avgReward = []\n",
    "    episodeNum = []\n",
    "\n",
    "    for i in range(episodes):\n",
    "        state, _ = env.reset()  # Reset environment for every new episode\n",
    "        total_R = 0  # Reward count for each episode (OPTIONAL)\n",
    "\n",
    "        while True:  # Until the episode ends\n",
    "            if np.random.uniform(0, 1) < epsilon:\n",
    "                # With probability epsilon randomly select action\n",
    "                action = env.action_space.sample()\n",
    "            else:\n",
    "                # With probability (1-epsilon) greedily select action\n",
    "                action = np.argmax(Q[state])\n",
    "\n",
    "            # Perform selected action on the environment and check next_state\n",
    "            next_state, reward, done, truncated, _ = env.step(action)\n",
    "            # Just keeps track of environment rewards (OPTIONAL)\n",
    "            total_R += reward\n",
    "            if reward == -100:\n",
    "                cliff_fall_tracker += 1\n",
    "\n",
    "\n",
    "\n",
    "            # Perform Q learning update:\n",
    "            # Q(s,a) \\leftarrow Q(s,a) +  step_size * [R + \\gamma * \\max_a Q(s',a) -  Q(s,a) ]\n",
    "            Q[state][action] += step_size * (reward + gamma * np.max(Q[next_state]) - Q[state][action])\n",
    "\n",
    "            # Assign new current state\n",
    "            state = next_state\n",
    "\n",
    "            # If episode has terminated, restart\n",
    "            if done or truncated:\n",
    "                Reward_tracker += total_R\n",
    "                break\n",
    "        if i%100==0 and not i==0:\n",
    "            # print(\"Trial\",i,\":\")\n",
    "            episodeNum.append(i)\n",
    "            # print(\"Total Reward of the last 100th value\", total_R)\n",
    "            # print(\"Average Reward of the last 100 values\", Reward_tracker/100)\n",
    "            avgReward.append(Reward_tracker/100)\n",
    "            # print(\"Epsilon: \", epsilon)\n",
    "            Reward_tracker = 0\n",
    "        # Decay epsilon to increase probability of exploitation (OPTIONAL). E-greedy with constant epsilon is also fine.\n",
    "        epsilon = decay_epsilon(i,decay_rate=decayRate)\n",
    "\n",
    "    # print(\"Training success rate: \", success_episodes/ episodes)\n",
    "    print(\"Cliff falls per episode:\", cliff_fall_tracker/episodes)\n",
    "    return Q, avgReward, episodeNum\n",
    "\n",
    "# less runs -> higher epsilon decay rate\n",
    "def decay_epsilon(episode: int, decay_rate, max_epsilon: float = 1.0, min_epsilon: float = 0.1) -> float:\n",
    "    # Exponential decay of epsilon based on ep number\n",
    "    epsilon = min_epsilon + (max_epsilon - min_epsilon) * np.exp(-decay_rate * episode)\n",
    "    return epsilon\n",
    "\n",
    "\n",
    "def determine_policy_from_Q(Q: np.ndarray) -> np.ndarray:\n",
    "    # Build policy from Q function  by \\pi(state) = \\argmax_a Q(state,  a) for every state.\n",
    "    policy = np.zeros(Q.shape[0])\n",
    "    for s in range(Q.shape[0]):\n",
    "        policy[s] = np.argmax(Q[s])\n",
    "    return policy\n"
   ]
  },
  {
   "cell_type": "code",
   "execution_count": null,
   "metadata": {
    "colab": {
     "base_uri": "https://localhost:8080/"
    },
    "executionInfo": {
     "elapsed": 32060,
     "status": "ok",
     "timestamp": 1685302890559,
     "user": {
      "displayName": "Steryios Nicolaides",
      "userId": "00105694009240801422"
     },
     "user_tz": -60
    },
    "id": "n0ftSkT5sDRK",
    "outputId": "76b3e58f-ff5a-4ef2-c998-a30504d827ec"
   },
   "outputs": [
    {
     "name": "stdout",
     "output_type": "stream",
     "text": [
      "Cliff falls per episode: 6.5044\n",
      "Test average reward: -13.0\n",
      "[1. 1. 1. 1. 1. 1. 1. 1. 1. 1. 1. 2. 1. 1. 1. 1. 1. 1. 1. 1. 1. 1. 1. 2.\n",
      " 1. 1. 1. 1. 1. 1. 1. 1. 1. 1. 1. 2. 0. 0. 0. 0. 0. 0. 0. 0. 0. 0. 0. 0.]\n"
     ]
    }
   ],
   "source": [
    "#env = gym.make(\"FrozenLake-v1\", is_slippery=True)  # Select environment\n",
    "env = gym.make(\"CliffWalking-v0\")\n",
    "Q, avgRewardQlearn, episodeNumQlearn = Q_learning(env)  # Get Q value\n",
    "opt_p = determine_policy_from_Q(Q)  # Get policy from  Q\n",
    "\n",
    "successes = 0\n",
    "n_runs = 2000\n",
    "total_runs_reward = 0\n",
    "for _ in range(n_runs):  # Test the policy n_runs times\n",
    "    total_runs_reward+=test_policy(env, opt_p)  # Test the policy on your environment.\n",
    "\n",
    "print(f\"Test average reward: {total_runs_reward / n_runs}\")\n",
    "print(opt_p)\n",
    "\n",
    "env.close()"
   ]
  },
  {
   "cell_type": "markdown",
   "metadata": {
    "id": "vtTmvVJJBbv4"
   },
   "source": [
    "### $\\color{blue}{\\text{SARSA:}}$"
   ]
  },
  {
   "cell_type": "code",
   "execution_count": null,
   "metadata": {
    "id": "HGWaGhsTozdP"
   },
   "outputs": [],
   "source": [
    "def Q_learning(env: gym.Env, step_size: float = 0.1, episodes: int = 5000, gamma: float = 0.95) -> np.ndarray:\n",
    "    Q = np.zeros([env.observation_space.n, env.action_space.n])\n",
    "    epsilon = 1.0  # Initial epsilon value\n",
    "    success_episodes = 0\n",
    "    Reward_tracker = 0\n",
    "    cliff_fall_tracker = 0\n",
    "    avgReward = []\n",
    "    episodeNum = []\n",
    "\n",
    "    for i in range(episodes):\n",
    "        state, _ = env.reset()  # Reset environment for every new episode\n",
    "        total_R = 0  # Reward count for each episode (OPTIONAL)\n",
    "\n",
    "        while True:  # Until the episode ends\n",
    "            if np.random.uniform(0, 1) < epsilon:\n",
    "                # With probability epsilon randomly select action\n",
    "                action = env.action_space.sample()\n",
    "            else:\n",
    "                # With probability (1-epsilon) greedily select action\n",
    "                action = np.argmax(Q[state])\n",
    "\n",
    "            # Perform selected action on the environment and check next_state\n",
    "            next_state, reward, done, truncated, _ = env.step(action)\n",
    "            if np.random.uniform(0, 1) < epsilon:\n",
    "                # With probability epsilon randomly select action\n",
    "                next_action = env.action_space.sample()\n",
    "            else:\n",
    "                # With probability (1-epsilon) greedily select action\n",
    "                next_action = np.argmax(Q[next_state])\n",
    "            # Just keeps track of environment rewards (OPTIONAL)\n",
    "            total_R += reward\n",
    "            if reward == -100:\n",
    "                cliff_fall_tracker += 1\n",
    "\n",
    "            # Perform Q learning update:\n",
    "            # Q(s,a) \\leftarrow Q(s,a) +  step_size * [R + \\gamma * \\max_a Q(s',a) -  Q(s,a) ]\n",
    "            Q[state][action] += step_size * (reward + gamma * Q[next_state][next_action] - Q[state][action])\n",
    "\n",
    "            # Assign new current state\n",
    "            state = next_state\n",
    "\n",
    "            # If episode has terminated, restart\n",
    "            if done or truncated:\n",
    "                Reward_tracker += total_R\n",
    "                break\n",
    "        if i%100==0 and not i==0:\n",
    "            # print(\"Trial\",i,\":\")\n",
    "            episodeNum.append(i)\n",
    "            # print(\"Total Reward of the last 100th value\", total_R)\n",
    "            # print(\"Average Reward of the last 100 values\", Reward_tracker/100)\n",
    "            avgReward.append(Reward_tracker/100)\n",
    "            # print(\"Epsilon: \", epsilon)\n",
    "            Reward_tracker = 0\n",
    "        # Decay epsilon to increase probability of exploitation (OPTIONAL). E-greedy with constant epsilon is also fine.\n",
    "        epsilon = decay_epsilon(i)\n",
    "        \n",
    "\n",
    "    # print(\"Training success rate: \", success_episodes/ episodes)\n",
    "    print(\"Cliff falls per episode:\", cliff_fall_tracker/episodes)\n",
    "    return Q, avgReward, episodeNum\n",
    "\n",
    "def decay_epsilon(episode: int, max_epsilon: float = 1.0, min_epsilon: float = 0.1, decay_rate: float = 0.001) -> float:\n",
    "    # Exponential decay of epsilon based on ep number\n",
    "    epsilon = min_epsilon + (max_epsilon - min_epsilon) * np.exp(-decay_rate * episode)\n",
    "    return epsilon\n",
    "\n",
    "\n",
    "def determine_policy_from_Q(Q: np.ndarray) -> np.ndarray:\n",
    "    # Build policy from Q function  by \\pi(state) = \\argmax_a Q(state,  a) for every state.\n",
    "    policy = np.zeros(Q.shape[0])\n",
    "    for s in range(Q.shape[0]):\n",
    "        policy[s] = np.argmax(Q[s])\n",
    "    return policy\n",
    "\n",
    "\n"
   ]
  },
  {
   "cell_type": "code",
   "execution_count": null,
   "metadata": {
    "colab": {
     "base_uri": "https://localhost:8080/"
    },
    "executionInfo": {
     "elapsed": 230174,
     "status": "ok",
     "timestamp": 1685303120713,
     "user": {
      "displayName": "Steryios Nicolaides",
      "userId": "00105694009240801422"
     },
     "user_tz": -60
    },
    "id": "OlgUXR2AuRmU",
    "outputId": "88b23b85-627f-49c7-a1bd-e097bad71273"
   },
   "outputs": [
    {
     "name": "stdout",
     "output_type": "stream",
     "text": [
      "Cliff falls per episode: 14.569\n",
      "Test average reward: -17.0\n",
      "[1. 1. 1. 1. 1. 1. 1. 1. 1. 1. 1. 2. 0. 0. 0. 0. 0. 0. 0. 0. 0. 0. 1. 2.\n",
      " 0. 0. 0. 0. 0. 0. 0. 0. 0. 0. 1. 2. 0. 0. 0. 0. 0. 0. 0. 0. 0. 0. 0. 0.]\n"
     ]
    }
   ],
   "source": [
    "#env = gym.make(\"FrozenLake-v1\", is_slippery=True)  # Select environment\n",
    "env = gym.make(\"CliffWalking-v0\")\n",
    "Q, avgRewardSARSA, episodeNumSARSA = Q_learning(env)  # Get Q value\n",
    "# Q = Q_learning(env)  # Get Q value\n",
    "opt_p = determine_policy_from_Q(Q)  # Get policy from  Q\n",
    "\n",
    "\n",
    "n_runs = 2000\n",
    "total_runs_reward = 0\n",
    "for _ in range(n_runs):  # Test the policy n_runs times\n",
    "    total_runs_reward+=test_policy(env, opt_p)  # Test the policy on your environment.\n",
    "\n",
    "\n",
    "print(f\"Test average reward: {total_runs_reward / n_runs}\")\n",
    "print(opt_p)\n",
    "\n",
    "env.close()"
   ]
  },
  {
   "cell_type": "code",
   "execution_count": null,
   "metadata": {
    "id": "IS83N98_wLEL"
   },
   "outputs": [],
   "source": [
    "import matplotlib.pyplot as plt"
   ]
  },
  {
   "cell_type": "code",
   "execution_count": null,
   "metadata": {
    "colab": {
     "base_uri": "https://localhost:8080/",
     "height": 449
    },
    "executionInfo": {
     "elapsed": 414,
     "status": "ok",
     "timestamp": 1685303121101,
     "user": {
      "displayName": "Steryios Nicolaides",
      "userId": "00105694009240801422"
     },
     "user_tz": -60
    },
    "id": "Yza0MKTPsUtH",
    "outputId": "1b4afe27-0f25-4c26-b06e-97402eea7a0d"
   },
   "outputs": [
    {
     "data": {
      "image/png": "[encoded data removed]",
      "text/plain": [
       "<Figure size 640x480 with 1 Axes>"
      ]
     },
     "metadata": {},
     "output_type": "display_data"
    }
   ],
   "source": [
    "plt.plot(episodeNumQlearn, avgRewardQlearn, marker='.', label=\"Q Learning\")\n",
    "plt.plot(episodeNumSARSA, avgRewardSARSA, marker='.', label=\"SARSA\")\n",
    "plt.xlabel('Episode Number')\n",
    "plt.ylabel('Average Reward')\n",
    "# plt.title('DT vs SVC - ROC Curve')\n",
    "plt.legend(loc=\"lower right\")\n",
    "plt.grid(True)\n",
    "plt.show()"
   ]
  },
  {
   "cell_type": "markdown",
   "metadata": {
    "id": "7LrRTGRARZ-l"
   },
   "source": [
    "## Time Convergence\n",
    "\n"
   ]
  },
  {
   "cell_type": "markdown",
   "metadata": {
    "id": "MbSLaEUDjzwD"
   },
   "source": [
    "### $\\color{blue}{\\text{Q learning:}}$"
   ]
  },
  {
   "cell_type": "markdown",
   "metadata": {
    "id": "tGypSo5tETyw"
   },
   "source": [
    "In this particular reinforcement learning problem called \"CliffWalking\", we could still monitor the change in the Q-table across episodes to find convergence time, but since the environment is deterministic and has well-defined rewards, we could also base our convergence criterion on the total reward the agent receives.\n",
    "\n",
    "Given the problem setup, we know that the optimal policy would take exactly 13 steps (12 steps to the right and 1 step up) to reach the goal, receiving a total reward of -13. So, we can consider our Q-Learning method to have converged when the total reward per episode is consistently -13. \n",
    "\n",
    "Let's modify the existing Q-Learning function to check for this:"
   ]
  },
  {
   "cell_type": "code",
   "execution_count": null,
   "metadata": {
    "id": "oLCqg1Kslehn"
   },
   "outputs": [],
   "source": [
    "def Q_learning_convergence(env: gym.Env, step_size: float = 0.9, episodes: int = 5000, gamma: float = 0.95, decayRate: float = 0.001) -> np.ndarray:\n",
    "    Q = np.zeros([env.observation_space.n, env.action_space.n])\n",
    "    epsilon = 1.0  # Initial epsilon value\n",
    "    consecutive_optimal_episodes = 0  # Count of consecutive episodes with optimal reward\n",
    "    avgSuccessEpisodes = []\n",
    "    episodeNum = []\n",
    "\n",
    "    for i in range(episodes):\n",
    "        state, _ = env.reset()  # Reset environment for every new episode\n",
    "        total_R = 0  # Reset total reward for the episode\n",
    "\n",
    "        while True:  # Until the episode ends\n",
    "            if np.random.uniform(0, 1) < epsilon:\n",
    "                # With probability epsilon randomly select action\n",
    "                action = env.action_space.sample()\n",
    "            else:\n",
    "                # With probability (1-epsilon) greedily select action\n",
    "                action = np.argmax(Q[state])\n",
    "\n",
    "            # Perform selected action on the environment and check next_state\n",
    "            next_state, reward, done, truncated, _ = env.step(action)\n",
    "            total_R += reward\n",
    "\n",
    "            # Perform Q learning update:\n",
    "            # Q(s,a) \\leftarrow Q(s,a) +  step_size * [R + \\gamma * \\max_a Q(s',a) -  Q(s,a) ]\n",
    "            Q[state][action] += step_size * (reward + gamma * np.max(Q[next_state]) - Q[state][action])\n",
    "\n",
    "            # Assign new current state\n",
    "            state = next_state\n",
    "\n",
    "            # If episode has terminated, restart\n",
    "            if done or truncated:\n",
    "                break\n",
    "\n",
    "        # Decay epsilon to increase probability of exploitation (OPTIONAL). E-greedy with constant epsilon is also fine.\n",
    "        epsilon = decay_epsilon(i, decay_rate=decayRate)\n",
    "\n",
    "        # Check for convergence based on total reward\n",
    "        if total_R == -13:\n",
    "            consecutive_optimal_episodes += 1\n",
    "            # convergedEpisode.append(consecutive_optimal_episodes)\n",
    "            \n",
    "\n",
    "        if i%100==0 and not i==0:\n",
    "            print(\"Trial\",i,\":\")\n",
    "            episodeNum.append(i)\n",
    "            print(consecutive_optimal_episodes)\n",
    "            print(\"Amount of converged episodes of the last 100 values\", consecutive_optimal_episodes/100)\n",
    "            avgSuccessEpisodes.append(consecutive_optimal_episodes/100)\n",
    "            consecutive_optimal_episodes = 0\n",
    "        # else:\n",
    "        #     consecutive_optimal_episodes = 0\n",
    "\n",
    "        # if consecutive_optimal_episodes > 100:  # If more than 100 consecutive episodes have optimal reward, consider it converged\n",
    "        #     print(f'Converged at episode: {i - 100}')  # Subtract 100 to get the first episode in the optimal streak\n",
    "        #     break\n",
    "\n",
    "    return Q, avgSuccessEpisodes, episodeNum\n",
    "\n",
    "def decay_epsilon(episode: int, max_epsilon: float = 1.0, min_epsilon: float = 0.1, decay_rate: float = 0.001) -> float:\n",
    "    # Exponential decay of epsilon based on ep number\n",
    "    epsilon = min_epsilon + (max_epsilon - min_epsilon) * np.exp(-decay_rate * episode)\n",
    "    return epsilon\n",
    "\n",
    "\n",
    "def determine_policy_from_Q(Q: np.ndarray) -> np.ndarray:\n",
    "    # Build policy from Q function  by \\pi(state) = \\argmax_a Q(state,  a) for every state.\n",
    "    policy = np.zeros(Q.shape[0])\n",
    "    for s in range(Q.shape[0]):\n",
    "        policy[s] = np.argmax(Q[s])\n",
    "    return policy"
   ]
  },
  {
   "cell_type": "code",
   "execution_count": null,
   "metadata": {
    "colab": {
     "base_uri": "https://localhost:8080/"
    },
    "executionInfo": {
     "elapsed": 26197,
     "status": "ok",
     "timestamp": 1685304055752,
     "user": {
      "displayName": "Steryios Nicolaides",
      "userId": "00105694009240801422"
     },
     "user_tz": -60
    },
    "id": "8z7DoLDKsZ8i",
    "outputId": "a7a8761a-c464-404d-c4a9-12085554958f"
   },
   "outputs": [
    {
     "name": "stdout",
     "output_type": "stream",
     "text": [
      "Trial 100 :\n",
      "0\n",
      "Amount of converged episodes of the last 100 values 0.0\n",
      "Trial 200 :\n",
      "0\n",
      "Amount of converged episodes of the last 100 values 0.0\n",
      "Trial 300 :\n",
      "0\n",
      "Amount of converged episodes of the last 100 values 0.0\n",
      "Trial 400 :\n",
      "0\n",
      "Amount of converged episodes of the last 100 values 0.0\n",
      "Trial 500 :\n",
      "0\n",
      "Amount of converged episodes of the last 100 values 0.0\n",
      "Trial 600 :\n",
      "0\n",
      "Amount of converged episodes of the last 100 values 0.0\n",
      "Trial 700 :\n",
      "0\n",
      "Amount of converged episodes of the last 100 values 0.0\n",
      "Trial 800 :\n",
      "0\n",
      "Amount of converged episodes of the last 100 values 0.0\n",
      "Trial 900 :\n",
      "2\n",
      "Amount of converged episodes of the last 100 values 0.02\n",
      "Trial 1000 :\n",
      "0\n",
      "Amount of converged episodes of the last 100 values 0.0\n",
      "Trial 1100 :\n",
      "1\n",
      "Amount of converged episodes of the last 100 values 0.01\n",
      "Trial 1200 :\n",
      "4\n",
      "Amount of converged episodes of the last 100 values 0.04\n",
      "Trial 1300 :\n",
      "2\n",
      "Amount of converged episodes of the last 100 values 0.02\n",
      "Trial 1400 :\n",
      "4\n",
      "Amount of converged episodes of the last 100 values 0.04\n",
      "Trial 1500 :\n",
      "5\n",
      "Amount of converged episodes of the last 100 values 0.05\n",
      "Trial 1600 :\n",
      "3\n",
      "Amount of converged episodes of the last 100 values 0.03\n",
      "Trial 1700 :\n",
      "4\n",
      "Amount of converged episodes of the last 100 values 0.04\n",
      "Trial 1800 :\n",
      "5\n",
      "Amount of converged episodes of the last 100 values 0.05\n",
      "Trial 1900 :\n",
      "8\n",
      "Amount of converged episodes of the last 100 values 0.08\n",
      "Trial 2000 :\n",
      "8\n",
      "Amount of converged episodes of the last 100 values 0.08\n",
      "Trial 2100 :\n",
      "10\n",
      "Amount of converged episodes of the last 100 values 0.1\n",
      "Trial 2200 :\n",
      "11\n",
      "Amount of converged episodes of the last 100 values 0.11\n",
      "Trial 2300 :\n",
      "8\n",
      "Amount of converged episodes of the last 100 values 0.08\n",
      "Trial 2400 :\n",
      "23\n",
      "Amount of converged episodes of the last 100 values 0.23\n",
      "Trial 2500 :\n",
      "11\n",
      "Amount of converged episodes of the last 100 values 0.11\n",
      "Trial 2600 :\n",
      "13\n",
      "Amount of converged episodes of the last 100 values 0.13\n",
      "Trial 2700 :\n",
      "23\n",
      "Amount of converged episodes of the last 100 values 0.23\n",
      "Trial 2800 :\n",
      "18\n",
      "Amount of converged episodes of the last 100 values 0.18\n",
      "Trial 2900 :\n",
      "21\n",
      "Amount of converged episodes of the last 100 values 0.21\n",
      "Trial 3000 :\n",
      "10\n",
      "Amount of converged episodes of the last 100 values 0.1\n",
      "Trial 3100 :\n",
      "18\n",
      "Amount of converged episodes of the last 100 values 0.18\n",
      "Trial 3200 :\n",
      "28\n",
      "Amount of converged episodes of the last 100 values 0.28\n",
      "Trial 3300 :\n",
      "25\n",
      "Amount of converged episodes of the last 100 values 0.25\n",
      "Trial 3400 :\n",
      "23\n",
      "Amount of converged episodes of the last 100 values 0.23\n",
      "Trial 3500 :\n",
      "29\n",
      "Amount of converged episodes of the last 100 values 0.29\n",
      "Trial 3600 :\n",
      "28\n",
      "Amount of converged episodes of the last 100 values 0.28\n",
      "Trial 3700 :\n",
      "29\n",
      "Amount of converged episodes of the last 100 values 0.29\n",
      "Trial 3800 :\n",
      "26\n",
      "Amount of converged episodes of the last 100 values 0.26\n",
      "Trial 3900 :\n",
      "37\n",
      "Amount of converged episodes of the last 100 values 0.37\n",
      "Trial 4000 :\n",
      "30\n",
      "Amount of converged episodes of the last 100 values 0.3\n",
      "Trial 4100 :\n",
      "32\n",
      "Amount of converged episodes of the last 100 values 0.32\n",
      "Trial 4200 :\n",
      "28\n",
      "Amount of converged episodes of the last 100 values 0.28\n",
      "Trial 4300 :\n",
      "36\n",
      "Amount of converged episodes of the last 100 values 0.36\n",
      "Trial 4400 :\n",
      "37\n",
      "Amount of converged episodes of the last 100 values 0.37\n",
      "Trial 4500 :\n",
      "33\n",
      "Amount of converged episodes of the last 100 values 0.33\n",
      "Trial 4600 :\n",
      "33\n",
      "Amount of converged episodes of the last 100 values 0.33\n",
      "Trial 4700 :\n",
      "28\n",
      "Amount of converged episodes of the last 100 values 0.28\n",
      "Trial 4800 :\n",
      "32\n",
      "Amount of converged episodes of the last 100 values 0.32\n",
      "Trial 4900 :\n",
      "35\n",
      "Amount of converged episodes of the last 100 values 0.35\n",
      "Test average reward: -13.0\n",
      "[1. 1. 1. 1. 1. 1. 1. 1. 1. 1. 1. 2. 1. 1. 1. 1. 1. 1. 1. 1. 1. 1. 1. 2.\n",
      " 1. 1. 1. 1. 1. 1. 1. 1. 1. 1. 1. 2. 0. 0. 0. 0. 0. 0. 0. 0. 0. 0. 0. 0.]\n"
     ]
    }
   ],
   "source": [
    "env = gym.make(\"CliffWalking-v0\")\n",
    "Q, avgSuccessEpisodesQlearn, episodeNum = Q_learning_convergence(env)  # Get Q value\n",
    "opt_p = determine_policy_from_Q(Q)  # Get policy from  Q\n",
    "\n",
    "successes = 0\n",
    "n_runs = 2000\n",
    "total_runs_reward = 0\n",
    "for _ in range(n_runs):  # Test the policy n_runs times\n",
    "    total_runs_reward+=test_policy(env, opt_p)  # Test the policy on your environment.\n",
    "\n",
    "print(f\"Test average reward: {total_runs_reward / n_runs}\")\n",
    "print(opt_p)\n",
    "\n",
    "env.close()"
   ]
  },
  {
   "cell_type": "markdown",
   "metadata": {
    "id": "Pqe11gMGljJZ"
   },
   "source": [
    "In this code, we track the total reward per episode and increase a counter (`consecutive_optimal_episodes`) every time the total reward is -13. If we get more than 100 consecutive episodes with an optimal total reward of -13, we consider the learning algorithm to have converged.\n",
    "\n",
    "Note: The choice of 100 consecutive episodes is arbitrary, and you could choose a different threshold depending on your specific requirements. Similarly, the total reward threshold of -13 is based on the known optimal policy for this specific problem. This approach may not be applicable for other problems where the optimal policy is unknown."
   ]
  },
  {
   "cell_type": "markdown",
   "metadata": {
    "id": "EqDOeN6Ij1cc"
   },
   "source": [
    "### $\\color{blue}{\\text{SARSA:}}$"
   ]
  },
  {
   "cell_type": "code",
   "execution_count": null,
   "metadata": {
    "id": "uSCF7xIFESMW"
   },
   "outputs": [],
   "source": [
    "def sarsa_convergence(env: gym.Env, step_size: float = 0.1, episodes: int = 5000, gamma: float = 0.95) -> np.ndarray:\n",
    "    Q = np.zeros([env.observation_space.n, env.action_space.n])\n",
    "    epsilon = 1.0  # Initial epsilon value\n",
    "    consecutive_optimal_episodes = 0  # Count of consecutive episodes with optimal reward\n",
    "    avgSuccessEpisodes = []\n",
    "    episodeNum = []\n",
    "\n",
    "    for i in range(episodes):\n",
    "        state, _ = env.reset()  # Reset environment for every new episode\n",
    "        total_R = 0  # Reward count for each episode (OPTIONAL)\n",
    "\n",
    "        while True:  # Until the episode ends\n",
    "            if np.random.uniform(0, 1) < epsilon:\n",
    "                # With probability epsilon randomly select action\n",
    "                action = env.action_space.sample()\n",
    "            else:\n",
    "                # With probability (1-epsilon) greedily select action\n",
    "                action = np.argmax(Q[state])\n",
    "\n",
    "            # Perform selected action on the environment and check next_state\n",
    "            next_state, reward, done, truncated, _ = env.step(action)\n",
    "            if np.random.uniform(0, 1) < epsilon:\n",
    "                # With probability epsilon randomly select action\n",
    "                next_action = env.action_space.sample()\n",
    "            else:\n",
    "                # With probability (1-epsilon) greedily select action\n",
    "                next_action = np.argmax(Q[next_state])\n",
    "            # Just keeps track of environment rewards (OPTIONAL)\n",
    "            total_R += reward\n",
    "\n",
    "            # Perform Q learning update:\n",
    "            # Q(s,a) \\leftarrow Q(s,a) +  step_size * [R + \\gamma * \\max_a Q(s',a) -  Q(s,a) ]\n",
    "            Q[state][action] += step_size * (reward + gamma * Q[next_state][next_action] - Q[state][action])\n",
    "\n",
    "            # Assign new current state\n",
    "            state = next_state\n",
    "\n",
    "            # If episode has terminated, restart\n",
    "            if done or truncated:\n",
    "                break\n",
    "        # Decay epsilon to increase probability of exploitation (OPTIONAL). E-greedy with constant epsilon is also fine.\n",
    "        epsilon = decay_epsilon(i)\n",
    "\n",
    "        # Check for convergence based on total reward\n",
    "        if total_R == -17:\n",
    "            consecutive_optimal_episodes += 1\n",
    "\n",
    "        if i%100==0 and not i==0:\n",
    "            print(\"Trial\",i,\":\")\n",
    "            episodeNum.append(i)\n",
    "            print(consecutive_optimal_episodes)\n",
    "            print(\"Amount of converged episodes of the last 100 values\", consecutive_optimal_episodes/100)\n",
    "            avgSuccessEpisodes.append(consecutive_optimal_episodes/100)\n",
    "            consecutive_optimal_episodes = 0\n",
    "\n",
    "\n",
    "    return Q, avgSuccessEpisodes, episodeNum\n",
    "\n",
    "def decay_epsilon(episode: int, max_epsilon: float = 1.0, min_epsilon: float = 0.1, decay_rate: float = 0.001) -> float:\n",
    "    # Exponential decay of epsilon based on ep number\n",
    "    epsilon = min_epsilon + (max_epsilon - min_epsilon) * np.exp(-decay_rate * episode)\n",
    "    return epsilon\n",
    "\n",
    "\n",
    "def determine_policy_from_Q(Q: np.ndarray) -> np.ndarray:\n",
    "    # Build policy from Q function  by \\pi(state) = \\argmax_a Q(state,  a) for every state.\n",
    "    policy = np.zeros(Q.shape[0])\n",
    "    for s in range(Q.shape[0]):\n",
    "        policy[s] = np.argmax(Q[s])\n",
    "    return policy"
   ]
  },
  {
   "cell_type": "code",
   "execution_count": null,
   "metadata": {
    "colab": {
     "base_uri": "https://localhost:8080/"
    },
    "executionInfo": {
     "elapsed": 207031,
     "status": "ok",
     "timestamp": 1685304287462,
     "user": {
      "displayName": "Steryios Nicolaides",
      "userId": "00105694009240801422"
     },
     "user_tz": -60
    },
    "id": "oo5eNv-1ESIN",
    "outputId": "390770a3-ae5d-4c23-b95b-0cc5a0df019c"
   },
   "outputs": [
    {
     "name": "stdout",
     "output_type": "stream",
     "text": [
      "Trial 100 :\n",
      "0\n",
      "Amount of converged episodes of the last 100 values 0.0\n",
      "Trial 200 :\n",
      "0\n",
      "Amount of converged episodes of the last 100 values 0.0\n",
      "Trial 300 :\n",
      "0\n",
      "Amount of converged episodes of the last 100 values 0.0\n",
      "Trial 400 :\n",
      "0\n",
      "Amount of converged episodes of the last 100 values 0.0\n",
      "Trial 500 :\n",
      "0\n",
      "Amount of converged episodes of the last 100 values 0.0\n",
      "Trial 600 :\n",
      "0\n",
      "Amount of converged episodes of the last 100 values 0.0\n",
      "Trial 700 :\n",
      "0\n",
      "Amount of converged episodes of the last 100 values 0.0\n",
      "Trial 800 :\n",
      "0\n",
      "Amount of converged episodes of the last 100 values 0.0\n",
      "Trial 900 :\n",
      "0\n",
      "Amount of converged episodes of the last 100 values 0.0\n",
      "Trial 1000 :\n",
      "0\n",
      "Amount of converged episodes of the last 100 values 0.0\n",
      "Trial 1100 :\n",
      "0\n",
      "Amount of converged episodes of the last 100 values 0.0\n",
      "Trial 1200 :\n",
      "0\n",
      "Amount of converged episodes of the last 100 values 0.0\n",
      "Trial 1300 :\n",
      "3\n",
      "Amount of converged episodes of the last 100 values 0.03\n",
      "Trial 1400 :\n",
      "3\n",
      "Amount of converged episodes of the last 100 values 0.03\n",
      "Trial 1500 :\n",
      "3\n",
      "Amount of converged episodes of the last 100 values 0.03\n",
      "Trial 1600 :\n",
      "0\n",
      "Amount of converged episodes of the last 100 values 0.0\n",
      "Trial 1700 :\n",
      "4\n",
      "Amount of converged episodes of the last 100 values 0.04\n",
      "Trial 1800 :\n",
      "2\n",
      "Amount of converged episodes of the last 100 values 0.02\n",
      "Trial 1900 :\n",
      "5\n",
      "Amount of converged episodes of the last 100 values 0.05\n",
      "Trial 2000 :\n",
      "5\n",
      "Amount of converged episodes of the last 100 values 0.05\n",
      "Trial 2100 :\n",
      "3\n",
      "Amount of converged episodes of the last 100 values 0.03\n",
      "Trial 2200 :\n",
      "3\n",
      "Amount of converged episodes of the last 100 values 0.03\n",
      "Trial 2300 :\n",
      "6\n",
      "Amount of converged episodes of the last 100 values 0.06\n",
      "Trial 2400 :\n",
      "10\n",
      "Amount of converged episodes of the last 100 values 0.1\n",
      "Trial 2500 :\n",
      "10\n",
      "Amount of converged episodes of the last 100 values 0.1\n",
      "Trial 2600 :\n",
      "6\n",
      "Amount of converged episodes of the last 100 values 0.06\n",
      "Trial 2700 :\n",
      "12\n",
      "Amount of converged episodes of the last 100 values 0.12\n",
      "Trial 2800 :\n",
      "16\n",
      "Amount of converged episodes of the last 100 values 0.16\n",
      "Trial 2900 :\n",
      "12\n",
      "Amount of converged episodes of the last 100 values 0.12\n",
      "Trial 3000 :\n",
      "10\n",
      "Amount of converged episodes of the last 100 values 0.1\n",
      "Trial 3100 :\n",
      "15\n",
      "Amount of converged episodes of the last 100 values 0.15\n",
      "Trial 3200 :\n",
      "16\n",
      "Amount of converged episodes of the last 100 values 0.16\n",
      "Trial 3300 :\n",
      "24\n",
      "Amount of converged episodes of the last 100 values 0.24\n",
      "Trial 3400 :\n",
      "20\n",
      "Amount of converged episodes of the last 100 values 0.2\n",
      "Trial 3500 :\n",
      "6\n",
      "Amount of converged episodes of the last 100 values 0.06\n",
      "Trial 3600 :\n",
      "22\n",
      "Amount of converged episodes of the last 100 values 0.22\n",
      "Trial 3700 :\n",
      "17\n",
      "Amount of converged episodes of the last 100 values 0.17\n",
      "Trial 3800 :\n",
      "11\n",
      "Amount of converged episodes of the last 100 values 0.11\n",
      "Trial 3900 :\n",
      "26\n",
      "Amount of converged episodes of the last 100 values 0.26\n",
      "Trial 4000 :\n",
      "24\n",
      "Amount of converged episodes of the last 100 values 0.24\n",
      "Trial 4100 :\n",
      "25\n",
      "Amount of converged episodes of the last 100 values 0.25\n",
      "Trial 4200 :\n",
      "26\n",
      "Amount of converged episodes of the last 100 values 0.26\n",
      "Trial 4300 :\n",
      "24\n",
      "Amount of converged episodes of the last 100 values 0.24\n",
      "Trial 4400 :\n",
      "27\n",
      "Amount of converged episodes of the last 100 values 0.27\n",
      "Trial 4500 :\n",
      "28\n",
      "Amount of converged episodes of the last 100 values 0.28\n",
      "Trial 4600 :\n",
      "27\n",
      "Amount of converged episodes of the last 100 values 0.27\n",
      "Trial 4700 :\n",
      "27\n",
      "Amount of converged episodes of the last 100 values 0.27\n",
      "Trial 4800 :\n",
      "26\n",
      "Amount of converged episodes of the last 100 values 0.26\n",
      "Trial 4900 :\n",
      "28\n",
      "Amount of converged episodes of the last 100 values 0.28\n",
      "Test average reward: -17.0\n",
      "[1. 1. 1. 1. 1. 1. 1. 1. 1. 1. 1. 2. 0. 0. 0. 0. 0. 0. 0. 0. 0. 0. 1. 2.\n",
      " 0. 0. 0. 0. 0. 0. 0. 0. 0. 0. 1. 2. 0. 0. 0. 0. 0. 0. 0. 0. 0. 0. 0. 0.]\n"
     ]
    }
   ],
   "source": [
    "env = gym.make(\"CliffWalking-v0\")\n",
    "Q, avgSuccessEpisodesSARSA, episodeNumSARSA = sarsa_convergence(env)  # Get Q value\n",
    "opt_p = determine_policy_from_Q(Q)  # Get policy from  Q\n",
    "\n",
    "successes = 0\n",
    "n_runs = 2000\n",
    "total_runs_reward = 0\n",
    "for _ in range(n_runs):  # Test the policy n_runs times\n",
    "    total_runs_reward+=test_policy(env, opt_p)  # Test the policy on your environment.\n",
    "\n",
    "print(f\"Test average reward: {total_runs_reward / n_runs}\")\n",
    "print(opt_p)\n",
    "\n",
    "env.close()"
   ]
  },
  {
   "cell_type": "code",
   "execution_count": null,
   "metadata": {
    "colab": {
     "base_uri": "https://localhost:8080/"
    },
    "executionInfo": {
     "elapsed": 5,
     "status": "ok",
     "timestamp": 1685303887895,
     "user": {
      "displayName": "Steryios Nicolaides",
      "userId": "00105694009240801422"
     },
     "user_tz": -60
    },
    "id": "7Y-qCVg777tW",
    "outputId": "200ce07b-8b1a-4eaf-9f2e-aae8bb40cd79"
   },
   "outputs": [
    {
     "data": {
      "text/plain": [
       "0"
      ]
     },
     "execution_count": 20,
     "metadata": {},
     "output_type": "execute_result"
    }
   ],
   "source": [
    "len(episodeNumSARSA)"
   ]
  },
  {
   "cell_type": "code",
   "execution_count": null,
   "metadata": {
    "colab": {
     "base_uri": "https://localhost:8080/",
     "height": 449
    },
    "executionInfo": {
     "elapsed": 402,
     "status": "ok",
     "timestamp": 1685304287836,
     "user": {
      "displayName": "Steryios Nicolaides",
      "userId": "00105694009240801422"
     },
     "user_tz": -60
    },
    "id": "nhuBuf0siwr4",
    "outputId": "8105f895-fbf0-4560-b9eb-57f2d2b3c25d"
   },
   "outputs": [
    {
     "data": {
      "image/png": "[encoded data removed]",
      "text/plain": [
       "<Figure size 640x480 with 1 Axes>"
      ]
     },
     "metadata": {},
     "output_type": "display_data"
    }
   ],
   "source": [
    "plt.plot(episodeNumQlearn, avgSuccessEpisodesQlearn, marker='.', label=\"Q Learning\")\n",
    "plt.plot(episodeNumSARSA, avgSuccessEpisodesSARSA, marker='.', label=\"SARSA\")\n",
    "plt.xlabel('Episode Number')\n",
    "plt.ylabel('Optimal Episode Rate')\n",
    "# plt.title('DT vs SVC - ROC Curve')\n",
    "plt.legend(loc=\"lower right\")\n",
    "plt.grid(True)\n",
    "plt.show()"
   ]
  }
 ],
 "metadata": {
  "colab": {
   "provenance": []
  },
  "kernelspec": {
   "display_name": "Python 3 (ipykernel)",
   "language": "python",
   "name": "python3"
  },
  "language_info": {
   "codemirror_mode": {
    "name": "ipython",
    "version": 3
   },
   "file_extension": ".py",
   "mimetype": "text/x-python",
   "name": "python",
   "nbconvert_exporter": "python",
   "pygments_lexer": "ipython3",
   "version": "3.9.12"
  }
 },
 "nbformat": 4,
 "nbformat_minor": 1
}
