{
 "cells": [
  {
   "cell_type": "markdown",
   "metadata": {
    "id": "mAxHne4W0W0C"
   },
   "source": [
    "# Model construction:"
   ]
  },
  {
   "cell_type": "markdown",
   "metadata": {
    "id": "qL01SLBDK0zW"
   },
   "source": [
    "The `compute_color_histogram` function is included at the top. It takes an image as input and returns the color histogram as a flattened array, calculated using the RGB color space.\n",
    "\n",
    "Inside the `preprocess_images` function, after loading and resizing each image, the `compute_color_histogram` function is called to compute the color histogram for the image. The resulting histogram is then appended to the `images` list.\n",
    "\n",
    "The rest of the code remains the same, where the image histograms are used as features (`X_train` and `X_test`) for training and evaluating the Random Forest classifier (`clf`).\n",
    "\n",
    "Make sure to adjust the `image_dir` and `image_size` variables to match your specific dataset."
   ]
  },
  {
   "cell_type": "code",
   "execution_count": null,
   "metadata": {
    "id": "1kqp63PoSS7f"
   },
   "outputs": [],
   "source": [
    "import os\n",
    "import cv2\n",
    "import numpy as np\n",
    "import pandas as pd\n",
    "import time\n",
    "import matplotlib.pyplot as plt\n",
    "import sklearn\n",
    "from sklearn.tree import DecisionTreeClassifier\n",
    "from sklearn.svm import SVC\n",
    "from sklearn.model_selection import train_test_split, GridSearchCV\n",
    "from sklearn.metrics import classification_report\n",
    "from sklearn.metrics import roc_curve, auc\n",
    "from skimage import feature"
   ]
  },
  {
   "cell_type": "markdown",
   "metadata": {
    "id": "PFlCWlDtvJBJ"
   },
   "source": [
    "## Experiment 1: Image processing technique:"
   ]
  },
  {
   "cell_type": "markdown",
   "metadata": {
    "id": "_ek0n6zevJBL"
   },
   "source": [
    "### Color Histograms:"
   ]
  },
  {
   "cell_type": "code",
   "execution_count": null,
   "metadata": {
    "id": "ZFKNthrjvJBM"
   },
   "outputs": [],
   "source": [
    "def compute_color_histogram(image, bins=(8, 8, 8)):\n",
    "    computed_hist = cv2.calcHist([image], [0, 1, 2], None, bins, [0, 256, 0, 256, 0, 256])\n",
    "    norm_hist = cv2.normalize(computed_hist, computed_hist)\n",
    "    return norm_hist.flatten()\n",
    "\n",
    "\n",
    "def preprocess_images(image_dir, image_size, class_names):\n",
    "    processed_images = []\n",
    "    image_labels = []\n",
    "    leaf_categories = os.listdir(image_dir)\n",
    "    class_labels = class_names\n",
    "    for leaf_category in leaf_categories:\n",
    "        leaf_category_dir = os.path.join(image_dir, leaf_category)\n",
    "        for class_label in class_labels:\n",
    "            class_dir = os.path.join(leaf_category_dir, class_label)\n",
    "            leaf_images = os.listdir(class_dir)\n",
    "            for leaf_image in leaf_images:\n",
    "                image_dir_path = os.path.join(class_dir, leaf_image)\n",
    "                leaf_image = cv2.imread(image_dir_path)\n",
    "                res_image = cv2.resize(leaf_image, image_size)\n",
    "                image_hist = compute_color_histogram(res_image)\n",
    "                processed_images.append(image_hist)\n",
    "                image_labels.append(class_label)\n",
    "    processed_images = np.array(processed_images)\n",
    "    image_labels = np.array(image_labels)\n",
    "    return processed_images, image_labels\n",
    "\n",
    "dataset_dir = \"./leaf_dataset_small\"\n",
    "imageSize = (600, 400)\n",
    "classNames = ['healthy','diseased']\n",
    "\n",
    "# Preprocess the images\n",
    "leafImages, labels = preprocess_images(dataset_dir, imageSize, classNames)\n",
    "\n",
    "X_train, X_test, y_train, y_test = train_test_split(leafImages, labels, test_size=0.2, random_state=42)"
   ]
  },
  {
   "cell_type": "markdown",
   "metadata": {
    "id": "iSGRuRefvJBM"
   },
   "source": [
    "**Decision Tree Classifier:**"
   ]
  },
  {
   "cell_type": "code",
   "execution_count": null,
   "metadata": {
    "id": "cD0tx5-3vJBN",
    "outputId": "bbf0b62d-b182-4f0d-988d-2681767f4b2f"
   },
   "outputs": [
    {
     "name": "stdout",
     "output_type": "stream",
     "text": [
      "Time taken to train 0.147 ms\n",
      "Accuracy: 0.8125\n"
     ]
    }
   ],
   "source": [
    "start = time.time()\n",
    "dtclf = DecisionTreeClassifier()\n",
    "dtclf.fit(X_train, y_train)\n",
    "dt_time = time.time() - start\n",
    "print(\"Time taken to train\",round(dt_time,3),\"ms\")\n",
    "\n",
    "accuracy_dt = dtclf.score(X_test, y_test)\n",
    "print(\"Accuracy:\", accuracy_dt)\n",
    "\n",
    "\n",
    "y_pred_dt = dtclf.predict(X_test)\n",
    "classification_report_dt = classification_report(y_test, y_pred_dt, target_names=classNames,output_dict=True)"
   ]
  },
  {
   "cell_type": "code",
   "execution_count": null,
   "metadata": {
    "id": "wktx67-ZvJBP",
    "outputId": "c35b47d7-3010-4ec0-d7d8-e7a6de1ca5ba"
   },
   "outputs": [
    {
     "data": {
      "text/html": [
       "<div>\n",
       "<style scoped>\n",
       "    .dataframe tbody tr th:only-of-type {\n",
       "        vertical-align: middle;\n",
       "    }\n",
       "\n",
       "    .dataframe tbody tr th {\n",
       "        vertical-align: top;\n",
       "    }\n",
       "\n",
       "    .dataframe thead th {\n",
       "        text-align: right;\n",
       "    }\n",
       "</style>\n",
       "<table border=\"1\" class=\"dataframe\">\n",
       "  <thead>\n",
       "    <tr style=\"text-align: right;\">\n",
       "      <th></th>\n",
       "      <th>precision</th>\n",
       "      <th>recall</th>\n",
       "      <th>f1-score</th>\n",
       "      <th>support</th>\n",
       "    </tr>\n",
       "  </thead>\n",
       "  <tbody>\n",
       "    <tr>\n",
       "      <th>macro avg</th>\n",
       "      <td>0.812716</td>\n",
       "      <td>0.813705</td>\n",
       "      <td>0.812385</td>\n",
       "      <td>848.0</td>\n",
       "    </tr>\n",
       "  </tbody>\n",
       "</table>\n",
       "</div>"
      ],
      "text/plain": [
       "           precision    recall  f1-score  support\n",
       "macro avg   0.812716  0.813705  0.812385    848.0"
      ]
     },
     "execution_count": 4,
     "metadata": {},
     "output_type": "execute_result"
    }
   ],
   "source": [
    "classification_report_dt = pd.DataFrame(classification_report_dt).transpose()\n",
    "classification_report_dt = classification_report_dt.iloc[3:4,:]\n",
    "classification_report_dt"
   ]
  },
  {
   "cell_type": "markdown",
   "metadata": {
    "id": "8aBcsjPmvJBP"
   },
   "source": [
    "**Support Vector Classifier:**"
   ]
  },
  {
   "cell_type": "code",
   "execution_count": null,
   "metadata": {
    "id": "FOIXt18MvJBQ",
    "outputId": "81b5451e-8582-406f-84c1-c61658d1fd54"
   },
   "outputs": [
    {
     "name": "stdout",
     "output_type": "stream",
     "text": [
      "Time taken to train 2.621 ms\n",
      "Accuracy: 0.7535377358490566\n"
     ]
    }
   ],
   "source": [
    "start = time.time()\n",
    "clfsvc = SVC()\n",
    "\n",
    "clfsvc.fit(X_train, y_train)\n",
    "accuracy_svc = clfsvc.score(X_test, y_test)\n",
    "svc_time = time.time() - start\n",
    "print(\"Time taken to train\",round(svc_time,3),\"ms\")\n",
    "print(\"Accuracy:\", accuracy_svc)\n",
    "\n",
    "y_pred_svc = clfsvc.predict(X_test)\n",
    "classification_report_svc = classification_report(y_test, y_pred_svc, target_names=classNames,output_dict=True)"
   ]
  },
  {
   "cell_type": "code",
   "execution_count": null,
   "metadata": {
    "id": "J-M86AjvvJBQ",
    "outputId": "d0f64d20-282c-43ba-ada7-83b19bf27992"
   },
   "outputs": [
    {
     "data": {
      "text/html": [
       "<div>\n",
       "<style scoped>\n",
       "    .dataframe tbody tr th:only-of-type {\n",
       "        vertical-align: middle;\n",
       "    }\n",
       "\n",
       "    .dataframe tbody tr th {\n",
       "        vertical-align: top;\n",
       "    }\n",
       "\n",
       "    .dataframe thead th {\n",
       "        text-align: right;\n",
       "    }\n",
       "</style>\n",
       "<table border=\"1\" class=\"dataframe\">\n",
       "  <thead>\n",
       "    <tr style=\"text-align: right;\">\n",
       "      <th></th>\n",
       "      <th>precision</th>\n",
       "      <th>recall</th>\n",
       "      <th>f1-score</th>\n",
       "      <th>support</th>\n",
       "    </tr>\n",
       "  </thead>\n",
       "  <tbody>\n",
       "    <tr>\n",
       "      <th>macro avg</th>\n",
       "      <td>0.759073</td>\n",
       "      <td>0.757232</td>\n",
       "      <td>0.753414</td>\n",
       "      <td>848.0</td>\n",
       "    </tr>\n",
       "  </tbody>\n",
       "</table>\n",
       "</div>"
      ],
      "text/plain": [
       "           precision    recall  f1-score  support\n",
       "macro avg   0.759073  0.757232  0.753414    848.0"
      ]
     },
     "execution_count": 6,
     "metadata": {},
     "output_type": "execute_result"
    }
   ],
   "source": [
    "classification_report_svc = pd.DataFrame(classification_report_svc).transpose()\n",
    "classification_report_svc = classification_report_svc.iloc[3:4,:]\n",
    "classification_report_svc"
   ]
  },
  {
   "cell_type": "markdown",
   "metadata": {
    "id": "FC7ReawxvJBR"
   },
   "source": [
    "### Pixel Intensity: \n",
    "\n",
    "The Pixel Intensity function is less sophisticated than the colour histograms function as it receives an image as input and returns a 1D array (flattened version) of the 2D grayscale image."
   ]
  },
  {
   "cell_type": "code",
   "execution_count": null,
   "metadata": {
    "id": "cexRYCXYvJBR"
   },
   "outputs": [],
   "source": [
    "def calculate_intensity(input_image):\n",
    "    gray_image = cv2.cvtColor(input_image, cv2.COLOR_BGR2GRAY)\n",
    "    return gray_image.flatten()\n",
    "\n",
    "def preprocess_images(image_dir, image_size, class_names):\n",
    "    processed_images = []\n",
    "    image_labels = []\n",
    "    leaf_categories = os.listdir(image_dir)\n",
    "    class_labels = class_names\n",
    "    for leaf_category in leaf_categories:\n",
    "        leaf_category_dir = os.path.join(image_dir, leaf_category)\n",
    "        for class_label in class_labels:\n",
    "            class_dir = os.path.join(leaf_category_dir, class_label)\n",
    "            leaf_images = os.listdir(class_dir)\n",
    "            for leaf_image in leaf_images:\n",
    "                image_dir_path = os.path.join(class_dir, leaf_image)\n",
    "                leaf_image = cv2.imread(image_dir_path)\n",
    "                res_image = cv2.resize(leaf_image, image_size)\n",
    "                image_intensity = calculate_intensity(res_image)\n",
    "                processed_images.append(image_intensity)\n",
    "                image_labels.append(class_label)\n",
    "    processed_images = np.array(processed_images)\n",
    "    image_labels = np.array(image_labels)\n",
    "    return processed_images, image_labels\n",
    "\n",
    "\n",
    "dataset_dir = \"./leaf_dataset_small\"\n",
    "classNames = ['healthy','diseased']\n",
    "imageSize = (100, 100)  # Reduced the image resolution as the model took a veary large amount of time to run\n",
    "\n",
    "# Preprocess the images\n",
    "leafImages, labels = preprocess_images(dataset_dir, imageSize, classNames)\n",
    "\n",
    "X_train, X_test, y_train, y_test = train_test_split(leafImages, labels, test_size=0.2, random_state=42)"
   ]
  },
  {
   "cell_type": "markdown",
   "metadata": {
    "id": "YmEbLR14vJBT"
   },
   "source": [
    "**Decision Tree Classifier:**"
   ]
  },
  {
   "cell_type": "code",
   "execution_count": null,
   "metadata": {
    "id": "76sm107LvJBT",
    "outputId": "663271b8-282d-496b-e29e-fa37111a4a19"
   },
   "outputs": [
    {
     "name": "stdout",
     "output_type": "stream",
     "text": [
      "Time taken to train 10.134 ms\n",
      "Accuracy: 0.7122641509433962\n"
     ]
    }
   ],
   "source": [
    "start = time.time()\n",
    "dtclf = DecisionTreeClassifier(max_depth=10, random_state=42)  # Prune the tree and use parallel processing\n",
    "dtclf.fit(X_train, y_train)\n",
    "dt_time = time.time() - start\n",
    "print(\"Time taken to train\",round(dt_time,3),\"ms\")\n",
    "\n",
    "accuracy_dt = dtclf.score(X_test, y_test)\n",
    "print(\"Accuracy:\", accuracy_dt)\n",
    "\n",
    "y_pred_dt = dtclf.predict(X_test)\n",
    "classification_report_dt = classification_report(y_test, y_pred_dt, target_names=classNames,output_dict=True)"
   ]
  },
  {
   "cell_type": "code",
   "execution_count": null,
   "metadata": {
    "id": "hcoM5TIyvJBU",
    "outputId": "c9e60e1e-9665-4c9b-a4d8-60d1da3b1d69"
   },
   "outputs": [
    {
     "data": {
      "text/html": [
       "<div>\n",
       "<style scoped>\n",
       "    .dataframe tbody tr th:only-of-type {\n",
       "        vertical-align: middle;\n",
       "    }\n",
       "\n",
       "    .dataframe tbody tr th {\n",
       "        vertical-align: top;\n",
       "    }\n",
       "\n",
       "    .dataframe thead th {\n",
       "        text-align: right;\n",
       "    }\n",
       "</style>\n",
       "<table border=\"1\" class=\"dataframe\">\n",
       "  <thead>\n",
       "    <tr style=\"text-align: right;\">\n",
       "      <th></th>\n",
       "      <th>precision</th>\n",
       "      <th>recall</th>\n",
       "      <th>f1-score</th>\n",
       "      <th>support</th>\n",
       "    </tr>\n",
       "  </thead>\n",
       "  <tbody>\n",
       "    <tr>\n",
       "      <th>macro avg</th>\n",
       "      <td>0.711426</td>\n",
       "      <td>0.710402</td>\n",
       "      <td>0.710718</td>\n",
       "      <td>848.0</td>\n",
       "    </tr>\n",
       "  </tbody>\n",
       "</table>\n",
       "</div>"
      ],
      "text/plain": [
       "           precision    recall  f1-score  support\n",
       "macro avg   0.711426  0.710402  0.710718    848.0"
      ]
     },
     "execution_count": 9,
     "metadata": {},
     "output_type": "execute_result"
    }
   ],
   "source": [
    "classification_report_dt = pd.DataFrame(classification_report_dt).transpose()\n",
    "classification_report_dt = classification_report_dt.iloc[3:4,:]\n",
    "classification_report_dt"
   ]
  },
  {
   "cell_type": "markdown",
   "metadata": {
    "id": "Id-ZdKWCvJBU"
   },
   "source": [
    "**Support Vector Classifier:**"
   ]
  },
  {
   "cell_type": "code",
   "execution_count": null,
   "metadata": {
    "id": "lYU7-wTMvJBV",
    "outputId": "0e441798-f4be-4ba1-e3cc-20e9160b82fa"
   },
   "outputs": [
    {
     "name": "stdout",
     "output_type": "stream",
     "text": [
      "Time taken to train 25.984 ms\n",
      "Accuracy: 0.7830188679245284\n"
     ]
    }
   ],
   "source": [
    "start = time.time()\n",
    "clfsvc = SVC()\n",
    "\n",
    "clfsvc.fit(X_train, y_train)\n",
    "svc_time = time.time() - start\n",
    "print(\"Time taken to train\",round(svc_time,3),\"ms\")\n",
    "accuracy_svc = clfsvc.score(X_test, y_test)\n",
    "print(\"Accuracy:\", accuracy_svc)\n",
    "\n",
    "y_pred_svc = clfsvc.predict(X_test)\n",
    "classification_report_svc = classification_report(y_test, y_pred_svc, target_names=classNames,output_dict=True)"
   ]
  },
  {
   "cell_type": "code",
   "execution_count": null,
   "metadata": {
    "id": "-NQKvJq7vJBV",
    "outputId": "ac0cdbac-b721-42c7-821a-55ee9c17c7bf"
   },
   "outputs": [
    {
     "data": {
      "text/html": [
       "<div>\n",
       "<style scoped>\n",
       "    .dataframe tbody tr th:only-of-type {\n",
       "        vertical-align: middle;\n",
       "    }\n",
       "\n",
       "    .dataframe tbody tr th {\n",
       "        vertical-align: top;\n",
       "    }\n",
       "\n",
       "    .dataframe thead th {\n",
       "        text-align: right;\n",
       "    }\n",
       "</style>\n",
       "<table border=\"1\" class=\"dataframe\">\n",
       "  <thead>\n",
       "    <tr style=\"text-align: right;\">\n",
       "      <th></th>\n",
       "      <th>precision</th>\n",
       "      <th>recall</th>\n",
       "      <th>f1-score</th>\n",
       "      <th>support</th>\n",
       "    </tr>\n",
       "  </thead>\n",
       "  <tbody>\n",
       "    <tr>\n",
       "      <th>macro avg</th>\n",
       "      <td>0.782675</td>\n",
       "      <td>0.783527</td>\n",
       "      <td>0.782747</td>\n",
       "      <td>848.0</td>\n",
       "    </tr>\n",
       "  </tbody>\n",
       "</table>\n",
       "</div>"
      ],
      "text/plain": [
       "           precision    recall  f1-score  support\n",
       "macro avg   0.782675  0.783527  0.782747    848.0"
      ]
     },
     "execution_count": 11,
     "metadata": {},
     "output_type": "execute_result"
    }
   ],
   "source": [
    "classification_report_svc = pd.DataFrame(classification_report_svc).transpose()\n",
    "classification_report_svc = classification_report_svc.iloc[3:4,:]\n",
    "classification_report_svc"
   ]
  },
  {
   "cell_type": "markdown",
   "metadata": {
    "id": "dgXVEJoEvu_I"
   },
   "source": [
    "### Texture Features:\n",
    "\n",
    "Moving on to the Texture Features function, it calculates the Local Binary Pattern (LBP) histogram of an input image. LBP is a texture operator which labels the pixels of an image by thresholding the neighbourhood of each pixel and considers the result as a binary number."
   ]
  },
  {
   "cell_type": "code",
   "execution_count": null,
   "metadata": {
    "id": "lT_i3rQtveXS"
   },
   "outputs": [],
   "source": [
    "def compute_lbp(input_image, points_count, radius_value, small_constant=1e-7):\n",
    "    local_bin_pattern = feature.local_binary_pattern(input_image, points_count, radius_value, method=\"uniform\")\n",
    "    (histogram, _) = np.histogram(local_bin_pattern.ravel(), bins=np.arange(0, points_count + 3), range=(0, points_count + 2))\n",
    "\n",
    "    histogram = histogram.astype(\"float\")\n",
    "    histogram /= (histogram.sum() + small_constant)\n",
    "\n",
    "    return histogram.flatten()\n",
    "\n",
    "\n",
    "def preprocess_images(image_dir, image_size, class_names):\n",
    "    processed_images = []\n",
    "    image_labels = []\n",
    "    leaf_categories = os.listdir(image_dir)\n",
    "    class_labels = class_names\n",
    "    for leaf_category in leaf_categories:\n",
    "        leaf_category_dir = os.path.join(image_dir, leaf_category)\n",
    "        for class_label in class_labels:\n",
    "            class_dir = os.path.join(leaf_category_dir, class_label)\n",
    "            leaf_images = os.listdir(class_dir)\n",
    "            for leaf_image in leaf_images:\n",
    "                image_dir_path = os.path.join(class_dir, leaf_image)\n",
    "                leaf_image = cv2.imread(image_dir_path, cv2.IMREAD_GRAYSCALE) # LBP needs grayscale images\n",
    "                res_image = cv2.resize(leaf_image, image_size)\n",
    "                image_lbp = compute_lbp(res_image, points_count=24, radius_value=8)\n",
    "                processed_images.append(image_lbp)\n",
    "                image_labels.append(class_label)\n",
    "    processed_images = np.array(processed_images)\n",
    "    image_labels = np.array(image_labels)\n",
    "    return processed_images, image_labels\n",
    "\n",
    "\n",
    "dataset_dir = \"./leaf_dataset_small\"\n",
    "imageSize = (600, 400)\n",
    "classNames = ['healthy','diseased']\n",
    "\n",
    "# Preprocess the images\n",
    "leafImages, labels = preprocess_images(dataset_dir, imageSize, classNames)\n",
    "\n",
    "X_train, X_test, y_train, y_test = train_test_split(leafImages, labels, test_size=0.2, random_state=42)"
   ]
  },
  {
   "cell_type": "markdown",
   "metadata": {
    "id": "g37tytDFwDCo"
   },
   "source": [
    "**Decision Tree Classifier:**"
   ]
  },
  {
   "cell_type": "code",
   "execution_count": null,
   "metadata": {
    "id": "RYnpfMadwDCp",
    "outputId": "663271b8-282d-496b-e29e-fa37111a4a19"
   },
   "outputs": [
    {
     "name": "stdout",
     "output_type": "stream",
     "text": [
      "Time taken to train 0.057 ms\n",
      "Accuracy: 0.6662735849056604\n"
     ]
    }
   ],
   "source": [
    "start = time.time()\n",
    "dtclf = DecisionTreeClassifier()\n",
    "dtclf.fit(X_train, y_train)\n",
    "dt_time = time.time() - start\n",
    "print(\"Time taken to train\",round(dt_time,3),\"ms\")\n",
    "\n",
    "accuracy_dt = dtclf.score(X_test, y_test)\n",
    "print(\"Accuracy:\", accuracy_dt)\n",
    "\n",
    "y_pred_dt = dtclf.predict(X_test)\n",
    "classification_report_dt = classification_report(y_test, y_pred_dt, target_names=classNames,output_dict=True)"
   ]
  },
  {
   "cell_type": "code",
   "execution_count": null,
   "metadata": {
    "id": "YVngIyGYwDCp",
    "outputId": "c9e60e1e-9665-4c9b-a4d8-60d1da3b1d69"
   },
   "outputs": [
    {
     "data": {
      "text/html": [
       "<div>\n",
       "<style scoped>\n",
       "    .dataframe tbody tr th:only-of-type {\n",
       "        vertical-align: middle;\n",
       "    }\n",
       "\n",
       "    .dataframe tbody tr th {\n",
       "        vertical-align: top;\n",
       "    }\n",
       "\n",
       "    .dataframe thead th {\n",
       "        text-align: right;\n",
       "    }\n",
       "</style>\n",
       "<table border=\"1\" class=\"dataframe\">\n",
       "  <thead>\n",
       "    <tr style=\"text-align: right;\">\n",
       "      <th></th>\n",
       "      <th>precision</th>\n",
       "      <th>recall</th>\n",
       "      <th>f1-score</th>\n",
       "      <th>support</th>\n",
       "    </tr>\n",
       "  </thead>\n",
       "  <tbody>\n",
       "    <tr>\n",
       "      <th>macro avg</th>\n",
       "      <td>0.669248</td>\n",
       "      <td>0.668884</td>\n",
       "      <td>0.666251</td>\n",
       "      <td>848.0</td>\n",
       "    </tr>\n",
       "  </tbody>\n",
       "</table>\n",
       "</div>"
      ],
      "text/plain": [
       "           precision    recall  f1-score  support\n",
       "macro avg   0.669248  0.668884  0.666251    848.0"
      ]
     },
     "execution_count": 14,
     "metadata": {},
     "output_type": "execute_result"
    }
   ],
   "source": [
    "classification_report_dt = pd.DataFrame(classification_report_dt).transpose()\n",
    "classification_report_dt = classification_report_dt.iloc[3:4,:]\n",
    "classification_report_dt"
   ]
  },
  {
   "cell_type": "markdown",
   "metadata": {
    "id": "tODF4wd8wDCq"
   },
   "source": [
    "**Support Vector Classifier:**"
   ]
  },
  {
   "cell_type": "code",
   "execution_count": null,
   "metadata": {
    "id": "CVG3aXhTwDCq",
    "outputId": "0e441798-f4be-4ba1-e3cc-20e9160b82fa"
   },
   "outputs": [
    {
     "name": "stdout",
     "output_type": "stream",
     "text": [
      "Time taken to train 0.371 ms\n",
      "Accuracy: 0.6155660377358491\n"
     ]
    }
   ],
   "source": [
    "start = time.time()\n",
    "clfsvc = SVC()\n",
    "\n",
    "clfsvc.fit(X_train, y_train)\n",
    "svc_time = time.time() - start\n",
    "print(\"Time taken to train\",round(svc_time,3),\"ms\")\n",
    "accuracy_svc = clfsvc.score(X_test, y_test)\n",
    "print(\"Accuracy:\", accuracy_svc)\n",
    "\n",
    "y_pred_svc = clfsvc.predict(X_test)\n",
    "classification_report_svc = classification_report(y_test, y_pred_svc, target_names=classNames,output_dict=True)"
   ]
  },
  {
   "cell_type": "code",
   "execution_count": null,
   "metadata": {
    "id": "tI0lMKOuwDCq",
    "outputId": "ac0cdbac-b721-42c7-821a-55ee9c17c7bf"
   },
   "outputs": [
    {
     "data": {
      "text/html": [
       "<div>\n",
       "<style scoped>\n",
       "    .dataframe tbody tr th:only-of-type {\n",
       "        vertical-align: middle;\n",
       "    }\n",
       "\n",
       "    .dataframe tbody tr th {\n",
       "        vertical-align: top;\n",
       "    }\n",
       "\n",
       "    .dataframe thead th {\n",
       "        text-align: right;\n",
       "    }\n",
       "</style>\n",
       "<table border=\"1\" class=\"dataframe\">\n",
       "  <thead>\n",
       "    <tr style=\"text-align: right;\">\n",
       "      <th></th>\n",
       "      <th>precision</th>\n",
       "      <th>recall</th>\n",
       "      <th>f1-score</th>\n",
       "      <th>support</th>\n",
       "    </tr>\n",
       "  </thead>\n",
       "  <tbody>\n",
       "    <tr>\n",
       "      <th>macro avg</th>\n",
       "      <td>0.614831</td>\n",
       "      <td>0.609777</td>\n",
       "      <td>0.608235</td>\n",
       "      <td>848.0</td>\n",
       "    </tr>\n",
       "  </tbody>\n",
       "</table>\n",
       "</div>"
      ],
      "text/plain": [
       "           precision    recall  f1-score  support\n",
       "macro avg   0.614831  0.609777  0.608235    848.0"
      ]
     },
     "execution_count": 16,
     "metadata": {},
     "output_type": "execute_result"
    }
   ],
   "source": [
    "classification_report_svc = pd.DataFrame(classification_report_svc).transpose()\n",
    "classification_report_svc = classification_report_svc.iloc[3:4,:]\n",
    "classification_report_svc"
   ]
  },
  {
   "cell_type": "markdown",
   "metadata": {
    "id": "vf3ysyjQvJBV"
   },
   "source": [
    "## Experiment 2: Hyperparameter tuning:"
   ]
  },
  {
   "cell_type": "markdown",
   "metadata": {
    "id": "PqAkcB9fe7Mo"
   },
   "source": [
    "The function takes an image and the number of bins as input parameters. The cv2.calcHist() function is used to calculate the histogram of the constituent color channels (blue, green, and red) of the image1.\n",
    "\n",
    "The cv2.calcHist() function takes several parameters:\n",
    "\n",
    "images: This is the image that we want to compute a histogram for.\n",
    "channels: This is a list of indexes, specifying the channels for which we want to compute a histogram.\n",
    "mask: This is an optional mask used to specify a region of interest.\n",
    "histSize: This is a list of bin counts for each channel.\n",
    "ranges: This is a list of ranges for each channel.\n",
    "The function returns a flattened histogram array1.\n",
    "\n",
    "The cv2.normalize() function normalizes the histogram so that it can be displayed as an image1."
   ]
  },
  {
   "cell_type": "code",
   "execution_count": null,
   "metadata": {
    "id": "jSvHKEKkSYZh"
   },
   "outputs": [],
   "source": [
    "# Function to calculate color histogram\n",
    "# The parameters needed to calculate the color histogram are 'image' and 'bins'.\n",
    "# The image parameter specifies the input image and bins is a tuple that \n",
    "# specifies the number of bins for each channel. In this case, it is set to\n",
    "# (8, 8, 8), which means that each channel will have 8 bins.\n",
    "\n",
    "def compute_color_histogram(image, bins=(8, 8, 8)):\n",
    "    # `cv2.calcHist` function is used to calculate the color histogram of the\n",
    "    # image with bins specified in the previous parameters. Other parameters\n",
    "    # included are: \n",
    "    # `channels` to be included to compute the histogram, in this case, it\n",
    "    # is [0, 1, 2], which means that we want to compute histograms for all\n",
    "    # three color channels (blue, green, and red). \n",
    "    # `ranges` is a list of ranges for each channel, in this case,\n",
    "    # set to [0, 256, 0, 256, 0, 256], which means that the range for each\n",
    "    # channel is from 0 to 255.\n",
    "    computed_hist = cv2.calcHist([image], [0, 1, 2], None, bins, [0, 256, 0, 256, 0, 256])\n",
    "    norm_hist = cv2.normalize(computed_hist, computed_hist)\n",
    "    return norm_hist.flatten()"
   ]
  },
  {
   "cell_type": "code",
   "execution_count": null,
   "metadata": {
    "id": "KMF8VEfDKyBX"
   },
   "outputs": [],
   "source": [
    "# Function to load and preprocess images\n",
    "def preprocess_images(image_dir, image_size, class_names):\n",
    "    processed_images = []\n",
    "    image_labels = []\n",
    "    # Get a list of subdirectories (each directory represents \n",
    "    # a leaf category)\n",
    "    leaf_categories = os.listdir(image_dir)\n",
    "    class_labels = class_names\n",
    "    # Loop through each leaf type directory\n",
    "    for leaf_category in leaf_categories:\n",
    "        leaf_category_dir = os.path.join(image_dir, leaf_category)\n",
    "        # Loop through each leaf label (healthy or diseased) subdirectory\n",
    "        for class_label in class_labels:\n",
    "            class_dir = os.path.join(leaf_category_dir, class_label)\n",
    "            # Get a list of leaf images in the class subdirectory\n",
    "            # (healthy or diseased)\n",
    "            leaf_images = os.listdir(class_dir)\n",
    "            # Iterate through each leaf image\n",
    "            for leaf_image in leaf_images:\n",
    "                image_dir_path = os.path.join(class_dir, leaf_image)\n",
    "                # Loads the leaf image\n",
    "                leaf_image = cv2.imread(image_dir_path)\n",
    "                # Resizes leaf image to desired size \n",
    "                res_image = cv2.resize(leaf_image, image_size)\n",
    "                # Calculate the color histogram\n",
    "                image_hist = compute_color_histogram(res_image)\n",
    "                # Append the histogram and label to the lists\n",
    "                processed_images.append(image_hist)\n",
    "                image_labels.append(class_label)\n",
    "    processed_images = np.array(processed_images)\n",
    "    image_labels = np.array(image_labels)\n",
    "    return processed_images, image_labels"
   ]
  },
  {
   "cell_type": "code",
   "execution_count": null,
   "metadata": {
    "id": "maZuux3JVbCl"
   },
   "outputs": [],
   "source": [
    "dataset_dir = \"./leaf_dataset_small\"\n",
    "imageSize = (600, 400)\n",
    "classNames = ['healthy','diseased']"
   ]
  },
  {
   "cell_type": "code",
   "execution_count": null,
   "metadata": {
    "id": "w-pKvYPFVeGc"
   },
   "outputs": [],
   "source": [
    "# Preprocess the images\n",
    "leafImages, labels = preprocess_images(dataset_dir, imageSize, classNames)\n",
    "\n",
    "X_train, X_test, y_train, y_test = train_test_split(leafImages, labels, test_size=0.2, random_state=42)\n",
    "\n"
   ]
  },
  {
   "cell_type": "markdown",
   "metadata": {
    "id": "oVoz0hwPT1zr"
   },
   "source": [
    "### Decision Trees:"
   ]
  },
  {
   "cell_type": "code",
   "execution_count": null,
   "metadata": {
    "id": "mdw9y91QlyzJ",
    "outputId": "26d83f80-2841-46be-ecfc-af49beb53bbd"
   },
   "outputs": [
    {
     "name": "stdout",
     "output_type": "stream",
     "text": [
      "Best Parameters: {'criterion': 'entropy', 'max_depth': 8, 'min_samples_leaf': 2, 'min_samples_split': 5}\n",
      "Accuracy: 0.8431603773584906\n",
      "Time taken to run 30.585 ms\n"
     ]
    }
   ],
   "source": [
    "dtclf = DecisionTreeClassifier()\n",
    "# Define the parameter grid for grid search\n",
    "\n",
    "param_grid = {\n",
    "    'criterion': ['gini', 'entropy'],\n",
    "    'max_depth': [None, 2, 4, 6, 8],\n",
    "    'min_samples_split': [2, 5, 10],\n",
    "    'min_samples_leaf': [1, 2, 5],\n",
    "}\n",
    "\n",
    "\n",
    "\n",
    "\n",
    "start = time.time()\n",
    "# grid_search_dt = GridSearchCV(dtclf, param_grid, scoring='f1_macro', cv=5)\n",
    "grid_search_dt = GridSearchCV(dtclf, param_grid, cv=5)\n",
    "grid_search_dt.fit(X_train, y_train)\n",
    "\n",
    "\n",
    "best_dt_clf = grid_search_dt.best_estimator_\n",
    "best_dt_params = grid_search_dt.best_params_\n",
    "\n",
    "\n",
    "accuracy_dt = best_dt_clf.score(X_test, y_test)\n",
    "print(\"Best Parameters:\", best_dt_params)\n",
    "print(\"Accuracy:\", accuracy_dt)\n",
    "\n",
    "\n",
    "y_pred_dt = best_dt_clf.predict(X_test)\n",
    "dt_time = time.time() - start\n",
    "print(\"Time taken to run\",round(dt_time,3),\"ms\")\n",
    "classification_report_dt = classification_report(y_test, y_pred_dt, target_names=classNames,output_dict=True)"
   ]
  },
  {
   "cell_type": "code",
   "execution_count": null,
   "metadata": {
    "id": "cOyQtVh5vJBZ"
   },
   "outputs": [],
   "source": [
    "# sorted(sklearn.metrics.SCORERS.keys())"
   ]
  },
  {
   "cell_type": "code",
   "execution_count": null,
   "metadata": {
    "id": "zqdRUbygvJBb",
    "outputId": "c8dada81-c5b7-4982-fa59-3d3f4553ee7e"
   },
   "outputs": [
    {
     "name": "stdout",
     "output_type": "stream",
     "text": [
      "0.821 (+/-0.029) for {'criterion': 'gini', 'max_depth': None, 'min_samples_leaf': 1, 'min_samples_split': 2}\n",
      "0.818 (+/-0.029) for {'criterion': 'gini', 'max_depth': None, 'min_samples_leaf': 1, 'min_samples_split': 5}\n",
      "0.816 (+/-0.030) for {'criterion': 'gini', 'max_depth': None, 'min_samples_leaf': 1, 'min_samples_split': 10}\n",
      "0.822 (+/-0.027) for {'criterion': 'gini', 'max_depth': None, 'min_samples_leaf': 2, 'min_samples_split': 2}\n",
      "0.818 (+/-0.021) for {'criterion': 'gini', 'max_depth': None, 'min_samples_leaf': 2, 'min_samples_split': 5}\n",
      "0.819 (+/-0.019) for {'criterion': 'gini', 'max_depth': None, 'min_samples_leaf': 2, 'min_samples_split': 10}\n",
      "0.824 (+/-0.015) for {'criterion': 'gini', 'max_depth': None, 'min_samples_leaf': 5, 'min_samples_split': 2}\n",
      "0.824 (+/-0.013) for {'criterion': 'gini', 'max_depth': None, 'min_samples_leaf': 5, 'min_samples_split': 5}\n",
      "0.823 (+/-0.013) for {'criterion': 'gini', 'max_depth': None, 'min_samples_leaf': 5, 'min_samples_split': 10}\n",
      "0.773 (+/-0.018) for {'criterion': 'gini', 'max_depth': 2, 'min_samples_leaf': 1, 'min_samples_split': 2}\n",
      "0.773 (+/-0.018) for {'criterion': 'gini', 'max_depth': 2, 'min_samples_leaf': 1, 'min_samples_split': 5}\n",
      "0.773 (+/-0.018) for {'criterion': 'gini', 'max_depth': 2, 'min_samples_leaf': 1, 'min_samples_split': 10}\n",
      "0.773 (+/-0.018) for {'criterion': 'gini', 'max_depth': 2, 'min_samples_leaf': 2, 'min_samples_split': 2}\n",
      "0.773 (+/-0.018) for {'criterion': 'gini', 'max_depth': 2, 'min_samples_leaf': 2, 'min_samples_split': 5}\n",
      "0.773 (+/-0.018) for {'criterion': 'gini', 'max_depth': 2, 'min_samples_leaf': 2, 'min_samples_split': 10}\n",
      "0.773 (+/-0.018) for {'criterion': 'gini', 'max_depth': 2, 'min_samples_leaf': 5, 'min_samples_split': 2}\n",
      "0.773 (+/-0.018) for {'criterion': 'gini', 'max_depth': 2, 'min_samples_leaf': 5, 'min_samples_split': 5}\n",
      "0.773 (+/-0.018) for {'criterion': 'gini', 'max_depth': 2, 'min_samples_leaf': 5, 'min_samples_split': 10}\n",
      "0.808 (+/-0.018) for {'criterion': 'gini', 'max_depth': 4, 'min_samples_leaf': 1, 'min_samples_split': 2}\n",
      "0.808 (+/-0.018) for {'criterion': 'gini', 'max_depth': 4, 'min_samples_leaf': 1, 'min_samples_split': 5}\n",
      "0.807 (+/-0.020) for {'criterion': 'gini', 'max_depth': 4, 'min_samples_leaf': 1, 'min_samples_split': 10}\n",
      "0.808 (+/-0.019) for {'criterion': 'gini', 'max_depth': 4, 'min_samples_leaf': 2, 'min_samples_split': 2}\n",
      "0.808 (+/-0.017) for {'criterion': 'gini', 'max_depth': 4, 'min_samples_leaf': 2, 'min_samples_split': 5}\n",
      "0.808 (+/-0.018) for {'criterion': 'gini', 'max_depth': 4, 'min_samples_leaf': 2, 'min_samples_split': 10}\n",
      "0.808 (+/-0.019) for {'criterion': 'gini', 'max_depth': 4, 'min_samples_leaf': 5, 'min_samples_split': 2}\n",
      "0.808 (+/-0.017) for {'criterion': 'gini', 'max_depth': 4, 'min_samples_leaf': 5, 'min_samples_split': 5}\n",
      "0.808 (+/-0.017) for {'criterion': 'gini', 'max_depth': 4, 'min_samples_leaf': 5, 'min_samples_split': 10}\n",
      "0.837 (+/-0.016) for {'criterion': 'gini', 'max_depth': 6, 'min_samples_leaf': 1, 'min_samples_split': 2}\n",
      "0.835 (+/-0.012) for {'criterion': 'gini', 'max_depth': 6, 'min_samples_leaf': 1, 'min_samples_split': 5}\n",
      "0.835 (+/-0.011) for {'criterion': 'gini', 'max_depth': 6, 'min_samples_leaf': 1, 'min_samples_split': 10}\n",
      "0.836 (+/-0.013) for {'criterion': 'gini', 'max_depth': 6, 'min_samples_leaf': 2, 'min_samples_split': 2}\n",
      "0.833 (+/-0.005) for {'criterion': 'gini', 'max_depth': 6, 'min_samples_leaf': 2, 'min_samples_split': 5}\n",
      "0.836 (+/-0.007) for {'criterion': 'gini', 'max_depth': 6, 'min_samples_leaf': 2, 'min_samples_split': 10}\n",
      "0.836 (+/-0.013) for {'criterion': 'gini', 'max_depth': 6, 'min_samples_leaf': 5, 'min_samples_split': 2}\n",
      "0.834 (+/-0.018) for {'criterion': 'gini', 'max_depth': 6, 'min_samples_leaf': 5, 'min_samples_split': 5}\n",
      "0.834 (+/-0.016) for {'criterion': 'gini', 'max_depth': 6, 'min_samples_leaf': 5, 'min_samples_split': 10}\n",
      "0.836 (+/-0.014) for {'criterion': 'gini', 'max_depth': 8, 'min_samples_leaf': 1, 'min_samples_split': 2}\n",
      "0.836 (+/-0.022) for {'criterion': 'gini', 'max_depth': 8, 'min_samples_leaf': 1, 'min_samples_split': 5}\n",
      "0.833 (+/-0.014) for {'criterion': 'gini', 'max_depth': 8, 'min_samples_leaf': 1, 'min_samples_split': 10}\n",
      "0.836 (+/-0.017) for {'criterion': 'gini', 'max_depth': 8, 'min_samples_leaf': 2, 'min_samples_split': 2}\n",
      "0.832 (+/-0.013) for {'criterion': 'gini', 'max_depth': 8, 'min_samples_leaf': 2, 'min_samples_split': 5}\n",
      "0.833 (+/-0.016) for {'criterion': 'gini', 'max_depth': 8, 'min_samples_leaf': 2, 'min_samples_split': 10}\n",
      "0.827 (+/-0.011) for {'criterion': 'gini', 'max_depth': 8, 'min_samples_leaf': 5, 'min_samples_split': 2}\n",
      "0.827 (+/-0.010) for {'criterion': 'gini', 'max_depth': 8, 'min_samples_leaf': 5, 'min_samples_split': 5}\n",
      "0.826 (+/-0.007) for {'criterion': 'gini', 'max_depth': 8, 'min_samples_leaf': 5, 'min_samples_split': 10}\n",
      "0.835 (+/-0.015) for {'criterion': 'entropy', 'max_depth': None, 'min_samples_leaf': 1, 'min_samples_split': 2}\n",
      "0.830 (+/-0.019) for {'criterion': 'entropy', 'max_depth': None, 'min_samples_leaf': 1, 'min_samples_split': 5}\n",
      "0.833 (+/-0.014) for {'criterion': 'entropy', 'max_depth': None, 'min_samples_leaf': 1, 'min_samples_split': 10}\n",
      "0.826 (+/-0.031) for {'criterion': 'entropy', 'max_depth': None, 'min_samples_leaf': 2, 'min_samples_split': 2}\n",
      "0.835 (+/-0.018) for {'criterion': 'entropy', 'max_depth': None, 'min_samples_leaf': 2, 'min_samples_split': 5}\n",
      "0.832 (+/-0.020) for {'criterion': 'entropy', 'max_depth': None, 'min_samples_leaf': 2, 'min_samples_split': 10}\n",
      "0.834 (+/-0.017) for {'criterion': 'entropy', 'max_depth': None, 'min_samples_leaf': 5, 'min_samples_split': 2}\n",
      "0.832 (+/-0.015) for {'criterion': 'entropy', 'max_depth': None, 'min_samples_leaf': 5, 'min_samples_split': 5}\n",
      "0.835 (+/-0.018) for {'criterion': 'entropy', 'max_depth': None, 'min_samples_leaf': 5, 'min_samples_split': 10}\n",
      "0.773 (+/-0.018) for {'criterion': 'entropy', 'max_depth': 2, 'min_samples_leaf': 1, 'min_samples_split': 2}\n",
      "0.773 (+/-0.018) for {'criterion': 'entropy', 'max_depth': 2, 'min_samples_leaf': 1, 'min_samples_split': 5}\n",
      "0.773 (+/-0.018) for {'criterion': 'entropy', 'max_depth': 2, 'min_samples_leaf': 1, 'min_samples_split': 10}\n",
      "0.773 (+/-0.018) for {'criterion': 'entropy', 'max_depth': 2, 'min_samples_leaf': 2, 'min_samples_split': 2}\n",
      "0.773 (+/-0.018) for {'criterion': 'entropy', 'max_depth': 2, 'min_samples_leaf': 2, 'min_samples_split': 5}\n",
      "0.773 (+/-0.018) for {'criterion': 'entropy', 'max_depth': 2, 'min_samples_leaf': 2, 'min_samples_split': 10}\n",
      "0.773 (+/-0.018) for {'criterion': 'entropy', 'max_depth': 2, 'min_samples_leaf': 5, 'min_samples_split': 2}\n",
      "0.773 (+/-0.018) for {'criterion': 'entropy', 'max_depth': 2, 'min_samples_leaf': 5, 'min_samples_split': 5}\n",
      "0.773 (+/-0.018) for {'criterion': 'entropy', 'max_depth': 2, 'min_samples_leaf': 5, 'min_samples_split': 10}\n",
      "0.794 (+/-0.012) for {'criterion': 'entropy', 'max_depth': 4, 'min_samples_leaf': 1, 'min_samples_split': 2}\n",
      "0.794 (+/-0.012) for {'criterion': 'entropy', 'max_depth': 4, 'min_samples_leaf': 1, 'min_samples_split': 5}\n",
      "0.794 (+/-0.012) for {'criterion': 'entropy', 'max_depth': 4, 'min_samples_leaf': 1, 'min_samples_split': 10}\n",
      "0.794 (+/-0.012) for {'criterion': 'entropy', 'max_depth': 4, 'min_samples_leaf': 2, 'min_samples_split': 2}\n",
      "0.794 (+/-0.012) for {'criterion': 'entropy', 'max_depth': 4, 'min_samples_leaf': 2, 'min_samples_split': 5}\n",
      "0.794 (+/-0.012) for {'criterion': 'entropy', 'max_depth': 4, 'min_samples_leaf': 2, 'min_samples_split': 10}\n",
      "0.795 (+/-0.011) for {'criterion': 'entropy', 'max_depth': 4, 'min_samples_leaf': 5, 'min_samples_split': 2}\n",
      "0.795 (+/-0.011) for {'criterion': 'entropy', 'max_depth': 4, 'min_samples_leaf': 5, 'min_samples_split': 5}\n",
      "0.795 (+/-0.011) for {'criterion': 'entropy', 'max_depth': 4, 'min_samples_leaf': 5, 'min_samples_split': 10}\n",
      "0.821 (+/-0.017) for {'criterion': 'entropy', 'max_depth': 6, 'min_samples_leaf': 1, 'min_samples_split': 2}\n",
      "0.822 (+/-0.019) for {'criterion': 'entropy', 'max_depth': 6, 'min_samples_leaf': 1, 'min_samples_split': 5}\n",
      "0.823 (+/-0.020) for {'criterion': 'entropy', 'max_depth': 6, 'min_samples_leaf': 1, 'min_samples_split': 10}\n",
      "0.822 (+/-0.019) for {'criterion': 'entropy', 'max_depth': 6, 'min_samples_leaf': 2, 'min_samples_split': 2}\n",
      "0.822 (+/-0.022) for {'criterion': 'entropy', 'max_depth': 6, 'min_samples_leaf': 2, 'min_samples_split': 5}\n",
      "0.823 (+/-0.020) for {'criterion': 'entropy', 'max_depth': 6, 'min_samples_leaf': 2, 'min_samples_split': 10}\n",
      "0.821 (+/-0.023) for {'criterion': 'entropy', 'max_depth': 6, 'min_samples_leaf': 5, 'min_samples_split': 2}\n",
      "0.821 (+/-0.023) for {'criterion': 'entropy', 'max_depth': 6, 'min_samples_leaf': 5, 'min_samples_split': 5}\n",
      "0.821 (+/-0.024) for {'criterion': 'entropy', 'max_depth': 6, 'min_samples_leaf': 5, 'min_samples_split': 10}\n",
      "0.830 (+/-0.024) for {'criterion': 'entropy', 'max_depth': 8, 'min_samples_leaf': 1, 'min_samples_split': 2}\n",
      "0.834 (+/-0.028) for {'criterion': 'entropy', 'max_depth': 8, 'min_samples_leaf': 1, 'min_samples_split': 5}\n",
      "0.831 (+/-0.029) for {'criterion': 'entropy', 'max_depth': 8, 'min_samples_leaf': 1, 'min_samples_split': 10}\n",
      "0.831 (+/-0.031) for {'criterion': 'entropy', 'max_depth': 8, 'min_samples_leaf': 2, 'min_samples_split': 2}\n",
      "0.838 (+/-0.036) for {'criterion': 'entropy', 'max_depth': 8, 'min_samples_leaf': 2, 'min_samples_split': 5}\n",
      "0.830 (+/-0.032) for {'criterion': 'entropy', 'max_depth': 8, 'min_samples_leaf': 2, 'min_samples_split': 10}\n",
      "0.830 (+/-0.027) for {'criterion': 'entropy', 'max_depth': 8, 'min_samples_leaf': 5, 'min_samples_split': 2}\n",
      "0.830 (+/-0.027) for {'criterion': 'entropy', 'max_depth': 8, 'min_samples_leaf': 5, 'min_samples_split': 5}\n",
      "0.829 (+/-0.026) for {'criterion': 'entropy', 'max_depth': 8, 'min_samples_leaf': 5, 'min_samples_split': 10}\n"
     ]
    }
   ],
   "source": [
    "means = grid_search_dt.cv_results_['mean_test_score']\n",
    "stds = grid_search_dt.cv_results_['std_test_score']\n",
    "for mean, std, params in zip(means, stds, grid_search_dt.cv_results_['params']):\n",
    "    print(\"%0.3f (+/-%0.03f) for %r\" % (mean, std * 2, params))"
   ]
  },
  {
   "cell_type": "code",
   "execution_count": null,
   "metadata": {
    "id": "1ilpVKJpT1zu",
    "outputId": "4d9936e0-2ee9-4cb4-af7a-8e03963317c6"
   },
   "outputs": [
    {
     "data": {
      "text/html": [
       "<div>\n",
       "<style scoped>\n",
       "    .dataframe tbody tr th:only-of-type {\n",
       "        vertical-align: middle;\n",
       "    }\n",
       "\n",
       "    .dataframe tbody tr th {\n",
       "        vertical-align: top;\n",
       "    }\n",
       "\n",
       "    .dataframe thead th {\n",
       "        text-align: right;\n",
       "    }\n",
       "</style>\n",
       "<table border=\"1\" class=\"dataframe\">\n",
       "  <thead>\n",
       "    <tr style=\"text-align: right;\">\n",
       "      <th></th>\n",
       "      <th>precision</th>\n",
       "      <th>recall</th>\n",
       "      <th>f1-score</th>\n",
       "      <th>support</th>\n",
       "    </tr>\n",
       "  </thead>\n",
       "  <tbody>\n",
       "    <tr>\n",
       "      <th>healthy</th>\n",
       "      <td>0.823245</td>\n",
       "      <td>0.850000</td>\n",
       "      <td>0.836408</td>\n",
       "      <td>400.00000</td>\n",
       "    </tr>\n",
       "    <tr>\n",
       "      <th>diseased</th>\n",
       "      <td>0.862069</td>\n",
       "      <td>0.837054</td>\n",
       "      <td>0.849377</td>\n",
       "      <td>448.00000</td>\n",
       "    </tr>\n",
       "    <tr>\n",
       "      <th>accuracy</th>\n",
       "      <td>0.843160</td>\n",
       "      <td>0.843160</td>\n",
       "      <td>0.843160</td>\n",
       "      <td>0.84316</td>\n",
       "    </tr>\n",
       "    <tr>\n",
       "      <th>macro avg</th>\n",
       "      <td>0.842657</td>\n",
       "      <td>0.843527</td>\n",
       "      <td>0.842893</td>\n",
       "      <td>848.00000</td>\n",
       "    </tr>\n",
       "    <tr>\n",
       "      <th>weighted avg</th>\n",
       "      <td>0.843756</td>\n",
       "      <td>0.843160</td>\n",
       "      <td>0.843260</td>\n",
       "      <td>848.00000</td>\n",
       "    </tr>\n",
       "  </tbody>\n",
       "</table>\n",
       "</div>"
      ],
      "text/plain": [
       "              precision    recall  f1-score    support\n",
       "healthy        0.823245  0.850000  0.836408  400.00000\n",
       "diseased       0.862069  0.837054  0.849377  448.00000\n",
       "accuracy       0.843160  0.843160  0.843160    0.84316\n",
       "macro avg      0.842657  0.843527  0.842893  848.00000\n",
       "weighted avg   0.843756  0.843160  0.843260  848.00000"
      ]
     },
     "execution_count": 24,
     "metadata": {},
     "output_type": "execute_result"
    }
   ],
   "source": [
    "classification_report_dt = pd.DataFrame(classification_report_dt).transpose()\n",
    "classification_report_dt"
   ]
  },
  {
   "cell_type": "markdown",
   "metadata": {
    "id": "gX9g2PSJT1zv"
   },
   "source": [
    "### SVC:"
   ]
  },
  {
   "cell_type": "code",
   "execution_count": null,
   "metadata": {
    "id": "SGNUnHuJd0qo",
    "outputId": "119334ac-7900-4df3-bfbd-6c2e76c68191"
   },
   "outputs": [
    {
     "name": "stderr",
     "output_type": "stream",
     "text": [
      "/vol/hpc-software/software/Anaconda3/2022.05/lib/python3.9/site-packages/sklearn/model_selection/_validation.py:372: FitFailedWarning: \n",
      "45 fits failed out of a total of 135.\n",
      "The score on these train-test partitions for these parameters will be set to nan.\n",
      "If these failures are not expected, you can try to debug them by setting error_score='raise'.\n",
      "\n",
      "Below are more details about the failures:\n",
      "--------------------------------------------------------------------------------\n",
      "45 fits failed with the following error:\n",
      "Traceback (most recent call last):\n",
      "  File \"/vol/hpc-software/software/Anaconda3/2022.05/lib/python3.9/site-packages/sklearn/model_selection/_validation.py\", line 680, in _fit_and_score\n",
      "    estimator.fit(X_train, y_train, **fit_params)\n",
      "  File \"/vol/hpc-software/software/Anaconda3/2022.05/lib/python3.9/site-packages/sklearn/svm/_base.py\", line 255, in fit\n",
      "    fit(X, y, sample_weight, solver_type, kernel, random_seed=seed)\n",
      "  File \"/vol/hpc-software/software/Anaconda3/2022.05/lib/python3.9/site-packages/sklearn/svm/_base.py\", line 315, in _dense_fit\n",
      "    ) = libsvm.fit(\n",
      "  File \"sklearn/svm/_libsvm.pyx\", line 173, in sklearn.svm._libsvm.fit\n",
      "ValueError: 'polynomial' is not in list\n",
      "\n",
      "  warnings.warn(some_fits_failed_message, FitFailedWarning)\n",
      "/vol/hpc-software/software/Anaconda3/2022.05/lib/python3.9/site-packages/sklearn/model_selection/_search.py:969: UserWarning: One or more of the test scores are non-finite: [0.66883047        nan 0.58676619 0.66883047        nan 0.64196241\n",
      " 0.66883047        nan 0.72668288 0.699234          nan 0.63990013\n",
      " 0.699234          nan 0.68860494 0.699234          nan 0.82379402\n",
      " 0.74232581        nan 0.67709442 0.74232581        nan 0.77833492\n",
      " 0.74232581        nan 0.8698383 ]\n",
      "  warnings.warn(\n"
     ]
    },
    {
     "name": "stdout",
     "output_type": "stream",
     "text": [
      "Best Parameters: {'C': 100, 'gamma': 1, 'kernel': 'rbf'}\n",
      "Accuracy: 0.8679245283018868\n",
      "Time taken to run 121.738 ms\n"
     ]
    }
   ],
   "source": [
    "param_grid = {\n",
    "    'kernel': ['linear', 'polynomial', 'rbf'],\n",
    "    'C': [1, 10, 100],\n",
    "    'gamma': [0.01, 0.1, 1],\n",
    "}\n",
    "\n",
    "\n",
    "\n",
    "clfsvc = SVC()\n",
    "start = time.time()\n",
    "# grid_svc_search = GridSearchCV(clfsvc, param_grid, scoring='f1_macro', cv=5)\n",
    "grid_svc_search = GridSearchCV(clfsvc, param_grid, cv=5)\n",
    "grid_svc_search.fit(X_train, y_train)\n",
    "\n",
    "best_svc_clf = grid_svc_search.best_estimator_\n",
    "accuracy_svc = best_svc_clf.score(X_test, y_test)\n",
    "print(\"Best Parameters:\", grid_svc_search.best_params_)\n",
    "print(\"Accuracy:\", accuracy_svc)\n",
    "\n",
    "y_pred_svc = best_svc_clf.predict(X_test)\n",
    "svc_time = time.time() - start\n",
    "print(\"Time taken to run\",round(svc_time,3),\"ms\")\n",
    "classification_report_svc = classification_report(y_test, y_pred_svc, target_names=classNames,output_dict=True)"
   ]
  },
  {
   "cell_type": "code",
   "execution_count": null,
   "metadata": {
    "id": "1MogBqPIvJBe",
    "outputId": "a0bc6c88-9ba4-406e-9be9-df102c21ecc2"
   },
   "outputs": [
    {
     "name": "stdout",
     "output_type": "stream",
     "text": [
      "0.669 (+/-0.039) for {'C': 1, 'gamma': 0.01, 'kernel': 'linear'}\n",
      "nan (+/-nan) for {'C': 1, 'gamma': 0.01, 'kernel': 'polynomial'}\n",
      "0.587 (+/-0.041) for {'C': 1, 'gamma': 0.01, 'kernel': 'rbf'}\n",
      "0.669 (+/-0.039) for {'C': 1, 'gamma': 0.1, 'kernel': 'linear'}\n",
      "nan (+/-nan) for {'C': 1, 'gamma': 0.1, 'kernel': 'polynomial'}\n",
      "0.642 (+/-0.041) for {'C': 1, 'gamma': 0.1, 'kernel': 'rbf'}\n",
      "0.669 (+/-0.039) for {'C': 1, 'gamma': 1, 'kernel': 'linear'}\n",
      "nan (+/-nan) for {'C': 1, 'gamma': 1, 'kernel': 'polynomial'}\n",
      "0.727 (+/-0.037) for {'C': 1, 'gamma': 1, 'kernel': 'rbf'}\n",
      "0.699 (+/-0.042) for {'C': 10, 'gamma': 0.01, 'kernel': 'linear'}\n",
      "nan (+/-nan) for {'C': 10, 'gamma': 0.01, 'kernel': 'polynomial'}\n",
      "0.640 (+/-0.032) for {'C': 10, 'gamma': 0.01, 'kernel': 'rbf'}\n",
      "0.699 (+/-0.042) for {'C': 10, 'gamma': 0.1, 'kernel': 'linear'}\n",
      "nan (+/-nan) for {'C': 10, 'gamma': 0.1, 'kernel': 'polynomial'}\n",
      "0.689 (+/-0.038) for {'C': 10, 'gamma': 0.1, 'kernel': 'rbf'}\n",
      "0.699 (+/-0.042) for {'C': 10, 'gamma': 1, 'kernel': 'linear'}\n",
      "nan (+/-nan) for {'C': 10, 'gamma': 1, 'kernel': 'polynomial'}\n",
      "0.824 (+/-0.045) for {'C': 10, 'gamma': 1, 'kernel': 'rbf'}\n",
      "0.742 (+/-0.030) for {'C': 100, 'gamma': 0.01, 'kernel': 'linear'}\n",
      "nan (+/-nan) for {'C': 100, 'gamma': 0.01, 'kernel': 'polynomial'}\n",
      "0.677 (+/-0.033) for {'C': 100, 'gamma': 0.01, 'kernel': 'rbf'}\n",
      "0.742 (+/-0.030) for {'C': 100, 'gamma': 0.1, 'kernel': 'linear'}\n",
      "nan (+/-nan) for {'C': 100, 'gamma': 0.1, 'kernel': 'polynomial'}\n",
      "0.778 (+/-0.040) for {'C': 100, 'gamma': 0.1, 'kernel': 'rbf'}\n",
      "0.742 (+/-0.030) for {'C': 100, 'gamma': 1, 'kernel': 'linear'}\n",
      "nan (+/-nan) for {'C': 100, 'gamma': 1, 'kernel': 'polynomial'}\n",
      "0.870 (+/-0.023) for {'C': 100, 'gamma': 1, 'kernel': 'rbf'}\n"
     ]
    }
   ],
   "source": [
    "means = grid_svc_search.cv_results_['mean_test_score']\n",
    "stds = grid_svc_search.cv_results_['std_test_score']\n",
    "for mean, std, params in zip(means, stds, grid_svc_search.cv_results_['params']):\n",
    "    print(\"%0.3f (+/-%0.03f) for %r\" % (mean, std * 2, params))"
   ]
  },
  {
   "cell_type": "code",
   "execution_count": null,
   "metadata": {
    "id": "Yy5M4wIUT1zw",
    "outputId": "496ed793-a8a1-4fa8-d147-d07c63460e68",
    "scrolled": true
   },
   "outputs": [
    {
     "data": {
      "text/html": [
       "<div>\n",
       "<style scoped>\n",
       "    .dataframe tbody tr th:only-of-type {\n",
       "        vertical-align: middle;\n",
       "    }\n",
       "\n",
       "    .dataframe tbody tr th {\n",
       "        vertical-align: top;\n",
       "    }\n",
       "\n",
       "    .dataframe thead th {\n",
       "        text-align: right;\n",
       "    }\n",
       "</style>\n",
       "<table border=\"1\" class=\"dataframe\">\n",
       "  <thead>\n",
       "    <tr style=\"text-align: right;\">\n",
       "      <th></th>\n",
       "      <th>precision</th>\n",
       "      <th>recall</th>\n",
       "      <th>f1-score</th>\n",
       "      <th>support</th>\n",
       "    </tr>\n",
       "  </thead>\n",
       "  <tbody>\n",
       "    <tr>\n",
       "      <th>healthy</th>\n",
       "      <td>0.844498</td>\n",
       "      <td>0.882500</td>\n",
       "      <td>0.863081</td>\n",
       "      <td>400.000000</td>\n",
       "    </tr>\n",
       "    <tr>\n",
       "      <th>diseased</th>\n",
       "      <td>0.890698</td>\n",
       "      <td>0.854911</td>\n",
       "      <td>0.872437</td>\n",
       "      <td>448.000000</td>\n",
       "    </tr>\n",
       "    <tr>\n",
       "      <th>accuracy</th>\n",
       "      <td>0.867925</td>\n",
       "      <td>0.867925</td>\n",
       "      <td>0.867925</td>\n",
       "      <td>0.867925</td>\n",
       "    </tr>\n",
       "    <tr>\n",
       "      <th>macro avg</th>\n",
       "      <td>0.867598</td>\n",
       "      <td>0.868705</td>\n",
       "      <td>0.867759</td>\n",
       "      <td>848.000000</td>\n",
       "    </tr>\n",
       "    <tr>\n",
       "      <th>weighted avg</th>\n",
       "      <td>0.868905</td>\n",
       "      <td>0.867925</td>\n",
       "      <td>0.868024</td>\n",
       "      <td>848.000000</td>\n",
       "    </tr>\n",
       "  </tbody>\n",
       "</table>\n",
       "</div>"
      ],
      "text/plain": [
       "              precision    recall  f1-score     support\n",
       "healthy        0.844498  0.882500  0.863081  400.000000\n",
       "diseased       0.890698  0.854911  0.872437  448.000000\n",
       "accuracy       0.867925  0.867925  0.867925    0.867925\n",
       "macro avg      0.867598  0.868705  0.867759  848.000000\n",
       "weighted avg   0.868905  0.867925  0.868024  848.000000"
      ]
     },
     "execution_count": 27,
     "metadata": {},
     "output_type": "execute_result"
    }
   ],
   "source": [
    "classification_report_svc = pd.DataFrame(classification_report_svc).transpose()\n",
    "classification_report_svc"
   ]
  },
  {
   "cell_type": "code",
   "execution_count": null,
   "metadata": {
    "id": "dhfkSefkT1zx",
    "outputId": "d30fbaf4-07e6-4ef7-c737-caefd8c9ad1c"
   },
   "outputs": [
    {
     "data": {
      "image/png": "[encoded data removed]",
      "text/plain": [
       "<Figure size 720x720 with 1 Axes>"
      ]
     },
     "metadata": {
      "needs_background": "light"
     },
     "output_type": "display_data"
    }
   ],
   "source": [
    "# Calculate class probabilities\n",
    "# Decision Tree\n",
    "y_scores_dt = best_dt_clf.predict_proba(X_test)\n",
    "# y_scores_dt = best_dt_clf.decision_function(X_test)\n",
    "# Support Vector Classifier\n",
    "# y_pred_proba_svc = best_svc_clf.predict_proba(X_test)\n",
    "y_scores_svc = best_svc_clf.decision_function(X_test)\n",
    "# Compute ROC curve and ROC area for each class\n",
    "fpr_dt, tpr_dt, _ = roc_curve(y_test, y_scores_dt[:, 1], pos_label='diseased')\n",
    "fpr_svc, tpr_svc, _ = roc_curve(y_test, y_scores_svc, pos_label='diseased')\n",
    "\n",
    "roc_auc_dt = auc(tpr_dt, fpr_dt)\n",
    "roc_auc_svc = auc(tpr_svc, fpr_svc)\n",
    "\n",
    "plt.figure(figsize=(10,10))\n",
    "\n",
    "plt.plot(tpr_dt, fpr_dt, lw=2, marker='.', label='DT ROC curve (area = %0.2f)' % roc_auc_dt)\n",
    "plt.plot(tpr_svc, fpr_svc, lw=2, marker='.', label=' SVC ROC curve (area = %0.2f)' % roc_auc_svc)\n",
    "plt.plot([0, 1], [0, 1], color='navy', lw=2, linestyle='--')\n",
    "plt.xlim([0.0, 1.05])\n",
    "plt.ylim([0.0, 1.05])\n",
    "plt.xlabel('False Positive Rate')\n",
    "plt.ylabel('True Positive Rate')\n",
    "plt.title('DT vs SVC - ROC Curve')\n",
    "plt.legend(loc=\"lower right\")\n",
    "plt.show()\n"
   ]
  }
 ],
 "metadata": {
  "colab": {
   "provenance": []
  },
  "kernelspec": {
   "display_name": "Python 3 (ipykernel)",
   "language": "python",
   "name": "python3"
  },
  "language_info": {
   "codemirror_mode": {
    "name": "ipython",
    "version": 3
   },
   "file_extension": ".py",
   "mimetype": "text/x-python",
   "name": "python",
   "nbconvert_exporter": "python",
   "pygments_lexer": "ipython3",
   "version": "3.9.12"
  }
 },
 "nbformat": 4,
 "nbformat_minor": 1
}
